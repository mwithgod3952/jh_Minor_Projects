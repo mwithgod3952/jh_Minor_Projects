{
  "nbformat": 4,
  "nbformat_minor": 0,
  "metadata": {
    "colab": {
      "name": "챗봇_Demo",
      "provenance": [],
      "collapsed_sections": [],
      "authorship_tag": "ABX9TyNyOIb7dpEQRMakJbTVGcw4",
      "include_colab_link": true
    },
    "kernelspec": {
      "name": "python3",
      "display_name": "Python 3"
    },
    "language_info": {
      "name": "python"
    },
    "accelerator": "GPU"
  },
  "cells": [
    {
      "cell_type": "markdown",
      "metadata": {
        "id": "view-in-github",
        "colab_type": "text"
      },
      "source": [
        "<a href=\"https://colab.research.google.com/github/mwithgod3952/jh_Minor_Projects/blob/main/%EC%B1%97%EB%B4%87_Demo.ipynb\" target=\"_parent\"><img src=\"https://colab.research.google.com/assets/colab-badge.svg\" alt=\"Open In Colab\"/></a>"
      ]
    },
    {
      "cell_type": "code",
      "metadata": {
        "id": "xLexIq6YekvY"
      },
      "source": [
        "# !pip install tensorflow==1.14.0\n",
        "# !pip install keras==2.2.4\n",
        "# !pip install tensorflow-gpu==1.14.0\n",
        "# !pip install git+https://www.github.com/keras-team/keras-contrib.git"
      ],
      "execution_count": 95,
      "outputs": []
    },
    {
      "cell_type": "code",
      "metadata": {
        "id": "GNJgz5bbia7-"
      },
      "source": [
        "# !git clone https://github.com/SOMJANG/Mecab-ko-for-Google-Colab.git\n",
        "# %cd Mecab-ko-for-Google-Colab\n",
        "# !bash install_mecab-ko_on_colab190912.sh\n",
        "# !git clone https://github.com/entelecheia/eKoNLPy.git\n",
        "# %cd eKoNLPy/\n",
        "# !python setup.py install\n",
        "# !pip install -U finance-datareader"
      ],
      "execution_count": 96,
      "outputs": []
    },
    {
      "cell_type": "markdown",
      "metadata": {
        "id": "B1kOHlS_igUP"
      },
      "source": [
        "---"
      ]
    },
    {
      "cell_type": "code",
      "metadata": {
        "id": "3fn2uEMrnjUl"
      },
      "source": [
        "from ekonlpy.tag import Mecab\n",
        "mecab = Mecab()"
      ],
      "execution_count": null,
      "outputs": []
    },
    {
      "cell_type": "code",
      "metadata": {
        "id": "i8CuSry1epbi"
      },
      "source": [
        "import FinanceDataReader as fdr\n",
        "\n",
        "df_krx = fdr.StockListing('KRX')\n",
        "stock_list = df_krx['Name'].tolist()"
      ],
      "execution_count": null,
      "outputs": []
    },
    {
      "cell_type": "code",
      "metadata": {
        "id": "JBqEzzDBnmWs"
      },
      "source": [
        "for stock_name in stock_list:\n",
        "  mecab.add_dictionary(stock_name, 'NNG')"
      ],
      "execution_count": null,
      "outputs": []
    },
    {
      "cell_type": "code",
      "metadata": {
        "id": "9VvNpk0-T8ed"
      },
      "source": [
        "names = stock_list\n",
        "\n",
        "def question_generator(names):\n",
        "    question = []\n",
        "    for name in names:\n",
        "        s1 = name+' 알려줘'\n",
        "        s2 = name+'에 대해 알려줘'\n",
        "        s3 = name+' 관련 뉴스 보여줘'\n",
        "        s4 = name+' 기사 보여줘'\n",
        "        s5 = name+' 주식투자에 필요한 기사 알려줘'\n",
        "        s6 = name+' 주식에 필요한 내용 알려줘'\n",
        "        s7 = name+' 주식 관련 추천기사 알려줘'\n",
        "        s8 = name+' 추천기사'\n",
        "        s9 = name+' 추천뉴스'\n",
        "        s10 = name+' 트렌드'\n",
        "        s11 = name+' 트렌드 알려줘'\n",
        "        s12 = name+'를 분석해주세요'\n",
        "        s13 = name+' 분석해봐'\n",
        "        s14 = name+' 인기있는 기사'\n",
        "        s15 = name+'의 가장 핫한 이슈가 뭐야'\n",
        "        s16 = name+'의 반드시 알아야 할 내용'\n",
        "        s17 = name+' 트렌드 알려줘'\n",
        "        s18 = name+' 분석해봐'\n",
        "        s19 = name+' 인기있는 기사'\n",
        "        s20 = name+'의 가장 핫한 이슈가 뭐야'\n",
        "        s21 = name+'의 반드시 알아야 할 내용'\n",
        "        s22 = name+' 소식'\n",
        "        s23 = name+' 소식 요약해줘'\n",
        "        s24 = name+' 요약해줘'\n",
        "        s25 = name+' 투자에 필요한 기사'\n",
        "        s26 = name+' 투자에 알아야 할 기사'\n",
        "        s27 = name+' 투자에 알아야 할 뉴스'\n",
        "        s28 = name+' 필수내용'\n",
        "        s29 = name+' 주요기사'\n",
        "        s30 = name+' 주요뉴스'\n",
        "        s31 = name+' 사업개요 알려줘'\n",
        "        s32 = name+' 사업 개요가 궁금해'\n",
        "        s33 = name+'를 분석해줘'\n",
        "        s34 = name+' 분석'\n",
        "        s35 = name+' 요약해줘'\n",
        "        s36 = name+' 요약해주세요'\n",
        "        s37 = name+' 요약해봐'\n",
        "        s38 = name+'를 분석해주세요'\n",
        "        s39 = name+' 분석해봐'\n",
        "        s40 = name+' 요약'\n",
        "        s41 = name+' 개요'\n",
        "        s42 = name+'에 대해 개요를 알려줘봐'\n",
        "        s43 = name+'의 사업 개요는 뭐야'\n",
        "        s44 = name+'에 대해서 요약해줘'\n",
        "        s45 = name+' 기업 개요를 알려줘'\n",
        "        s46 = name+' 기업 개요를 말해봐'\n",
        "        s47 = name+'의 개요는 뭘까'\n",
        "        s48 = name+'의 개요가 뭐야?'\n",
        "        s49 = name+'사업 개요를 요약해줘'\n",
        "        s50 = name+'에 대해서 요약해줘'\n",
        "        s51 = name+'를 요약 해줘'\n",
        "        s52 = name+'를 요약 분석한다면?'\n",
        "\n",
        "        question = question+[s1, s2, s3, s4, s5, s6, s6, s7, s8, s9, s10, s11, s12, s13, s15, s16, s17, s18, s19, s20, s21, s22, s23, s24, s25, s26, s27, s28, s29, s30,\n",
        "                             s31, s32, s33, s34, s35, s36, s37, s38, s39, s40, s41, s42, s43, s44, s45, s46, s47, s48, s49, s50, s51, s52]\n",
        "    return question\n",
        "\n",
        "analysis = question_generator(names)"
      ],
      "execution_count": null,
      "outputs": []
    },
    {
      "cell_type": "code",
      "metadata": {
        "colab": {
          "base_uri": "https://localhost:8080/"
        },
        "id": "Q75pPMmzcptw",
        "outputId": "4d020a34-02d4-4c80-cb5c-d643b76cd152"
      },
      "source": [
        "analysis[len(analysis) - 5:len(analysis)]"
      ],
      "execution_count": null,
      "outputs": [
        {
          "output_type": "execute_result",
          "data": {
            "text/plain": [
              "['힘스 투자에 알아야 할 기사', '힘스 투자에 알아야 할 뉴스', '힘스 필수내용', '힘스 주요기사', '힘스 주요뉴스']"
            ]
          },
          "metadata": {
            "tags": []
          },
          "execution_count": 7
        }
      ]
    },
    {
      "cell_type": "code",
      "metadata": {
        "id": "_17oS2Nsm73K"
      },
      "source": [
        "from ekonlpy.tag import Mecab\n",
        "mecab = Mecab()"
      ],
      "execution_count": null,
      "outputs": []
    },
    {
      "cell_type": "code",
      "metadata": {
        "id": "pFVXoD2Cg1s4"
      },
      "source": [
        "# tokenized_test_result = []\n",
        "# for sample_keyword_question in analysis:\n",
        "#   tokenized_test_result.append(mecab.morphs(sample_keyword_question))"
      ],
      "execution_count": null,
      "outputs": []
    },
    {
      "cell_type": "code",
      "metadata": {
        "id": "BjcuHri4pg1h"
      },
      "source": [
        "analysis_data = {'question' : analysis, 'intent' : ['투자정보']*len(analysis)}\n",
        "analysis_df = pd.DataFrame(similarity_data, columns=('question', 'intent'))"
      ],
      "execution_count": null,
      "outputs": []
    },
    {
      "cell_type": "markdown",
      "metadata": {
        "id": "ywtShX8_2ffk"
      },
      "source": [
        "중략\n",
        "\n",
        ".\n",
        "\n",
        ".\n",
        "\n",
        ".\n"
      ]
    },
    {
      "cell_type": "markdown",
      "metadata": {
        "id": "joSnsO0iqNwx"
      },
      "source": [
        "---"
      ]
    },
    {
      "cell_type": "markdown",
      "metadata": {
        "id": "YrL_LIsE9ZiG"
      },
      "source": [
        "***네이버 기사 및 링크 크롤링 테스트***"
      ]
    },
    {
      "cell_type": "code",
      "metadata": {
        "id": "vahk24RoO9J7"
      },
      "source": [
        "import requests\n",
        "import re\n",
        "\n",
        "import FinanceDataReader as fdr\n",
        "from bs4 import BeautifulSoup\n",
        "import urllib.request\n",
        "from urllib.request import urlopen, Request\n",
        "from urllib.parse import quote\n",
        "\n",
        "import pandas as pd\n",
        "import numpy as np\n",
        "\n",
        "# ==============================================================================\n",
        "\n",
        "def get_news(stock_name, pages):\n",
        "\n",
        "  stock_ns_df = pd.DataFrame(columns = ('Title', 'Adress'))\n",
        "  idx = 0\n",
        "\n",
        "  url_query = quote(stock_name)\n",
        "\n",
        "  for pg_rng in range(pages):\n",
        "    url = 'https://search.naver.com/search.naver?where=news&sm=tab_jum&query=' + url_query + str('&start=' + str(pg_rng * 10 + 1))\n",
        "\n",
        "    surf_url = urllib.request.urlopen(url).read()\n",
        "    soup = BeautifulSoup(surf_url, 'html.parser')\n",
        "    links = soup.find_all('div', {'class':'news_wrap api_ani_send'})\n",
        "    titls = soup.find_all('a', {'class':'news_tit'})\n",
        "    dates = soup.find_all('span', {'class':'info'})\n",
        "\n",
        "    for i in range(len(links)):\n",
        "      news_url = links[i].find('a').get('href')\n",
        "      news_titl = titls[i].get('title')\n",
        "\n",
        "      stock_ns_df.loc[idx] = [news_titl, news_url]\n",
        "      idx += 1\n",
        "\n",
        "  return stock_ns_df "
      ],
      "execution_count": 24,
      "outputs": []
    },
    {
      "cell_type": "code",
      "metadata": {
        "id": "4iBxWc1KKNG7"
      },
      "source": [
        "comp_list_1 = ['코콤',\n",
        "             '에스넷',\n",
        "             '상지카일홈',\n",
        "             '현대통신',\n",
        "             '코맥스',\n",
        "             '에스원',\n",
        "             'HDC아이콘트롤스',\n",
        "             '유양디앤유',\n",
        "             '경동나비엔',\n",
        "             '피에스텍',\n",
        "             '포스코ICT',\n",
        "             '누리텔레콤',\n",
        "             '옴니시스템',\n",
        "             '현대리바트',\n",
        "             '위닉스',\n",
        "             '엠젠플러스',\n",
        "             'GS건설',\n",
        "             'LG전자',\n",
        "             '삼성전자',\n",
        "             'Sk텔레콤',\n",
        "             'KT',\n",
        "             'LG유플러스']\n",
        "\n",
        "df_list = []\n",
        "for crawling_by_cny in range(len(comp_list_1)):\n",
        "  sub_df = get_news(comp_list[crawling_by_cny], 10)\n",
        "  df_list.append(sub_df)"
      ],
      "execution_count": 22,
      "outputs": []
    },
    {
      "cell_type": "code",
      "metadata": {
        "id": "Z-irYy5aBLaZ"
      },
      "source": [
        "df_result = pd.concat(df_list, axis=0)\n",
        "df_result.to_excel('labeling_test.xlsx', index=False)"
      ],
      "execution_count": null,
      "outputs": []
    },
    {
      "cell_type": "markdown",
      "metadata": {
        "id": "1BMvQ8kK7bSO"
      },
      "source": [
        "---"
      ]
    },
    {
      "cell_type": "markdown",
      "metadata": {
        "id": "Q2OSeu_H9T6p"
      },
      "source": [
        "***재무재표 크롤링 Test***"
      ]
    },
    {
      "cell_type": "code",
      "metadata": {
        "colab": {
          "base_uri": "https://localhost:8080/",
          "height": 204
        },
        "id": "8GFooHi5-Bs8",
        "outputId": "1821ce90-0b50-449a-ac74-4b23b046d979"
      },
      "source": [
        "# symbol crawling\n",
        "df_krx = fdr.StockListing('KRX')\n",
        "df_symbol = df_krx[['Symbol', 'Name']]\n",
        "df_symbol.tail()"
      ],
      "execution_count": 29,
      "outputs": [
        {
          "output_type": "execute_result",
          "data": {
            "text/html": [
              "<div>\n",
              "<style scoped>\n",
              "    .dataframe tbody tr th:only-of-type {\n",
              "        vertical-align: middle;\n",
              "    }\n",
              "\n",
              "    .dataframe tbody tr th {\n",
              "        vertical-align: top;\n",
              "    }\n",
              "\n",
              "    .dataframe thead th {\n",
              "        text-align: right;\n",
              "    }\n",
              "</style>\n",
              "<table border=\"1\" class=\"dataframe\">\n",
              "  <thead>\n",
              "    <tr style=\"text-align: right;\">\n",
              "      <th></th>\n",
              "      <th>Symbol</th>\n",
              "      <th>Name</th>\n",
              "    </tr>\n",
              "  </thead>\n",
              "  <tbody>\n",
              "    <tr>\n",
              "      <th>7010</th>\n",
              "      <td>000547</td>\n",
              "      <td>흥국화재2우B</td>\n",
              "    </tr>\n",
              "    <tr>\n",
              "      <th>7011</th>\n",
              "      <td>000545</td>\n",
              "      <td>흥국화재우</td>\n",
              "    </tr>\n",
              "    <tr>\n",
              "      <th>7012</th>\n",
              "      <td>003280</td>\n",
              "      <td>흥아해운</td>\n",
              "    </tr>\n",
              "    <tr>\n",
              "      <th>7013</th>\n",
              "      <td>037440</td>\n",
              "      <td>희림</td>\n",
              "    </tr>\n",
              "    <tr>\n",
              "      <th>7014</th>\n",
              "      <td>238490</td>\n",
              "      <td>힘스</td>\n",
              "    </tr>\n",
              "  </tbody>\n",
              "</table>\n",
              "</div>"
            ],
            "text/plain": [
              "      Symbol     Name\n",
              "7010  000547  흥국화재2우B\n",
              "7011  000545    흥국화재우\n",
              "7012  003280     흥아해운\n",
              "7013  037440       희림\n",
              "7014  238490       힘스"
            ]
          },
          "metadata": {
            "tags": []
          },
          "execution_count": 29
        }
      ]
    },
    {
      "cell_type": "code",
      "metadata": {
        "id": "AUVP3yiV7aZC"
      },
      "source": [
        "def crawling_financial_statement(company_name):\n",
        "  symbol_idx = np.where(df_symbol.Name == company_name)[0][0]\n",
        "  symbol = df_symbol.Symbol[symbol_idx]\n",
        "\n",
        "  URL = f\"https://finance.naver.com/item/main.nhn?code={symbol}\"\n",
        "\n",
        "  statement_info = requests.get(URL)\n",
        "  html = statement_info.text\n",
        "  soup = BeautifulSoup(html, 'html.parser')\n",
        "  finance_html = soup.select('div.section.cop_analysis div.sub_section')[0]\n",
        "\n",
        "  th_data = [item.get_text().strip() for item in finance_html.select('thead th')]\n",
        "  annual_date = th_data[3:7]\n",
        "  quarter_date = th_data[7:13]\n",
        "  finance_index = [item.get_text().strip() for item in finance_html.select('th.h_th2')][3:]\n",
        "  finance_data = [item.get_text().strip() for item in finance_html.select('td')]\n",
        "  finance_data = np.array(finance_data)\n",
        "  finance_data.resize(len(finance_index), 10)\n",
        "  finance_date = annual_date + quarter_date\n",
        "\n",
        "  finance = pd.DataFrame(data=finance_data[0:,0:], index=finance_index, columns=finance_date)\n",
        "  return finance.iloc[:, :4]"
      ],
      "execution_count": 38,
      "outputs": []
    },
    {
      "cell_type": "code",
      "metadata": {
        "colab": {
          "base_uri": "https://localhost:8080/",
          "height": 545
        },
        "id": "eSYcmyhp8TnU",
        "outputId": "8bb4423f-d812-4849-cd6b-18a8c3b09c37"
      },
      "source": [
        "crawling_financial_statement('현대통신')"
      ],
      "execution_count": 40,
      "outputs": [
        {
          "output_type": "execute_result",
          "data": {
            "text/html": [
              "<div>\n",
              "<style scoped>\n",
              "    .dataframe tbody tr th:only-of-type {\n",
              "        vertical-align: middle;\n",
              "    }\n",
              "\n",
              "    .dataframe tbody tr th {\n",
              "        vertical-align: top;\n",
              "    }\n",
              "\n",
              "    .dataframe thead th {\n",
              "        text-align: right;\n",
              "    }\n",
              "</style>\n",
              "<table border=\"1\" class=\"dataframe\">\n",
              "  <thead>\n",
              "    <tr style=\"text-align: right;\">\n",
              "      <th></th>\n",
              "      <th>2018.12</th>\n",
              "      <th>2019.12</th>\n",
              "      <th>2020.12</th>\n",
              "      <th>2021.12(E)</th>\n",
              "    </tr>\n",
              "  </thead>\n",
              "  <tbody>\n",
              "    <tr>\n",
              "      <th>매출액</th>\n",
              "      <td>1,273</td>\n",
              "      <td>1,046</td>\n",
              "      <td>1,037</td>\n",
              "      <td></td>\n",
              "    </tr>\n",
              "    <tr>\n",
              "      <th>영업이익</th>\n",
              "      <td>201</td>\n",
              "      <td>105</td>\n",
              "      <td>86</td>\n",
              "      <td></td>\n",
              "    </tr>\n",
              "    <tr>\n",
              "      <th>당기순이익</th>\n",
              "      <td>170</td>\n",
              "      <td>107</td>\n",
              "      <td>91</td>\n",
              "      <td></td>\n",
              "    </tr>\n",
              "    <tr>\n",
              "      <th>영업이익률</th>\n",
              "      <td>15.78</td>\n",
              "      <td>10.04</td>\n",
              "      <td>8.32</td>\n",
              "      <td></td>\n",
              "    </tr>\n",
              "    <tr>\n",
              "      <th>순이익률</th>\n",
              "      <td>13.39</td>\n",
              "      <td>10.20</td>\n",
              "      <td>8.81</td>\n",
              "      <td></td>\n",
              "    </tr>\n",
              "    <tr>\n",
              "      <th>ROE(지배주주)</th>\n",
              "      <td>25.22</td>\n",
              "      <td>13.60</td>\n",
              "      <td>10.89</td>\n",
              "      <td></td>\n",
              "    </tr>\n",
              "    <tr>\n",
              "      <th>부채비율</th>\n",
              "      <td>47.86</td>\n",
              "      <td>33.92</td>\n",
              "      <td>25.62</td>\n",
              "      <td></td>\n",
              "    </tr>\n",
              "    <tr>\n",
              "      <th>당좌비율</th>\n",
              "      <td>146.69</td>\n",
              "      <td>178.32</td>\n",
              "      <td>171.73</td>\n",
              "      <td></td>\n",
              "    </tr>\n",
              "    <tr>\n",
              "      <th>유보율</th>\n",
              "      <td>1,672.26</td>\n",
              "      <td>1,852.01</td>\n",
              "      <td>2,014.14</td>\n",
              "      <td></td>\n",
              "    </tr>\n",
              "    <tr>\n",
              "      <th>EPS(원)</th>\n",
              "      <td>1,977</td>\n",
              "      <td>1,236</td>\n",
              "      <td>1,059</td>\n",
              "      <td></td>\n",
              "    </tr>\n",
              "    <tr>\n",
              "      <th>PER(배)</th>\n",
              "      <td>5.46</td>\n",
              "      <td>6.49</td>\n",
              "      <td>7.67</td>\n",
              "      <td></td>\n",
              "    </tr>\n",
              "    <tr>\n",
              "      <th>BPS(원)</th>\n",
              "      <td>8,719</td>\n",
              "      <td>9,685</td>\n",
              "      <td>10,736</td>\n",
              "      <td></td>\n",
              "    </tr>\n",
              "    <tr>\n",
              "      <th>PBR(배)</th>\n",
              "      <td>1.24</td>\n",
              "      <td>0.83</td>\n",
              "      <td>0.76</td>\n",
              "      <td></td>\n",
              "    </tr>\n",
              "    <tr>\n",
              "      <th>주당배당금(원)</th>\n",
              "      <td>300</td>\n",
              "      <td>300</td>\n",
              "      <td>350</td>\n",
              "      <td></td>\n",
              "    </tr>\n",
              "    <tr>\n",
              "      <th>시가배당률(%)</th>\n",
              "      <td>2.78</td>\n",
              "      <td>3.74</td>\n",
              "      <td>4.31</td>\n",
              "      <td></td>\n",
              "    </tr>\n",
              "    <tr>\n",
              "      <th>배당성향(%)</th>\n",
              "      <td>15.18</td>\n",
              "      <td>23.70</td>\n",
              "      <td>30.76</td>\n",
              "      <td></td>\n",
              "    </tr>\n",
              "  </tbody>\n",
              "</table>\n",
              "</div>"
            ],
            "text/plain": [
              "            2018.12   2019.12   2020.12 2021.12(E)\n",
              "매출액           1,273     1,046     1,037           \n",
              "영업이익            201       105        86           \n",
              "당기순이익           170       107        91           \n",
              "영업이익률         15.78     10.04      8.32           \n",
              "순이익률          13.39     10.20      8.81           \n",
              "ROE(지배주주)     25.22     13.60     10.89           \n",
              "부채비율          47.86     33.92     25.62           \n",
              "당좌비율         146.69    178.32    171.73           \n",
              "유보율        1,672.26  1,852.01  2,014.14           \n",
              "EPS(원)        1,977     1,236     1,059           \n",
              "PER(배)         5.46      6.49      7.67           \n",
              "BPS(원)        8,719     9,685    10,736           \n",
              "PBR(배)         1.24      0.83      0.76           \n",
              "주당배당금(원)        300       300       350           \n",
              "시가배당률(%)       2.78      3.74      4.31           \n",
              "배당성향(%)       15.18     23.70     30.76           "
            ]
          },
          "metadata": {
            "tags": []
          },
          "execution_count": 40
        }
      ]
    },
    {
      "cell_type": "markdown",
      "metadata": {
        "id": "pRJuZ9XX0VI3"
      },
      "source": [
        ".\n",
        "\n",
        ".\n",
        "\n",
        "."
      ]
    },
    {
      "cell_type": "code",
      "metadata": {
        "id": "0W1lV62wBLfS",
        "colab": {
          "resources": {
            "http://localhost:8080/nbextensions/google.colab/files.js": {
              "data": "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",
              "ok": true,
              "headers": [
                [
                  "content-type",
                  "application/javascript"
                ]
              ],
              "status": 200,
              "status_text": ""
            }
          },
          "base_uri": "https://localhost:8080/",
          "height": 76
        },
        "outputId": "99227278-bcd8-43d3-e957-d6a955b0824b"
      },
      "source": [
        "from google.colab import files\n",
        "uploaded = files.upload()"
      ],
      "execution_count": 41,
      "outputs": [
        {
          "output_type": "display_data",
          "data": {
            "text/html": [
              "\n",
              "     <input type=\"file\" id=\"files-1d3459cf-00b8-440e-a04b-5c7a3f5cbfb1\" name=\"files[]\" multiple disabled\n",
              "        style=\"border:none\" />\n",
              "     <output id=\"result-1d3459cf-00b8-440e-a04b-5c7a3f5cbfb1\">\n",
              "      Upload widget is only available when the cell has been executed in the\n",
              "      current browser session. Please rerun this cell to enable.\n",
              "      </output>\n",
              "      <script src=\"/nbextensions/google.colab/files.js\"></script> "
            ],
            "text/plain": [
              "<IPython.core.display.HTML object>"
            ]
          },
          "metadata": {
            "tags": []
          }
        },
        {
          "output_type": "stream",
          "text": [
            "Saving Intent_jh.xlsx to Intent_jh.xlsx\n"
          ],
          "name": "stdout"
        }
      ]
    },
    {
      "cell_type": "code",
      "metadata": {
        "id": "hQ4H4eMgBLhZ"
      },
      "source": [
        "import io\n",
        "df_intent = pd.read_excel(io.BytesIO(uploaded['Intent_jh.xlsx']))"
      ],
      "execution_count": 42,
      "outputs": []
    },
    {
      "cell_type": "code",
      "metadata": {
        "colab": {
          "base_uri": "https://localhost:8080/",
          "height": 204
        },
        "id": "7FY_-FlA1mrm",
        "outputId": "c61bedc2-813e-485a-8ee4-0024fa5098aa"
      },
      "source": [
        "df_intent = df_intent[['Title', 'Adress']]\n",
        "df_intent.columns = ['article', 'intent']\n",
        "df_intent.tail()"
      ],
      "execution_count": 43,
      "outputs": [
        {
          "output_type": "execute_result",
          "data": {
            "text/html": [
              "<div>\n",
              "<style scoped>\n",
              "    .dataframe tbody tr th:only-of-type {\n",
              "        vertical-align: middle;\n",
              "    }\n",
              "\n",
              "    .dataframe tbody tr th {\n",
              "        vertical-align: top;\n",
              "    }\n",
              "\n",
              "    .dataframe thead th {\n",
              "        text-align: right;\n",
              "    }\n",
              "</style>\n",
              "<table border=\"1\" class=\"dataframe\">\n",
              "  <thead>\n",
              "    <tr style=\"text-align: right;\">\n",
              "      <th></th>\n",
              "      <th>article</th>\n",
              "      <th>intent</th>\n",
              "    </tr>\n",
              "  </thead>\n",
              "  <tbody>\n",
              "    <tr>\n",
              "      <th>2194</th>\n",
              "      <td>LGU+ 온라인몰 '유샵', 국내 최초 자급제폰 개통 원스톱 서비스</td>\n",
              "      <td>전략</td>\n",
              "    </tr>\n",
              "    <tr>\n",
              "      <th>2195</th>\n",
              "      <td>SK텔레콤·LG유플러스, 상승에 급등으로 훨훨…SK텔레콤 6% 급등 이어 LG유플러...</td>\n",
              "      <td>주가전망</td>\n",
              "    </tr>\n",
              "    <tr>\n",
              "      <th>2196</th>\n",
              "      <td>디즈니+, KT·LG U+와 3분기 상륙.. 미디어 업계 분주</td>\n",
              "      <td>시장전망</td>\n",
              "    </tr>\n",
              "    <tr>\n",
              "      <th>2197</th>\n",
              "      <td>LG유플러스, ESG 경영 강화 위해 모니터링 시스템 구축</td>\n",
              "      <td>사업확장</td>\n",
              "    </tr>\n",
              "    <tr>\n",
              "      <th>2198</th>\n",
              "      <td>LGU+ 황현식, 100개 국사에 에너지 모니터링 시스템 구축</td>\n",
              "      <td>사업확장</td>\n",
              "    </tr>\n",
              "  </tbody>\n",
              "</table>\n",
              "</div>"
            ],
            "text/plain": [
              "                                                article intent\n",
              "2194              LGU+ 온라인몰 '유샵', 국내 최초 자급제폰 개통 원스톱 서비스     전략\n",
              "2195  SK텔레콤·LG유플러스, 상승에 급등으로 훨훨…SK텔레콤 6% 급등 이어 LG유플러...   주가전망\n",
              "2196                 디즈니+, KT·LG U+와 3분기 상륙.. 미디어 업계 분주   시장전망\n",
              "2197                   LG유플러스, ESG 경영 강화 위해 모니터링 시스템 구축   사업확장\n",
              "2198                 LGU+ 황현식, 100개 국사에 에너지 모니터링 시스템 구축   사업확장"
            ]
          },
          "metadata": {
            "tags": []
          },
          "execution_count": 43
        }
      ]
    },
    {
      "cell_type": "code",
      "metadata": {
        "colab": {
          "base_uri": "https://localhost:8080/"
        },
        "id": "0_IU79_o2mj5",
        "outputId": "3e6e247f-b90b-47e4-ffc4-a1ad07fd0efa"
      },
      "source": [
        "df_intent = df_intent.dropna(how='any', axis=0)\n",
        "df_intent.isnull().values.any()"
      ],
      "execution_count": 44,
      "outputs": [
        {
          "output_type": "execute_result",
          "data": {
            "text/plain": [
              "False"
            ]
          },
          "metadata": {
            "tags": []
          },
          "execution_count": 44
        }
      ]
    },
    {
      "cell_type": "code",
      "metadata": {
        "id": "T9YFOaoX3CEY"
      },
      "source": [
        "# df_intent.intent.value_counts()"
      ],
      "execution_count": 45,
      "outputs": []
    },
    {
      "cell_type": "code",
      "metadata": {
        "id": "aMoe1Hz53aoM"
      },
      "source": [
        "error = ['주가전망', '전력', '주가정망']\n",
        "for i in range(3):\n",
        "  df_intent = df_intent[df_intent.intent != error[i]]"
      ],
      "execution_count": 46,
      "outputs": []
    },
    {
      "cell_type": "code",
      "metadata": {
        "colab": {
          "base_uri": "https://localhost:8080/"
        },
        "id": "RMYN4Q9_4aFI",
        "outputId": "89870392-0810-45f6-d051-ac2c2a481f37"
      },
      "source": [
        "df_intent.intent.value_counts()"
      ],
      "execution_count": 47,
      "outputs": [
        {
          "output_type": "execute_result",
          "data": {
            "text/plain": [
              "주식전망    123\n",
              "전략      100\n",
              "홍보       97\n",
              "사업확장     83\n",
              "시장전망     37\n",
              "기타       32\n",
              "매출       21\n",
              "Name: intent, dtype: int64"
            ]
          },
          "metadata": {
            "tags": []
          },
          "execution_count": 47
        }
      ]
    },
    {
      "cell_type": "markdown",
      "metadata": {
        "id": "Yb72U4NTLtHW"
      },
      "source": [
        "---"
      ]
    },
    {
      "cell_type": "code",
      "metadata": {
        "colab": {
          "base_uri": "https://localhost:8080/"
        },
        "id": "hMcSMVTTQC3B",
        "outputId": "92e9d38d-a368-4e49-ff1e-90568f18e664"
      },
      "source": [
        "import matplotlib.pyplot as plt\n",
        "import matplotlib as mpl\n",
        "import matplotlib.font_manager as fm\n",
        "\n",
        "%config InlineBackend.figure_format = 'retina'\n",
        "\n",
        "!apt -qq -y install fonts-nanum\n",
        "\n",
        "fontpath = '/usr/share/fonts/truetype/nanum/NanumBarunGothic.ttf'\n",
        "font = fm.FontProperties(fname=fontpath, size=9)\n",
        "plt.rc('font', family='NanumBarunGothic') \n",
        "mpl.font_manager._rebuild()"
      ],
      "execution_count": 48,
      "outputs": [
        {
          "output_type": "stream",
          "text": [
            "The following packages were automatically installed and are no longer required:\n",
            "  r-cran-covr r-cran-crosstalk r-cran-dt r-cran-htmlwidgets r-cran-later\n",
            "  r-cran-lazyeval r-cran-promises r-cran-rex\n",
            "Use 'apt autoremove' to remove them.\n",
            "The following NEW packages will be installed:\n",
            "  fonts-nanum\n",
            "0 upgraded, 1 newly installed, 0 to remove and 5 not upgraded.\n",
            "Need to get 9,604 kB of archives.\n",
            "After this operation, 29.5 MB of additional disk space will be used.\n",
            "Selecting previously unselected package fonts-nanum.\n",
            "(Reading database ... 161272 files and directories currently installed.)\n",
            "Preparing to unpack .../fonts-nanum_20170925-1_all.deb ...\n",
            "Unpacking fonts-nanum (20170925-1) ...\n",
            "Setting up fonts-nanum (20170925-1) ...\n",
            "Processing triggers for fontconfig (2.12.6-0ubuntu2) ...\n"
          ],
          "name": "stdout"
        }
      ]
    },
    {
      "cell_type": "code",
      "metadata": {
        "colab": {
          "base_uri": "https://localhost:8080/"
        },
        "id": "VXfGJyVHLvNp",
        "outputId": "15ea4364-45b7-46c6-8113-b06723236077"
      },
      "source": [
        "import pandas as pd\n",
        "import numpy as np\n",
        "from konlpy.tag import Okt\n",
        "from tensorflow.keras.preprocessing.text import Tokenizer\n",
        "from tensorflow.keras.preprocessing.sequence import pad_sequences\n",
        "from sklearn import preprocessing"
      ],
      "execution_count": 49,
      "outputs": [
        {
          "output_type": "stream",
          "text": [
            "/usr/local/lib/python3.7/dist-packages/tensorflow/python/framework/dtypes.py:516: FutureWarning: Passing (type, 1) or '1type' as a synonym of type is deprecated; in a future version of numpy, it will be understood as (type, (1,)) / '(1,)type'.\n",
            "  _np_qint8 = np.dtype([(\"qint8\", np.int8, 1)])\n",
            "/usr/local/lib/python3.7/dist-packages/tensorflow/python/framework/dtypes.py:517: FutureWarning: Passing (type, 1) or '1type' as a synonym of type is deprecated; in a future version of numpy, it will be understood as (type, (1,)) / '(1,)type'.\n",
            "  _np_quint8 = np.dtype([(\"quint8\", np.uint8, 1)])\n",
            "/usr/local/lib/python3.7/dist-packages/tensorflow/python/framework/dtypes.py:518: FutureWarning: Passing (type, 1) or '1type' as a synonym of type is deprecated; in a future version of numpy, it will be understood as (type, (1,)) / '(1,)type'.\n",
            "  _np_qint16 = np.dtype([(\"qint16\", np.int16, 1)])\n",
            "/usr/local/lib/python3.7/dist-packages/tensorflow/python/framework/dtypes.py:519: FutureWarning: Passing (type, 1) or '1type' as a synonym of type is deprecated; in a future version of numpy, it will be understood as (type, (1,)) / '(1,)type'.\n",
            "  _np_quint16 = np.dtype([(\"quint16\", np.uint16, 1)])\n",
            "/usr/local/lib/python3.7/dist-packages/tensorflow/python/framework/dtypes.py:520: FutureWarning: Passing (type, 1) or '1type' as a synonym of type is deprecated; in a future version of numpy, it will be understood as (type, (1,)) / '(1,)type'.\n",
            "  _np_qint32 = np.dtype([(\"qint32\", np.int32, 1)])\n",
            "/usr/local/lib/python3.7/dist-packages/tensorflow/python/framework/dtypes.py:525: FutureWarning: Passing (type, 1) or '1type' as a synonym of type is deprecated; in a future version of numpy, it will be understood as (type, (1,)) / '(1,)type'.\n",
            "  np_resource = np.dtype([(\"resource\", np.ubyte, 1)])\n",
            "/usr/local/lib/python3.7/dist-packages/tensorboard/compat/tensorflow_stub/dtypes.py:541: FutureWarning: Passing (type, 1) or '1type' as a synonym of type is deprecated; in a future version of numpy, it will be understood as (type, (1,)) / '(1,)type'.\n",
            "  _np_qint8 = np.dtype([(\"qint8\", np.int8, 1)])\n",
            "/usr/local/lib/python3.7/dist-packages/tensorboard/compat/tensorflow_stub/dtypes.py:542: FutureWarning: Passing (type, 1) or '1type' as a synonym of type is deprecated; in a future version of numpy, it will be understood as (type, (1,)) / '(1,)type'.\n",
            "  _np_quint8 = np.dtype([(\"quint8\", np.uint8, 1)])\n",
            "/usr/local/lib/python3.7/dist-packages/tensorboard/compat/tensorflow_stub/dtypes.py:543: FutureWarning: Passing (type, 1) or '1type' as a synonym of type is deprecated; in a future version of numpy, it will be understood as (type, (1,)) / '(1,)type'.\n",
            "  _np_qint16 = np.dtype([(\"qint16\", np.int16, 1)])\n",
            "/usr/local/lib/python3.7/dist-packages/tensorboard/compat/tensorflow_stub/dtypes.py:544: FutureWarning: Passing (type, 1) or '1type' as a synonym of type is deprecated; in a future version of numpy, it will be understood as (type, (1,)) / '(1,)type'.\n",
            "  _np_quint16 = np.dtype([(\"quint16\", np.uint16, 1)])\n",
            "/usr/local/lib/python3.7/dist-packages/tensorboard/compat/tensorflow_stub/dtypes.py:545: FutureWarning: Passing (type, 1) or '1type' as a synonym of type is deprecated; in a future version of numpy, it will be understood as (type, (1,)) / '(1,)type'.\n",
            "  _np_qint32 = np.dtype([(\"qint32\", np.int32, 1)])\n",
            "/usr/local/lib/python3.7/dist-packages/tensorboard/compat/tensorflow_stub/dtypes.py:550: FutureWarning: Passing (type, 1) or '1type' as a synonym of type is deprecated; in a future version of numpy, it will be understood as (type, (1,)) / '(1,)type'.\n",
            "  np_resource = np.dtype([(\"resource\", np.ubyte, 1)])\n"
          ],
          "name": "stderr"
        }
      ]
    },
    {
      "cell_type": "code",
      "metadata": {
        "id": "gFd_aQ604cWw"
      },
      "source": [
        "okt = Okt()\n",
        "\n",
        "X_train = []\n",
        "for sentence in df_intent.article:\n",
        "    temp_X = []\n",
        "    temp_X = okt.morphs(sentence)\n",
        "    X_train.append(temp_X)"
      ],
      "execution_count": 50,
      "outputs": []
    },
    {
      "cell_type": "code",
      "metadata": {
        "colab": {
          "base_uri": "https://localhost:8080/"
        },
        "id": "zwfQL_D5O4Pk",
        "outputId": "48e7f90c-e7de-4138-9147-b76d8f2b71fe"
      },
      "source": [
        "X_train[:3]"
      ],
      "execution_count": 51,
      "outputs": [
        {
          "output_type": "execute_result",
          "data": {
            "text/plain": [
              "[['주', '총', '통해', '살펴본', '조명', '상', '장사', ',', '위기', '탈출', '전략', '은'],\n",
              " ['김기훈', '코콤', '포터', '노벨', '리', '대표', ',', '한국', 'PR', '기업', '협회장', '선출'],\n",
              " ['코콤', ',', '비행기', '지', '통합', '관제', '체계', '구축', '사업', '수주']]"
            ]
          },
          "metadata": {
            "tags": []
          },
          "execution_count": 51
        }
      ]
    },
    {
      "cell_type": "code",
      "metadata": {
        "id": "e8cOGN4RPb5_"
      },
      "source": [
        "tokenizer = Tokenizer()\n",
        "tokenizer.fit_on_texts(X_train)"
      ],
      "execution_count": 52,
      "outputs": []
    },
    {
      "cell_type": "code",
      "metadata": {
        "id": "UqVYMSwrPcY7"
      },
      "source": [
        "X_train = tokenizer.texts_to_sequences(X_train)"
      ],
      "execution_count": 53,
      "outputs": []
    },
    {
      "cell_type": "code",
      "metadata": {
        "colab": {
          "base_uri": "https://localhost:8080/"
        },
        "id": "2XaB0PLBPfcz",
        "outputId": "6401d25e-8c22-4173-cb48-142d572544af"
      },
      "source": [
        "X_train[:3]"
      ],
      "execution_count": 54,
      "outputs": [
        {
          "output_type": "execute_result",
          "data": {
            "text/plain": [
              "[[103, 319, 320, 594, 595, 596, 597, 1, 408, 176, 598, 150],\n",
              " [599, 177, 600, 601, 409, 410, 1, 116, 602, 64, 603, 604],\n",
              " [177, 1, 605, 117, 321, 411, 606, 65, 15, 253]]"
            ]
          },
          "metadata": {
            "tags": []
          },
          "execution_count": 54
        }
      ]
    },
    {
      "cell_type": "code",
      "metadata": {
        "colab": {
          "base_uri": "https://localhost:8080/"
        },
        "id": "GaVVoGNfPin-",
        "outputId": "f548ebe2-95b8-42a7-9617-f4276ec325fa"
      },
      "source": [
        "print(tokenizer.word_index)"
      ],
      "execution_count": 55,
      "outputs": [
        {
          "output_type": "stream",
          "text": [
            "{',': 1, \"'\": 2, '통신': 3, 'kt': 4, '현대': 5, '카일': 6, '룸': 7, '상지': 8, '에스': 9, '넷': 10, 'lg': 11, '유플러스': 12, '\"': 13, '…': 14, '사업': 15, '-': 16, '서비스': 17, '시스템': 18, '·': 19, '디지털': 20, '[': 21, '+': 22, 'b': 23, ']': 24, '한': 25, '현재': 26, '주가': 27, '헬': 28, '스케': 29, '어': 30, '확대': 31, '교육': 32, 'vi': 33, '발동': 34, '바이오': 35, '에': 36, '로': 37, '협력': 38, '‘': 39, '주식': 40, '와': 41, '테라': 42, '젠': 43, 'lgu': 44, '개통': 45, '과': 46, '빅데이터': 47, '’': 48, '2': 49, '발굴': 50, '돌봄': 51, '+,': 52, '맞': 53, '손': 54, '상승': 55, '용산구': 56, '그룹': 57, '아이': 58, '오피스텔': 59, '시작': 60, '제': 61, 'm': 62, '온라인': 63, '기업': 64, '구축': 65, '정보': 66, '출시': 67, '위': 68, '대': 69, '헬스': 70, '패스': 71, '원스톱': 72, '자급': 73, '폰': 74, '성장': 75, '학원': 76, '협회': 77, '들': 78, '솔루션': 79, '규모': 80, '과징금': 81, 'sk': 82, 'kmac': 83, '6월': 84, '시장': 85, '매출': 86, '관리': 87, '코로나': 88, '원': 89, '개발': 90, '분양': 91, '유': 92, '4월': 93, '스마트': 94, '기반': 95, '“': 96, '도입': 97, '도': 98, '증권': 99, \"',\": 100, '형': 101, '전일': 102, '주': 103, '체결': 104, '”': 105, '병원': 106, '경영': 107, '텔레콤': 108, '투자': 109, '맞춤': 110, '...': 111, '지연': 112, '요': 113, '사회': 114, '샵': 115, '한국': 116, '지': 117, '증가': 118, '인수': 119, '전환': 120, '플랫폼': 121, 'it': 122, '전': 123, '제공': 124, '기': 125, '대상': 126, '20': 127, '종목': 128, '폭': 129, '대비': 130, '중소': 131, '랜선': 132, '에듀': 133, '공헌': 134, '홀맨': 135, '위해': 136, '업무': 137, '분': 138, '취득': 139, '(': 140, '분석': 141, '영업': 142, '노트': 143, '피크닉': 144, '컨설팅': 145, '출입': 146, '대사': 147, '취약': 148, '계층': 149, '은': 150, 'mou': 151, '클라우드': 152, '인프라': 153, '직원': 154, '오늘': 155, '↑': 156, '첫': 157, '자회사': 158, '부과': 159, '∙': 160, '이익': 161, '이': 162, '본격': 163, '추진': 164, '에이스': 165, '배당': 166, '약': 167, 'esg': 168, '방통위': 169, '세트': 170, '양병': 171, '능률': 172, '오픈': 173, '홍보': 174, '위촉': 175, '탈출': 176, '코콤': 177, '한다': 178, '금융': 179, '공급': 180, '인사': 181, '등': 182, '..': 183, '으로': 184, '미래': 185, ')': 186, '에도': 187, '매수': 188, '부동산': 189, '아파트': 190, '규제': 191, '진출': 192, '바이': 193, '오메': 194, '드': 195, '특별': 196, '7월': 197, '그래프': 198, '공모전': 199, '박경수': 200, '만루': 201, '제로': 202, '웨': 203, '이스트': 204, '몰': 205, \"'…\": 206, '29일': 207, '면': 208, '인성': 209, '공장': 210, 'ai': 211, '장': 212, '지원': 213, '데이터': 214, '의': 215, '강화': 216, '더벨': 217, '기술': 218, '4': 219, '서': 220, '19': 221, '계약': 222, '개최': 223, '방역': 224, '전망': 225, '역량': 226, '실시간': 227, '?': 228, '겨냥': 229, '강남': 230, '주거': 231, '종': 232, '속사': 233, '키트': 234, '마스크': 235, '관계자': 236, '변동': 237, '사': 238, '10350원': 239, '0.00%': 240, '9일': 241, '시세': 242, '10250원': 243, '용': 244, '보급': 245, 'digico': 246, '벤': 247, '처': 248, '안전한': 249, '아동': 250, '건강': 251, '에너지': 252, '수주': 253, '콜센터': 254, '재택근무': 255, '협약': 256, '비대': 257, '달성': 258, '공동': 259, '속': 260, '화': 261, '결정': 262, '나': 263, '진행': 264, '지난해': 265, '가': 266, '서울시': 267, '공공': 268, '와이파이': 269, '가속': 270, '티': 271, '살균': 272, '서울': 273, '훼': 274, '밀리': 275, '키퍼': 276, '는': 277, '세': 278, '에이치': 279, '5': 280, 'g': 281, '고': 282, '돕는다': 283, 's': 284, '외국인': 285, '달': 286, '럭셔리': 287, '주목': 288, '주택': 289, '고급': 290, '10%': 291, '이상': 292, '순': 293, '…\"': 294, '현': 295, '공식': 296, '하락': 297, '자': 298, '10050원': 299, '5월': 300, '24일': 301, '22일': 302, '현황': 303, '25일': 304, '한국판': 305, '실리콘밸리': 306, '이끌': 307, '갤': 308, '갤럭시': 309, '1억': 310, '스타': 311, '승': 312, '미디어': 313, '연패': 314, '탈모': 315, '유전체': 316, 'u': 317, '최초': 318, '총': 319, '통해': 320, '통합': 321, 'skt': 322, '판매': 323, '공략': 324, '개시': 325, '임': 326, '근': 327, '스톡옵션': 328, '부여': 329, '전환사채': 330, '발행': 331, '3년': 332, '내': 333, '를': 334, '위원회': 335, 'iot': 336, '도약': 337, '시스코': 338, '감염': 339, '확산': 340, '한화': 341, \"]'\": 342, '배': 343, '년': 344, '比': 345, '눈길': 346, '플': 347, '보안': 348, '격': 349, '공정위': 350, '바이러스': 351, '2분': 352, '실적': 353, '새': 354, '수': 355, '관련': 356, '현장': 357, '하나': 358, '2년': 359, '째': 360, '기관': 361, '강남구': 362, '적자': 363, '중': 364, '3': 365, '2030': 366, '세대': 367, '`': 368, '논현동': 369, '다음': 370, '청약': 371, '건설': 372, '진단': 373, '수출': 374, '적용': 375, '반사': 376, '재': 377, '변경': 378, '모비스': 379, '사주': 380, '!': 381, '양자암호': 382, '17일': 383, '8일': 384, '10300원': 385, '3월': 386, '10450원': 387, '증시': 388, '3일': 389, '1일': 390, '5%': 391, '10600원': 392, '단신': 393, '나선다': 394, '고의': 395, '양': 396, '홈런': 397, '\"…': 398, '관악': 399, '밸리': 400, '돕는': 401, '일환': 402, '고영표': 403, '포': 404, '두산': 405, '비만': 406, '국내': 407, '위기': 408, '리': 409, '대표': 410, '관제': 411, '스마트홈': 412, '알서포트': 413, 'sro': 414, '권': 415, '\\xa0': 416, '유지': 417, '200억원': 418, ';': 419, 'bnk': 420, '존': 421, '성': 422, '된': 423, '나서': 424, '도전': 425, '고도화': 426, '웨비': 427, '호조': 428, '부산시': 429, '저작권': 430, '아모': 431, '년비': 432, '목표': 433, '證': 434, 'cb': 435, '무료': 436, '프로젝트': 437, '작년': 438, '까지': 439, '협업': 440, '시': 441, '큐': 442, '운영': 443, '디': 444, '네이버': 445, '터널': 446, '과기부': 447, '공사': 448, 'swan': 449, 'ict': 450, '올해': 451, '소독제': 452, '1조원': 453, '두': 454, '활용': 455, '회장': 456, '신': 457, '지속': 458, '하반기': 459, '발표': 460, '케이': 461, '2020': 462, '종합': 463, '3분': 464, '038680': 465, '알파': 466, '/': 467, '수급': 468, '추가': 469, '확률': 470, '선': 471, '법인': 472, '명의': 473, '홀로': 474, '족': 475, '스몰': 476, '구': 477, '수요': 478, '뚜렷': 479, '예정': 480, '강남구청역': 481, '기대': 482, '퀀투퀄': 483, '트렌드': 484, '상품': 485, '각광': 486, '만': 487, '어디': 488, '’…': 489, '업종': 490, '상승세': 491, '8%': 492, '발전': 493, '시설': 494, '손실': 495, '허가': 496, '승인': 497, 'k': 498, '청구': 499, '소송': 500, '신속': 501, '시대': 502, '대량': 503, \"'-\": 504, '거래': 505, '량': 506, '0.94%': 507, '株': 508, '3억': 509, '용산': 510, '가액': 511, '조정': 512, '신탁': 513, '제휴': 514, '사용': 515, '20억': 516, '매각': 517, '사명': 518, '뉴스': 519, '주당': 520, '시가': 521, '이동통신': 522, '체크': 523, '현금': 524, '마감': 525, '입찰': 526, '담합': 527, '칼슨': 528, '은광': 529, '제재': 530, 'fnrassi': 531, '대학생': 532, '통신원': 533, '하세요': 534, '26일': 535, '100': 536, '성공': 537, '12일': 538, '10500원': 539, '28일': 540, '0.10%': 541, '4일': 542, '9850원': 543, '18일': 544, '검색': 545, '9160원': 546, '10일': 547, '27일': 548, '10150원': 549, '금일': 550, '9840원': 551, '8월': 552, '9180원': 553, '차트': 554, '0.49%': 555, '10200원': 556, '3%': 557, '5일': 558, '21일': 559, '15일': 560, 'e': 561, '연속': 562, '아': 563, '익': 564, '헌혈': 565, 'ip': 566, '장비': 567, '개편': 568, '힘': 569, '4000만원': 570, '전국': 571, '6000만원': 572, '쓰레기': 573, '조성': 574, '에서': 575, '키운다': 576, '만에': 577, '지역': 578, '리뷰': 579, '베스트': 580, '개인': 581, '돌아왔다': 582, '캐릭터': 583, '줄인다': 584, '검사': 585, '활동': 586, '’,': 587, '몰서': 588, '아이폰': 589, '업계': 590, 'kbo': 591, '퓨처스리그': 592, '모니터링': 593, '살펴본': 594, '조명': 595, '상': 596, '장사': 597, '전략': 598, '김기훈': 599, '포터': 600, '노벨': 601, 'pr': 602, '협회장': 603, '선출': 604, '비행기': 605, '체계': 606, '웹젠': 607, '무인': 608, 'pc': 609, '방': 610, '위례신도시': 611, '11일': 612, '2020년': 613, '3200억원': 614, '···': 615, '기조': 616, '시그널': 617, '전문': 618, '조직': 619, 'aai': 620, '신설': 621, '과학기술': 622, '정보통신부': 623, '국세청': 624, '공리': 625, '마쳐': 626, '동반성': 627, '실현': 628, '노후': 629, '설비': 630, '채': 631, \"…'\": 632, '러너': 633, '200억': 634, '유동성': 635, '확보': 636, '생태계': 637, '앞장': 638, '시너지': 639, '4천억': 640, '화상': 641, 'ceo': 642, '김용순': 643, '토털': 644, 'pnt': 645, '대응': 646, '의료': 647, '트': 648, '中': 649, '3265억원': 650, '3.1%': 651, '19%': 652, '편견': 653, '깬': 654, '자격': 655, '획득': 656, '확장': 657, '빠른': 658, '1분': 659, '528억원': 660, '7.5%': 661, '국제': 662, '기계': 663, '박람회': 664, '제조': 665, '사례': 666, '연매출': 667, '1조': 668, '120억': 669, '공군기지': 670, '3천': 671, '167억원': 672, '17%': 673, '마켓': 674, '인사이트': 675, '준비': 676, 'kst': 677, '레이스': 678, '시티': 679, '나루': 680, '씨': 681, '큐리': 682, '中企': 683, '을': 684, '플렉스': 685, 'sw': 686, '계약서': 687, '늑장': 688, '발급': 689, '필리핀': 690, '마닐라': 691, '시청': 692, '소독': 693, '꼬인': 694, '실': 695, '타래': 696, '푼다': 697, '교통': 698, '전동차': 699, '영광': 700, '자율': 701, '주행': 702, '환경': 703, 'vs': 704, '정통부': 705, '갈등': 706, '심화': 707, 'prnewswire': 708, '128': 709, '테크놀로지': 710, '채택': 711, '90억': 712, '공군': 713, '21': 714, '정기': 715, '4000억': 716, '뿌리는': 717, '사멸': 718, '입증': 719, '이슈': 720, '왜': 721, '두고': 722, '충돌': 723, '했나': 724, '회사': 725, '번째': 726, '앞장서는': 727, '경기': 728, '수원시': 729, '임원': 730, '조직개편': 731, '단행': 732, '세종': 733, '38억': 734, '521%': 735, '][': 736, 'company': 737, 'watch': 738, '복귀': 739, '자신감': 740, '특징': 741, '어닝': 742, '서프라이즈': 743, '예상': 744, '네이처': 745, '셀': 746, '신도리코': 747, '에이': 748, '켐텍': 749, '뉴스룸': 750, '業': 751, '고용': 752, '늘렸다': 753, '1년': 754, '500': 755, '명': 756, 'soc': 757, '택배': 758, '물류': 759, '센터': 760, '후': 761, '문의': 762, '산업': 763, '삼성': 764, '전자': 765, '일상': 766, '잡는': 767, '큐브': 768, '피아': 769, 'khc': 770, '소개': 771, '박효': 772, 'icbm': 773, '력': 774, '을지대': 775, '캠퍼스': 776, '구현': 777, '매니': 778, '지드': 779, 'wan': 780, '창립': 781, '주년': 782, '기념': 783, '설명': 784, '회': 785, '숨은': 786, '혜주': 787, '액': 788, '20%': 789, '강소기업': 790, '자릿수': 791, '㈜': 792, '공주': 793, '1000만원': 794, '상당': 795, '물품': 796, '기탁': 797, '허브': 798, '공개': 799, '키워': 800, '박차': 801, '소형': 802, '0': 803, '봇물': 804, '불구': 805, '하고': 806, '활기': 807, '소득': 808, '솔로': 809, '영': 810, '앤': 811, '리치': 812, '배후': 813, '따라': 814, '양극화': 815, '걸어서': 816, '천장': 817, '높이': 818, '설계': 819, '반': 820, '사익': 821, '할': 822, '단지': 823, '경쟁': 824, '치열': 825, '통장': 826, '필요없는': 827, '강세': 828, '284억': 829, '가점': 830, '낮은': 831, '드라마': 832, '끝났지만': 833, '펜트하우스': 834, '인기': 835, '여전': 836, '360': 837, '인테리어': 838, '가뭄': 839, 'now': 840, '전문직': 841, '32억': 842, '10.65%': 843, '식약처': 844, '핑크': 845, '퐁': 846, '아기': 847, '상어': 848, '알린다': 849, '0.81%': 850, '카드': 851, '밴으로부터': 852, '인도': 853, '제기': 854, '1.19%': 855, '14.15%': 856, 'ce': 857, 'ivd': 858, '인증': 859, '최고급': 860, '브랜드': 861, '줄어드는데': 862, '아람': 863, '하이엔드': 864, '전성': 865, '10억': 866, '속속': 867, '등장': 868, '1.32%': 869, '家': 870, '장녀': 871, '임세령': 872, '청담동': 873, '사랑': 874, '400억': 875, '재력': 876, '과시': 877, '10.44%': 878, '7.01%': 879, '79%': 880, '휘청': 881, '신규': 882, '감소': 883, '호텔': 884, '쇼': 885, '자재': 886, '관': 887, '참가': 888, '18.82%': 889, '1.45%': 890, '고가': 891, '3.15%': 892, '청구권': 893, '행사': 894, '신주': 895, '85만': 896, '1.08%': 897, '단기간': 898, '골든': 899, '크로스': 900, '형성': 901, '단기': 902, '중기': 903, '이평': 904, '정': 905, '배열': 906, '美': 907, '업체': 908, 'hd': 909, '메': 910, '디스': 911, '완료': 912, '항균': 913, '미세': 914, '전류': 915, '8.54%': 916, '8.13%': 917, '6.89%': 918, '4.10%': 919, '10.14%': 920, '17.52%': 921, '9.59%': 922, '9.79%': 923, '4.91%': 924, '최고': 925, '전세': 926, '가는': 927, '?…': 928, '리츠': 929, '빌': 930, '마크': 931, '힐스': 932, '40억': 933, '센트럴': 934, '파크': 935, '해링턴': 936, '스퀘어': 937, '낙찰': 938, '8.99%': 939, '8.49%': 940, '401만': 941, '가능': 942, '바람': 943, '덮': 944, '칠라': 945, '비': 946, '10.64%': 947, '제조업체': 948, '무궁화': 949, '뜨는': 950, '모델링': 951, '수익': 952, '개선': 953, '이룰까': 954, '7.59%': 955, '5000억': 956, '나주': 957, '신축': 958, '착수': 959, '공시': 960, '500만': 961, '분율': 962, '32%': 963, '블루': 964, '모나코': 965, '대부': 966, '142억원': 967, '부당이득': 968, '금': 969, '10.28%': 970, '멕시코': 971, 'indre': 972, '기전': 973, '..,': 974, '또는': 975, '소각': 976, '수익권': 977, '양수': 978, '철회': 979, '300억원': 980, '채무': 981, '보증': 982, '토지': 983, '대금': 984, '전액': 985, '수령': 986, '5.25%': 987, '9.84%': 988, '90억원': 989, '미': 990, 'ht': 991, ')’': 992, '선포': 993, '상호': 994, '350원': 995, '배당률': 996, '4.3%': 997, '노벨경제학상': 998, '경매': 999, '이론': 1000, '근간': 1001, '제시': 1002, '급등': 1003, '13%': 1004, '52': 1005, '신고': 1006, '28억': 1007, '쏜다': 1008, '율': 1009, '4.36%': 1010, '300원': 1011, '11.21%': 1012, '미국': 1013, '연방': 1014, '화웨이': 1015, 'zte': 1016, '위협': 1017, '지정': 1018, '2.51%': 1019, '1.14%': 1020, '6.57%': 1021, '7.64%': 1022, '4.77%': 1023, '9.73%': 1024, '1.31%': 1025, '6%': 1026, '10,200원': 1027, '제어기': 1028, '차량': 1029, '0.58%': 1030, '오르며': 1031, '039010': 1032, '13.3%': 1033, '19일': 1034, 'etri': 1035, '거리': 1036, '무선': 1037, '우수': 1038, '웹사이트': 1039, '시상식': 1040, '2019': 1041, '웹': 1042, '어워드': 1043, '코리아': 1044, '연동': 1045, '9980원': 1046, '9780원': 1047, '30일': 1048, '9210원': 1049, '추천': 1050, '1.00%': 1051, '1.46%': 1052, '9920원': 1053, '플러스': 1054, '14일': 1055, '23일': 1056, '9230원': 1057, '1.60%': 1058, '2일': 1059, '7일': 1060, '9470원': 1061, '1.06%': 1062, '9500원': 1063, '11,300원': 1064, '창': 1065, '12,050원': 1066, '모집': 1067, '13,850원': 1068, '캡': 1069, '입주': 1070, '몰리': 1071, '웃는': 1072, '주식시장': 1073, '0.97%': 1074, '20억원': 1075, '매도': 1076, '외인': 1077, '팔': 1078, '9130원': 1079, '0.95%': 1080, '105억': 1081, '47.8%': 1082, '↓': 1083, '12,700원': 1084, '31일': 1085, '9610원': 1086, '2.44%': 1087, '10,950원': 1088, '12,900원': 1089, '10000원': 1090, '8860원': 1091, '보기': 1092, '9400원': 1093, '9730원': 1094, '코': 1095, '맥스': 1096, '2025년': 1097, '5천억원': 1098, '천명': 1099, '캠페인': 1100, '백신': 1101, '접종': 1102, '키': 1103, '배기': 1104, '지배구조': 1105, '임박': 1106, '하이닉스': 1107, '&': 1108, 'a': 1109, '보폭': 1110, '커지나': 1111, '모바일': 1112, '엣지': 1113, '컴퓨팅': 1114, '지니': 1115, '뮤직': 1116, '페이스북': 1117, '릴레이': 1118, '모은다': 1119, '벤처기업': 1120, '1.6억원': 1121, '억대': 1122, '일회용품': 1123, '줄인': 1124, '상금': 1125, '커넥티드카': 1126, '모빌리티': 1127, '먹거리': 1128, '뱅크': 1129, '샐러드': 1130, '250억원': 1131, '파이': 1132, '낸스': 1133, '진영': 1134, '꾸린다': 1135, '철퇴': 1136, '즐기고': 1137, '줄': 1138, '이고': 1139, '선봬': 1140, '줄이는': 1141, 'mz': 1142, '소통': 1143, '전용': 1144, '론칭': 1145, '걸고': 1146, '찾는다': 1147, '...\"': 1148, '감시': 1149, '피': 1150, '하려': 1151, '임의': 1152, '조절': 1153, '찾습니다': 1154, '선발': 1155, '딴': 1156, '쿠': 1157, '바스': 1158, '합류': 1159, '안정감': 1160, '더한다': 1161, '대리점': 1162, '몰랐다': 1163, '호소': 1164, '깎아': 1165, '준': 1166, '수집': 1167, '가입자': 1168, '6500만원': 1169, '친환경': 1170, '가치': 1171, '소비': 1172, '1.64억': 1173, '혐의': 1174, '받아': 1175, '강백호': 1176, '찬스': 1177, '삼진': 1178, '중소기업': 1179, '안전하게': 1180, '지코': 1181, '콘텐츠': 1182, '엔진': 1183, '가동': 1184, '916일': 1185, '감격': 1186, '승리': 1187, '팀': 1188, '맹': 1189, '추격': 1190, '뿌리': 1191, '치고': 1192, '수렁': 1193, 'mk': 1194, 'regulator': 1195, 'fine': 1196, '1.6억': 1197, '허수': 1198, '반복': 1199, '안전': 1200, '…`': 1201, '친': 1202, '잘나가게': 1203, '예비': 1204, '창업': 1205, '상권': 1206, '손잡고': 1207, '지주': 1208, '인적': 1209, '분할': 1210, '번': 1211, '기변': 1212, '차별': 1213, '계': 1214, '방위': 1215, '혁신': 1216, '★': 1217, '잠실': 1218, '8-7': 1219, '진땀': 1220, '배정': 1221, '방망이': 1222, '부러져도': 1223, '안타': 1224, '집결': 1225, '알티': 1226, '오프라인': 1227, '입어': 1228, 'is': 1229, '잡고': 1230, '만루홈런': 1231, '통산': 1232, '150': 1233, '6499만': 1234, '돌아온': 1235, '18년': 1236, '부활': 1237, \"'...\": 1238, '클릭': 1239, '사상': 1240, '1': 1241, '兆': 1242, '향': 1243, '해': 1244, '순항': 1245, '마이크로소프트': 1246, '선정': 1247, '20년': 1248, '마스코트': 1249, '‧': 1250, '격차': 1251, '위험': 1252, '알려주는': 1253, '선보인다': 1254, '직접': 1255, '방법': 1256, '미리': 1257, '알려': 1258, '준다': 1259, '어떤': 1260, '돌': 1261, '보미': 1262, '자처': 1263, '자사': 1264, '자녀': 1265, '\",': 1266, '유전자': 1267, '몰에서': 1268, '초등생': 1269, '태블릿': 1270, '원격': 1271, '점검': 1272, '집중': 1273, '자가': 1274, '연': 1275, '다': 1276, '만든다': 1277, '시행': 1278, '철수': 1279, '쓸': 1280, '있다': 1281, '단말기': 1282, '판다': 1283, '\\'…\"': 1284, '용량': 1285, '쓰게': 1286, '될까': 1287, 'ios': 1288, '앱': 1289, '검토': 1290, 'shop': 1291, \")',\": 1292, '인터넷': 1293, '가입': 1294, '혜택': 1295, '풍': 1296, '성한': 1297, '비교': 1298, '사이트': 1299, '방문자': 1300, '몰려': 1301, '타이틀': 1302, '스폰서': 1303, '포탈': 1304, '웍스': 1305, '전면': 1306, '함께': 1307, '뛴다': 1308, '연간': 1309, '4500만': 1310, 'kwh': 1311, '아낀다': 1312, '디즈니': 1313, '상륙': 1314, '분주': 1315, '황현': 1316, '식': 1317, '개': 1318, '국사': 1319}\n"
          ],
          "name": "stdout"
        }
      ]
    },
    {
      "cell_type": "code",
      "metadata": {
        "id": "-vQkTfhNPlYU"
      },
      "source": [
        "vocab_size = len(tokenizer.word_index) + 1"
      ],
      "execution_count": 56,
      "outputs": []
    },
    {
      "cell_type": "code",
      "metadata": {
        "colab": {
          "base_uri": "https://localhost:8080/",
          "height": 283
        },
        "id": "Y6V2v4HkPqHG",
        "outputId": "ae412542-1aa4-43ea-f438-c6149971a480"
      },
      "source": [
        "plt.hist([len(x) for x in X_train], bins = 50)\n",
        "plt.show()"
      ],
      "execution_count": 57,
      "outputs": [
        {
          "output_type": "stream",
          "text": [
            "findfont: Font family ['NanumBarunGothic'] not found. Falling back to DejaVu Sans.\n"
          ],
          "name": "stderr"
        },
        {
          "output_type": "display_data",
          "data": {
            "image/png": "[encoded data removed]",
            "text/plain": [
              "<Figure size 432x288 with 1 Axes>"
            ]
          },
          "metadata": {
            "tags": [],
            "image/png": {
              "width": 369,
              "height": 248
            },
            "needs_background": "light"
          }
        }
      ]
    },
    {
      "cell_type": "code",
      "metadata": {
        "id": "Utt82806QIOT"
      },
      "source": [
        "max_len = 25\n",
        "X_train = pad_sequences(X_train, maxlen = max_len, padding='post')"
      ],
      "execution_count": 58,
      "outputs": []
    },
    {
      "cell_type": "markdown",
      "metadata": {
        "id": "BGXab8ARQneu"
      },
      "source": [
        "***Label Encoding***"
      ]
    },
    {
      "cell_type": "code",
      "metadata": {
        "colab": {
          "base_uri": "https://localhost:8080/"
        },
        "id": "hvFh8Kk4QiDT",
        "outputId": "ee25d9c1-b9d3-40a0-8362-77c0dadd2e76"
      },
      "source": [
        "idx_encode = preprocessing.LabelEncoder()\n",
        "idx_encode.fit(df_intent['intent'])\n",
        "\n",
        "y_train = idx_encode.transform(df_intent['intent'])\n",
        "\n",
        "label_idx = dict(zip(list(idx_encode.classes_), idx_encode.transform(list(idx_encode.classes_))))\n",
        "print(label_idx)"
      ],
      "execution_count": 59,
      "outputs": [
        {
          "output_type": "stream",
          "text": [
            "{'기타': 0, '매출': 1, '사업확장': 2, '시장전망': 3, '전략': 4, '주식전망': 5, '홍보': 6}\n"
          ],
          "name": "stdout"
        }
      ]
    },
    {
      "cell_type": "code",
      "metadata": {
        "id": "-vj9AzeLQ9uQ"
      },
      "source": [
        "idx_label = {}\n",
        "for key, value in label_idx.items():\n",
        "    idx_label[value] = key"
      ],
      "execution_count": 60,
      "outputs": []
    },
    {
      "cell_type": "code",
      "metadata": {
        "id": "My4sa3MXRDKJ"
      },
      "source": [
        "from tensorflow.keras.layers import Embedding, Dense, LSTM\n",
        "from tensorflow.keras.models import Sequential\n",
        "from tensorflow.keras.models import load_model"
      ],
      "execution_count": 61,
      "outputs": []
    },
    {
      "cell_type": "code",
      "metadata": {
        "colab": {
          "base_uri": "https://localhost:8080/"
        },
        "id": "eZ_5dqhVRFq3",
        "outputId": "87b65c4c-19a7-4fd7-e393-48d525ecc7f2"
      },
      "source": [
        "model = Sequential()\n",
        "model.add(Embedding(vocab_size, 64))\n",
        "model.add(LSTM(256))\n",
        "model.add(Dense(64, activation='relu'))\n",
        "model.add(Dense(len(label_idx), activation='softmax'))"
      ],
      "execution_count": 62,
      "outputs": [
        {
          "output_type": "stream",
          "text": [
            "WARNING:tensorflow:From /usr/local/lib/python3.7/dist-packages/tensorflow/python/keras/initializers.py:119: calling RandomUniform.__init__ (from tensorflow.python.ops.init_ops) with dtype is deprecated and will be removed in a future version.\n",
            "Instructions for updating:\n",
            "Call initializer instance with the dtype argument instead of passing it to the constructor\n",
            "WARNING:tensorflow:From /usr/local/lib/python3.7/dist-packages/tensorflow/python/ops/init_ops.py:1251: calling VarianceScaling.__init__ (from tensorflow.python.ops.init_ops) with dtype is deprecated and will be removed in a future version.\n",
            "Instructions for updating:\n",
            "Call initializer instance with the dtype argument instead of passing it to the constructor\n"
          ],
          "name": "stdout"
        }
      ]
    },
    {
      "cell_type": "code",
      "metadata": {
        "colab": {
          "base_uri": "https://localhost:8080/"
        },
        "id": "mAez8S6_RL1n",
        "outputId": "a33cfe95-f387-4559-f277-2e2ec5fa4b84"
      },
      "source": [
        "model.compile(optimizer='rmsprop', loss='sparse_categorical_crossentropy', metrics=['acc'])\n",
        "model.fit(X_train, y_train, epochs = 100, batch_size = 64)"
      ],
      "execution_count": 63,
      "outputs": [
        {
          "output_type": "stream",
          "text": [
            "WARNING:tensorflow:From /usr/local/lib/python3.7/dist-packages/tensorflow/python/ops/math_grad.py:1250: add_dispatch_support.<locals>.wrapper (from tensorflow.python.ops.array_ops) is deprecated and will be removed in a future version.\n",
            "Instructions for updating:\n",
            "Use tf.where in 2.0, which has the same broadcast rule as np.where\n",
            "Epoch 1/100\n",
            "493/493 [==============================] - 3s 5ms/sample - loss: 1.9717 - acc: 0.2454\n",
            "Epoch 2/100\n",
            "493/493 [==============================] - 0s 871us/sample - loss: 1.7716 - acc: 0.2515\n",
            "Epoch 3/100\n",
            "493/493 [==============================] - 0s 866us/sample - loss: 1.6506 - acc: 0.3245\n",
            "Epoch 4/100\n",
            "493/493 [==============================] - 0s 857us/sample - loss: 1.4152 - acc: 0.4767\n",
            "Epoch 5/100\n",
            "493/493 [==============================] - 0s 854us/sample - loss: 1.3669 - acc: 0.4726\n",
            "Epoch 6/100\n",
            "493/493 [==============================] - 0s 833us/sample - loss: 1.2815 - acc: 0.5091\n",
            "Epoch 7/100\n",
            "493/493 [==============================] - 0s 852us/sample - loss: 1.1665 - acc: 0.5497\n",
            "Epoch 8/100\n",
            "493/493 [==============================] - 0s 855us/sample - loss: 1.0094 - acc: 0.6288\n",
            "Epoch 9/100\n",
            "493/493 [==============================] - 0s 873us/sample - loss: 1.0186 - acc: 0.5740\n",
            "Epoch 10/100\n",
            "493/493 [==============================] - 0s 850us/sample - loss: 0.8762 - acc: 0.6450\n",
            "Epoch 11/100\n",
            "493/493 [==============================] - 0s 843us/sample - loss: 0.8152 - acc: 0.6937\n",
            "Epoch 12/100\n",
            "493/493 [==============================] - 0s 830us/sample - loss: 0.8671 - acc: 0.6613\n",
            "Epoch 13/100\n",
            "493/493 [==============================] - 0s 829us/sample - loss: 0.9331 - acc: 0.6836\n",
            "Epoch 14/100\n",
            "493/493 [==============================] - 0s 829us/sample - loss: 0.6682 - acc: 0.7525\n",
            "Epoch 15/100\n",
            "493/493 [==============================] - 0s 826us/sample - loss: 0.7446 - acc: 0.6978\n",
            "Epoch 16/100\n",
            "493/493 [==============================] - 0s 832us/sample - loss: 0.4860 - acc: 0.8316\n",
            "Epoch 17/100\n",
            "493/493 [==============================] - 0s 856us/sample - loss: 0.8036 - acc: 0.7262\n",
            "Epoch 18/100\n",
            "493/493 [==============================] - 0s 814us/sample - loss: 0.4407 - acc: 0.8377\n",
            "Epoch 19/100\n",
            "493/493 [==============================] - 0s 813us/sample - loss: 0.6285 - acc: 0.7647\n",
            "Epoch 20/100\n",
            "493/493 [==============================] - 0s 824us/sample - loss: 0.3083 - acc: 0.8966\n",
            "Epoch 21/100\n",
            "493/493 [==============================] - 0s 847us/sample - loss: 0.7068 - acc: 0.7728\n",
            "Epoch 22/100\n",
            "493/493 [==============================] - 0s 829us/sample - loss: 0.3282 - acc: 0.8966\n",
            "Epoch 23/100\n",
            "493/493 [==============================] - 0s 842us/sample - loss: 0.3929 - acc: 0.8661\n",
            "Epoch 24/100\n",
            "493/493 [==============================] - 0s 820us/sample - loss: 0.4036 - acc: 0.8641\n",
            "Epoch 25/100\n",
            "493/493 [==============================] - 0s 860us/sample - loss: 0.4921 - acc: 0.8499\n",
            "Epoch 26/100\n",
            "493/493 [==============================] - 0s 832us/sample - loss: 0.2369 - acc: 0.9351\n",
            "Epoch 27/100\n",
            "493/493 [==============================] - 0s 800us/sample - loss: 0.5409 - acc: 0.8235\n",
            "Epoch 28/100\n",
            "493/493 [==============================] - 0s 803us/sample - loss: 0.2337 - acc: 0.9351\n",
            "Epoch 29/100\n",
            "493/493 [==============================] - 0s 802us/sample - loss: 0.1863 - acc: 0.9473\n",
            "Epoch 30/100\n",
            "493/493 [==============================] - 0s 808us/sample - loss: 0.2696 - acc: 0.9108\n",
            "Epoch 31/100\n",
            "493/493 [==============================] - 0s 831us/sample - loss: 0.4138 - acc: 0.8925\n",
            "Epoch 32/100\n",
            "493/493 [==============================] - 0s 810us/sample - loss: 0.1760 - acc: 0.9533\n",
            "Epoch 33/100\n",
            "493/493 [==============================] - 0s 835us/sample - loss: 0.5235 - acc: 0.8296\n",
            "Epoch 34/100\n",
            "493/493 [==============================] - 0s 817us/sample - loss: 0.1556 - acc: 0.9635\n",
            "Epoch 35/100\n",
            "493/493 [==============================] - 0s 832us/sample - loss: 0.1939 - acc: 0.9493\n",
            "Epoch 36/100\n",
            "493/493 [==============================] - 0s 801us/sample - loss: 0.8123 - acc: 0.8519\n",
            "Epoch 37/100\n",
            "493/493 [==============================] - 0s 793us/sample - loss: 0.1135 - acc: 0.9736\n",
            "Epoch 38/100\n",
            "493/493 [==============================] - 0s 839us/sample - loss: 0.1447 - acc: 0.9493\n",
            "Epoch 39/100\n",
            "493/493 [==============================] - 0s 808us/sample - loss: 0.5169 - acc: 0.8519\n",
            "Epoch 40/100\n",
            "493/493 [==============================] - 0s 853us/sample - loss: 0.1091 - acc: 0.9675\n",
            "Epoch 41/100\n",
            "493/493 [==============================] - 0s 806us/sample - loss: 0.0901 - acc: 0.9757\n",
            "Epoch 42/100\n",
            "493/493 [==============================] - 0s 806us/sample - loss: 0.1216 - acc: 0.9696\n",
            "Epoch 43/100\n",
            "493/493 [==============================] - 0s 810us/sample - loss: 0.3647 - acc: 0.8884\n",
            "Epoch 44/100\n",
            "493/493 [==============================] - 0s 892us/sample - loss: 0.1050 - acc: 0.9696\n",
            "Epoch 45/100\n",
            "493/493 [==============================] - 0s 838us/sample - loss: 0.1127 - acc: 0.9655\n",
            "Epoch 46/100\n",
            "493/493 [==============================] - 0s 806us/sample - loss: 0.1142 - acc: 0.9655\n",
            "Epoch 47/100\n",
            "493/493 [==============================] - 0s 839us/sample - loss: 0.4993 - acc: 0.8641\n",
            "Epoch 48/100\n",
            "493/493 [==============================] - 0s 878us/sample - loss: 0.1111 - acc: 0.9635\n",
            "Epoch 49/100\n",
            "493/493 [==============================] - 0s 823us/sample - loss: 0.0655 - acc: 0.9838\n",
            "Epoch 50/100\n",
            "493/493 [==============================] - 0s 822us/sample - loss: 0.1549 - acc: 0.9513\n",
            "Epoch 51/100\n",
            "493/493 [==============================] - 0s 837us/sample - loss: 0.3251 - acc: 0.9087\n",
            "Epoch 52/100\n",
            "493/493 [==============================] - 0s 861us/sample - loss: 0.1087 - acc: 0.9635\n",
            "Epoch 53/100\n",
            "493/493 [==============================] - 0s 840us/sample - loss: 0.1186 - acc: 0.9696\n",
            "Epoch 54/100\n",
            "493/493 [==============================] - 0s 809us/sample - loss: 0.0771 - acc: 0.9797\n",
            "Epoch 55/100\n",
            "493/493 [==============================] - 0s 857us/sample - loss: 0.0620 - acc: 0.9777\n",
            "Epoch 56/100\n",
            "493/493 [==============================] - 0s 869us/sample - loss: 0.1799 - acc: 0.9493\n",
            "Epoch 57/100\n",
            "493/493 [==============================] - 0s 834us/sample - loss: 0.1755 - acc: 0.9371\n",
            "Epoch 58/100\n",
            "493/493 [==============================] - 0s 839us/sample - loss: 0.2509 - acc: 0.9331\n",
            "Epoch 59/100\n",
            "493/493 [==============================] - 0s 832us/sample - loss: 0.0554 - acc: 0.9858\n",
            "Epoch 60/100\n",
            "493/493 [==============================] - 0s 866us/sample - loss: 0.0562 - acc: 0.9838\n",
            "Epoch 61/100\n",
            "493/493 [==============================] - 0s 818us/sample - loss: 0.5106 - acc: 0.9087\n",
            "Epoch 62/100\n",
            "493/493 [==============================] - 0s 889us/sample - loss: 0.0655 - acc: 0.9858\n",
            "Epoch 63/100\n",
            "493/493 [==============================] - 0s 840us/sample - loss: 0.1032 - acc: 0.9757\n",
            "Epoch 64/100\n",
            "493/493 [==============================] - 0s 834us/sample - loss: 0.0926 - acc: 0.9757\n",
            "Epoch 65/100\n",
            "493/493 [==============================] - 0s 853us/sample - loss: 0.0661 - acc: 0.9797\n",
            "Epoch 66/100\n",
            "493/493 [==============================] - 0s 856us/sample - loss: 0.0379 - acc: 0.9858\n",
            "Epoch 67/100\n",
            "493/493 [==============================] - 0s 879us/sample - loss: 0.0501 - acc: 0.9858\n",
            "Epoch 68/100\n",
            "493/493 [==============================] - 0s 839us/sample - loss: 0.4163 - acc: 0.8621\n",
            "Epoch 69/100\n",
            "493/493 [==============================] - 0s 851us/sample - loss: 0.0539 - acc: 0.9899\n",
            "Epoch 70/100\n",
            "493/493 [==============================] - 0s 829us/sample - loss: 0.0327 - acc: 0.9899\n",
            "Epoch 71/100\n",
            "493/493 [==============================] - 0s 828us/sample - loss: 0.0361 - acc: 0.9878\n",
            "Epoch 72/100\n",
            "493/493 [==============================] - 0s 859us/sample - loss: 0.2207 - acc: 0.9391\n",
            "Epoch 73/100\n",
            "493/493 [==============================] - 0s 851us/sample - loss: 0.0903 - acc: 0.9716\n",
            "Epoch 74/100\n",
            "493/493 [==============================] - 0s 833us/sample - loss: 0.0542 - acc: 0.9838\n",
            "Epoch 75/100\n",
            "493/493 [==============================] - 0s 804us/sample - loss: 0.0489 - acc: 0.9858\n",
            "Epoch 76/100\n",
            "493/493 [==============================] - 0s 818us/sample - loss: 0.1744 - acc: 0.9412\n",
            "Epoch 77/100\n",
            "493/493 [==============================] - 0s 846us/sample - loss: 0.0548 - acc: 0.9838\n",
            "Epoch 78/100\n",
            "493/493 [==============================] - 0s 888us/sample - loss: 0.0399 - acc: 0.9858\n",
            "Epoch 79/100\n",
            "493/493 [==============================] - 0s 885us/sample - loss: 0.0280 - acc: 0.9939\n",
            "Epoch 80/100\n",
            "493/493 [==============================] - 0s 839us/sample - loss: 0.0241 - acc: 0.9919\n",
            "Epoch 81/100\n",
            "493/493 [==============================] - 0s 848us/sample - loss: 0.1896 - acc: 0.9391\n",
            "Epoch 82/100\n",
            "493/493 [==============================] - 0s 835us/sample - loss: 0.0217 - acc: 0.9919\n",
            "Epoch 83/100\n",
            "493/493 [==============================] - 0s 835us/sample - loss: 0.0457 - acc: 0.9838\n",
            "Epoch 84/100\n",
            "493/493 [==============================] - 0s 866us/sample - loss: 0.0216 - acc: 0.9919\n",
            "Epoch 85/100\n",
            "493/493 [==============================] - 0s 828us/sample - loss: 0.2654 - acc: 0.9168\n",
            "Epoch 86/100\n",
            "493/493 [==============================] - 0s 847us/sample - loss: 0.0592 - acc: 0.9878\n",
            "Epoch 87/100\n",
            "493/493 [==============================] - 0s 846us/sample - loss: 0.0220 - acc: 0.9939\n",
            "Epoch 88/100\n",
            "493/493 [==============================] - 0s 866us/sample - loss: 0.0194 - acc: 0.9899\n",
            "Epoch 89/100\n",
            "493/493 [==============================] - 0s 850us/sample - loss: 0.0156 - acc: 0.9980\n",
            "Epoch 90/100\n",
            "493/493 [==============================] - 0s 849us/sample - loss: 0.0279 - acc: 0.9959\n",
            "Epoch 91/100\n",
            "493/493 [==============================] - 0s 859us/sample - loss: 0.2256 - acc: 0.9270\n",
            "Epoch 92/100\n",
            "493/493 [==============================] - 0s 875us/sample - loss: 0.0199 - acc: 0.9959\n",
            "Epoch 93/100\n",
            "493/493 [==============================] - 0s 811us/sample - loss: 0.0157 - acc: 0.9959\n",
            "Epoch 94/100\n",
            "493/493 [==============================] - 0s 839us/sample - loss: 0.1339 - acc: 0.9736\n",
            "Epoch 95/100\n",
            "493/493 [==============================] - 0s 860us/sample - loss: 0.0166 - acc: 0.9959\n",
            "Epoch 96/100\n",
            "493/493 [==============================] - 0s 843us/sample - loss: 0.0131 - acc: 0.9959\n",
            "Epoch 97/100\n",
            "493/493 [==============================] - 0s 852us/sample - loss: 0.0132 - acc: 0.9959\n",
            "Epoch 98/100\n",
            "493/493 [==============================] - 0s 860us/sample - loss: 0.0101 - acc: 0.9980\n",
            "Epoch 99/100\n",
            "493/493 [==============================] - 0s 805us/sample - loss: 0.3480 - acc: 0.9168\n",
            "Epoch 100/100\n",
            "493/493 [==============================] - 0s 852us/sample - loss: 0.0490 - acc: 0.9878\n"
          ],
          "name": "stdout"
        },
        {
          "output_type": "execute_result",
          "data": {
            "text/plain": [
              "<tensorflow.python.keras.callbacks.History at 0x7f5740f0bf90>"
            ]
          },
          "metadata": {
            "tags": []
          },
          "execution_count": 63
        }
      ]
    },
    {
      "cell_type": "code",
      "metadata": {
        "id": "I2mLxpv8Rk26"
      },
      "source": [
        "def article_processing(sentences):\n",
        "    inputs = []\n",
        "    for sentence in sentences:\n",
        "        sentence = okt.morphs(sentence) \n",
        "        encoded = tokenizer.texts_to_sequences([sentence])\n",
        "        inputs.append(encoded[0])\n",
        "    padded_inputs = pad_sequences(inputs, maxlen=max_len, padding='post')\n",
        "    return padded_inputs"
      ],
      "execution_count": 64,
      "outputs": []
    },
    {
      "cell_type": "code",
      "metadata": {
        "id": "qnufUxnRRSMW"
      },
      "source": [
        "search_word = '현대통신'\n",
        "results = get_news(search_word, 10)\n",
        "\n",
        "input_sentence = article_processing(results['Title'].tolist())"
      ],
      "execution_count": 65,
      "outputs": []
    },
    {
      "cell_type": "code",
      "metadata": {
        "colab": {
          "base_uri": "https://localhost:8080/",
          "height": 204
        },
        "id": "cpNI7OEZU2p7",
        "outputId": "ec1529d7-77d4-45e7-93d1-5f85e56ddacc"
      },
      "source": [
        "results.tail()"
      ],
      "execution_count": 66,
      "outputs": [
        {
          "output_type": "execute_result",
          "data": {
            "text/html": [
              "<div>\n",
              "<style scoped>\n",
              "    .dataframe tbody tr th:only-of-type {\n",
              "        vertical-align: middle;\n",
              "    }\n",
              "\n",
              "    .dataframe tbody tr th {\n",
              "        vertical-align: top;\n",
              "    }\n",
              "\n",
              "    .dataframe thead th {\n",
              "        text-align: right;\n",
              "    }\n",
              "</style>\n",
              "<table border=\"1\" class=\"dataframe\">\n",
              "  <thead>\n",
              "    <tr style=\"text-align: right;\">\n",
              "      <th></th>\n",
              "      <th>Title</th>\n",
              "      <th>Adress</th>\n",
              "    </tr>\n",
              "  </thead>\n",
              "  <tbody>\n",
              "    <tr>\n",
              "      <th>95</th>\n",
              "      <td>현대통신, 20억 규모 자사주 취득 신탁계약 체결</td>\n",
              "      <td>http://www.heraldbiz.com/</td>\n",
              "    </tr>\n",
              "    <tr>\n",
              "      <th>96</th>\n",
              "      <td>투자주식 현대통신 주가 8일 현재 9400원</td>\n",
              "      <td>http://nbntv.co.kr/news/view/461720</td>\n",
              "    </tr>\n",
              "    <tr>\n",
              "      <th>97</th>\n",
              "      <td>4월 3일 현대통신 증권주식 0.00% 10350원</td>\n",
              "      <td>http://www.nbntv.co.kr/news/articleView.html?i...</td>\n",
              "    </tr>\n",
              "    <tr>\n",
              "      <th>98</th>\n",
              "      <td>공정위, 아파트 마감재 입찰 담합 칼슨·현대통신·은광사 제재</td>\n",
              "      <td>http://www.koscaj.com</td>\n",
              "    </tr>\n",
              "    <tr>\n",
              "      <th>99</th>\n",
              "      <td>주가차트 현대통신 주가 5일 현재 9730원</td>\n",
              "      <td>http://nbntv.co.kr/news/view/457368</td>\n",
              "    </tr>\n",
              "  </tbody>\n",
              "</table>\n",
              "</div>"
            ],
            "text/plain": [
              "                                Title                                             Adress\n",
              "95        현대통신, 20억 규모 자사주 취득 신탁계약 체결                          http://www.heraldbiz.com/\n",
              "96           투자주식 현대통신 주가 8일 현재 9400원                http://nbntv.co.kr/news/view/461720\n",
              "97       4월 3일 현대통신 증권주식 0.00% 10350원  http://www.nbntv.co.kr/news/articleView.html?i...\n",
              "98  공정위, 아파트 마감재 입찰 담합 칼슨·현대통신·은광사 제재                              http://www.koscaj.com\n",
              "99           주가차트 현대통신 주가 5일 현재 9730원                http://nbntv.co.kr/news/view/457368"
            ]
          },
          "metadata": {
            "tags": []
          },
          "execution_count": 66
        }
      ]
    },
    {
      "cell_type": "code",
      "metadata": {
        "colab": {
          "base_uri": "https://localhost:8080/"
        },
        "id": "Me4Lw0IuSnEu",
        "outputId": "268e8914-8b76-4a63-a88b-f29d1a145607"
      },
      "source": [
        "prediction = np.argmax(model.predict(input_sentence), axis=1)\n",
        "print(prediction)"
      ],
      "execution_count": 67,
      "outputs": [
        {
          "output_type": "stream",
          "text": [
            "[6 6 6 5 3 5 5 3 5 5 5 3 5 5 5 5 5 5 5 5 2 5 5 6 5 5 5 3 0 0 6 4 5 5 5 5 5\n",
            " 5 5 5 0 0 5 5 5 5 5 5 5 5 5 5 5 5 5 0 5 5 5 5 5 5 6 5 5 5 3 5 5 5 5 0 5 5\n",
            " 5 5 5 5 5 5 5 5 5 5 5 0 5 5 5 5 5 5 5 5 5 4 5 5 3 5]\n"
          ],
          "name": "stdout"
        }
      ]
    },
    {
      "cell_type": "code",
      "metadata": {
        "id": "D8udTwKXTtTb"
      },
      "source": [
        "prediction_results = []\n",
        "for p in prediction:\n",
        "  prediction_results.append(idx_label[p])"
      ],
      "execution_count": 68,
      "outputs": []
    },
    {
      "cell_type": "code",
      "metadata": {
        "id": "iWqLWUSmT_WM"
      },
      "source": [
        "from collections import Counter\n",
        "class_rs = Counter(prediction_results)"
      ],
      "execution_count": 69,
      "outputs": []
    },
    {
      "cell_type": "code",
      "metadata": {
        "colab": {
          "base_uri": "https://localhost:8080/"
        },
        "id": "voJiD8qlUjNy",
        "outputId": "be2ce213-5c35-496a-9ce8-5905999380d5"
      },
      "source": [
        "class_rs.most_common(1)"
      ],
      "execution_count": 70,
      "outputs": [
        {
          "output_type": "execute_result",
          "data": {
            "text/plain": [
              "[('주식전망', 78)]"
            ]
          },
          "metadata": {
            "tags": []
          },
          "execution_count": 70
        }
      ]
    },
    {
      "cell_type": "code",
      "metadata": {
        "colab": {
          "base_uri": "https://localhost:8080/"
        },
        "id": "WyaWecI3XPNY",
        "outputId": "f18fb81b-ccc8-4976-adc2-d6a0358c53ef"
      },
      "source": [
        "idx_num = np.where(pd.DataFrame(prediction_results).iloc[:,0] == str(class_rs.most_common(1)[0][0]))[0].min()\n",
        "issue = class_rs.most_common(1)[0][0]\n",
        "recent_topic = results.iloc[idx_num,0]\n",
        "recent_link = results.iloc[idx_num,1]\n",
        "\n",
        "print(f'{search_word}에 대해 꼭 알아두셔야 할 핫이슈 키워드는 V{issue} 이고,') \n",
        "print(f'해당 이슈의 가장 최근 뉴스 \"{recent_topic}\"에대한 세부기사는 여기 -> {recent_link} 에서 확인할 수 있어요.')\n",
        "print('.')\n",
        "print('=' * 50)\n",
        "print('최근 4년 간의 재무재표도 확인해보세요!')\n",
        "print('=' * 50)\n",
        "print('.')\n",
        "print(crawling_financial_statement(search_word))"
      ],
      "execution_count": 94,
      "outputs": [
        {
          "output_type": "stream",
          "text": [
            "현대통신에 대해 꼭 알아두셔야 할 핫이슈 키워드는 V주식전망 이고,\n",
            "해당 이슈의 가장 최근 뉴스 \"[배당뉴스] 현대통신, 주당 350원 배당...시가배당률 4.3%\"에대한 세부기사는 여기 -> http://www.itooza.com/common/iview.php?no=2021031211082445208 에서 확인할 수 있어요.\n",
            ".\n",
            "==================================================\n",
            "최근 4년 간의 재무재표도 확인해보세요!\n",
            "==================================================\n",
            ".\n",
            "            2018.12   2019.12   2020.12 2021.12(E)\n",
            "매출액           1,273     1,046     1,037           \n",
            "영업이익            201       105        86           \n",
            "당기순이익           170       107        91           \n",
            "영업이익률         15.78     10.04      8.32           \n",
            "순이익률          13.39     10.20      8.81           \n",
            "ROE(지배주주)     25.22     13.60     10.89           \n",
            "부채비율          47.86     33.92     25.62           \n",
            "당좌비율         146.69    178.32    171.73           \n",
            "유보율        1,672.26  1,852.01  2,014.14           \n",
            "EPS(원)        1,977     1,236     1,059           \n",
            "PER(배)         5.46      6.49      7.67           \n",
            "BPS(원)        8,719     9,685    10,736           \n",
            "PBR(배)         1.24      0.83      0.76           \n",
            "주당배당금(원)        300       300       350           \n",
            "시가배당률(%)       2.78      3.74      4.31           \n",
            "배당성향(%)       15.18     23.70     30.76           \n"
          ],
          "name": "stdout"
        }
      ]
    }
  ]
}