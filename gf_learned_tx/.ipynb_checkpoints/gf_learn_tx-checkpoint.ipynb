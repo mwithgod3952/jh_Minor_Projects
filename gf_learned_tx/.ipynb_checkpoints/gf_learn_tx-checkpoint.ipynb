{
 "cells": [
  {
   "cell_type": "code",
   "execution_count": 39,
   "metadata": {},
   "outputs": [],
   "source": [
    "lt = fl_gf_dt_cp.index.tolist()"
   ]
  },
  {
   "cell_type": "code",
   "execution_count": 41,
   "metadata": {},
   "outputs": [
    {
     "data": {
      "text/plain": [
       "index\n",
       "0       ['큐어31 (CURE31)', '큐어31 (CURE31)', '큐어31 (CURE...\n",
       "1       ['오가니아 (organia)', '화이트코스팜 (Whitecospharm)', '...\n",
       "2       ['갸마르드 (GAMARDE)', '갸마르드 (GAMARDE)', '갸마르드 (GA...\n",
       "3       ['스팀베이스 (STEAMBASE)', '스팀베이스 (STEAMBASE)', '스팀...\n",
       "4       ['엘라스틴 (ELASTINE)', '엘라스틴 (ELASTINE)', '엘라스틴 (...\n",
       "                              ...                        \n",
       "1689    ['라끌랑 (LAQLANC)', '라끌랑 (LAQLANC)', '라끌랑 (LAQLA...\n",
       "1690    ['시크릿키 (secret Key)', '시크릿키 (secret Key)', '시크...\n",
       "1691    ['이슬품은나', '이슬품은나', '이슬품은나', '이슬품은나', '이슬품은나', ...\n",
       "1692    ['엘리자베스아덴 (Elizabeth Arden)', '롭스 (LOHBS)', '롭...\n",
       "1693    ['데이리쎄 (DAYLISSE)', '데이리쎄 (DAYLISSE)', '데이리쎄 (...\n",
       "Name: brand, Length: 1694, dtype: object"
      ]
     },
     "execution_count": 41,
     "metadata": {},
     "output_type": "execute_result"
    }
   ],
   "source": [
    "fl_gf_dt_cp.brand[ls[idx]]"
   ]
  },
  {
   "cell_type": "code",
   "execution_count": 52,
   "metadata": {},
   "outputs": [
    {
     "data": {
      "text/plain": [
       "'오가니아 (organia)'"
      ]
     },
     "execution_count": 52,
     "metadata": {},
     "output_type": "execute_result"
    }
   ],
   "source": [
    "eval(fl_gf_dt_cp.brand[lt[1]])[0]"
   ]
  },
  {
   "cell_type": "code",
   "execution_count": 54,
   "metadata": {},
   "outputs": [
    {
     "data": {
      "text/plain": [
       "'큐어31'"
      ]
     },
     "execution_count": 54,
     "metadata": {},
     "output_type": "execute_result"
    }
   ],
   "source": [
    "r[0]"
   ]
  },
  {
   "cell_type": "code",
   "execution_count": 51,
   "metadata": {},
   "outputs": [
    {
     "name": "stdout",
     "output_type": "stream",
     "text": [
      "False\n",
      "False\n",
      "False\n",
      "False\n",
      "False\n",
      "False\n",
      "False\n",
      "False\n",
      "False\n",
      "False\n",
      "False\n",
      "False\n",
      "False\n",
      "False\n",
      "False\n",
      "False\n",
      "False\n",
      "False\n",
      "False\n",
      "False\n",
      "False\n",
      "False\n",
      "False\n",
      "False\n",
      "False\n",
      "False\n",
      "False\n",
      "False\n",
      "False\n",
      "False\n",
      "False\n",
      "False\n",
      "False\n",
      "False\n",
      "False\n",
      "False\n",
      "False\n",
      "False\n",
      "False\n",
      "False\n",
      "False\n",
      "False\n",
      "False\n",
      "False\n",
      "False\n",
      "False\n",
      "False\n",
      "False\n",
      "False\n",
      "False\n",
      "False\n",
      "False\n"
     ]
    },
    {
     "ename": "IndexError",
     "evalue": "list index out of range",
     "output_type": "error",
     "traceback": [
      "\u001b[1;31m---------------------------------------------------------------------------\u001b[0m",
      "\u001b[1;31mIndexError\u001b[0m                                Traceback (most recent call last)",
      "\u001b[1;32m~\\AppData\\Local\\Temp/ipykernel_9564/2802535598.py\u001b[0m in \u001b[0;36m<module>\u001b[1;34m\u001b[0m\n\u001b[0;32m      2\u001b[0m \u001b[0midx\u001b[0m \u001b[1;33m=\u001b[0m \u001b[1;36m0\u001b[0m\u001b[1;33m\u001b[0m\u001b[1;33m\u001b[0m\u001b[0m\n\u001b[0;32m      3\u001b[0m \u001b[1;32mfor\u001b[0m \u001b[0mname\u001b[0m \u001b[1;32min\u001b[0m \u001b[0mr\u001b[0m\u001b[1;33m:\u001b[0m\u001b[1;33m\u001b[0m\u001b[1;33m\u001b[0m\u001b[0m\n\u001b[1;32m----> 4\u001b[1;33m     \u001b[0mprint\u001b[0m\u001b[1;33m(\u001b[0m\u001b[0mname\u001b[0m \u001b[1;33m==\u001b[0m \u001b[0meval\u001b[0m\u001b[1;33m(\u001b[0m\u001b[0mfl_gf_dt_cp\u001b[0m\u001b[1;33m.\u001b[0m\u001b[0mbrand\u001b[0m\u001b[1;33m[\u001b[0m\u001b[0mlt\u001b[0m\u001b[1;33m[\u001b[0m\u001b[0midx\u001b[0m\u001b[1;33m]\u001b[0m\u001b[1;33m]\u001b[0m\u001b[1;33m)\u001b[0m\u001b[1;33m[\u001b[0m\u001b[1;36m0\u001b[0m\u001b[1;33m]\u001b[0m\u001b[1;33m)\u001b[0m\u001b[1;33m\u001b[0m\u001b[1;33m\u001b[0m\u001b[0m\n\u001b[0m\u001b[0;32m      5\u001b[0m \u001b[1;33m\u001b[0m\u001b[0m\n\u001b[0;32m      6\u001b[0m     \u001b[0midx\u001b[0m \u001b[1;33m+=\u001b[0m \u001b[1;36m1\u001b[0m\u001b[1;33m\u001b[0m\u001b[1;33m\u001b[0m\u001b[0m\n",
      "\u001b[1;31mIndexError\u001b[0m: list index out of range"
     ]
    }
   ],
   "source": [
    "r = [brd_lst_w_ind[x] for x in lt] \n",
    "idx = 0\n",
    "for name in r:\n",
    "    print(name in eval(fl_gf_dt_cp.brand[lt[idx]])[0])\n",
    "    \n",
    "    idx += 1"
   ]
  },
  {
   "cell_type": "code",
   "execution_count": null,
   "metadata": {},
   "outputs": [],
   "source": []
  },
  {
   "cell_type": "code",
   "execution_count": 27,
   "metadata": {},
   "outputs": [],
   "source": [
    "import os\n",
    "from tqdm.notebook import tqdm\n",
    "import pickle\n",
    "\n",
    "import collections\n",
    "import pandas as pd\n",
    "import numpy as np\n",
    "\n",
    "from sklearn.feature_extraction.text import TfidfVectorizer, CountVectorizer\n",
    "from sklearn.metrics.pairwise import cosine_similarity\n",
    "from sklearn.feature_extraction import text\n",
    "\n",
    "import warnings\n",
    "warnings.filterwarnings('ignore')"
   ]
  },
  {
   "cell_type": "markdown",
   "metadata": {},
   "source": [
    "***- 유사도 분석을 목적으로 비교군 데이터 로딩***"
   ]
  },
  {
   "cell_type": "code",
   "execution_count": 4,
   "metadata": {},
   "outputs": [],
   "source": [
    "main_dir = os.getcwd()\n",
    "df_lst = []\n",
    "for fn in os.listdir(os.getcwd()):\n",
    "    if fn.split('_')[0] == 'gf' or fn.split('_')[0] == 'raw':\n",
    "        if fn.split('.')[-1] != 'ipynb':\n",
    "            df = pd.read_csv(main_dir + '/' + fn)\n",
    "            df_lst.append(df)"
   ]
  },
  {
   "cell_type": "code",
   "execution_count": 5,
   "metadata": {},
   "outputs": [
    {
     "data": {
      "text/html": [
       "<div>\n",
       "<style scoped>\n",
       "    .dataframe tbody tr th:only-of-type {\n",
       "        vertical-align: middle;\n",
       "    }\n",
       "\n",
       "    .dataframe tbody tr th {\n",
       "        vertical-align: top;\n",
       "    }\n",
       "\n",
       "    .dataframe thead th {\n",
       "        text-align: right;\n",
       "    }\n",
       "</style>\n",
       "<table border=\"1\" class=\"dataframe\">\n",
       "  <thead>\n",
       "    <tr style=\"text-align: right;\">\n",
       "      <th></th>\n",
       "      <th>stuff_name</th>\n",
       "      <th>brand</th>\n",
       "    </tr>\n",
       "    <tr>\n",
       "      <th>index</th>\n",
       "      <th></th>\n",
       "      <th></th>\n",
       "    </tr>\n",
       "  </thead>\n",
       "  <tbody>\n",
       "    <tr>\n",
       "      <th>1693</th>\n",
       "      <td>[' 광채 볼륨피린 크림', ' 광채 볼륨피린 앰플', ' 로얄폴리스 나이트 앰플'...</td>\n",
       "      <td>['데이리쎄 (DAYLISSE)', '데이리쎄 (DAYLISSE)', '데이리쎄 (...</td>\n",
       "    </tr>\n",
       "  </tbody>\n",
       "</table>\n",
       "</div>"
      ],
      "text/plain": [
       "                                              stuff_name  \\\n",
       "index                                                      \n",
       "1693   [' 광채 볼륨피린 크림', ' 광채 볼륨피린 앰플', ' 로얄폴리스 나이트 앰플'...   \n",
       "\n",
       "                                                   brand  \n",
       "index                                                     \n",
       "1693   ['데이리쎄 (DAYLISSE)', '데이리쎄 (DAYLISSE)', '데이리쎄 (...  "
      ]
     },
     "execution_count": 5,
     "metadata": {},
     "output_type": "execute_result"
    }
   ],
   "source": [
    "fl_gf_dt_cp = pd.concat(df_lst)\n",
    "fl_gf_dt_cp = fl_gf_dt_cp.set_index('index').sort_index()\n",
    "fl_gf_dt_cp.tail(1)"
   ]
  },
  {
   "cell_type": "code",
   "execution_count": 6,
   "metadata": {},
   "outputs": [
    {
     "data": {
      "text/html": [
       "<div>\n",
       "<style scoped>\n",
       "    .dataframe tbody tr th:only-of-type {\n",
       "        vertical-align: middle;\n",
       "    }\n",
       "\n",
       "    .dataframe tbody tr th {\n",
       "        vertical-align: top;\n",
       "    }\n",
       "\n",
       "    .dataframe thead th {\n",
       "        text-align: right;\n",
       "    }\n",
       "</style>\n",
       "<table border=\"1\" class=\"dataframe\">\n",
       "  <thead>\n",
       "    <tr style=\"text-align: right;\">\n",
       "      <th></th>\n",
       "      <th>title</th>\n",
       "      <th>link</th>\n",
       "      <th>상품번호</th>\n",
       "      <th>상품상태</th>\n",
       "      <th>브랜드</th>\n",
       "      <th>모델명</th>\n",
       "      <th>이벤트</th>\n",
       "      <th>사은품</th>\n",
       "      <th>원산지</th>\n",
       "      <th>사용부위</th>\n",
       "      <th>...</th>\n",
       "      <th>측정내용</th>\n",
       "      <th>풍량조절</th>\n",
       "      <th>온도조절방식</th>\n",
       "      <th>발생성분</th>\n",
       "      <th>원료</th>\n",
       "      <th>착용형태</th>\n",
       "      <th>구성</th>\n",
       "      <th>히터</th>\n",
       "      <th>온도표시</th>\n",
       "      <th>타이머</th>\n",
       "    </tr>\n",
       "  </thead>\n",
       "  <tbody>\n",
       "    <tr>\n",
       "      <th>32464</th>\n",
       "      <td>스칼프메드 레드캡슐바이옴 두피케어 2종세트 (샴푸 400mlx2 + 트리트먼트 40...</td>\n",
       "      <td>https://shopping.naver.com/beauty/stores/10121...</td>\n",
       "      <td>5.629379e+09</td>\n",
       "      <td>신상품</td>\n",
       "      <td>스칼프메드</td>\n",
       "      <td>레드캡슐바이옴</td>\n",
       "      <td>NaN</td>\n",
       "      <td>NaN</td>\n",
       "      <td>국산(세종특별자치시)</td>\n",
       "      <td>NaN</td>\n",
       "      <td>...</td>\n",
       "      <td>NaN</td>\n",
       "      <td>NaN</td>\n",
       "      <td>NaN</td>\n",
       "      <td>NaN</td>\n",
       "      <td>NaN</td>\n",
       "      <td>NaN</td>\n",
       "      <td>NaN</td>\n",
       "      <td>NaN</td>\n",
       "      <td>NaN</td>\n",
       "      <td>NaN</td>\n",
       "    </tr>\n",
       "  </tbody>\n",
       "</table>\n",
       "<p>1 rows × 102 columns</p>\n",
       "</div>"
      ],
      "text/plain": [
       "                                                   title  \\\n",
       "32464  스칼프메드 레드캡슐바이옴 두피케어 2종세트 (샴푸 400mlx2 + 트리트먼트 40...   \n",
       "\n",
       "                                                    link          상품번호 상품상태  \\\n",
       "32464  https://shopping.naver.com/beauty/stores/10121...  5.629379e+09  신상품   \n",
       "\n",
       "         브랜드      모델명  이벤트  사은품          원산지 사용부위  ... 측정내용 풍량조절 온도조절방식 발생성분  \\\n",
       "32464  스칼프메드  레드캡슐바이옴  NaN  NaN  국산(세종특별자치시)  NaN  ...  NaN  NaN    NaN  NaN   \n",
       "\n",
       "        원료 착용형태   구성   히터 온도표시  타이머  \n",
       "32464  NaN  NaN  NaN  NaN  NaN  NaN  \n",
       "\n",
       "[1 rows x 102 columns]"
      ]
     },
     "execution_count": 6,
     "metadata": {},
     "output_type": "execute_result"
    }
   ],
   "source": [
    "fl_nv_dt_or = pd.read_csv([x for x in os.listdir() if x[:7] =='final_p'][0])\n",
    "fl_nv_dt_or_cp_V = fl_nv_dt_or.copy()\n",
    "fl_nv_dt_or.tail(1)"
   ]
  },
  {
   "cell_type": "markdown",
   "metadata": {},
   "source": [
    "<span style=\"color:blue\">*- 기존 'fl_nv_dt_or'의 경우 네이버 뷰티윈도의 상품 카테고리 분류에 기준하여 상품리스트를 모두 스크래핑한 산출물, 상품 타이틀 내 오타, 약어, 등이 포함됨상품 타이틀 내 오타, 약어, 등이 포함되어 있음을 확인하였고 이를 통해 다양한 판매처가 유통한 동일 상품 중 특정 추천기준에 의해 노출된 상품일 가능성이 높음을 유추, 따라서 올바른 브랜드 정보를 확립하기 위해 오류 정보 패턴을 파학 및 'fl_nv_dt_or'의 브랜드 정보를 대체하기로 결정*</span>"
   ]
  },
  {
   "cell_type": "code",
   "execution_count": 7,
   "metadata": {},
   "outputs": [
    {
     "data": {
      "text/html": [
       "<div>\n",
       "<style scoped>\n",
       "    .dataframe tbody tr th:only-of-type {\n",
       "        vertical-align: middle;\n",
       "    }\n",
       "\n",
       "    .dataframe tbody tr th {\n",
       "        vertical-align: top;\n",
       "    }\n",
       "\n",
       "    .dataframe thead th {\n",
       "        text-align: right;\n",
       "    }\n",
       "</style>\n",
       "<table border=\"1\" class=\"dataframe\">\n",
       "  <thead>\n",
       "    <tr style=\"text-align: right;\">\n",
       "      <th></th>\n",
       "      <th>df_ind</th>\n",
       "      <th>title</th>\n",
       "      <th>brand</th>\n",
       "      <th>glowpick_exist</th>\n",
       "    </tr>\n",
       "  </thead>\n",
       "  <tbody>\n",
       "    <tr>\n",
       "      <th>32464</th>\n",
       "      <td>32464</td>\n",
       "      <td>스칼프메드 레드캡슐바이옴 두피케어 2종세트 (샴푸 400mlx2 + 트리트먼트 40...</td>\n",
       "      <td>스칼프메드</td>\n",
       "      <td>O</td>\n",
       "    </tr>\n",
       "  </tbody>\n",
       "</table>\n",
       "</div>"
      ],
      "text/plain": [
       "       df_ind                                              title  brand  \\\n",
       "32464   32464  스칼프메드 레드캡슐바이옴 두피케어 2종세트 (샴푸 400mlx2 + 트리트먼트 40...  스칼프메드   \n",
       "\n",
       "      glowpick_exist  \n",
       "32464              O  "
      ]
     },
     "execution_count": 7,
     "metadata": {},
     "output_type": "execute_result"
    }
   ],
   "source": [
    "# verssion 2 or f\n",
    "fl_nv_dt_only_b = pd.read_csv([x for x in os.listdir() if (x[:7] =='final_b') and (x[-5:-4] == 'f')][0])\n",
    "fl_nv_dt_only_b.tail(1)"
   ]
  },
  {
   "cell_type": "code",
   "execution_count": 8,
   "metadata": {},
   "outputs": [],
   "source": [
    "fl_nv_dt_or['브랜드'] = list(fl_nv_dt_only_b['brand'])"
   ]
  },
  {
   "cell_type": "markdown",
   "metadata": {},
   "source": [
    "<span style=\"color:blue\">*- 기준이 되는 원 데이터와 비교군이 되는 쇼핑몰(ex_ glowpick) 사이에 모든 상품이 동일 업로드 되어 있진 않음을 확인, 이런 이유로 스크래핑 과정에서 특정 행들을 미리 필터링하도록 자동화해 및, 추출해 두었으며, 해당 행은 모델학습에서 삭제하기로 결정*</span>"
   ]
  },
  {
   "cell_type": "code",
   "execution_count": 9,
   "metadata": {},
   "outputs": [],
   "source": [
    "rm_ind = pd.read_csv('mapping_by_hand.csv')['0']\n",
    "rm_ind = list(rm_ind)"
   ]
  },
  {
   "cell_type": "code",
   "execution_count": 10,
   "metadata": {
    "tags": []
   },
   "outputs": [],
   "source": [
    "with open('brd_lst_1.txt', 'rb') as fp:\n",
    "    brd_lst_w_ind = pickle.load(fp)\n",
    "\n",
    "not_valid_brds  = [brd_lst_w_ind[ind] for ind in range(len(brd_lst_w_ind)) if ind in rm_ind]"
   ]
  },
  {
   "cell_type": "code",
   "execution_count": 11,
   "metadata": {
    "tags": []
   },
   "outputs": [
    {
     "data": {
      "text/plain": [
       "collections.defaultdict"
      ]
     },
     "execution_count": 11,
     "metadata": {},
     "output_type": "execute_result"
    }
   ],
   "source": [
    "dict_brd_ind    = collections.defaultdict(list)\n",
    "\n",
    "for brd in list( set(fl_nv_dt_or.iloc[:,4]) ):\n",
    "    dict_brd_ind[brd].append( fl_nv_dt_or[fl_nv_dt_or.iloc[:,4] == brd].index.tolist() )\n",
    "    \n",
    "type(dict_brd_ind)"
   ]
  },
  {
   "cell_type": "code",
   "execution_count": 12,
   "metadata": {
    "tags": []
   },
   "outputs": [],
   "source": [
    "error = []\n",
    "for x in not_valid_brds:\n",
    "    try:\n",
    "        fl_nv_dt_or.drop(dict_brd_ind[x][0], inplace=True)\n",
    "    except:\n",
    "        print(f'An error occurred while removing information of {x}')\n",
    "        error.append(x)\n",
    "        pass"
   ]
  },
  {
   "cell_type": "code",
   "execution_count": 13,
   "metadata": {},
   "outputs": [
    {
     "name": "stdout",
     "output_type": "stream",
     "text": [
      "\t - number of rows deleted == 3288\n",
      "\t - number of errors == 0\n"
     ]
    }
   ],
   "source": [
    "print(f'\\t - number of rows deleted == {len(fl_nv_dt_or_cp_V) - len(fl_nv_dt_or)}')\n",
    "print(f'\\t - number of errors == {len(error)}')\n",
    "\n",
    "fl_nv_dt_or_ = fl_nv_dt_or.copy()"
   ]
  },
  {
   "cell_type": "code",
   "execution_count": 14,
   "metadata": {},
   "outputs": [
    {
     "name": "stdout",
     "output_type": "stream",
     "text": [
      "\t - number of rows deleted additionally == 1192\n"
     ]
    }
   ],
   "source": [
    "fl_nv_dt_or_.iloc[:,4] = pd.read_csv([x for x in os.listdir() if (x[:7] =='final_b') and (x[-5:-4] == 'f')][0]).iloc[fl_nv_dt_or_.index.tolist(), :]['brand'].tolist()\n",
    "fl_nv_dt_or_res = fl_nv_dt_or_.iloc[[x for x in range(len(fl_nv_dt_or_)) if '자체제작' not in fl_nv_dt_or_['브랜드'].tolist()[x]], :]\n",
    "\n",
    "print(f'\\t - number of rows deleted additionally == {len(fl_nv_dt_or_) - len(fl_nv_dt_or_res)}')"
   ]
  },
  {
   "cell_type": "code",
   "execution_count": 15,
   "metadata": {},
   "outputs": [
    {
     "name": "stdout",
     "output_type": "stream",
     "text": [
      "\t - Number of rows where the brand name is missing or incorrectly entered in the product title == , 252\n",
      "\t - Number of rows where the brand name is clearly included in the product title == , 27733\n"
     ]
    }
   ],
   "source": [
    "idx = 0\n",
    "for i in range(len(fl_nv_dt_or_res)):\n",
    "    if str(fl_nv_dt_or_res.iloc[i, 4]) in str(fl_nv_dt_or_res['title']):\n",
    "        idx += 1\n",
    "        \n",
    "print(f'\\t - Number of rows where the brand name is missing or incorrectly entered in the product title == , {idx}')\n",
    "print(f'\\t - Number of rows where the brand name is clearly included in the product title == , {len(fl_nv_dt_or_res) - idx}')"
   ]
  },
  {
   "cell_type": "markdown",
   "metadata": {},
   "source": [
    "---"
   ]
  },
  {
   "cell_type": "markdown",
   "metadata": {},
   "source": [
    "***- 기준 데이터 전처리***"
   ]
  },
  {
   "cell_type": "markdown",
   "metadata": {},
   "source": [
    "<span style=\"color:blue\">*- 해당 TF-IDF의 모델의 경우 일치하는 단어를 기준하여 유사도를 판별, 이런 이유로 유사도에 직접적으로 기여할 수 있는 제품 타이틀 명에 대해 잘못 기입된 특정 패턴을 dictionary화*</span>"
   ]
  },
  {
   "cell_type": "code",
   "execution_count": 16,
   "metadata": {
    "id": "smE_3YOQsm_K"
   },
   "outputs": [],
   "source": [
    "brd_en_kr_dict = {\n",
    "    'iunik':'아이유닉',\n",
    "    'CHILFACE':'7FACE',\n",
    "    'Physis':'피시스',\n",
    "    'INGA':'잉가',\n",
    "    'mixsoon':'믹순',\n",
    "    'RAUSCH':'라우쉬',\n",
    "    'SNP':'에스앤피',\n",
    "    'jeen':'진',\n",
    "    'CNC코스메틱': 'cNc',\n",
    "    'Phymongshe':'피몽쉐',\n",
    "    'JEEN':'진',\n",
    "    'EUNYUL':'은율',\n",
    "    'VDL':'브이디엘',\n",
    "    'NEEDLY':'니들리',\n",
    "    'BODYROUTINE':'바디루틴',\n",
    "    'herbalfacefood':'허벌페이스푸드',\n",
    "    'BARREL':'배럴',\n",
    "    'FLALIA':'플라리아',\n",
    "    'LUSH':'러쉬',\n",
    "    'phykology':'파이콜로지',\n",
    "    'ODYSSEY':'오딧세이',\n",
    "    'Nouvelle Derm':'누벨덤',\n",
    "    'A.black':'에이블랙',\n",
    "    'IUNIK':'아이유닉',\n",
    "    'PARISSA':'페리샤',\n",
    "    'BABOR':'바버',\n",
    "    'DS래보래토리즈':'디에스랩',\n",
    "    'Calatas':'칼라타스',\n",
    "    'HOURGLASS':'아워글래스',\n",
    "    'Emma Hardie':'엠마하디',\n",
    "    'LAPCOS':'랩코스',\n",
    "    'ANNETBRUSH':'아넷브러쉬',\n",
    "    'REDDY':'레디',\n",
    "    'ellips':'엘립스',\n",
    "    'HAU':'하우',\n",
    "    'PW솔루션':'피더블유',\n",
    "    'RAIP':'라입',\n",
    "    'lovea':'로베아',\n",
    "    'MERZY':'머지',\n",
    "    'RATE':'레이트',\n",
    "    'HYGGEE':'휘게',\n",
    "    'MEDIPICKME':'메디픽미',\n",
    "    'JM솔루션':'제이엠솔루션',\n",
    "    'FARFALLA':'파팔라',\n",
    "    'NTMT':'엔티엠티',\n",
    "    'Wednesday':'웬즈데이',\n",
    "    'koelcia':'코엘시아',\n",
    "    'JENIA':'제니아',\n",
    "    'MUSTEM':'뮤스템',\n",
    "    'AN12':'에이엔12',\n",
    "    'LUK':'룩',\n",
    "    'Ogi':'오지아이',\n",
    "    'MEDIMINE':'메디마인',\n",
    "    'HEYBRO':'헤이브로',\n",
    "    'Bluecell':'블루셀',\n",
    "    'LUNA':'루나',\n",
    "    'heartpercent':'하트퍼센트',\n",
    "    'LOIVIE':'로이비',\n",
    "    'CNP': '차앤박',\n",
    "    'Emma Hardie': '엠마하디',\n",
    "    'LaF': 'LAF',\n",
    "    'ZEMU': '제무',\n",
    "    '구디': 'Goody',\n",
    "    '끌로에': 'Chlo',\n",
    "    '네츄럴샤인': 'NS',\n",
    "    '다노클리닉': '다노',\n",
    "    '닥터3': 'DOCTOR.3',\n",
    "    '더 히스토리 오브 후': '[후]',\n",
    "    '라온컴퍼니': '라온',\n",
    "    '랑팔라투르': '랑팔',\n",
    "    '로맨띠끄': 'LMTQ',\n",
    "    '로얄헤나': '로얄',\n",
    "    '릴리트리': '릴리',\n",
    "    '미프': 'MIP',\n",
    "    '바버': 'BABOR',\n",
    "    '배럴코스메틱스': '배럴',\n",
    "    '버블몬스터': '버몬',\n",
    "    '브이디엘': 'VDL',\n",
    "    '비디비치': 'VIDIVICI',\n",
    "    '비바코리아': '비바',\n",
    "    '비씨엘': 'BCL',\n",
    "    '비알티씨': 'BRTC',\n",
    "    '비에스코스': 'BSKOS',\n",
    "    '수니': 'SOONI',\n",
    "    '실크테라피': '실크',\n",
    "    '씨엘포': 'CL4',\n",
    "    '씨피원': 'CP-1',\n",
    "    '아모레퍼시픽': 'AP',\n",
    "    '아틱': 'ATIC',\n",
    "    '안나홀츠': '홀츠포맨',\n",
    "    '언파코스메틱': '언파',\n",
    "    '에스알비': 'SRB',\n",
    "    '에스앤피': 'SNP',\n",
    "    '에스투엔디': 'S2ND',\n",
    "    '에포나': 'EPONA',\n",
    "    '에프쓰리 시스템즈': 'F3',\n",
    "    '엘라스틴': 'ES',\n",
    "    '엠엘비 코스메틱': 'MLB',\n",
    "    '오즈비엔에이치': '오즈',\n",
    "    '웰라 프로페셔널즈': '웰라',\n",
    "    '자연담은유리병': '자담유',\n",
    "    '진': 'jeen',\n",
    "    '칠페이스': '7FACE',\n",
    "    '키셔': 'KISHER',\n",
    "    '토스': 'Tous',\n",
    "    '토아스': 'TOAS',\n",
    "    '티스': 'TISS',\n",
    "    '티에스더블유': 'TSW',\n",
    "    '한조컬렉션': '한조'\n",
    "}"
   ]
  },
  {
   "cell_type": "code",
   "execution_count": 17,
   "metadata": {},
   "outputs": [
    {
     "data": {
      "text/html": [
       "<div>\n",
       "<style scoped>\n",
       "    .dataframe tbody tr th:only-of-type {\n",
       "        vertical-align: middle;\n",
       "    }\n",
       "\n",
       "    .dataframe tbody tr th {\n",
       "        vertical-align: top;\n",
       "    }\n",
       "\n",
       "    .dataframe thead th {\n",
       "        text-align: right;\n",
       "    }\n",
       "</style>\n",
       "<table border=\"1\" class=\"dataframe\">\n",
       "  <thead>\n",
       "    <tr style=\"text-align: right;\">\n",
       "      <th></th>\n",
       "      <th>title</th>\n",
       "      <th>link</th>\n",
       "      <th>상품번호</th>\n",
       "      <th>상품상태</th>\n",
       "      <th>브랜드</th>\n",
       "      <th>모델명</th>\n",
       "      <th>이벤트</th>\n",
       "      <th>사은품</th>\n",
       "      <th>원산지</th>\n",
       "      <th>사용부위</th>\n",
       "      <th>...</th>\n",
       "      <th>풍량조절</th>\n",
       "      <th>온도조절방식</th>\n",
       "      <th>발생성분</th>\n",
       "      <th>원료</th>\n",
       "      <th>착용형태</th>\n",
       "      <th>구성</th>\n",
       "      <th>히터</th>\n",
       "      <th>온도표시</th>\n",
       "      <th>타이머</th>\n",
       "      <th>copy_brd</th>\n",
       "    </tr>\n",
       "  </thead>\n",
       "  <tbody>\n",
       "    <tr>\n",
       "      <th>32464</th>\n",
       "      <td>스칼프메드 레드캡슐바이옴 두피케어 2종세트 (샴푸 400mlx2 + 트리트먼트 40...</td>\n",
       "      <td>https://shopping.naver.com/beauty/stores/10121...</td>\n",
       "      <td>5.629379e+09</td>\n",
       "      <td>신상품</td>\n",
       "      <td>스칼프메드</td>\n",
       "      <td>레드캡슐바이옴</td>\n",
       "      <td>NaN</td>\n",
       "      <td>NaN</td>\n",
       "      <td>국산(세종특별자치시)</td>\n",
       "      <td>NaN</td>\n",
       "      <td>...</td>\n",
       "      <td>NaN</td>\n",
       "      <td>NaN</td>\n",
       "      <td>NaN</td>\n",
       "      <td>NaN</td>\n",
       "      <td>NaN</td>\n",
       "      <td>NaN</td>\n",
       "      <td>NaN</td>\n",
       "      <td>NaN</td>\n",
       "      <td>NaN</td>\n",
       "      <td>스칼프메드</td>\n",
       "    </tr>\n",
       "  </tbody>\n",
       "</table>\n",
       "<p>1 rows × 103 columns</p>\n",
       "</div>"
      ],
      "text/plain": [
       "                                                   title  \\\n",
       "32464  스칼프메드 레드캡슐바이옴 두피케어 2종세트 (샴푸 400mlx2 + 트리트먼트 40...   \n",
       "\n",
       "                                                    link          상품번호 상품상태  \\\n",
       "32464  https://shopping.naver.com/beauty/stores/10121...  5.629379e+09  신상품   \n",
       "\n",
       "         브랜드      모델명  이벤트  사은품          원산지 사용부위  ... 풍량조절 온도조절방식 발생성분   원료  \\\n",
       "32464  스칼프메드  레드캡슐바이옴  NaN  NaN  국산(세종특별자치시)  NaN  ...  NaN    NaN  NaN  NaN   \n",
       "\n",
       "      착용형태   구성   히터 온도표시  타이머 copy_brd  \n",
       "32464  NaN  NaN  NaN  NaN  NaN    스칼프메드  \n",
       "\n",
       "[1 rows x 103 columns]"
      ]
     },
     "execution_count": 17,
     "metadata": {},
     "output_type": "execute_result"
    }
   ],
   "source": [
    "fl_nv_dt_or_res['copy_brd'] = fl_nv_dt_or_res.iloc[:,4].copy()\n",
    "fl_nv_dt_or_res.tail(1)"
   ]
  },
  {
   "cell_type": "markdown",
   "metadata": {},
   "source": [
    "<span style=\"color:blue\">*- dict 정보에 기반하여 잘못 기입된 제품 타이틀의 정보를 추출및 추후 수정하기 위한 목적으로 title내의 특정 브랜드 정보를 따로 추출 및 비교군 데이터의 바른 브랜드명으로 replace*</span>\n",
    "\n",
    "<span style=\"color:blue\">*- 유사도 분석 중 Accuracy향상이 주된 목적*</span>"
   ]
  },
  {
   "cell_type": "code",
   "execution_count": 18,
   "metadata": {},
   "outputs": [],
   "source": [
    "# extraction\n",
    "for idx,row in fl_nv_dt_or_res.iterrows():\n",
    "    for x in list(brd_en_kr_dict.keys()):\n",
    "        if x == row['copy_brd']:\n",
    "            if brd_en_kr_dict[x] in row['title']:\n",
    "                fl_nv_dt_or_res['copy_brd'][idx] = row['copy_brd']\n",
    "\n",
    "# replace\n",
    "for idx, row in fl_nv_dt_or_res.iterrows():\n",
    "    fl_nv_dt_or_res.loc[idx,'title'] = row['title'].replace(row['copy_brd'],\"\") + \" \" + row['브랜드']"
   ]
  },
  {
   "cell_type": "markdown",
   "metadata": {},
   "source": [
    "<span style=\"color:blue\">*- 패턴 색출이 어려운 이유로, 상품 타이틀에 대해 명확한 브랜드 정보로 대체해주지 못한 경우에 대비하여, 추가적인 전처리 방안을 모색*</span>"
   ]
  },
  {
   "cell_type": "markdown",
   "metadata": {},
   "source": [
    "<img src=\"https://img1.daumcdn.net/thumb/R1280x0/?scode=mtistory2&fname=https%3A%2F%2Fblog.kakaocdn.net%2Fdn%2FzGnk7%2FbtqzLEopozf%2Fy2sOocMySuc4ZZhzbt0Ufk%2Fimg.png\">"
   ]
  },
  {
   "cell_type": "markdown",
   "metadata": {},
   "source": [
    "    - 해당 문제를 해결하기 위해, image processing의 stride와 Convolution에서 아이디어를 착안하여 해당 전처리를 해결.\n",
    "\n",
    "        : 혼선이 없도록 title에 포함된 브랜드명을 b-title, 브랜드열의 브랜드값을 b-brand로 명칭하겠습니다.\n",
    "          하단의 코드는 크게 3가지 케이스에 대하여 전처리를 진행합니다. \n",
    "          \n",
    "              * case_1: b-title과 b-brand가 띄어쓰기가 다른 경우, \n",
    "              * case_2: b-title이 축약된 b-brand를 포함하고 있는 경우, \n",
    "              * case_3: 반대로 b-brand에는 축약된 브랜드 네임이, b-title은 풀 브랜드 네임인 경우\n",
    "              \n",
    "        위 세가지 경우 b-title이 브랜드명으로써 인식되지 않는 문제가 발생할 수 있습니다.\n",
    "        이를 해결하기 위한 대안으로, 3개 이상 연속적으로 공통되는 문자열이 나오면, 유효한 브랜드명으로 판단하기로 기준을 마련하였습니다.\n",
    "        \n",
    "        판단을 위해 아래와 같은 과정이 진행됩니다.\n",
    "        \n",
    "            * 먼저 title 문자열의 공백을 제거해주고, brand문자열의 공백 또한 제거해줍니다.\n",
    "            * title 문자열과 brand 문자열 각각을 독립된 문자 리스트로 만들어줍니다.\n",
    "            * 이후, brand 문자열과 title 문자열 간의 일치 정도에 따라 임의의 ''을 insert하며 strid를 만들어내고 반복적으로 일치여부를 판단하여 title 내의 제거할 문자열을 색출해냅니다.\n",
    "            \n",
    "            Example)\n",
    "            st1_\n",
    "            ['안','녕','이','니','스','아','이','크','림']\n",
    "            ['이','니','스','프','리'] \n",
    "\n",
    "            st2_\n",
    "            ['안','녕','이','니','스','아','이','크','림']\n",
    "            ['' , '이','니','스','프','리']\n",
    "\n",
    "            st3_\n",
    "            ['안','녕','이','니','스','아','이','크','림']\n",
    "            ['' ,'', '이','니','스','프','리']\n",
    "            \n",
    "            .\n",
    "            .\n",
    "            .\n",
    "\n",
    "            ['안','녕','이','니','스','아','이','크','림']\n",
    "            ['' , '','',  '이','니','스','프','리']        \n",
    "            \n",
    "            * 문자열 일치여부 카운팅"
   ]
  },
  {
   "cell_type": "code",
   "execution_count": 19,
   "metadata": {},
   "outputs": [],
   "source": [
    "def remove_all_b_in_t(input_tlt = '', input_brd = ''):\n",
    "    '''\n",
    "    \n",
    "    - input_tlt : character string of cosmetic product name\n",
    "    - input_brd : character string of cosmetic brand name \n",
    "    \n",
    "    - tlt_char_lst       : title 문자열 리스트화 \n",
    "        +a '색출하고자 하는 문자열'이 '상품 타이틀의 맨 앞단'에 위치할 뿐 아니라, 앞서 언급한 바와 같이 '생략된 단어' 형태로 위치한 경우에 대비하여 임의의 특수문자를 추가\n",
    "        \n",
    "    - tlt_strpd_char_lst : title 문자열 리스트화 + 공백제거\n",
    "    - brd_char_list      : brand 문자열 리스트화 + 공백제거\n",
    "        \n",
    "    '''\n",
    "    \n",
    "    tlt_char_lst       = list('******' + input_tlt) \n",
    "    tlt_strpd_char_lst = list(input_tlt.replace(' ','')) \n",
    "    brd_char_list      = list(input_brd.replace(' ',''))\n",
    "    \n",
    "    indices_space = [i for i, x in enumerate(tlt_char_lst) if x == ' ']\n",
    "    \n",
    "    for i in range(len(tlt_strpd_char_lst) - len(brd_char_list) + 1):\n",
    "        idx_ls = []\n",
    "        for j in range(len(brd_char_list)):\n",
    "            if tlt_strpd_char_lst[j] == brd_char_list[j]:\n",
    "                idx_ls.append(j)\n",
    "\n",
    "        if len(idx_ls) < 3:\n",
    "            brd_char_list.insert(0, '')\n",
    "\n",
    "        else:\n",
    "            for idx in idx_ls:\n",
    "                tlt_strpd_char_lst[idx] = '' \n",
    "\n",
    "    for idx in indices_space:\n",
    "        tlt_strpd_char_lst.insert(idx,' ') \n",
    "\n",
    "    return(''.join(tlt_strpd_char_lst).replace('*', ''))"
   ]
  },
  {
   "cell_type": "code",
   "execution_count": 20,
   "metadata": {},
   "outputs": [],
   "source": [
    "for idx in fl_nv_dt_or_res.index:\n",
    "    input_tlt = fl_nv_dt_or_res.loc[idx, 'title']\n",
    "    input_brd = fl_nv_dt_or_res.loc[idx, 'copy_brd']\n",
    "    \n",
    "    modified_tlt = remove_all_b_in_t(input_tlt, input_brd)\n",
    "    \n",
    "    if input_tlt != modified_tlt:\n",
    "        fl_nv_dt_or_res.loc[idx, 'title'] = modified_tlt + ' ' + fl_nv_dt_or_res.loc[idx, '브랜드']"
   ]
  },
  {
   "cell_type": "markdown",
   "metadata": {},
   "source": [
    "---"
   ]
  },
  {
   "cell_type": "markdown",
   "metadata": {},
   "source": [
    "<span style=\"color:blue\">*- 추가 전처리*</span>\n",
    "\n",
    "    1. 하나의 벡터로 인식되어야 하는 단어들 (substr_items)에 대하여 앞뒤로 공백 추가\n",
    "    2. 기준 데이터의 타이틀 열에서 반복적으로 나타나는 불용어 (==제품명과 무관한 키워드)를 to_empty 리스트에 넣어 제거\n",
    "    3. 기준 데이터의 타이틀 열에서 공통적으로 발견되는 불용어 패턴들을 정립하고, 바뀐 패턴을 적용\n",
    "    4. 이 외 개별적 처리"
   ]
  },
  {
   "cell_type": "code",
   "execution_count": 21,
   "metadata": {},
   "outputs": [],
   "source": [
    "substr_items   = ['네일','속눈썹','spf','pa','제모','에센셜','클렌저','데일리','염색','보습','발효','영양','비건','두피','민감성','세안제','워시','에멀젼','0.2','스킨','스키니','각질' ,'에센스','헤어','파우더','폼','클렌징','케어','오일','필', '세럼','테라피','비타민','팩','크림','판타지','샴푸','단백질','더마','닥토','마스크','팩','아이패치','모이스춰','트리트먼트','크림', '탈모', '완화', '에센스', '젤', '토너', '영양제', '내추럴', '에이징', '선스틱', '리페어', '리뉴얼', '코튼', '비누', '컬러', '펜슬', '브로우', '립', '키트', '브러쉬', '섀도우', '필링', '로에', '왁싱', '밤','진정', '에이징', '메이트', '달팽이', '바디','로션']\n",
    "to_empty = ['1+1','best','한정판매','옵션','특가','네이버','new','공식몰','단종','리필','본품','외 모음','&','ㅣ','[',']','|','/','(',')','추가','증정',\"set\",\"+\",\"x\",\"단종\",\"-\",\"_\",\"\",'기획','가려움','학생','10대','지속력','좋은','대신','세트','패키지','피부','가성비갑','1일1','데일리','out','증정','극손상','온종일','안번지는','뽀송','적립','n페이','n pay','겟잇뷰티','추가','피부진정','5천p','무실리콘','염색모','1일1팩','남녀노소','구평','식물유래','미세먼지','바디결점','피부결점','깨끗한','포근한','자연유래','성분','얼굴트러블','중','모음','주름선','각질제거','진정','부탁해','피부과','납품','수상','어워드','가벼운','잡티','눈트임','진정강한','기미','잡티','주근깨','다크서클','진정','고정','승무원','촉촉한','뽀송한','끈적임','없는','수분탄력','산뜻촉촉','뷰티어워드','주름선도','임산부','유분기','끈적임','교차선택','속보습','탄력','피부','뾰루지','피부진정']\n",
    "to_empty_regex = ['1\\s*위','\\s*등','[ㄱ-ㅎ가-핳]*추천','[ㄱ-ㅎ가-핳]*세트','[0-9]일체험분','[0-9]+대','[ㄱ-ㅎ가-핳]+용','[ㄱ-ㅎ가-핳]*케어','[0-9]천*점','[ㄱ-ㅎ가-핳]+\\s*pick','[ㄱ-ㅎ가-핳]+\\s픽한*','#[ㄱ-ㅎ가-핳]+','택\\s*[0-9]','[0-9]+color','[0-9]+\\s*종','[0-9]*\\s*\\+*\\s*[0-9]\\+[0-9]','[ㄱ-ㅎ가-힣]\\+','[0-9]관왕','\\+.*[ㄱ-ㅎ가-핳]*\\s*증정',\"[0-9]*\\.*/*[0-9]*\\s*ml\",\"[0-9]*입\",\"[0-9]*\\.*[0-9]*g\",\"[0-9]l\",\"[0-9]*매\",\"[0-9]*ea\",\"[0-9]*개\",\"x\\s*[0-9]\"]"
   ]
  },
  {
   "cell_type": "code",
   "execution_count": 22,
   "metadata": {},
   "outputs": [
    {
     "name": "stdout",
     "output_type": "stream",
     "text": [
      "\t 76개 아이템 타이틀의 front, back에 공백적용\n"
     ]
    }
   ],
   "source": [
    "# 1)\n",
    "print(f'\\t {len(substr_items)}개 아이템 타이틀의 front, back에 공백적용')\n",
    "\n",
    "for item in substr_items:\n",
    "    fl_nv_dt_or_res['title'] = fl_nv_dt_or_res['title'].replace(to_replace=r\"()({})()\".format(item), value=r\"\\1 \\2 \\3\", regex=True)"
   ]
  },
  {
   "cell_type": "code",
   "execution_count": 23,
   "metadata": {},
   "outputs": [
    {
     "name": "stdout",
     "output_type": "stream",
     "text": [
      "\t 107개 특정 불용어 제거\n"
     ]
    }
   ],
   "source": [
    "# 2)\n",
    "print(f'\\t {len(to_empty)}개 특정 불용어 제거')\n",
    "\n",
    "fl_nv_dt_or_res['title'] = fl_nv_dt_or_res['title'].str.lower()\n",
    "\n",
    "for el in to_empty:\n",
    "    fl_nv_dt_or_res['title'] = fl_nv_dt_or_res['title'].str.replace(el, '')"
   ]
  },
  {
   "cell_type": "code",
   "execution_count": 24,
   "metadata": {},
   "outputs": [],
   "source": [
    "# 3)\n",
    "for el in to_empty_regex:\n",
    "    fl_nv_dt_or_res['title'] = fl_nv_dt_or_res['title'].replace(to_replace=el, value='', regex=True)"
   ]
  },
  {
   "cell_type": "markdown",
   "metadata": {},
   "source": [
    "***- 비교군 데이터 전처리***"
   ]
  },
  {
   "cell_type": "markdown",
   "metadata": {},
   "source": [
    "    1. 하나의 벡터로 인식되어야 하는 단어들 (substr_items)에 대하여 앞뒤로 공백 추가\n",
    "    2. 기준 데이터의 타이틀 열에서 반복적으로 나타나는 불용어 (==제품명과 무관한 키워드)를 to_empty 리스트에 넣어 제거\n",
    "    3."
   ]
  },
  {
   "cell_type": "code",
   "execution_count": 29,
   "metadata": {},
   "outputs": [],
   "source": [
    "# 1)\n",
    "fl_gf_dt_cp['brand'].replace(to_replace='nan',value=\"''\",regex=True,inplace=True)"
   ]
  },
  {
   "cell_type": "code",
   "execution_count": 30,
   "metadata": {},
   "outputs": [],
   "source": [
    "# 2) \n",
    "for item in substr_items:\n",
    "    fl_gf_dt_cp['stuff_name'] = fl_gf_dt_cp['stuff_name'].replace(to_replace=r\"()({})()\".format(item),value=r\"\\1 \\2 \\3\",regex=True)"
   ]
  },
  {
   "cell_type": "code",
   "execution_count": null,
   "metadata": {},
   "outputs": [],
   "source": [
    "# 3)\n",
    "for brand_idx in fl_gf_dt_cp.index: # ---- (1)\n",
    "    stuff_lst = eval(fl_gf_dt_cp.loc[brand_idx,'stuff_name']) # type(stuff_)\n",
    "    brand_lst = eval(fl_gf_dt_cp.loc[brand_idx,'brand'])\n",
    "    merged_list = [] \n",
    "    for idx, v in enumerate(stuff_lst): # ----(2)\n",
    "        merged = stuff_lst[idx] + ' ' + brand_lst[idx] \n",
    "        merged_list.append(merged)\n",
    "    fl_gf_dt_cp['stuff_name'].loc[brand_idx] = merged_list # ---(3)"
   ]
  },
  {
   "cell_type": "markdown",
   "metadata": {},
   "source": [
    "---"
   ]
  },
  {
   "cell_type": "markdown",
   "metadata": {},
   "source": [
    "***Modeling***"
   ]
  },
  {
   "cell_type": "code",
   "execution_count": null,
   "metadata": {},
   "outputs": [],
   "source": [
    "def vectorize(corpus = []):\n",
    "    '''\n",
    "    corpus: 말뭉치. 유사도 분석을 진행하려는 네이버타이틀과 글로우픽stuff네임이 들어감\n",
    "    '''\n",
    "    token_pattern = r\"([ㄱ-ㅎ|가-힣|a-z+\\-*.*\\w|A-Z+|0-9+%*]{1,}|)\"\n",
    "    vect = TfidfVectorizer(token_pattern=token_pattern,lowercase=True) # token pattern 적용\n",
    "    bow_vect = vect.fit_transform(corpus) # fit\n",
    "    word_list = vect.get_feature_names() \n",
    "    print(word_list)\n",
    "    return bow_vect\n",
    "\n",
    "def get_cosim(bow_vect):\n",
    "    compressed_bow_vect = bow_vect.todense()\n",
    "    cosim_value = cosine_similarity(compressed_bow_vect[0],compressed_bow_vect[1])[0][0]\n",
    "    return cosim_value\n",
    "\n",
    "def return_cosim_df_list(brand_input=''):\n",
    "    '''\n",
    "    brand_input: fl_nv_dt_or_['브랜드'] 기준으로 들어갈 브랜드명입니다 \n",
    "    '''\n",
    "    df_result_lst = []\n",
    "    \n",
    "    for row_idx in fl_nv_dt_or_[fl_nv_dt_or_['브랜드']==brand_input]: # -----(1)\n",
    "        nv_title = fl_nv_dt_or_.loc[row_idx,'title'] # 네이버 title\n",
    "        gf_stuff_lst = fl_gf_dt_cp.loc[unq_brd_lst_new.index(brand_input),'stuff_name'] # 글로우픽 stuff name list\n",
    "\n",
    "        cosim_dict = {} \n",
    "        for stuff in eval(gf_stuff_lst): # ----(2)\n",
    "            corpus = [nv_title, gf_stuff_lst]\n",
    "            bow_vect = vectorize(corpus)\n",
    "            cosim_value = get_cosim(bow_vect)\n",
    "            cosim_dict[stuff] = cosim_value\n",
    "        \n",
    "        # 유사도값기준 내림차순 정렬    \n",
    "        cosim_dict_sorted = sorted(cosim_dict.items(),key=(lambda x: x[1]),reverse=True) \n",
    "    \n",
    "        df_cosim = pd.DataFrame(columns=['naver_title','glowpick_name','similarity'])     \n",
    "        for el in cosim_dict_sorted:\n",
    "            df_cosim = df_cosim.append({'naver_title':nv_title,'glowpick_name':el[0],'similarity':el[1]},ignore_index=True)\n",
    "\n",
    "        df_result_lst.append(df_cosim)\n",
    "        \n",
    "    return df_result_lst"
   ]
  },
  {
   "cell_type": "code",
   "execution_count": null,
   "metadata": {},
   "outputs": [],
   "source": [
    "with open(\"brd_lst_1.txt\", \"rb\") as ls:\n",
    "    unq_brd_lst_new = pickle.load(ls)\n",
    "\n",
    "df_result_lst = return_cosim_df_list('아던샵') # 예시 "
   ]
  },
  {
   "cell_type": "code",
   "execution_count": null,
   "metadata": {},
   "outputs": [],
   "source": [
    "df_result_lst"
   ]
  },
  {
   "cell_type": "code",
   "execution_count": null,
   "metadata": {},
   "outputs": [],
   "source": []
  },
  {
   "cell_type": "code",
   "execution_count": null,
   "metadata": {},
   "outputs": [],
   "source": []
  },
  {
   "cell_type": "code",
   "execution_count": null,
   "metadata": {},
   "outputs": [],
   "source": []
  },
  {
   "cell_type": "code",
   "execution_count": null,
   "metadata": {},
   "outputs": [],
   "source": []
  }
 ],
 "metadata": {
  "colab": {
   "collapsed_sections": [],
   "name": "텍스트유사도분석코드.ipynb",
   "provenance": []
  },
  "kernelspec": {
   "display_name": "Python 3 (ipykernel)",
   "language": "python",
   "name": "python3"
  },
  "language_info": {
   "codemirror_mode": {
    "name": "ipython",
    "version": 3
   },
   "file_extension": ".py",
   "mimetype": "text/x-python",
   "name": "python",
   "nbconvert_exporter": "python",
   "pygments_lexer": "ipython3",
   "version": "3.7.11"
  }
 },
 "nbformat": 4,
 "nbformat_minor": 4
}
