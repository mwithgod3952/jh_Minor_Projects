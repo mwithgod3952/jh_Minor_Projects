{
  "nbformat": 4,
  "nbformat_minor": 0,
  "metadata": {
    "colab": {
      "name": "gf_learn_tx_new.ipynb",
      "provenance": [],
      "collapsed_sections": [
        "K5nSI2SoFhLR"
      ],
      "toc_visible": true,
      "include_colab_link": true
    },
    "kernelspec": {
      "display_name": "Python 3",
      "language": "python",
      "name": "python3"
    },
    "language_info": {
      "codemirror_mode": {
        "name": "ipython",
        "version": 3
      },
      "file_extension": ".py",
      "mimetype": "text/x-python",
      "name": "python",
      "nbconvert_exporter": "python",
      "pygments_lexer": "ipython3",
      "version": "3.7.11"
    }
  },
  "cells": [
    {
      "cell_type": "markdown",
      "metadata": {
        "id": "view-in-github",
        "colab_type": "text"
      },
      "source": [
        "<a href=\"https://colab.research.google.com/github/mwithgod3952/jh_Minor_Projects/blob/main/gf_learn_tx_new.ipynb\" target=\"_parent\"><img src=\"https://colab.research.google.com/assets/colab-badge.svg\" alt=\"Open In Colab\"/></a>"
      ]
    },
    {
      "cell_type": "code",
      "metadata": {
        "colab": {
          "base_uri": "https://localhost:8080/"
        },
        "id": "DiW1XsCYFn1V",
        "outputId": "554ad601-82f8-40cb-d65d-fc65371cb397"
      },
      "source": [
        "from google.colab import drive; drive.mount('/content/drive')"
      ],
      "execution_count": 1,
      "outputs": [
        {
          "output_type": "stream",
          "name": "stdout",
          "text": [
            "Mounted at /content/drive\n"
          ]
        }
      ]
    },
    {
      "cell_type": "code",
      "metadata": {
        "id": "son2gQ2SZvQE"
      },
      "source": [
        "!pip install plotly\n",
        "!pip install EIA-python\n",
        "!pip install changefinder\n",
        "!pip install ruptures\n",
        "!pip install gensim\n",
        "!pip show gensim"
      ],
      "execution_count": null,
      "outputs": []
    },
    {
      "cell_type": "code",
      "metadata": {
        "id": "ZGuJHPfLFhLB",
        "colab": {
          "base_uri": "https://localhost:8080/"
        },
        "outputId": "e70f22a8-af3b-44f9-cd23-fa5df8a8fa97"
      },
      "source": [
        "import os\n",
        "from tqdm.notebook import tqdm\n",
        "import pickle\n",
        "import openpyxl\n",
        "\n",
        "import collections\n",
        "import pandas as pd\n",
        "import numpy as np\n",
        "from copy import deepcopy\n",
        "import math\n",
        "from math import log\n",
        "import ast\n",
        "import re\n",
        "\n",
        "from sklearn.metrics.pairwise import cosine_similarity, cosine_distances\n",
        "from sklearn.feature_extraction import text\n",
        "\n",
        "import eia\n",
        "import changefinder\n",
        "import ruptures as rpt\n",
        "\n",
        "import torch\n",
        "import torch.nn.functional as F\n",
        "\n",
        "# Visualization\n",
        "from matplotlib import pylab as plt\n",
        "%matplotlib inline\n",
        "from matplotlib import rc\n",
        "rc('font', family='AppleGothic')\n",
        "plt.rcParams['axes.unicode_minus'] = False\n",
        "import seaborn as sns\n",
        "import plotly.express as px\n",
        "import plotly.graph_objects as go\n",
        "\n",
        "# Word2vec\n",
        "import logging\n",
        "logging.basicConfig(\n",
        "    format='%(asctime)s : %(levelname)s : %(message)s', \n",
        "    level=logging.INFO)\n",
        "from gensim.models import word2vec\n",
        "\n",
        "# change point\n",
        "import tensorflow.compat.v2 as tf\n",
        "tf.enable_v2_behavior()\n",
        "import tensorflow_probability as tfp\n",
        "from tensorflow_probability import distributions as tfd\n",
        "import scipy.stats\n",
        "\n",
        "import warnings\n",
        "warnings.filterwarnings('ignore')"
      ],
      "execution_count": 4,
      "outputs": [
        {
          "output_type": "stream",
          "name": "stderr",
          "text": [
            "2021-09-29 02:38:46,136 : INFO : 'pattern' package not found; tag filters are not available for English\n"
          ]
        }
      ]
    },
    {
      "cell_type": "code",
      "metadata": {
        "colab": {
          "base_uri": "https://localhost:8080/"
        },
        "id": "BjEnNVWcH1y5",
        "outputId": "9fee85cb-6ad8-4e0a-fdbc-a33e6f83256a"
      },
      "source": [
        "print(f'\\t - Current Working Directory : {os.getcwd()}')\n",
        "\n",
        "os.chdir('/content/drive/MyDrive/gf_learned_tx')\n",
        "print(f'\\t - Directory changed to : {os.getcwd()}')"
      ],
      "execution_count": 5,
      "outputs": [
        {
          "output_type": "stream",
          "name": "stdout",
          "text": [
            "\t - Current Working Directory : /content\n",
            "\t - Directory changed to : /content/drive/MyDrive/gf_learned_tx\n"
          ]
        }
      ]
    },
    {
      "cell_type": "markdown",
      "metadata": {
        "id": "8yC-MsPNFhLD"
      },
      "source": [
        "##### ***- 유사도 분석을 목적으로 비교군 데이터 로딩***"
      ]
    },
    {
      "cell_type": "code",
      "metadata": {
        "colab": {
          "base_uri": "https://localhost:8080/",
          "height": 78
        },
        "id": "QMK64DQ0FhLE",
        "outputId": "6b1d8d91-ff78-41bf-90d0-e2b4952e6819"
      },
      "source": [
        "main_dir = os.getcwd()\n",
        "pth_ind_co_dat = [x for x in range(len(os.listdir())) if os.listdir()[x][-6:-4] == 'cp'][0]\n",
        "fl_gf_dt_cp = pd.read_csv(main_dir + '/' +  os.listdir()[pth_ind_co_dat])\n",
        "\n",
        "fl_gf_dt_cp.columns = ['brand', 'stuff_name']\n",
        "\n",
        "# brand name의 앞 뒤 공백제거 \n",
        "fl_gf_dt_cp.brand = [fl_gf_dt_cp.brand[x].strip() for x in range(len(fl_gf_dt_cp))]\n",
        "\n",
        "# scaping 중 발생한 각 row별 중복 값 제거 \n",
        "for i, row in fl_gf_dt_cp.iterrows():\n",
        "    ech_row = ast.literal_eval(row.stuff_name)\n",
        "    fl_gf_dt_cp.iloc[i, 1] = list(set(ech_row))\n",
        "\n",
        "fl_gf_dt_cp_OV = fl_gf_dt_cp.copy()    \n",
        "fl_gf_dt_cp.tail(1)"
      ],
      "execution_count": 6,
      "outputs": [
        {
          "output_type": "execute_result",
          "data": {
            "text/html": [
              "<div>\n",
              "<style scoped>\n",
              "    .dataframe tbody tr th:only-of-type {\n",
              "        vertical-align: middle;\n",
              "    }\n",
              "\n",
              "    .dataframe tbody tr th {\n",
              "        vertical-align: top;\n",
              "    }\n",
              "\n",
              "    .dataframe thead th {\n",
              "        text-align: right;\n",
              "    }\n",
              "</style>\n",
              "<table border=\"1\" class=\"dataframe\">\n",
              "  <thead>\n",
              "    <tr style=\"text-align: right;\">\n",
              "      <th></th>\n",
              "      <th>brand</th>\n",
              "      <th>stuff_name</th>\n",
              "    </tr>\n",
              "  </thead>\n",
              "  <tbody>\n",
              "    <tr>\n",
              "      <th>1847</th>\n",
              "      <td>미쉘메르시에</td>\n",
              "      <td>[]</td>\n",
              "    </tr>\n",
              "  </tbody>\n",
              "</table>\n",
              "</div>"
            ],
            "text/plain": [
              "       brand stuff_name\n",
              "1847  미쉘메르시에         []"
            ]
          },
          "metadata": {},
          "execution_count": 6
        }
      ]
    },
    {
      "cell_type": "code",
      "metadata": {
        "colab": {
          "base_uri": "https://localhost:8080/"
        },
        "id": "XrnAKnX2FhLF",
        "outputId": "5fc20b15-9534-44b4-c1ae-d597221f5523"
      },
      "source": [
        "fl_gf_dt_uq = fl_gf_dt_cp.iloc[ [x for x in range(len(fl_gf_dt_cp)) if fl_gf_dt_cp.iloc[x, 1] != []], : ] \n",
        "fl_gf_dt_uq = fl_gf_dt_uq.drop_duplicates(['brand']).copy(); print(f'\\t 제거된 행의 수 (ISSUE_ 1) 중복, 2) 기준 쇼핑몰 및 비교군 쇼핑몰 간 취급하는 브랜드 다름) : {len(fl_gf_dt_cp_OV) - len(fl_gf_dt_uq)}')\n",
        "\n",
        "# ------------------------------------------ \n",
        "\n",
        "fl_gf_dt_uq_OV = fl_gf_dt_uq.copy()"
      ],
      "execution_count": 7,
      "outputs": [
        {
          "output_type": "stream",
          "name": "stdout",
          "text": [
            "\t 제거된 행의 수 (ISSUE_ 1) 중복, 2) 기준 쇼핑몰 및 비교군 쇼핑몰 간 취급하는 브랜드 다름) : 466\n"
          ]
        }
      ]
    },
    {
      "cell_type": "code",
      "metadata": {
        "id": "FHP494FhFhLG"
      },
      "source": [
        "res_mi_lst = []\n",
        "for x in range(1, len(fl_gf_dt_uq)): \n",
        "    if (fl_gf_dt_uq.index[x] - fl_gf_dt_uq.index[x-1]) > 1:\n",
        "        \n",
        "        missing_ind_lst = []\n",
        "        for i in range(fl_gf_dt_uq.index[x-1]+1, fl_gf_dt_uq.index[x]):\n",
        "            missing_ind_lst.append(i)\n",
        "        res_mi_lst.append(missing_ind_lst)"
      ],
      "execution_count": 8,
      "outputs": []
    },
    {
      "cell_type": "code",
      "metadata": {
        "colab": {
          "base_uri": "https://localhost:8080/"
        },
        "id": "nLsOyiDuFhLH",
        "outputId": "a310a6b2-18c8-4a68-aaee-cc854ed3a97f"
      },
      "source": [
        "res_ck = len(fl_gf_dt_cp.iloc[1694:, 1]) == len([x for x in list(fl_gf_dt_cp.iloc[1694:, 1]) if x == []])\n",
        "res_mi_lst = sum(res_mi_lst, [])\n",
        "\n",
        "if res_ck == True: total_len_removal = (len(res_mi_lst) + len(fl_gf_dt_cp.iloc[1694:,:])) ;print(f'\\t brand 열의 제거된 인덱스의 수 : {total_len_removal}')"
      ],
      "execution_count": 9,
      "outputs": [
        {
          "output_type": "stream",
          "name": "stdout",
          "text": [
            "\t brand 열의 제거된 인덱스의 수 : 466\n"
          ]
        }
      ]
    },
    {
      "cell_type": "code",
      "metadata": {
        "id": "heKy-BmlFhLH"
      },
      "source": [
        "res_mi_lst_fl = sum([res_mi_lst, list(fl_gf_dt_cp.iloc[1694:,:].index)], [])"
      ],
      "execution_count": 10,
      "outputs": []
    },
    {
      "cell_type": "code",
      "metadata": {
        "id": "iXjdw7etFhLI"
      },
      "source": [
        "# 해당 제거된 브랜드 데이터 204개의 경우 수기 매핑 진행할 것임으로 삭제된 브랜드 인덱스만 따로 추출하여 저장\n",
        "with open(os.getcwd() + '/' + 'res_mi_lst_fl.txt', 'wb') as fp:\n",
        "    pickle.dump(res_mi_lst_fl, fp)"
      ],
      "execution_count": 11,
      "outputs": []
    },
    {
      "cell_type": "markdown",
      "metadata": {
        "id": "UKuTA4YcFhLI"
      },
      "source": [
        "---"
      ]
    },
    {
      "cell_type": "markdown",
      "metadata": {
        "tags": [],
        "id": "3FwgMqGsFhLJ"
      },
      "source": [
        "##### ***- 유사도 분석을 목적으로 기준 데이터 로딩 및 1차 브랜드 네임 전처리***"
      ]
    },
    {
      "cell_type": "code",
      "metadata": {
        "colab": {
          "base_uri": "https://localhost:8080/",
          "height": 377
        },
        "id": "lgdx9zNrFhLJ",
        "outputId": "6bd80e0f-36f6-4e9f-b0bc-b269c3748b5a"
      },
      "source": [
        "fl_nv_dt_or = pd.read_csv([x for x in os.listdir() if x[:7] =='final_p'][0])\n",
        "stat_path = os.getcwd() + '/' +  [x for x in os.listdir() if x[-10:-4] == 'status'][0]\n",
        "\n",
        "fl_nv_dt_or['sales_status'] = pd.read_csv(stat_path).product_status.tolist()\n",
        "fl_nv_dt_or_cp_V = fl_nv_dt_or.copy()\n",
        "    \n",
        "if '브랜드' in fl_nv_dt_or.columns:\n",
        "    fl_nv_dt_or = fl_nv_dt_or.rename(columns = {'브랜드':'brand'})\n",
        "else:\n",
        "    fl_nv_dt_or = fl_nv_dt_or.copy()              \n",
        "    \n",
        "# ------------------------------------------ 브랜드 정보가 nan인 경우에 대해 미리 handling해둔 브랜드 정보로 fill_na        \n",
        "\n",
        "fl_nv_dt_or.iloc[:, 4] = list(pd.read_csv(os.getcwd() + '/' + [x for x in os.listdir() if x[:7] == 'final_b'][0]).brand)\n",
        "\n",
        "print('\\t -- df_total_length : ', len(fl_nv_dt_or)); print(); fl_nv_dt_or.tail(1)"
      ],
      "execution_count": 12,
      "outputs": [
        {
          "output_type": "stream",
          "name": "stdout",
          "text": [
            "\t -- df_total_length :  32465\n",
            "\n"
          ]
        },
        {
          "output_type": "execute_result",
          "data": {
            "text/html": [
              "<div>\n",
              "<style scoped>\n",
              "    .dataframe tbody tr th:only-of-type {\n",
              "        vertical-align: middle;\n",
              "    }\n",
              "\n",
              "    .dataframe tbody tr th {\n",
              "        vertical-align: top;\n",
              "    }\n",
              "\n",
              "    .dataframe thead th {\n",
              "        text-align: right;\n",
              "    }\n",
              "</style>\n",
              "<table border=\"1\" class=\"dataframe\">\n",
              "  <thead>\n",
              "    <tr style=\"text-align: right;\">\n",
              "      <th></th>\n",
              "      <th>title</th>\n",
              "      <th>link</th>\n",
              "      <th>상품번호</th>\n",
              "      <th>상품상태</th>\n",
              "      <th>brand</th>\n",
              "      <th>모델명</th>\n",
              "      <th>이벤트</th>\n",
              "      <th>사은품</th>\n",
              "      <th>원산지</th>\n",
              "      <th>사용부위</th>\n",
              "      <th>혜택조건</th>\n",
              "      <th>주요제품특징</th>\n",
              "      <th>제조사</th>\n",
              "      <th>품목</th>\n",
              "      <th>방식</th>\n",
              "      <th>타입</th>\n",
              "      <th>효과</th>\n",
              "      <th>마사지모드</th>\n",
              "      <th>충전방식</th>\n",
              "      <th>부가기능</th>\n",
              "      <th>전원</th>\n",
              "      <th>무게</th>\n",
              "      <th>색상</th>\n",
              "      <th>편의기능</th>\n",
              "      <th>세부제품특징</th>\n",
              "      <th>사용시간</th>\n",
              "      <th>용량</th>\n",
              "      <th>용기형태</th>\n",
              "      <th>피부타입</th>\n",
              "      <th>용도</th>\n",
              "      <th>시술모드</th>\n",
              "      <th>출력조절</th>\n",
              "      <th>추가구성</th>\n",
              "      <th>아트재료</th>\n",
              "      <th>아트도구</th>\n",
              "      <th>디자인</th>\n",
              "      <th>제조일자</th>\n",
              "      <th>PA지수</th>\n",
              "      <th>자외선차단지수</th>\n",
              "      <th>제품형태</th>\n",
              "      <th>...</th>\n",
              "      <th>매수</th>\n",
              "      <th>강도조절</th>\n",
              "      <th>1회사용시간</th>\n",
              "      <th>표시램프</th>\n",
              "      <th>이발기날</th>\n",
              "      <th>날조절</th>\n",
              "      <th>높이조절</th>\n",
              "      <th>안전기능</th>\n",
              "      <th>빗살캡</th>\n",
              "      <th>코드길이</th>\n",
              "      <th>온도조절</th>\n",
              "      <th>네일 영양제 타입</th>\n",
              "      <th>네일 영양제 효과</th>\n",
              "      <th>구분</th>\n",
              "      <th>개당중량</th>\n",
              "      <th>회전모드</th>\n",
              "      <th>충전식</th>\n",
              "      <th>진동</th>\n",
              "      <th>모드</th>\n",
              "      <th>속도조절</th>\n",
              "      <th>재질</th>\n",
              "      <th>건전지식</th>\n",
              "      <th>자동전원차단</th>\n",
              "      <th>회전</th>\n",
              "      <th>열판</th>\n",
              "      <th>온도조절여부</th>\n",
              "      <th>소음</th>\n",
              "      <th>자동타이머</th>\n",
              "      <th>소재</th>\n",
              "      <th>측정내용</th>\n",
              "      <th>풍량조절</th>\n",
              "      <th>온도조절방식</th>\n",
              "      <th>발생성분</th>\n",
              "      <th>원료</th>\n",
              "      <th>착용형태</th>\n",
              "      <th>구성</th>\n",
              "      <th>히터</th>\n",
              "      <th>온도표시</th>\n",
              "      <th>타이머</th>\n",
              "      <th>sales_status</th>\n",
              "    </tr>\n",
              "  </thead>\n",
              "  <tbody>\n",
              "    <tr>\n",
              "      <th>32464</th>\n",
              "      <td>스칼프메드 레드캡슐바이옴 두피케어 2종세트 (샴푸 400mlx2 + 트리트먼트 40...</td>\n",
              "      <td>https://shopping.naver.com/beauty/stores/10121...</td>\n",
              "      <td>5.629379e+09</td>\n",
              "      <td>신상품</td>\n",
              "      <td>스칼프메드</td>\n",
              "      <td>레드캡슐바이옴</td>\n",
              "      <td>NaN</td>\n",
              "      <td>NaN</td>\n",
              "      <td>국산(세종특별자치시)</td>\n",
              "      <td>NaN</td>\n",
              "      <td>NaN</td>\n",
              "      <td>머릿결개선</td>\n",
              "      <td>한국콜마</td>\n",
              "      <td>NaN</td>\n",
              "      <td>NaN</td>\n",
              "      <td>NaN</td>\n",
              "      <td>NaN</td>\n",
              "      <td>NaN</td>\n",
              "      <td>NaN</td>\n",
              "      <td>NaN</td>\n",
              "      <td>NaN</td>\n",
              "      <td>NaN</td>\n",
              "      <td>NaN</td>\n",
              "      <td>NaN</td>\n",
              "      <td>NaN</td>\n",
              "      <td>NaN</td>\n",
              "      <td>NaN</td>\n",
              "      <td>NaN</td>\n",
              "      <td>NaN</td>\n",
              "      <td>NaN</td>\n",
              "      <td>NaN</td>\n",
              "      <td>NaN</td>\n",
              "      <td>NaN</td>\n",
              "      <td>NaN</td>\n",
              "      <td>NaN</td>\n",
              "      <td>NaN</td>\n",
              "      <td>NaN</td>\n",
              "      <td>NaN</td>\n",
              "      <td>NaN</td>\n",
              "      <td>NaN</td>\n",
              "      <td>...</td>\n",
              "      <td>NaN</td>\n",
              "      <td>NaN</td>\n",
              "      <td>NaN</td>\n",
              "      <td>NaN</td>\n",
              "      <td>NaN</td>\n",
              "      <td>NaN</td>\n",
              "      <td>NaN</td>\n",
              "      <td>NaN</td>\n",
              "      <td>NaN</td>\n",
              "      <td>NaN</td>\n",
              "      <td>NaN</td>\n",
              "      <td>NaN</td>\n",
              "      <td>NaN</td>\n",
              "      <td>NaN</td>\n",
              "      <td>NaN</td>\n",
              "      <td>NaN</td>\n",
              "      <td>NaN</td>\n",
              "      <td>NaN</td>\n",
              "      <td>NaN</td>\n",
              "      <td>NaN</td>\n",
              "      <td>NaN</td>\n",
              "      <td>NaN</td>\n",
              "      <td>NaN</td>\n",
              "      <td>NaN</td>\n",
              "      <td>NaN</td>\n",
              "      <td>NaN</td>\n",
              "      <td>NaN</td>\n",
              "      <td>NaN</td>\n",
              "      <td>NaN</td>\n",
              "      <td>NaN</td>\n",
              "      <td>NaN</td>\n",
              "      <td>NaN</td>\n",
              "      <td>NaN</td>\n",
              "      <td>NaN</td>\n",
              "      <td>NaN</td>\n",
              "      <td>NaN</td>\n",
              "      <td>NaN</td>\n",
              "      <td>NaN</td>\n",
              "      <td>NaN</td>\n",
              "      <td>1</td>\n",
              "    </tr>\n",
              "  </tbody>\n",
              "</table>\n",
              "<p>1 rows × 103 columns</p>\n",
              "</div>"
            ],
            "text/plain": [
              "                                                   title  ... sales_status\n",
              "32464  스칼프메드 레드캡슐바이옴 두피케어 2종세트 (샴푸 400mlx2 + 트리트먼트 40...  ...            1\n",
              "\n",
              "[1 rows x 103 columns]"
            ]
          },
          "metadata": {},
          "execution_count": 12
        }
      ]
    },
    {
      "cell_type": "markdown",
      "metadata": {
        "id": "dt3IhH7lFhLK"
      },
      "source": [
        "<span style=\"color:blue\">*- 기존 'fl_nv_dt_or'의 경우 네이버 뷰티윈도의 상품 카테고리 분류에 기준하여 상품리스트를 스크래핑한 산출물, 상품 타이틀 내 오타 또는 약어 등이 포함되어 있음을 확인, 따라서 올바른 브랜드 정보를 확립하기 위해 오류 정보의 패턴을 파학 및 'fl_nv_dt_or'의 브랜드 정보를 수기 수정한 데이터로 대체하기를 결정*</span>"
      ]
    },
    {
      "cell_type": "markdown",
      "metadata": {
        "id": "a-RcMpB3FhLK"
      },
      "source": [
        "<span style=\"color:blue\">*- 기준이 되는 원 데이터와 비교군이 되는 쇼핑몰(ex_ glowpick) 사이에 모든 상품이 동일 업로드 되어 있진 않음을 확인, 이런 이유로 스크래핑 과정에서 특정 행들을 미리 필터링하도록 자동화 및 추출해 두었으며, 해당 행은 모델학습에서 삭제하기로 결정*</span>"
      ]
    },
    {
      "cell_type": "code",
      "metadata": {
        "colab": {
          "base_uri": "https://localhost:8080/"
        },
        "id": "ZRLL7_wGFhLK",
        "outputId": "417029f0-857d-495b-9a79-97b84682612e"
      },
      "source": [
        "print('\\t - number of total values of brand : ', len(fl_gf_dt_uq.brand)); print('\\t\\t - number of unique values of brand : ', len(set(fl_gf_dt_uq.brand)))"
      ],
      "execution_count": 13,
      "outputs": [
        {
          "output_type": "stream",
          "name": "stdout",
          "text": [
            "\t - number of total values of brand :  1382\n",
            "\t\t - number of unique values of brand :  1382\n"
          ]
        }
      ]
    },
    {
      "cell_type": "code",
      "metadata": {
        "tags": [],
        "colab": {
          "base_uri": "https://localhost:8080/"
        },
        "id": "7vu11dfoFhLL",
        "outputId": "232d8ecf-715a-4eff-e0a7-9f5112819082"
      },
      "source": [
        "dict_brd_ind    = collections.defaultdict(list)\n",
        "\n",
        "for brd in list( set(fl_nv_dt_or.iloc[:,4]) ):\n",
        "    dict_brd_ind[brd].append( fl_nv_dt_or[fl_nv_dt_or.iloc[:,4] == brd].index.tolist() )\n",
        "    \n",
        "type(dict_brd_ind)"
      ],
      "execution_count": 14,
      "outputs": [
        {
          "output_type": "execute_result",
          "data": {
            "text/plain": [
              "collections.defaultdict"
            ]
          },
          "metadata": {},
          "execution_count": 14
        }
      ]
    },
    {
      "cell_type": "code",
      "metadata": {
        "id": "ExKzU4y-FhLL"
      },
      "source": [
        "not_valid_brds = [x for x in list(fl_nv_dt_or.brand) if x not in list(fl_gf_dt_uq.brand)]\n",
        "not_valid_brds = list(set(not_valid_brds))\n",
        "\n",
        "error = []\n",
        "for x in not_valid_brds:\n",
        "    try:\n",
        "        fl_nv_dt_or.drop(dict_brd_ind[x][0], inplace=True)\n",
        "    except:\n",
        "        print(f'An error occurred while removing information of {x}')\n",
        "        error.append(x)\n",
        "        pass"
      ],
      "execution_count": 15,
      "outputs": []
    },
    {
      "cell_type": "code",
      "metadata": {
        "colab": {
          "base_uri": "https://localhost:8080/"
        },
        "id": "QkedpMeoFhLL",
        "outputId": "10effc53-c352-4e1c-d8f7-6e29c0dada44"
      },
      "source": [
        "print(f'\\t - number of rows deleted == {len(fl_nv_dt_or_cp_V) - len(fl_nv_dt_or)}')\n",
        "print(f'\\t - number of errors == {len(error)}')\n",
        "\n",
        "fl_nv_dt_or_res = fl_nv_dt_or.copy()"
      ],
      "execution_count": 16,
      "outputs": [
        {
          "output_type": "stream",
          "name": "stdout",
          "text": [
            "\t - number of rows deleted == 2929\n",
            "\t - number of errors == 0\n"
          ]
        }
      ]
    },
    {
      "cell_type": "code",
      "metadata": {
        "colab": {
          "base_uri": "https://localhost:8080/"
        },
        "id": "AJvjJCaRFhLL",
        "outputId": "936a1e3c-2c1f-4cfe-bc65-de8b8897e464"
      },
      "source": [
        "fl_nv_dt_or_res_OV = fl_nv_dt_or_res.copy()\n",
        "fl_nv_dt_or_res = fl_nv_dt_or_res[fl_nv_dt_or_res.sales_status != -1].copy()\n",
        "\n",
        "print(f'\\t - Number fo products currently not on sale == {len(fl_nv_dt_or_res_OV) - len(fl_nv_dt_or_res)}')"
      ],
      "execution_count": 17,
      "outputs": [
        {
          "output_type": "stream",
          "name": "stderr",
          "text": [
            "2021-09-29 03:00:20,659 : INFO : NumExpr defaulting to 2 threads.\n"
          ]
        },
        {
          "output_type": "stream",
          "name": "stdout",
          "text": [
            "\t - Number fo products currently not on sale == 1346\n"
          ]
        }
      ]
    },
    {
      "cell_type": "code",
      "metadata": {
        "colab": {
          "base_uri": "https://localhost:8080/"
        },
        "id": "VbYHwtWPFhLM",
        "outputId": "f527e96e-dec8-45a3-b5e8-f8329fad62e7"
      },
      "source": [
        "idx = 0\n",
        "for i in range(len(fl_nv_dt_or_res)):\n",
        "    if str(fl_nv_dt_or_res.iloc[i, 4]) not in str(fl_nv_dt_or_res.iloc[i, :].title):\n",
        "        idx += 1\n",
        "        \n",
        "print(f'\\t - Number of rows where the brand name is missing or incorrectly entered in the product title == , {idx}')\n",
        "print(f'\\t - Number of rows where the brand name is clearly included in the product title == , {len(fl_nv_dt_or_res) - idx}')"
      ],
      "execution_count": 18,
      "outputs": [
        {
          "output_type": "stream",
          "name": "stdout",
          "text": [
            "\t - Number of rows where the brand name is missing or incorrectly entered in the product title == , 3061\n",
            "\t - Number of rows where the brand name is clearly included in the product title == , 25129\n"
          ]
        }
      ]
    },
    {
      "cell_type": "code",
      "metadata": {
        "tags": [],
        "colab": {
          "base_uri": "https://localhost:8080/"
        },
        "id": "kxN5DOwHFhLM",
        "outputId": "7262d6cc-cff8-4c63-e47a-edd06951fe82"
      },
      "source": [
        "word_len_one_sum_count, word_len_two_sum_count = [],[]\n",
        "\n",
        "word_len_one, word_len_two = [],[]\n",
        "word_inc_one, word_inc_two = [],[]\n",
        "\n",
        "for idx, row in fl_nv_dt_or_res.iterrows():\n",
        "    \n",
        "    if row.brand in row.title:\n",
        "        if len(row.brand) == 1:\n",
        "            word_len_one.append(row.brand)\n",
        "            if row.brand in row.brand:\n",
        "                word_len_one_eac_count = []\n",
        "\n",
        "                target_brd = row.brand\n",
        "                target_tlt = row.title\n",
        "\n",
        "                for ts in range(1, len(target_tlt)):\n",
        "                    if target_brd == target_tlt[ts-1 : ts]:\n",
        "                        word_len_one_eac_count.append(1)\n",
        "                    if ts == len(target_tlt)-1:\n",
        "                        if target_brd == target_tlt[-1]:\n",
        "                            word_len_one_eac_count.append(1)\n",
        "                word_len_one_sum_count.append(sum(word_len_one_eac_count))\n",
        "                word_inc_one.append(row.brand)\n",
        "                \n",
        "        elif len(row.brand) == 2:\n",
        "            word_len_two.append(row.brand)\n",
        "            if row.brand in row.brand:\n",
        "                word_len_two_eac_count = []\n",
        "                \n",
        "                target_brd = row.brand\n",
        "                target_tlt = row.title\n",
        "                \n",
        "                for x, y in  zip([x for x in range(len(target_tlt)-1)], [x for x in range(1, len(target_tlt))]):\n",
        "                    if target_brd == str(target_tlt[x] + target_tlt[y]):\n",
        "                        word_len_two_eac_count.append(1)\n",
        "                word_len_two_sum_count.append(sum(word_len_two_eac_count))\n",
        "                word_inc_two.append(row.brand)\n",
        "\n",
        "print('\\t Whether the one-letter brand name is included in the product title : ', len(word_len_one) == len(word_inc_one))\n",
        "if (len(word_len_one_sum_count) == len(word_inc_one)): TorF = False\n",
        "print(f'\\t\\t If the brand name is included in the product title, check whether it is included repeatedly : {TorF}'); print()\n",
        "\n",
        "print('\\t Whether the two-letter brand name is included in the product title : ', len(word_len_two) == len(word_inc_two)) \n",
        "if (len(word_len_two_sum_count) == len(word_inc_two)): TorF = False\n",
        "print(f'\\t\\t If the brand name is included in the product title, check whether it is included repeatedly : {TorF}')"
      ],
      "execution_count": 19,
      "outputs": [
        {
          "output_type": "stream",
          "name": "stdout",
          "text": [
            "\t Whether the one-letter brand name is included in the product title :  True\n",
            "\t\t If the brand name is included in the product title, check whether it is included repeatedly : False\n",
            "\n",
            "\t Whether the two-letter brand name is included in the product title :  True\n",
            "\t\t If the brand name is included in the product title, check whether it is included repeatedly : False\n"
          ]
        }
      ]
    },
    {
      "cell_type": "code",
      "metadata": {
        "id": "qpsfVdYfFhLN"
      },
      "source": [
        "for idx, row in fl_nv_dt_or_res.iterrows():\n",
        "    if row.brand in row.title:\n",
        "        fl_nv_dt_or_res.loc[idx, 'title'] = row.title.replace(row.brand, '')"
      ],
      "execution_count": 20,
      "outputs": []
    },
    {
      "cell_type": "code",
      "metadata": {
        "colab": {
          "base_uri": "https://localhost:8080/"
        },
        "id": "EdO5GppfFhLN",
        "outputId": "e91c1a8b-0745-477b-f369-6adc2a2fa6d4"
      },
      "source": [
        "print('Example) _ ')\n",
        "print(f'\\t {fl_nv_dt_or.iloc[2, :].title}'); print(f'\\t\\t {fl_nv_dt_or_res.iloc[2, :].title}')"
      ],
      "execution_count": 21,
      "outputs": [
        {
          "output_type": "stream",
          "name": "stdout",
          "text": [
            "Example) _ \n",
            "\t 헤라 NEW블랙쿠션SPF34/PA++15gx2(본품1개+리필1개)+[N페이 3천점]\n",
            "\t\t  NEW블랙쿠션SPF34/PA++15gx2(본품1개+리필1개)+[N페이 3천점]\n"
          ]
        }
      ]
    },
    {
      "cell_type": "markdown",
      "metadata": {
        "id": "SnJWiQ1rFhLO"
      },
      "source": [
        "---"
      ]
    },
    {
      "cell_type": "markdown",
      "metadata": {
        "id": "vbyKLYtXFhLO"
      },
      "source": [
        "##### ***- 데이터 전처리***"
      ]
    },
    {
      "cell_type": "markdown",
      "metadata": {
        "id": "jjXKar67FhLO"
      },
      "source": [
        "<span style=\"color:blue\">*- 해당 TF-IDF의 모델의 경우 일치하는 단어를 기준하여 유사도를 판별, 이런 이유로 유사도에 직접적으로 기여할 수 있는 제품 타이틀 명에 대해 잘못 기입된 특정 패턴을 dictionary화*</span>"
      ]
    },
    {
      "cell_type": "code",
      "metadata": {
        "id": "smE_3YOQsm_K"
      },
      "source": [
        "brd_en_kr_dict = {\n",
        "    'iunik':'아이유닉',\n",
        "    'CHILFACE':'7FACE',\n",
        "    'Physis':'피시스',\n",
        "    'INGA':'잉가',\n",
        "    'mixsoon':'믹순',\n",
        "    'RAUSCH':'라우쉬',\n",
        "    'SNP':'에스앤피',\n",
        "    'jeen':'진',\n",
        "    'CNC코스메틱': 'cNc',\n",
        "    'Phymongshe':'피몽쉐',\n",
        "    'JEEN':'진',\n",
        "    'EUNYUL':'은율',\n",
        "    'VDL':'브이디엘',\n",
        "    'NEEDLY':'니들리',\n",
        "    'BODYROUTINE':'바디루틴',\n",
        "    'herbalfacefood':'허벌페이스푸드',\n",
        "    'BARREL':'배럴',\n",
        "    'FLALIA':'플라리아',\n",
        "    'LUSH':'러쉬',\n",
        "    'phykology':'파이콜로지',\n",
        "    'ODYSSEY':'오딧세이',\n",
        "    'Nouvelle Derm':'누벨덤',\n",
        "    'A.black':'에이블랙',\n",
        "    'IUNIK':'아이유닉',\n",
        "    'PARISSA':'페리샤',\n",
        "    'BABOR':'바버',\n",
        "    'DS래보래토리즈':'디에스랩',\n",
        "    'Calatas':'칼라타스',\n",
        "    'HOURGLASS':'아워글래스',\n",
        "    'Emma Hardie':'엠마하디',\n",
        "    'LAPCOS':'랩코스',\n",
        "    'ANNETBRUSH':'아넷브러쉬',\n",
        "    'REDDY':'레디',\n",
        "    'ellips':'엘립스',\n",
        "    'HAU':'하우',\n",
        "    'PW솔루션':'피더블유',\n",
        "    'RAIP':'라입',\n",
        "    'lovea':'로베아',\n",
        "    'MERZY':'머지',\n",
        "    'RATE':'레이트',\n",
        "    'HYGGEE':'휘게',\n",
        "    'MEDIPICKME':'메디픽미',\n",
        "    'JM솔루션':'제이엠솔루션',\n",
        "    'FARFALLA':'파팔라',\n",
        "    'NTMT':'엔티엠티',\n",
        "    'Wednesday':'웬즈데이',\n",
        "    'koelcia':'코엘시아',\n",
        "    'JENIA':'제니아',\n",
        "    'MUSTEM':'뮤스템',\n",
        "    'AN12':'에이엔12',\n",
        "    'LUK':'룩',\n",
        "    'Ogi':'오지아이',\n",
        "    'MEDIMINE':'메디마인',\n",
        "    'HEYBRO':'헤이브로',\n",
        "    'Bluecell':'블루셀',\n",
        "    'LUNA':'루나',\n",
        "    'heartpercent':'하트퍼센트',\n",
        "    'LOIVIE':'로이비',\n",
        "    'CNP': '차앤박',\n",
        "    'Emma Hardie': '엠마하디',\n",
        "    'LaF': 'LAF',\n",
        "    'ZEMU': '제무',\n",
        "    '구디': 'Goody',\n",
        "    '끌로에': 'Chlo',\n",
        "    '네츄럴샤인': 'NS',\n",
        "    '다노클리닉': '다노',\n",
        "    '닥터3': 'DOCTOR.3',\n",
        "    '더 히스토리 오브 후': '[후]',\n",
        "    '라온컴퍼니': '라온',\n",
        "    '랑팔라투르': '랑팔',\n",
        "    '로맨띠끄': 'LMTQ',\n",
        "    '로얄헤나': '로얄',\n",
        "    '릴리트리': '릴리',\n",
        "    '미프': 'MIP',\n",
        "    '바버': 'BABOR',\n",
        "    '배럴코스메틱스': '배럴',\n",
        "    '버블몬스터': '버몬',\n",
        "    '브이디엘': 'VDL',\n",
        "    '비디비치': 'VIDIVICI',\n",
        "    '비바코리아': '비바',\n",
        "    '비씨엘': 'BCL',\n",
        "    '비알티씨': 'BRTC',\n",
        "    '비에스코스': 'BSKOS',\n",
        "    '수니': 'SOONI',\n",
        "    '실크테라피': '실크',\n",
        "    '씨엘포': 'CL4',\n",
        "    '씨피원': 'CP-1',\n",
        "    '아모레퍼시픽': 'AP',\n",
        "    '아틱': 'ATIC',\n",
        "    '안나홀츠': '홀츠포맨',\n",
        "    '언파코스메틱': '언파',\n",
        "    '에스알비': 'SRB',\n",
        "    '에스앤피': 'SNP',\n",
        "    '에스투엔디': 'S2ND',\n",
        "    '에포나': 'EPONA',\n",
        "    '에프쓰리 시스템즈': 'F3',\n",
        "    '엘라스틴': 'ES',\n",
        "    '엠엘비 코스메틱': 'MLB',\n",
        "    '오즈비엔에이치': '오즈',\n",
        "    '웰라 프로페셔널즈': '웰라',\n",
        "    '자연담은유리병': '자담유',\n",
        "    '진': 'jeen',\n",
        "    '칠페이스': '7FACE',\n",
        "    '키셔': 'KISHER',\n",
        "    '토스': 'Tous',\n",
        "    '토아스': 'TOAS',\n",
        "    '티스': 'TISS',\n",
        "    '티에스더블유': 'TSW',\n",
        "    '한조컬렉션': '한조'\n",
        "}"
      ],
      "execution_count": 22,
      "outputs": []
    },
    {
      "cell_type": "code",
      "metadata": {
        "colab": {
          "base_uri": "https://localhost:8080/",
          "height": 344
        },
        "id": "cXdgovWTFhLO",
        "outputId": "663c202a-6c02-4eaa-a558-4b65fbcc05d8"
      },
      "source": [
        "fl_nv_dt_or_res['copy_brd'] = fl_nv_dt_or_res['brand'].copy()\n",
        "fl_nv_dt_or_res.tail(1)"
      ],
      "execution_count": 23,
      "outputs": [
        {
          "output_type": "execute_result",
          "data": {
            "text/html": [
              "<div>\n",
              "<style scoped>\n",
              "    .dataframe tbody tr th:only-of-type {\n",
              "        vertical-align: middle;\n",
              "    }\n",
              "\n",
              "    .dataframe tbody tr th {\n",
              "        vertical-align: top;\n",
              "    }\n",
              "\n",
              "    .dataframe thead th {\n",
              "        text-align: right;\n",
              "    }\n",
              "</style>\n",
              "<table border=\"1\" class=\"dataframe\">\n",
              "  <thead>\n",
              "    <tr style=\"text-align: right;\">\n",
              "      <th></th>\n",
              "      <th>title</th>\n",
              "      <th>link</th>\n",
              "      <th>상품번호</th>\n",
              "      <th>상품상태</th>\n",
              "      <th>brand</th>\n",
              "      <th>모델명</th>\n",
              "      <th>이벤트</th>\n",
              "      <th>사은품</th>\n",
              "      <th>원산지</th>\n",
              "      <th>사용부위</th>\n",
              "      <th>혜택조건</th>\n",
              "      <th>주요제품특징</th>\n",
              "      <th>제조사</th>\n",
              "      <th>품목</th>\n",
              "      <th>방식</th>\n",
              "      <th>타입</th>\n",
              "      <th>효과</th>\n",
              "      <th>마사지모드</th>\n",
              "      <th>충전방식</th>\n",
              "      <th>부가기능</th>\n",
              "      <th>전원</th>\n",
              "      <th>무게</th>\n",
              "      <th>색상</th>\n",
              "      <th>편의기능</th>\n",
              "      <th>세부제품특징</th>\n",
              "      <th>사용시간</th>\n",
              "      <th>용량</th>\n",
              "      <th>용기형태</th>\n",
              "      <th>피부타입</th>\n",
              "      <th>용도</th>\n",
              "      <th>시술모드</th>\n",
              "      <th>출력조절</th>\n",
              "      <th>추가구성</th>\n",
              "      <th>아트재료</th>\n",
              "      <th>아트도구</th>\n",
              "      <th>디자인</th>\n",
              "      <th>제조일자</th>\n",
              "      <th>PA지수</th>\n",
              "      <th>자외선차단지수</th>\n",
              "      <th>제품형태</th>\n",
              "      <th>...</th>\n",
              "      <th>강도조절</th>\n",
              "      <th>1회사용시간</th>\n",
              "      <th>표시램프</th>\n",
              "      <th>이발기날</th>\n",
              "      <th>날조절</th>\n",
              "      <th>높이조절</th>\n",
              "      <th>안전기능</th>\n",
              "      <th>빗살캡</th>\n",
              "      <th>코드길이</th>\n",
              "      <th>온도조절</th>\n",
              "      <th>네일 영양제 타입</th>\n",
              "      <th>네일 영양제 효과</th>\n",
              "      <th>구분</th>\n",
              "      <th>개당중량</th>\n",
              "      <th>회전모드</th>\n",
              "      <th>충전식</th>\n",
              "      <th>진동</th>\n",
              "      <th>모드</th>\n",
              "      <th>속도조절</th>\n",
              "      <th>재질</th>\n",
              "      <th>건전지식</th>\n",
              "      <th>자동전원차단</th>\n",
              "      <th>회전</th>\n",
              "      <th>열판</th>\n",
              "      <th>온도조절여부</th>\n",
              "      <th>소음</th>\n",
              "      <th>자동타이머</th>\n",
              "      <th>소재</th>\n",
              "      <th>측정내용</th>\n",
              "      <th>풍량조절</th>\n",
              "      <th>온도조절방식</th>\n",
              "      <th>발생성분</th>\n",
              "      <th>원료</th>\n",
              "      <th>착용형태</th>\n",
              "      <th>구성</th>\n",
              "      <th>히터</th>\n",
              "      <th>온도표시</th>\n",
              "      <th>타이머</th>\n",
              "      <th>sales_status</th>\n",
              "      <th>copy_brd</th>\n",
              "    </tr>\n",
              "  </thead>\n",
              "  <tbody>\n",
              "    <tr>\n",
              "      <th>32464</th>\n",
              "      <td>레드캡슐바이옴 두피케어 2종세트 (샴푸 400mlx2 + 트리트먼트 400ml)</td>\n",
              "      <td>https://shopping.naver.com/beauty/stores/10121...</td>\n",
              "      <td>5.629379e+09</td>\n",
              "      <td>신상품</td>\n",
              "      <td>스칼프메드</td>\n",
              "      <td>레드캡슐바이옴</td>\n",
              "      <td>NaN</td>\n",
              "      <td>NaN</td>\n",
              "      <td>국산(세종특별자치시)</td>\n",
              "      <td>NaN</td>\n",
              "      <td>NaN</td>\n",
              "      <td>머릿결개선</td>\n",
              "      <td>한국콜마</td>\n",
              "      <td>NaN</td>\n",
              "      <td>NaN</td>\n",
              "      <td>NaN</td>\n",
              "      <td>NaN</td>\n",
              "      <td>NaN</td>\n",
              "      <td>NaN</td>\n",
              "      <td>NaN</td>\n",
              "      <td>NaN</td>\n",
              "      <td>NaN</td>\n",
              "      <td>NaN</td>\n",
              "      <td>NaN</td>\n",
              "      <td>NaN</td>\n",
              "      <td>NaN</td>\n",
              "      <td>NaN</td>\n",
              "      <td>NaN</td>\n",
              "      <td>NaN</td>\n",
              "      <td>NaN</td>\n",
              "      <td>NaN</td>\n",
              "      <td>NaN</td>\n",
              "      <td>NaN</td>\n",
              "      <td>NaN</td>\n",
              "      <td>NaN</td>\n",
              "      <td>NaN</td>\n",
              "      <td>NaN</td>\n",
              "      <td>NaN</td>\n",
              "      <td>NaN</td>\n",
              "      <td>NaN</td>\n",
              "      <td>...</td>\n",
              "      <td>NaN</td>\n",
              "      <td>NaN</td>\n",
              "      <td>NaN</td>\n",
              "      <td>NaN</td>\n",
              "      <td>NaN</td>\n",
              "      <td>NaN</td>\n",
              "      <td>NaN</td>\n",
              "      <td>NaN</td>\n",
              "      <td>NaN</td>\n",
              "      <td>NaN</td>\n",
              "      <td>NaN</td>\n",
              "      <td>NaN</td>\n",
              "      <td>NaN</td>\n",
              "      <td>NaN</td>\n",
              "      <td>NaN</td>\n",
              "      <td>NaN</td>\n",
              "      <td>NaN</td>\n",
              "      <td>NaN</td>\n",
              "      <td>NaN</td>\n",
              "      <td>NaN</td>\n",
              "      <td>NaN</td>\n",
              "      <td>NaN</td>\n",
              "      <td>NaN</td>\n",
              "      <td>NaN</td>\n",
              "      <td>NaN</td>\n",
              "      <td>NaN</td>\n",
              "      <td>NaN</td>\n",
              "      <td>NaN</td>\n",
              "      <td>NaN</td>\n",
              "      <td>NaN</td>\n",
              "      <td>NaN</td>\n",
              "      <td>NaN</td>\n",
              "      <td>NaN</td>\n",
              "      <td>NaN</td>\n",
              "      <td>NaN</td>\n",
              "      <td>NaN</td>\n",
              "      <td>NaN</td>\n",
              "      <td>NaN</td>\n",
              "      <td>1</td>\n",
              "      <td>스칼프메드</td>\n",
              "    </tr>\n",
              "  </tbody>\n",
              "</table>\n",
              "<p>1 rows × 104 columns</p>\n",
              "</div>"
            ],
            "text/plain": [
              "                                               title  ... copy_brd\n",
              "32464   레드캡슐바이옴 두피케어 2종세트 (샴푸 400mlx2 + 트리트먼트 400ml)  ...    스칼프메드\n",
              "\n",
              "[1 rows x 104 columns]"
            ]
          },
          "metadata": {},
          "execution_count": 23
        }
      ]
    },
    {
      "cell_type": "markdown",
      "metadata": {
        "id": "W7PYcC7PFhLO"
      },
      "source": [
        "<span style=\"color:blue\">*- dict 정보에 기반하여 잘못 기입된 제품 타이틀의 정보를 추출및 추후 수정하기 위한 목적으로 title내의 특정 브랜드 정보를 따로 추출 및 비교군 데이터의 바른 브랜드명으로 replace*</span>\n",
        "\n",
        "<span style=\"color:blue\">*- 유사도 분석 중 Accuracy향상이 주된 목적*</span>"
      ]
    },
    {
      "cell_type": "code",
      "metadata": {
        "id": "o8b9bXONFhLO"
      },
      "source": [
        "# extraction\n",
        "for idx,row in fl_nv_dt_or_res.iterrows():\n",
        "    for x in list(brd_en_kr_dict.keys()):\n",
        "        if x == row['copy_brd']:\n",
        "            if brd_en_kr_dict[x] in row['title']:\n",
        "                fl_nv_dt_or_res['copy_brd'][idx] = brd_en_kr_dict[x]\n",
        "\n",
        "# replace\n",
        "for idx, row in fl_nv_dt_or_res.iterrows():\n",
        "    fl_nv_dt_or_res.loc[idx,'title'] = row['title'].replace(row['copy_brd'],'')"
      ],
      "execution_count": 24,
      "outputs": []
    },
    {
      "cell_type": "markdown",
      "metadata": {
        "id": "TZdwgGXqFhLP"
      },
      "source": [
        "<span style=\"color:blue\">*- 패턴 색출이 어려운 이유로, 상품 타이틀에 대해 명확한 브랜드 정보로 대체해주지 못한 경우에 대비하여, 추가적인 전처리 방안을 모색*</span>"
      ]
    },
    {
      "cell_type": "markdown",
      "metadata": {
        "id": "iV9onC7CFhLP"
      },
      "source": [
        "<img src=\"https://img1.daumcdn.net/thumb/R1280x0/?scode=mtistory2&fname=https%3A%2F%2Fblog.kakaocdn.net%2Fdn%2FzGnk7%2FbtqzLEopozf%2Fy2sOocMySuc4ZZhzbt0Ufk%2Fimg.png\">"
      ]
    },
    {
      "cell_type": "markdown",
      "metadata": {
        "id": "MdxoCufmFhLP"
      },
      "source": [
        "    - 해당 문제를 해결하기 위해, image processing의 stride와 Convolution에서 아이디어를 착안하여 해당 전처리를 해결.\n",
        "\n",
        "        : 혼선이 없도록 title에 포함된 브랜드명을 b-title, 브랜드열의 브랜드값을 b-brand로 명칭하겠습니다.\n",
        "          하단의 코드는 크게 3가지 케이스에 대하여 전처리를 진행합니다. \n",
        "          \n",
        "              * case_1: b-title과 b-brand가 띄어쓰기가 다른 경우, \n",
        "              * case_2: b-title이 축약된 b-brand를 포함하고 있는 경우, \n",
        "              * case_3: 반대로 b-brand에는 축약된 브랜드 네임이, b-title은 풀 브랜드 네임인 경우\n",
        "              \n",
        "        위 세가지 경우 b-title이 브랜드명으로써 인식되지 않는 문제가 발생할 수 있습니다.\n",
        "        이를 해결하기 위한 대안으로, 3개 이상 연속적으로 공통되는 문자열이 나오면, 유효한 브랜드명으로 판단하기로 기준을 마련하였습니다.\n",
        "        \n",
        "        판단을 위해 아래와 같은 과정이 진행됩니다.\n",
        "        \n",
        "            * 먼저 title 문자열의 공백을 제거해주고, brand문자열의 공백 또한 제거해줍니다.\n",
        "            * title 문자열과 brand 문자열 각각을 독립된 문자 리스트로 만들어줍니다.\n",
        "            * 이후, brand 문자열과 title 문자열 간의 일치 정도에 따라 임의의 ''을 insert하며 strid를 만들어내고 반복적으로 일치여부를 판단하여 title 내의 제거할 문자열을 색출해냅니다.\n",
        "            \n",
        "            Example)\n",
        "            st1_\n",
        "            ['안','녕','이','니','스','아','이','크','림']\n",
        "            ['이','니','스','프','리'] \n",
        "\n",
        "            st2_\n",
        "            ['안','녕','이','니','스','아','이','크','림']\n",
        "            ['' , '이','니','스','프','리']\n",
        "\n",
        "            st3_\n",
        "            ['안','녕','이','니','스','아','이','크','림']\n",
        "            ['' ,'', '이','니','스','프','리']\n",
        "            \n",
        "            .\n",
        "            .\n",
        "            .\n",
        "\n",
        "            ['안','녕','이','니','스','아','이','크','림']\n",
        "            ['' , '','',  '이','니','스','프','리']              "
      ]
    },
    {
      "cell_type": "code",
      "metadata": {
        "id": "T0ixBJsdFhLP"
      },
      "source": [
        "def remove_all_b_in_t(input_tlt = '', input_brd = ''):\n",
        "    '''\n",
        "    \n",
        "    - input_tlt : character string of cosmetic product name\n",
        "    - input_brd : character string of cosmetic brand name \n",
        "    \n",
        "    - tlt_char_lst       : title 문자열 리스트화 \n",
        "        +a '색출하고자 하는 문자열'이 '상품 타이틀의 맨 앞단'에 위치할 뿐 아니라, 앞서 언급한 바와 같이 '생략된 단어' 형태로 위치한 경우에 대비하여 임의의 특수문자를 추가\n",
        "        \n",
        "    - tlt_strpd_char_lst : title 문자열 리스트화 + 공백제거\n",
        "    - brd_char_list      : brand 문자열 리스트화 + 공백제거\n",
        "        \n",
        "    '''\n",
        "    input_tlt = '******' + input_tlt\n",
        "    \n",
        "    tlt_char_lst       = list(input_tlt)\n",
        "    tlt_strpd_char_lst = list(input_tlt.replace(' ','')) \n",
        "    brd_char_list      = list(input_brd.replace(' ',''))\n",
        "    \n",
        "    indices_space = [i for i, x in enumerate(tlt_char_lst) if x == ' ']\n",
        "    \n",
        "    for i in range(len(tlt_strpd_char_lst) - len(brd_char_list) + 1):\n",
        "        idx_ls = []\n",
        "        for j in range(len(brd_char_list)):\n",
        "            if tlt_strpd_char_lst[j] == brd_char_list[j]:\n",
        "                if (len(idx_ls) > 0) and ((idx_ls[-1]+1) != j):\n",
        "                    break\n",
        "                else:\n",
        "                    idx_ls.append(j)\n",
        "                    \n",
        "        if len(idx_ls) < 3:\n",
        "            brd_char_list.insert(0, '')\n",
        "\n",
        "        else:\n",
        "            for idx in idx_ls:\n",
        "                tlt_strpd_char_lst[idx] = '' \n",
        "\n",
        "    for idx in indices_space:\n",
        "        tlt_strpd_char_lst.insert(idx,' ') \n",
        "\n",
        "    return(''.join(tlt_strpd_char_lst).replace('*', ''))"
      ],
      "execution_count": 25,
      "outputs": []
    },
    {
      "cell_type": "code",
      "metadata": {
        "id": "7Q0UWfRZFhLP"
      },
      "source": [
        "for idx in fl_nv_dt_or_res.index:\n",
        "    input_tlt = fl_nv_dt_or_res.loc[idx, 'title']\n",
        "    input_brd = fl_nv_dt_or_res.loc[idx, 'copy_brd']\n",
        "    \n",
        "    modified_tlt = remove_all_b_in_t(input_tlt, input_brd)\n",
        "    \n",
        "    if input_tlt != modified_tlt:\n",
        "        fl_nv_dt_or_res.loc[idx, 'title'] = modified_tlt"
      ],
      "execution_count": 26,
      "outputs": []
    },
    {
      "cell_type": "markdown",
      "metadata": {
        "id": "lrQfsLTqFhLP"
      },
      "source": [
        "<span style=\"color:blue\">*- 추가 전처리*</span>\n",
        "\n",
        "    1. 대소문자 변경 및 특수기호 제거\n",
        "\n",
        "    2. 하나의 벡터로 인식되어야 하는 단어들 (substr_items)에 대하여 앞뒤로 공백 추가\n",
        "    \n",
        "    3. 기준 데이터의 타이틀 열에서 반복적으로 나타나는 불용어 (==제품명과 무관한 키워드)를 to_empty 리스트에 넣어 제거\n",
        "    \n",
        "    4. 기준 데이터의 타이틀 열에서 공통적으로 발견되는 불용어 패턴들을 정립하고, 바뀐 패턴을 적용\n",
        "    \n",
        "***----------------------***\n",
        "\n",
        "    5. 비교군 데이터의 타이틀 열에서 공통적으로 발견되는 불용어 패턴들을 정립하고, 바뀐 패턴을 적용"
      ]
    },
    {
      "cell_type": "code",
      "metadata": {
        "id": "q1T1E3TCFhLQ"
      },
      "source": [
        "substr_items = ['모이스처라이저', '트리트먼트', '하이라이터', '립글로즈', '수분크림', '컨디셔너', '제모기', '클린저', '브러싱', '클렌저', \n",
        "                '클렌져', '컨실러', '컴펙트', '리무버', 'spf', '새도우', '컨투어', '소독제', '브러쉬', '탑코트', '세안제', '클렌징', \n",
        "                '에센스', '파우더', '디퓨져', '미스트', '선크림', '선크림', '썬크림', '소프너', '에센셜', '올인원', '브로우', '밸런서', '에멀젼', \n",
        "                '섀도우', '쉐도우', '스크럽', '하드너', '에멀전', '선스틱', '베이스', '퍼프', '토닉', '토너', '향수', '토닝', '네일', '앰플', \n",
        "                '틴트', '로션', '비누', '팩트', '비비', '샴푸', '퍼밍', '쿠션', '닥토','펜슬', '카밍', '유액', '세럼']\n",
        "\n",
        "to_empty = ['뷰티어워드', '가성비갑', '수분탄력', '남녀노소', '겟잇뷰티', '한정판매', '교차선택', 'best','베스트','재구매율', \n",
        "            '안번지는', '1일1팩', 'pick', '올리브영', '무료배송', '출고예정', '후기검증', '외 모음','구매평','오늘출발','본사직영'\n",
        "            '풀세트', '10대', '20대', 'set','세트', '체험분', '초간단', 'n페이', 'n단독','부탁해', '공식몰', '가려움', '어워드', '신규향', '홈쇼핑', \n",
        "            '무첨가', '온종일', '지속력', '끈적임', '네이버', '패키지', '향좋은', '화장품', '깨끗한', 'out', '기획가', 'new', '속보습', '사은품','직수입'\n",
        "            '세트', '추천', '겸용', '돌파', '적립', '구성', '완료', '단독', '특가', '리필', '납품', '수상', '출시', '본품', '증정', '단품','공식','정품','비건인증', \n",
        "            '최대', '모음', '용품', '입고', '고정', '기획', '옵션','쿠폰', '적합', '쇼핑판', '쇼핑백','쇼핑', '없는', '묶음', '특별', '신상', '신형', '혜택']\n",
        "\n",
        "to_empty_regex = ['no\\.*,*\\s*1','[0-9]+만회','[0-9]\\.[0-9]+\\s*g','[0-9]+\\s*g','[0-9]+만점','[0-9]+회분','[0-9]+/[0-9]{1,2}~[0-9]*/*[0-9]{1,2}','[0-9]+\\.[0-9]{1,2}~[0-9]*\\.*[0-9]{1,2}',\n",
        "                  '[0-9]\\s*box','[0-9]\\s*박스','n\\s*페이','n\\s*pay','1\\s*위','[0-9]병','1\\s*등','[0-9]\\s*일','[0-9]천p','[0-9]천점*',\n",
        "                  '[0-9]+만개','[0-9]+만원','[0-9]+만p','[ㄱ-ㅎ가-힣]+\\s*pick','[ㄱ-ㅎ가-힣]+\\s*픽한','택\\s*[0-9]','[0-9]+\\s*color','[0-9]+\\s*종','x\\s*[0-9]\\s*개','총*\\s*[0-9]+\\s*개당*입*',\n",
        "                  '[0-9]관왕','[0-9]\\.[0-9]\\s*ml','[0-9]+\\s*m*ml','[0-9]+입','[0-9]\\s*kg','[0-9]+가지','[0-9]+,*[0-9]+건',\n",
        "                  '[0-9]+\\.[0-9]+\\s*oz','[0-9]+\\s*oz','[0-9]+\\s*l','[0-9]+\\s*매입','[0-9]+\\s*매','[0-9]+ea','x\\s*[0-9]','택\\s*[0-9]','[0-9]+/[0-9]{1,2}','[0-9]\\s*\\+\\s*[0-9]','\\+[0-9]']"
      ],
      "execution_count": 27,
      "outputs": []
    },
    {
      "cell_type": "code",
      "metadata": {
        "id": "zLW9PS-jFhLQ"
      },
      "source": [
        "# 0)\n",
        "fl_nv_dt_or_res['title'] = fl_nv_dt_or_res['title'].str.lower() \n",
        "fl_gf_dt_uq['stuff_name'] = fl_gf_dt_uq['stuff_name'].astype(str).str.lower() "
      ],
      "execution_count": 28,
      "outputs": []
    },
    {
      "cell_type": "code",
      "metadata": {
        "id": "GhUG2_3MFhLQ"
      },
      "source": [
        "def verify_change(tlt_org,tlt_aft):\n",
        "    '''\n",
        "    - tlt_org: 원제품 타이틀\n",
        "    - tlt_aft: 전처리 이후 타이틀 \n",
        "    '''\n",
        "    count = 0\n",
        "    for idx in list(tlt_aft.index):\n",
        "        len_bf = len(set(tlt_org.loc[idx,'title'].split(' ')))\n",
        "        len_aft = len(set(tlt_aft.loc[idx,'title'].split(' ')))\n",
        "        if len_bf != len_aft:\n",
        "            count += 1\n",
        "    print(f'\\t\\t - 총 {count}개 행에 적용')"
      ],
      "execution_count": 29,
      "outputs": []
    },
    {
      "cell_type": "code",
      "metadata": {
        "colab": {
          "base_uri": "https://localhost:8080/"
        },
        "id": "_gwQrJD-FhLQ",
        "outputId": "b5da6c59-0d9a-44a7-943e-16a175b0543e"
      },
      "source": [
        "# 1)\n",
        "\n",
        "print(f'\\t - {len(substr_items)}개 아이템 타이틀의 front, back에 공백적용')\n",
        "\n",
        "tlt_org = fl_nv_dt_or_res[['title']].copy()\n",
        "\n",
        "for item in substr_items:\n",
        "    fl_nv_dt_or_res['title'] = fl_nv_dt_or_res.title.replace(to_replace=r\"()({})()\".format(item), value=r\"\\1 \\2 \\3\", regex=True)\n",
        "    \n",
        "verify_change(tlt_org, fl_nv_dt_or_res)    "
      ],
      "execution_count": 30,
      "outputs": [
        {
          "output_type": "stream",
          "name": "stdout",
          "text": [
            "\t - 62개 아이템 타이틀의 front, back에 공백적용\n",
            "\t\t - 총 11564개 행에 적용\n"
          ]
        }
      ]
    },
    {
      "cell_type": "code",
      "metadata": {
        "colab": {
          "base_uri": "https://localhost:8080/"
        },
        "id": "TdjnQdn9FhLQ",
        "outputId": "cc4f74a5-a417-4a29-fbba-efd1e1076abc"
      },
      "source": [
        "# 2) \n",
        "\n",
        "print(f'\\t - {len(to_empty)}개 특정 불용어 제거')\n",
        "\n",
        "tlt_org = fl_nv_dt_or_res[['title']].copy()\n",
        "\n",
        "for el in to_empty:\n",
        "    fl_nv_dt_or_res['title'] = fl_nv_dt_or_res.title.str.replace(el, '')\n",
        "\n",
        "verify_change(tlt_org,fl_nv_dt_or_res) "
      ],
      "execution_count": 31,
      "outputs": [
        {
          "output_type": "stream",
          "name": "stdout",
          "text": [
            "\t - 86개 특정 불용어 제거\n",
            "\t\t - 총 2666개 행에 적용\n"
          ]
        }
      ]
    },
    {
      "cell_type": "code",
      "metadata": {
        "colab": {
          "base_uri": "https://localhost:8080/"
        },
        "id": "XiKw3V7gFhLQ",
        "outputId": "10336c5e-02d0-4d23-bb85-3a1e6e395b64"
      },
      "source": [
        "# 3)  \n",
        "print(f'\\t - {len(to_empty_regex)}개 패턴에 해당하는 불용어 제거')\n",
        "\n",
        "tlt_org = fl_nv_dt_or_res[['title']].copy()\n",
        "\n",
        "for el in to_empty_regex:\n",
        "    fl_nv_dt_or_res['title'] = fl_nv_dt_or_res.title.replace(to_replace=el, value='', regex=True)\n",
        "\n",
        "verify_change(tlt_org,fl_nv_dt_or_res) "
      ],
      "execution_count": 32,
      "outputs": [
        {
          "output_type": "stream",
          "name": "stdout",
          "text": [
            "\t - 46개 패턴에 해당하는 불용어 제거\n",
            "\t\t - 총 17954개 행에 적용\n"
          ]
        }
      ]
    },
    {
      "cell_type": "code",
      "metadata": {
        "id": "2CdT4T78FhLQ"
      },
      "source": [
        "# 4)\n",
        "fl_nv_dt_or_res['title'] = fl_nv_dt_or_res.title.str.replace(pat=r'[^\\w%\\.]ㅣ_', repl=r' ', regex=True).replace('ㅣ','',regex=True)\n",
        "fl_nv_dt_or_res['title'] = fl_nv_dt_or_res.title.replace(to_replace='\\s+', value=' ', regex=True)"
      ],
      "execution_count": 33,
      "outputs": []
    },
    {
      "cell_type": "markdown",
      "metadata": {
        "id": "6mBmeC4AFhLQ"
      },
      "source": [
        "***----------------------***"
      ]
    },
    {
      "cell_type": "code",
      "metadata": {
        "id": "SaMuP61gFhLQ"
      },
      "source": [
        "# 6) \n",
        "fl_gf_dt_uq['stuff_name'] = fl_gf_dt_uq.stuff_name.replace(to_replace='\\[단종\\]',value='', regex=True)"
      ],
      "execution_count": 34,
      "outputs": []
    },
    {
      "cell_type": "code",
      "metadata": {
        "id": "HK83mAqvFhLR"
      },
      "source": [
        "# 7)\n",
        "fl_gf_dt_uq['stuff_name'] = fl_gf_dt_uq.stuff_name.replace(to_replace=r'#[+/:)%(&_-]}{', value=r' ', regex=True)\n",
        "fl_gf_dt_uq['stuff_name'] = fl_gf_dt_uq.stuff_name.replace(to_replace='(\\[\\s*)([a-zA-Zㄱ-ㅎ가-힣0-9\\s*.·]+)(\\s*\\])', value=r' \\2 ', regex=True)\n",
        "fl_gf_dt_uq['stuff_name'] = fl_gf_dt_uq.stuff_name.replace(to_replace='\\s+', value=' ', regex=True)"
      ],
      "execution_count": 35,
      "outputs": []
    },
    {
      "cell_type": "markdown",
      "metadata": {
        "id": "R9dfRgdBFhLR"
      },
      "source": [
        "---"
      ]
    },
    {
      "cell_type": "markdown",
      "metadata": {
        "id": "dBWE2J0SFhLR"
      },
      "source": [
        "<span style=\"color:blue\">*- 본 프로젝트에서 다루어지는 상위 모든 데이터 처리 과정에서 특정 문자열, 기호 등을 편집, 변경해주는 과정이 다수 포함되어 있었습니다. 이로 인해 발생하게 된 2개 이상에 문장의 앞, 뒤 뿐만 아니라 문장의 중간에 다수 포함되어 있는 공백을 일괄적으로 1개로 처리해주겠습니다.*</span>"
      ]
    },
    {
      "cell_type": "code",
      "metadata": {
        "tags": [],
        "id": "pD1t5fCeFhLR"
      },
      "source": [
        "gf_stuff_nm_without_b = []\n",
        "for x in fl_gf_dt_uq.stuff_name:\n",
        "    a = ast.literal_eval(x)\n",
        "    b = []\n",
        "    for y in a:\n",
        "        y = y.strip()\n",
        "        y = re.sub(' +', ' ', y)\n",
        "        \n",
        "        b.append(y)    \n",
        "    gf_stuff_nm_without_b.append(b)\n",
        "    \n",
        "nv_tlt_nm_without_b = []\n",
        "for x in fl_nv_dt_or_res.title:\n",
        "    x = x.strip()\n",
        "    y = re.sub(' +', ' ', x)\n",
        "    nv_tlt_nm_without_b.append(y)  \n",
        "    \n",
        "fl_gf_dt_uq.iloc[:, 1] = gf_stuff_nm_without_b\n",
        "fl_nv_dt_or_res.iloc[:, 0] = nv_tlt_nm_without_b    "
      ],
      "execution_count": 36,
      "outputs": []
    },
    {
      "cell_type": "markdown",
      "metadata": {
        "id": "Kct_WZXBFhLR"
      },
      "source": [
        "---"
      ]
    },
    {
      "cell_type": "markdown",
      "metadata": {
        "id": "dv10Ku9cFhLR"
      },
      "source": [
        "##### ***- Modeling***\n",
        "\n",
        "<span style=\"color:blue\">*- TF_IDF값에 기준하여 유사도값 도출*</span>"
      ]
    },
    {
      "cell_type": "code",
      "metadata": {
        "colab": {
          "base_uri": "https://localhost:8080/",
          "height": 78
        },
        "id": "j2w8wJrKFhLR",
        "outputId": "f4a65c00-d200-4b3b-850f-6e606ff858e5"
      },
      "source": [
        "optional_fol_nm  = [os.listdir()[x] for x in range(len(os.listdir())) if os.listdir()[x][:6] == 'an_opt'][0]\n",
        "optional_fol_path = os.getcwd() + '/' + optional_fol_nm\n",
        "optional_file_path = [str(f'{optional_fol_path}/{x}') for x in os.listdir(optional_fol_path)]\n",
        "\n",
        "'''\n",
        "기준 데이터가 되는 'fl_nv_dt_or_res'는 'package' 또는, Optiont상품을 포함하고 있으며, Optional file들은 만약, 기준 데이터가 되는 상품이 Option요소를 포함하고 있다면, 해당 'Option'들을 scraping함\n",
        "'''\n",
        "\n",
        "optional_sum = []\n",
        "for i in range(len(optional_file_path)):\n",
        "    \n",
        "    extrac_tp_col = pd.read_csv(optional_file_path[i]).type_color\n",
        "    col_string = extrac_tp_col.astype(str)\n",
        "    extrac_tp_col_fl = extrac_tp_col[col_string != 'nan']\n",
        "    \n",
        "    optional_sum.append(extrac_tp_col_fl)\n",
        "    \n",
        "df_optional = pd.DataFrame(pd.concat(optional_sum)).sort_index()\n",
        "df_optional['type_color'] = [eval(x) for x in df_optional.type_color]\n",
        "\n",
        "# 기존 모델학습에서 삭제하기로 결정한 행과 index를 동일하게 적용하여 학습에 필요한 행을 선택적으로 Filtering.\n",
        "df_optional = pd.DataFrame(df_optional.type_color[fl_nv_dt_or_res.index.tolist()])\n",
        "\n",
        "df_optional.tail(1)"
      ],
      "execution_count": 37,
      "outputs": [
        {
          "output_type": "execute_result",
          "data": {
            "text/html": [
              "<div>\n",
              "<style scoped>\n",
              "    .dataframe tbody tr th:only-of-type {\n",
              "        vertical-align: middle;\n",
              "    }\n",
              "\n",
              "    .dataframe tbody tr th {\n",
              "        vertical-align: top;\n",
              "    }\n",
              "\n",
              "    .dataframe thead th {\n",
              "        text-align: right;\n",
              "    }\n",
              "</style>\n",
              "<table border=\"1\" class=\"dataframe\">\n",
              "  <thead>\n",
              "    <tr style=\"text-align: right;\">\n",
              "      <th></th>\n",
              "      <th>type_color</th>\n",
              "    </tr>\n",
              "  </thead>\n",
              "  <tbody>\n",
              "    <tr>\n",
              "      <th>32464</th>\n",
              "      <td>[H_샴400+샴400+트400]</td>\n",
              "    </tr>\n",
              "  </tbody>\n",
              "</table>\n",
              "</div>"
            ],
            "text/plain": [
              "               type_color\n",
              "32464  [H_샴400+샴400+트400]"
            ]
          },
          "metadata": {},
          "execution_count": 37
        }
      ]
    },
    {
      "cell_type": "markdown",
      "metadata": {
        "id": "QzLz-33pPOxo"
      },
      "source": [
        "<font color = 'red'>**<--------------------------->**</font>\n",
        "\n"
      ]
    },
    {
      "cell_type": "code",
      "metadata": {
        "id": "NIT3mQL5UwjS"
      },
      "source": [
        "target_url = 'https://shopping.naver.com/beauty/stores/1000018323/products/3713391021'"
      ],
      "execution_count": 236,
      "outputs": []
    },
    {
      "cell_type": "code",
      "metadata": {
        "colab": {
          "base_uri": "https://localhost:8080/",
          "height": 78
        },
        "id": "azGa9WceUxdX",
        "outputId": "a9a9fbdc-be1d-4a8d-9219-0850a90173cf"
      },
      "source": [
        "target_df = res_no_options.loc[:, ['title', 'link', 'brand']]\n",
        "target_df['sub_ind'] = [x for x in range(len(target_df))]\n",
        "target_df\n",
        "\n",
        "target_df[target_df.link == target_url]"
      ],
      "execution_count": 239,
      "outputs": [
        {
          "output_type": "execute_result",
          "data": {
            "text/html": [
              "<div>\n",
              "<style scoped>\n",
              "    .dataframe tbody tr th:only-of-type {\n",
              "        vertical-align: middle;\n",
              "    }\n",
              "\n",
              "    .dataframe tbody tr th {\n",
              "        vertical-align: top;\n",
              "    }\n",
              "\n",
              "    .dataframe thead th {\n",
              "        text-align: right;\n",
              "    }\n",
              "</style>\n",
              "<table border=\"1\" class=\"dataframe\">\n",
              "  <thead>\n",
              "    <tr style=\"text-align: right;\">\n",
              "      <th></th>\n",
              "      <th>title</th>\n",
              "      <th>link</th>\n",
              "      <th>brand</th>\n",
              "      <th>sub_ind</th>\n",
              "    </tr>\n",
              "  </thead>\n",
              "  <tbody>\n",
              "    <tr>\n",
              "      <th>2324</th>\n",
              "      <td>[] 허브 가득한 마스크</td>\n",
              "      <td>https://shopping.naver.com/beauty/stores/10000...</td>\n",
              "      <td>비욘드</td>\n",
              "      <td>1036</td>\n",
              "    </tr>\n",
              "  </tbody>\n",
              "</table>\n",
              "</div>"
            ],
            "text/plain": [
              "              title  ... sub_ind\n",
              "2324  [] 허브 가득한 마스크  ...    1036\n",
              "\n",
              "[1 rows x 4 columns]"
            ]
          },
          "metadata": {},
          "execution_count": 239
        }
      ]
    },
    {
      "cell_type": "code",
      "metadata": {
        "colab": {
          "base_uri": "https://localhost:8080/"
        },
        "id": "FdJvkBM0U17i",
        "outputId": "f3402f78-a12a-41e1-85a0-8e2e50cdb0ad"
      },
      "source": [
        "list(target_df[target_df.link == target_url].link)"
      ],
      "execution_count": 240,
      "outputs": [
        {
          "output_type": "execute_result",
          "data": {
            "text/plain": [
              "['https://shopping.naver.com/beauty/stores/1000018323/products/3713391021']"
            ]
          },
          "metadata": {},
          "execution_count": 240
        }
      ]
    },
    {
      "cell_type": "code",
      "metadata": {
        "id": "gNO2_NDUg-5W",
        "colab": {
          "base_uri": "https://localhost:8080/"
        },
        "outputId": "9e38aabc-180f-4c36-9a36-903dec58e779"
      },
      "source": [
        "input_df = res_no_options\n",
        "input_row = 1036\n",
        "\n",
        "i = input_row\n",
        "\n",
        "nv_row_n = input_df.index[i]; nv_brd = input_df.brand[nv_row_n]; nv_tlt = input_df.title[nv_row_n]\n",
        "ind_by_gf = list(fl_gf_dt_uq.brand).index(nv_brd); gf_tlt_to_compare = fl_gf_dt_uq.loc[fl_gf_dt_uq.index[ind_by_gf], :].stuff_name\n",
        "\n",
        "corpus_group = [[nv_tlt, each_gf_tlt] for each_gf_tlt in gf_tlt_to_compare]\n",
        "\n",
        "# --------------------------------------------------- 0)_ Tokenize\n",
        "\n",
        "docs = sum([[nv_tlt], gf_tlt_to_compare], [])\n",
        "vocab = list(set(w for doc in docs for w in doc.split()))\n",
        "vocab.sort()\n",
        "\n",
        "vocab_filtered = []\n",
        "special_characters = \"''!@#$%^&*()[]-+?_=,<>/\"\n",
        "for s in vocab:\n",
        "    if not any(c in special_characters for c in s):\n",
        "        vocab_filtered.append(s)\n",
        "        \n",
        "Vocab = [x for x in vocab_filtered if len(x) > 1]\n",
        "\n",
        "ind = 0\n",
        "Docs = []\n",
        "for x in docs:\n",
        "    if ind > 0:\n",
        "        x = x.replace(' ', '')\n",
        "    Docs.append(x)\n",
        "    ind =+ 1\n",
        "\n",
        "# --------------------------------------------------- 1)_ TF-IDF\n",
        "\n",
        "N = len(Docs)\n",
        "TF = []\n",
        "for i in range(N): \n",
        "    TF.append([])\n",
        "    d = Docs[i]\n",
        "    for j in range(len(Vocab)):\n",
        "        t = Vocab[j]        \n",
        "        TF[-1].append(d.count(t))\n",
        "tf_df = pd.DataFrame(TF, columns = Vocab)\n",
        "\n",
        "IDF = []\n",
        "for j in range(len(Vocab)):\n",
        "    t = Vocab[j]\n",
        "    c = 0\n",
        "    for doc in Docs:\n",
        "        c += t in doc\n",
        "    each_idf = log(N/(c + 1))\n",
        "    IDF.append(each_idf)\n",
        "\n",
        "TF_IDF_list = [[tf_df.iloc[y, x]*IDF[x] for x in range(len(tf_df.columns))] for y in range(len(tf_df))]\n",
        "cosim_res = []\n",
        "'''\n",
        "cosim_res: result of cosine similarity\n",
        "'''\n",
        "for i in range(1, len(TF_IDF_list)):\n",
        "    cosim_res_each = F.cosine_similarity(torch.FloatTensor(TF_IDF_list[0]), torch.FloatTensor(TF_IDF_list[i]), dim=0)\n",
        "    cosim_res.append(float(cosim_res_each))\n",
        "\n",
        "cosim_df = pd.DataFrame(cosim_res)\n",
        "cosim_df = cosim_df.sort_values(0, ascending = False)\n",
        "cosim_df = cosim_df[cosim_df[0] != 0] \n",
        "\n",
        "# --------------------------------------------------- 2)_ Word2Vec\n",
        "\n",
        "All_Contents  = sum([ [nv_tlt], [ gf_tlt_to_compare[x] for x in cosim_df.index.tolist() ] ], [])\n",
        "Eacn_Contents = [x.split(' ') for x in All_Contents]\n",
        "\n",
        "w2v_tokens = []\n",
        "for se in Eacn_Contents:\n",
        "    token = []\n",
        "    for tk in se:\n",
        "        if tk in tf_df.columns.tolist():\n",
        "            token.append(tk)\n",
        "    w2v_tokens.append(token)\n",
        "\n",
        "model = word2vec.Word2Vec(w2v_tokens, min_count=1)\n",
        "similar_tokens = []    \n",
        "for ref_tokens in w2v_tokens[0]:\n",
        "    similar_tokens.append([x[0] for x in model.wv.most_similar(ref_tokens)])\n",
        "tk_extra_f_w2v = list(set(sum(similar_tokens, [])))\n",
        "\n",
        "w2v_count_list = []\n",
        "d = All_Contents[1:]\n",
        "for y in d: \n",
        "    idx = 0\n",
        "    for t in tk_extra_f_w2v:\n",
        "        if t in y:\n",
        "            idx +=1\n",
        "    w2v_count_list.append(idx)\n",
        "\n",
        "w2v_cosim_result = [np.square(x + y) for x, y in zip(list(cosim_df[0]), [(n/len(model.wv.vocab)) * (1/10) for n in w2v_count_list])]\n",
        "print(); print(f'\\t {w2v_cosim_result}')\n",
        "\n",
        "# -------------------------------------------------b-- 3)_ Baysian witchpoint\n"
      ],
      "execution_count": 255,
      "outputs": [
        {
          "output_type": "stream",
          "name": "stderr",
          "text": [
            "2021-09-29 08:09:05,703 : INFO : collecting all words and their counts\n",
            "2021-09-29 08:09:05,706 : INFO : PROGRESS: at sentence #0, processed 0 words, keeping 0 word types\n",
            "2021-09-29 08:09:05,708 : INFO : collected 47 word types from a corpus of 121 raw words and 32 sentences\n",
            "2021-09-29 08:09:05,710 : INFO : Loading a fresh vocabulary\n",
            "2021-09-29 08:09:05,713 : INFO : effective_min_count=1 retains 47 unique words (100% of original 47, drops 0)\n",
            "2021-09-29 08:09:05,714 : INFO : effective_min_count=1 leaves 121 word corpus (100% of original 121, drops 0)\n",
            "2021-09-29 08:09:05,716 : INFO : deleting the raw counts dictionary of 47 items\n",
            "2021-09-29 08:09:05,718 : INFO : sample=0.001 downsamples 47 most-common words\n",
            "2021-09-29 08:09:05,719 : INFO : downsampling leaves estimated 27 word corpus (22.8% of prior 121)\n",
            "2021-09-29 08:09:05,721 : INFO : estimated required memory for 47 words and 100 dimensions: 61100 bytes\n",
            "2021-09-29 08:09:05,722 : INFO : resetting layer weights\n",
            "2021-09-29 08:09:05,748 : INFO : training model with 3 workers on 47 vocabulary and 100 features, using sg=0 hs=0 sample=0.001 negative=5 window=5\n",
            "2021-09-29 08:09:05,755 : INFO : worker thread finished; awaiting finish of 2 more threads\n",
            "2021-09-29 08:09:05,757 : INFO : worker thread finished; awaiting finish of 1 more threads\n",
            "2021-09-29 08:09:05,759 : INFO : worker thread finished; awaiting finish of 0 more threads\n",
            "2021-09-29 08:09:05,761 : INFO : EPOCH - 1 : training on 121 raw words (25 effective words) took 0.0s, 3423 effective words/s\n",
            "2021-09-29 08:09:05,771 : INFO : worker thread finished; awaiting finish of 2 more threads\n",
            "2021-09-29 08:09:05,773 : INFO : worker thread finished; awaiting finish of 1 more threads\n",
            "2021-09-29 08:09:05,774 : INFO : worker thread finished; awaiting finish of 0 more threads\n",
            "2021-09-29 08:09:05,776 : INFO : EPOCH - 2 : training on 121 raw words (25 effective words) took 0.0s, 4695 effective words/s\n",
            "2021-09-29 08:09:05,785 : INFO : worker thread finished; awaiting finish of 2 more threads\n",
            "2021-09-29 08:09:05,787 : INFO : worker thread finished; awaiting finish of 1 more threads\n",
            "2021-09-29 08:09:05,788 : INFO : worker thread finished; awaiting finish of 0 more threads\n",
            "2021-09-29 08:09:05,790 : INFO : EPOCH - 3 : training on 121 raw words (28 effective words) took 0.0s, 5543 effective words/s\n",
            "2021-09-29 08:09:05,797 : INFO : worker thread finished; awaiting finish of 2 more threads\n",
            "2021-09-29 08:09:05,801 : INFO : worker thread finished; awaiting finish of 1 more threads\n",
            "2021-09-29 08:09:05,803 : INFO : worker thread finished; awaiting finish of 0 more threads\n",
            "2021-09-29 08:09:05,804 : INFO : EPOCH - 4 : training on 121 raw words (29 effective words) took 0.0s, 3962 effective words/s\n",
            "2021-09-29 08:09:05,814 : INFO : worker thread finished; awaiting finish of 2 more threads\n",
            "2021-09-29 08:09:05,817 : INFO : worker thread finished; awaiting finish of 1 more threads\n",
            "2021-09-29 08:09:05,818 : INFO : worker thread finished; awaiting finish of 0 more threads\n",
            "2021-09-29 08:09:05,820 : INFO : EPOCH - 5 : training on 121 raw words (27 effective words) took 0.0s, 4337 effective words/s\n",
            "2021-09-29 08:09:05,821 : INFO : training on a 605 raw words (134 effective words) took 0.1s, 1921 effective words/s\n",
            "2021-09-29 08:09:05,822 : WARNING : under 10 jobs per worker: consider setting a smaller `batch_words' for smoother alpha decay\n",
            "2021-09-29 08:09:05,824 : INFO : precomputing L2-norms of word weight vectors\n"
          ]
        },
        {
          "output_type": "stream",
          "name": "stdout",
          "text": [
            "\n",
            "\t [0.5787822382978544, 0.5463245009565193, 0.5074553954903751, 0.510491237470416, 0.5074553954903751, 0.443942551877716, 0.4179114993249615, 0.1774571450833579, 0.17566909063070957, 0.17660190111551874, 0.1637164990847015, 0.1637164990847015, 0.1637164990847015, 0.1648893458393392, 0.15655384582171417, 0.1548746754855024, 0.15655384582171417, 0.1548746754855024, 0.1548746754855024, 0.11525962578826561, 0.11569347875693246, 0.07908524909018887, 0.07436990968422375, 0.07195787755632109, 0.04433618763928671, 0.03648757261761064, 0.03648757261761064, 0.0333173361943994, 0.030586196293187977, 0.01846136740838555, 0.015932879563309382]\n"
          ]
        }
      ]
    },
    {
      "cell_type": "code",
      "metadata": {
        "id": "MjAAE5hp5ZDT"
      },
      "source": [
        ""
      ],
      "execution_count": 248,
      "outputs": []
    },
    {
      "cell_type": "code",
      "metadata": {
        "colab": {
          "base_uri": "https://localhost:8080/",
          "height": 333
        },
        "id": "XxDda7Yij1IU",
        "outputId": "a35bfa74-8eb0-490e-d82c-604e637d2c13"
      },
      "source": [
        "# plt.title([corpus_group[x] for x in cosim_df.index.tolist()])\n",
        "plt.figure(figsize=(12, 5))\n",
        "plt.subplot(1, 3, 1)\n",
        "plt.scatter([x for x in range(len(w2v_cosim_result))], w2v_cosim_result, color='r', alpha=0.5, zorder=1)\n",
        "plt.plot([x for x in range(len(w2v_cosim_result))], w2v_cosim_result, color='b', linestyle=':', zorder=2)\n",
        "\n",
        "plt.subplot(1, 3, 2)\n",
        "sns.distplot(cosim_df[0],bins=30 , color='b')\n",
        "\n",
        "plt.show()"
      ],
      "execution_count": 256,
      "outputs": [
        {
          "output_type": "display_data",
          "data": {
            "image/png": "[encoded data removed]",
            "text/plain": [
              "<Figure size 864x360 with 2 Axes>"
            ]
          },
          "metadata": {
            "image/png": {
              "width": 470,
              "height": 316
            },
            "needs_background": "light"
          }
        }
      ]
    },
    {
      "cell_type": "code",
      "metadata": {
        "colab": {
          "base_uri": "https://localhost:8080/",
          "height": 591
        },
        "id": "NHZt1mQw3cdW",
        "outputId": "397f7dd1-4a2b-4b12-f52e-74227c5da5cc"
      },
      "source": [
        "plt.figure(figsize=(10, 10))\n",
        "t0 = [np.square(x + y) for x, y in zip(list(cosim_df[0]), [(n/len(model.wv.vocab)) * (1/10) for n in w2v_cosim_result])]\n",
        "t = [np.square(x + y) for x, y in zip(list(cosim_df[0]), [(n/len(model.wv.vocab)) for n in w2v_cosim_result])]\n",
        "\n",
        "plt.subplot(2, 2, 1)\n",
        "plt.scatter([x for x in range(len(t))], t, color='r', alpha=0.5, zorder=1)\n",
        "plt.plot([x for x in range(len(t))], t, color='b', linestyle=':', zorder=2)\n",
        "plt.plot([x for x in range(len(t0))], t0, color='black', linewidth=4, alpha=0.3, zorder=3)\n",
        "\n",
        "plt.subplot(2, 2, 3)\n",
        "sns.distplot(t, bins=30, color='b')\n",
        "\n",
        "plt.subplot(2, 2, 4)\n",
        "sns.distplot(t0, bins=30, color='b')\n",
        "\n",
        "plt.show()"
      ],
      "execution_count": 257,
      "outputs": [
        {
          "output_type": "display_data",
          "data": {
            "image/png": "[encoded data removed]",
            "text/plain": [
              "<Figure size 720x720 with 3 Axes>"
            ]
          },
          "metadata": {
            "image/png": {
              "width": 605,
              "height": 574
            },
            "needs_background": "light"
          }
        }
      ]
    },
    {
      "cell_type": "code",
      "metadata": {
        "colab": {
          "base_uri": "https://localhost:8080/"
        },
        "id": "S6ge3gcNKK1t",
        "outputId": "86b6e476-369a-435d-a9a2-2bd104d4a4f2"
      },
      "source": [
        "print(tk_extra_f_w2v)\n",
        "print()\n",
        "\n",
        "All_Contents"
      ],
      "execution_count": 258,
      "outputs": [
        {
          "output_type": "stream",
          "name": "stdout",
          "text": [
            "['마스크의', '펩타이드', '히비스커스', '미라클', '나이트', '황금향', '피토플라센타', '스네일', '콜라겐', '허브', '가득한', '프로폴리스', '비타민', '블룸', '리페어', '컨센트레이트', '로즈힙', '티트리', '히알루론산', '알로에', '멀티', '동백', '블랙티', '피토', 'step', '허브스킨워터', '앰플', '곰의']\n",
            "\n"
          ]
        },
        {
          "output_type": "execute_result",
          "data": {
            "text/plain": [
              "['[] 허브 가득한 마스크',\n",
              " '허브 가득한 마스크 블랙티',\n",
              " '허브 가득한 마스크 카렌듈라',\n",
              " '허브 가득한 마스크 연꽃',\n",
              " '허브 가득한 마스크 히비스커스',\n",
              " '허브 가득한 마스크 피오니',\n",
              " '허브 가득한 마스크 티트리',\n",
              " '허브 가득한 마스크 로즈힙',\n",
              " '제주 가득한 마스크 알로에',\n",
              " '제주 가득한 마스크 그린티',\n",
              " '앰플 가득한 마스크 히알루론산',\n",
              " '앰플 가득한 마스크 프로폴리스',\n",
              " '앰플 가득한 마스크 콜라겐',\n",
              " '앰플 가득한 마스크 펩타이드',\n",
              " '앰플 가득한 마스크 피토플라센타',\n",
              " '제주 가득한 마스크 황금향',\n",
              " '제주 가득한 마스크 유채꿀',\n",
              " '제주 가득한 마스크 동백',\n",
              " '제주 가득한 마스크 감태',\n",
              " '제주 가득한 마스크 청보리',\n",
              " '앰플 가득한 마스크 세라마이드',\n",
              " '앰플 가득한 마스크 멀티 비타민',\n",
              " '로즈 허브스킨워터',\n",
              " '그린티 허브스킨워터',\n",
              " '카렌듈라 허브스킨워터',\n",
              " '로터스 아쿠아 블룸 마스크',\n",
              " '피토 아쿠아 3 step 마스크',\n",
              " '피토 아쿠아 나이트 마스크',\n",
              " '머쉬룸 리페어 마스크',\n",
              " '미라클 포레스트 컨센트레이트 마스크',\n",
              " '해피 스네일 하이드로겔 마스크',\n",
              " '마스크의 신 곰의 피부 비법']"
            ]
          },
          "metadata": {},
          "execution_count": 258
        }
      ]
    },
    {
      "cell_type": "code",
      "metadata": {
        "id": "mAI_OVauEHh3"
      },
      "source": [
        ""
      ],
      "execution_count": null,
      "outputs": []
    },
    {
      "cell_type": "markdown",
      "metadata": {
        "id": "K5nSI2SoFhLR"
      },
      "source": [
        "##### ***- Pause***"
      ]
    },
    {
      "cell_type": "code",
      "metadata": {
        "id": "rGsflooWFhLR"
      },
      "source": [
        "null_lst = []\n",
        "for i, row in df_optional.iterrows():\n",
        "    if row.type_color == []:\n",
        "        null_lst.append(i)      \n",
        "        \n",
        "# ------------------------------------------ 학습 데이터 셋 추출_ 1차\n",
        "x = df_optional.type_color[null_lst].index.tolist()\n",
        "y = [fl_nv_dt_or_res.index == x for x in x]\n",
        "\n",
        "res = [fl_nv_dt_or_res[y[i]] for i in range(len(x))]\n",
        "res_no_options = pd.concat(res)\n",
        "\n",
        "# ------------------------------------------ 유사도 검출 및 저장\n",
        "# res_similarity_V1 = []\n",
        "# for i in tqdm(range(len(res_no_options))):\n",
        "#     res_similarity_V1.append(Getting_Similarity_Chart(res_no_options, i))"
      ],
      "execution_count": 38,
      "outputs": []
    },
    {
      "cell_type": "code",
      "metadata": {
        "id": "wa1_ktk1FhLS"
      },
      "source": [
        "with open('res_similarity_V1.txt', 'wb') as fp:\n",
        "    pickle.dump(res_similarity_V1, fp)"
      ],
      "execution_count": null,
      "outputs": []
    },
    {
      "cell_type": "code",
      "metadata": {
        "id": "ovaRn0ADFhLS"
      },
      "source": [
        "with open('res_similarity_V1.txt', 'rb') as fp:\n",
        "    res_similarity_V1_ = pickle.load(fp)"
      ],
      "execution_count": null,
      "outputs": []
    },
    {
      "cell_type": "code",
      "metadata": {
        "id": "hyqyIuMFFhLS"
      },
      "source": [
        "Compared_Res_1 = []\n",
        "for i in range(len(res_similarity_V1_)):\n",
        "    if len(res_similarity_V1_[i]) == 0:\n",
        "        Compared_Res_1.append([])\n",
        "    elif len(res_similarity_V1_[i]) == 1:\n",
        "        Compared_Res_1.append(res_similarity_V1_[i].Comparative_original.tolist()[0])\n",
        "    elif (len(res_similarity_V1_[i]) >= 2) and (res_similarity_V1_[i].Cosine_Similarity[0] != res_similarity_V1_[i].Cosine_Similarity[1]):\n",
        "        Compared_Res_1.append(res_similarity_V1_[i].Comparative_original[0])\n",
        "    elif (len(res_similarity_V1_[i]) >= 2) and (res_similarity_V1_[i].Cosine_Similarity[0] == res_similarity_V1_[i].Cosine_Similarity[1]):\n",
        "        Compared_Res_1.append(list(res_similarity_V1_[i][res_similarity_V1_[i].Cosine_Similarity == res_similarity_V1_[i].Cosine_Similarity[0]].Comparative_original))\n",
        "    else:\n",
        "        Compared_Res_1.append([])"
      ],
      "execution_count": null,
      "outputs": []
    },
    {
      "cell_type": "code",
      "metadata": {
        "tags": [],
        "id": "BySnOs7MFhLS",
        "outputId": "cd952953-385d-4c86-8f7d-31e853b0b1b4"
      },
      "source": [
        "print('\\t - Structure of trained data', len(Compared_Res_1))"
      ],
      "execution_count": null,
      "outputs": [
        {
          "name": "stdout",
          "output_type": "stream",
          "text": [
            "\t - Structure of trained data 20263\n"
          ]
        }
      ]
    },
    {
      "cell_type": "markdown",
      "metadata": {
        "id": "ckV9uad6FhLS"
      },
      "source": [
        "<span style=\"color:blue\">***학습 완료데이터 V1 엑셀파일로 추출 (Purpose Of Quality Check)***</span>"
      ]
    },
    {
      "cell_type": "code",
      "metadata": {
        "id": "aWb6MorrFhLS",
        "outputId": "e67b49f5-ee02-4104-acbc-909f20dabb83"
      },
      "source": [
        "res_no_options_ = res_no_options.copy()\n",
        "res_ind = res_no_options_.index.tolist()\n",
        "\n",
        "nv_filtered = []\n",
        "for i in res_ind:\n",
        "    nv_filtered.append(fl_nv_dt_or_cp_V[fl_nv_dt_or_cp_V.index == i])\n",
        "    \n",
        "nv_filtered_df = pd.concat(nv_filtered)    \n",
        "\n",
        "nv_filtered_df_ = nv_filtered_df.loc[:, ['title', 'link', '브랜드']]\n",
        "nv_filtered_df_['gf_mappeed'] = Compared_Res_1\n",
        "nv_filtered_df_.tail(1)"
      ],
      "execution_count": null,
      "outputs": [
        {
          "data": {
            "text/html": [
              "<div>\n",
              "<style scoped>\n",
              "    .dataframe tbody tr th:only-of-type {\n",
              "        vertical-align: middle;\n",
              "    }\n",
              "\n",
              "    .dataframe tbody tr th {\n",
              "        vertical-align: top;\n",
              "    }\n",
              "\n",
              "    .dataframe thead th {\n",
              "        text-align: right;\n",
              "    }\n",
              "</style>\n",
              "<table border=\"1\" class=\"dataframe\">\n",
              "  <thead>\n",
              "    <tr style=\"text-align: right;\">\n",
              "      <th></th>\n",
              "      <th>title</th>\n",
              "      <th>link</th>\n",
              "      <th>브랜드</th>\n",
              "      <th>gf_mappeed</th>\n",
              "    </tr>\n",
              "  </thead>\n",
              "  <tbody>\n",
              "    <tr>\n",
              "      <th>32463</th>\n",
              "      <td>스킨구하리 / ATL 릴리프 로션 / 200ml</td>\n",
              "      <td>https://shopping.naver.com/beauty/stores/10109...</td>\n",
              "      <td>스킨구하리</td>\n",
              "      <td>ATL 릴리프 로션</td>\n",
              "    </tr>\n",
              "  </tbody>\n",
              "</table>\n",
              "</div>"
            ],
            "text/plain": [
              "                            title  \\\n",
              "32463  스킨구하리 / ATL 릴리프 로션 / 200ml   \n",
              "\n",
              "                                                    link    브랜드  gf_mappeed  \n",
              "32463  https://shopping.naver.com/beauty/stores/10109...  스킨구하리  ATL 릴리프 로션  "
            ]
          },
          "execution_count": 41,
          "metadata": {},
          "output_type": "execute_result"
        }
      ]
    },
    {
      "cell_type": "code",
      "metadata": {
        "id": "emhI4qc0FhLS"
      },
      "source": [
        "nv_filtered_df_.to_excel(str(os.getcwd() + '/' + 'mapping_gf.xlsx'))"
      ],
      "execution_count": null,
      "outputs": []
    },
    {
      "cell_type": "code",
      "metadata": {
        "id": "j_p3IBlZmr2Q"
      },
      "source": [
        ""
      ],
      "execution_count": null,
      "outputs": []
    },
    {
      "cell_type": "code",
      "metadata": {
        "id": "31oUCOgimr0Q"
      },
      "source": [
        ""
      ],
      "execution_count": null,
      "outputs": []
    },
    {
      "cell_type": "code",
      "metadata": {
        "id": "lm3Hn9YWmrrs"
      },
      "source": [
        ""
      ],
      "execution_count": null,
      "outputs": []
    },
    {
      "cell_type": "code",
      "metadata": {
        "id": "LBKAGRXZmrpi"
      },
      "source": [
        ""
      ],
      "execution_count": null,
      "outputs": []
    },
    {
      "cell_type": "markdown",
      "metadata": {
        "id": "J6BiIwNGFhLS"
      },
      "source": [
        "---"
      ]
    },
    {
      "cell_type": "markdown",
      "metadata": {
        "id": "bjvUFeRfFhLS"
      },
      "source": [
        "##### ***- Baysian Switch Point Trial***\n"
      ]
    },
    {
      "cell_type": "code",
      "metadata": {
        "colab": {
          "base_uri": "https://localhost:8080/",
          "height": 416
        },
        "id": "kEBA4qVVNLS9",
        "outputId": "b9076681-598c-40ea-ef48-a3054d5d0635"
      },
      "source": [
        "\n",
        "observed_counts = tf.concat(\n",
        "    [tfd.Poisson(rate).sample(num_steps) \n",
        "    for (rate, num_steps) in zip([x*10000 for x in w2v_cosim_result], np.repeat(100, len(w2v_cosim_result), axis=0))], axis=0)\n",
        "observed_counts = tf.cast(observed_counts, dtype=tf.float32)\n",
        "df = pd.DataFrame(observed_counts)\n",
        "fig = px.line(df, y=0)\n",
        "\n",
        "fig.update_layout(\n",
        "    autosize=False,\n",
        "    width=300,\n",
        "    height=400,\n",
        "    margin=dict(\n",
        "        l=5,\n",
        "        r=5,\n",
        "        b=10,\n",
        "        t=10,\n",
        "        pad=4\n",
        "    ),\n",
        "    paper_bgcolor=\"LightSteelBlue\",\n",
        ")"
      ],
      "execution_count": 328,
      "outputs": [
        {
          "output_type": "display_data",
          "data": {
            "text/html": [
              "<html>\n",
              "<head><meta charset=\"utf-8\" /></head>\n",
              "<body>\n",
              "    <div>\n",
              "            <script src=\"https://cdnjs.cloudflare.com/ajax/libs/mathjax/2.7.5/MathJax.js?config=TeX-AMS-MML_SVG\"></script><script type=\"text/javascript\">if (window.MathJax) {MathJax.Hub.Config({SVG: {font: \"STIX-Web\"}});}</script>\n",
              "                <script type=\"text/javascript\">window.PlotlyConfig = {MathJaxConfig: 'local'};</script>\n",
              "        <script src=\"https://cdn.plot.ly/plotly-latest.min.js\"></script>    \n",
              "            <div id=\"621bdeef-ffc9-4237-bd8e-6ee23a797093\" class=\"plotly-graph-div\" style=\"height:400px; width:300px;\"></div>\n",
              "            <script type=\"text/javascript\">\n",
              "                \n",
              "                    window.PLOTLYENV=window.PLOTLYENV || {};\n",
              "                    \n",
              "                if (document.getElementById(\"621bdeef-ffc9-4237-bd8e-6ee23a797093\")) {\n",
              "                    Plotly.newPlot(\n",
              "                        '621bdeef-ffc9-4237-bd8e-6ee23a797093',\n",
              "                        [{\"hoverlabel\": {\"namelength\": 0}, \"hovertemplate\": \"0=%{y}\", \"legendgroup\": \"\", \"line\": {\"color\": \"#636efa\", \"dash\": \"solid\"}, \"mode\": \"lines\", \"name\": \"\", \"showlegend\": false, \"type\": \"scattergl\", \"xaxis\": \"x\", \"y\": [5764.0, 5771.0, 5860.0, 5695.0, 5785.0, 5678.0, 5751.0, 5680.0, 5780.0, 5906.0, 5770.0, 5752.0, 5887.0, 5856.0, 5760.0, 5841.0, 5810.0, 5825.0, 5807.0, 5825.0, 5721.0, 5763.0, 5718.0, 5815.0, 5816.0, 5693.0, 5823.0, 5793.0, 5576.0, 5792.0, 5872.0, 5633.0, 5807.0, 5821.0, 5734.0, 5832.0, 5843.0, 5744.0, 5772.0, 5847.0, 5715.0, 5911.0, 5827.0, 5742.0, 5880.0, 5924.0, 5852.0, 5871.0, 5867.0, 5848.0, 5722.0, 5802.0, 5729.0, 5777.0, 5828.0, 5864.0, 5798.0, 5795.0, 5685.0, 5800.0, 5753.0, 5858.0, 5808.0, 5887.0, 5851.0, 5629.0, 5815.0, 5862.0, 5844.0, 5799.0, 5915.0, 5942.0, 5918.0, 5751.0, 5783.0, 5747.0, 5817.0, 5837.0, 5831.0, 5847.0, 5773.0, 5764.0, 5741.0, 5715.0, 5769.0, 5757.0, 5898.0, 5783.0, 5817.0, 5701.0, 5905.0, 5814.0, 5939.0, 5825.0, 5739.0, 5648.0, 5822.0, 5623.0, 5896.0, 5610.0, 5531.0, 5551.0, 5306.0, 5363.0, 5428.0, 5520.0, 5520.0, 5443.0, 5380.0, 5354.0, 5425.0, 5390.0, 5453.0, 5483.0, 5553.0, 5378.0, 5438.0, 5577.0, 5262.0, 5524.0, 5508.0, 5408.0, 5417.0, 5581.0, 5625.0, 5538.0, 5416.0, 5499.0, 5509.0, 5438.0, 5528.0, 5536.0, 5347.0, 5405.0, 5553.0, 5506.0, 5482.0, 5603.0, 5517.0, 5444.0, 5395.0, 5573.0, 5489.0, 5382.0, 5470.0, 5481.0, 5553.0, 5552.0, 5527.0, 5402.0, 5532.0, 5364.0, 5617.0, 5390.0, 5325.0, 5413.0, 5574.0, 5512.0, 5441.0, 5411.0, 5396.0, 5350.0, 5507.0, 5443.0, 5491.0, 5495.0, 5540.0, 5406.0, 5404.0, 5390.0, 5475.0, 5408.0, 5550.0, 5442.0, 5649.0, 5424.0, 5383.0, 5556.0, 5455.0, 5400.0, 5462.0, 5284.0, 5398.0, 5333.0, 5532.0, 5526.0, 5310.0, 5529.0, 5384.0, 5352.0, 5353.0, 5415.0, 5524.0, 5517.0, 5434.0, 5523.0, 5641.0, 5472.0, 5635.0, 5521.0, 5090.0, 5096.0, 5111.0, 4897.0, 5101.0, 5019.0, 5023.0, 5090.0, 5034.0, 5149.0, 5179.0, 5064.0, 5083.0, 5120.0, 5082.0, 5005.0, 5066.0, 5113.0, 5103.0, 5104.0, 5075.0, 5112.0, 5130.0, 5101.0, 5102.0, 5071.0, 5028.0, 5045.0, 5113.0, 4987.0, 5081.0, 5055.0, 5040.0, 5052.0, 5128.0, 5011.0, 5020.0, 5101.0, 5217.0, 5108.0, 4924.0, 4923.0, 5183.0, 5078.0, 5066.0, 5086.0, 5199.0, 5224.0, 5102.0, 5133.0, 5084.0, 5025.0, 5062.0, 5095.0, 5158.0, 5072.0, 4975.0, 5142.0, 5115.0, 5073.0, 5075.0, 5037.0, 5018.0, 5003.0, 5041.0, 5076.0, 5188.0, 5164.0, 5181.0, 4959.0, 5168.0, 5092.0, 5121.0, 5083.0, 4998.0, 5036.0, 5023.0, 5083.0, 5047.0, 5099.0, 5155.0, 5073.0, 4983.0, 5142.0, 5068.0, 5206.0, 5016.0, 5141.0, 5056.0, 4995.0, 4992.0, 5071.0, 5106.0, 5204.0, 5022.0, 5036.0, 5082.0, 5058.0, 5146.0, 5164.0, 5227.0, 5036.0, 5081.0, 5089.0, 5046.0, 5141.0, 5160.0, 5092.0, 5130.0, 5215.0, 5121.0, 5062.0, 5012.0, 5231.0, 5051.0, 5078.0, 5086.0, 5132.0, 5168.0, 5098.0, 5142.0, 5138.0, 5080.0, 5188.0, 4996.0, 5074.0, 5181.0, 5119.0, 5136.0, 5099.0, 5117.0, 5059.0, 5098.0, 5116.0, 5109.0, 5137.0, 5128.0, 5067.0, 5194.0, 5141.0, 5190.0, 5166.0, 5162.0, 5099.0, 5133.0, 5202.0, 5117.0, 5102.0, 5088.0, 5262.0, 5076.0, 5125.0, 4973.0, 5083.0, 5023.0, 5124.0, 5203.0, 5130.0, 4895.0, 5095.0, 5145.0, 5121.0, 5083.0, 5155.0, 5071.0, 5210.0, 5204.0, 4997.0, 5048.0, 5144.0, 5147.0, 4958.0, 5235.0, 4970.0, 5068.0, 5105.0, 5235.0, 5119.0, 5154.0, 5023.0, 4972.0, 5145.0, 4949.0, 5231.0, 5013.0, 5087.0, 5141.0, 5037.0, 5181.0, 5182.0, 5051.0, 5130.0, 5134.0, 5176.0, 5172.0, 5035.0, 5138.0, 5080.0, 5041.0, 5138.0, 5177.0, 5067.0, 5092.0, 5018.0, 4991.0, 5117.0, 5232.0, 5128.0, 5162.0, 5129.0, 5023.0, 5051.0, 5202.0, 5121.0, 5131.0, 5053.0, 5086.0, 5101.0, 5069.0, 5008.0, 5062.0, 5093.0, 5183.0, 5082.0, 5091.0, 5082.0, 4996.0, 5044.0, 5149.0, 4992.0, 5058.0, 5132.0, 5062.0, 4946.0, 5129.0, 5027.0, 5025.0, 5114.0, 4996.0, 5010.0, 5077.0, 5067.0, 5026.0, 5007.0, 5001.0, 5088.0, 5012.0, 4978.0, 5063.0, 5123.0, 5047.0, 5113.0, 5039.0, 5050.0, 5104.0, 5122.0, 4944.0, 5100.0, 5169.0, 5046.0, 5021.0, 5058.0, 5097.0, 5078.0, 5067.0, 5068.0, 5094.0, 5139.0, 4935.0, 5036.0, 4968.0, 5059.0, 5088.0, 5023.0, 5128.0, 5055.0, 4901.0, 5133.0, 5074.0, 5096.0, 5185.0, 5354.0, 5068.0, 5016.0, 5000.0, 5066.0, 4929.0, 5020.0, 5067.0, 5054.0, 5118.0, 5130.0, 5195.0, 5134.0, 5069.0, 5155.0, 5040.0, 5058.0, 5169.0, 4958.0, 4397.0, 4465.0, 4481.0, 4416.0, 4382.0, 4488.0, 4449.0, 4531.0, 4512.0, 4445.0, 4453.0, 4430.0, 4417.0, 4404.0, 4518.0, 4475.0, 4465.0, 4458.0, 4478.0, 4471.0, 4446.0, 4395.0, 4422.0, 4418.0, 4548.0, 4445.0, 4533.0, 4485.0, 4419.0, 4445.0, 4312.0, 4470.0, 4507.0, 4394.0, 4445.0, 4433.0, 4398.0, 4440.0, 4370.0, 4334.0, 4427.0, 4415.0, 4515.0, 4447.0, 4283.0, 4513.0, 4469.0, 4505.0, 4532.0, 4407.0, 4440.0, 4526.0, 4462.0, 4473.0, 4550.0, 4490.0, 4490.0, 4445.0, 4435.0, 4510.0, 4374.0, 4444.0, 4432.0, 4468.0, 4476.0, 4450.0, 4436.0, 4433.0, 4430.0, 4572.0, 4527.0, 4412.0, 4533.0, 4410.0, 4399.0, 4494.0, 4403.0, 4407.0, 4472.0, 4495.0, 4404.0, 4310.0, 4452.0, 4491.0, 4445.0, 4436.0, 4565.0, 4354.0, 4410.0, 4469.0, 4404.0, 4463.0, 4352.0, 4442.0, 4437.0, 4446.0, 4502.0, 4346.0, 4353.0, 4531.0, 4167.0, 4214.0, 4291.0, 4104.0, 4283.0, 4106.0, 4182.0, 4172.0, 4137.0, 4158.0, 4110.0, 4246.0, 4248.0, 4102.0, 4180.0, 4100.0, 4052.0, 4249.0, 4172.0, 4136.0, 4254.0, 4156.0, 4164.0, 4072.0, 4095.0, 4167.0, 4110.0, 4129.0, 4109.0, 4359.0, 4135.0, 4033.0, 4178.0, 4297.0, 4196.0, 4258.0, 4182.0, 4262.0, 4211.0, 4109.0, 4190.0, 4108.0, 4197.0, 4145.0, 4261.0, 4230.0, 4089.0, 4228.0, 4112.0, 4235.0, 4205.0, 4079.0, 4103.0, 4188.0, 4088.0, 4096.0, 4232.0, 4238.0, 4201.0, 4176.0, 4132.0, 4141.0, 4293.0, 4148.0, 4218.0, 4276.0, 4204.0, 4188.0, 4151.0, 4150.0, 4203.0, 4161.0, 4186.0, 4111.0, 4264.0, 4152.0, 4131.0, 4118.0, 4213.0, 4234.0, 4173.0, 4257.0, 4215.0, 4192.0, 4250.0, 4144.0, 4126.0, 4089.0, 4057.0, 4120.0, 4122.0, 4132.0, 4159.0, 4162.0, 4263.0, 4007.0, 4170.0, 4212.0, 4230.0, 4103.0, 1762.0, 1706.0, 1757.0, 1739.0, 1810.0, 1836.0, 1737.0, 1861.0, 1738.0, 1760.0, 1728.0, 1665.0, 1725.0, 1781.0, 1862.0, 1815.0, 1802.0, 1829.0, 1796.0, 1798.0, 1841.0, 1796.0, 1773.0, 1720.0, 1719.0, 1820.0, 1789.0, 1801.0, 1796.0, 1779.0, 1815.0, 1795.0, 1781.0, 1802.0, 1825.0, 1786.0, 1826.0, 1767.0, 1777.0, 1787.0, 1802.0, 1823.0, 1775.0, 1711.0, 1762.0, 1834.0, 1813.0, 1767.0, 1770.0, 1688.0, 1794.0, 1744.0, 1694.0, 1794.0, 1727.0, 1751.0, 1767.0, 1803.0, 1824.0, 1789.0, 1792.0, 1794.0, 1792.0, 1726.0, 1739.0, 1861.0, 1754.0, 1753.0, 1746.0, 1772.0, 1737.0, 1833.0, 1795.0, 1753.0, 1796.0, 1818.0, 1752.0, 1802.0, 1799.0, 1701.0, 1734.0, 1785.0, 1761.0, 1801.0, 1831.0, 1778.0, 1816.0, 1754.0, 1798.0, 1752.0, 1797.0, 1845.0, 1719.0, 1810.0, 1761.0, 1771.0, 1790.0, 1845.0, 1736.0, 1783.0, 1752.0, 1805.0, 1700.0, 1738.0, 1820.0, 1811.0, 1824.0, 1722.0, 1768.0, 1691.0, 1735.0, 1739.0, 1721.0, 1880.0, 1765.0, 1854.0, 1709.0, 1797.0, 1776.0, 1862.0, 1713.0, 1698.0, 1754.0, 1733.0, 1782.0, 1722.0, 1759.0, 1793.0, 1795.0, 1654.0, 1803.0, 1741.0, 1746.0, 1706.0, 1660.0, 1733.0, 1717.0, 1760.0, 1737.0, 1769.0, 1854.0, 1698.0, 1714.0, 1810.0, 1825.0, 1779.0, 1780.0, 1748.0, 1799.0, 1815.0, 1739.0, 1732.0, 1717.0, 1764.0, 1739.0, 1785.0, 1725.0, 1801.0, 1753.0, 1814.0, 1741.0, 1748.0, 1681.0, 1773.0, 1796.0, 1834.0, 1749.0, 1768.0, 1808.0, 1699.0, 1670.0, 1770.0, 1742.0, 1775.0, 1707.0, 1781.0, 1766.0, 1778.0, 1764.0, 1699.0, 1754.0, 1712.0, 1684.0, 1760.0, 1741.0, 1804.0, 1757.0, 1752.0, 1742.0, 1817.0, 1816.0, 1776.0, 1677.0, 1770.0, 1788.0, 1718.0, 1751.0, 1754.0, 1787.0, 1760.0, 1735.0, 1690.0, 1804.0, 1747.0, 1785.0, 1849.0, 1796.0, 1808.0, 1704.0, 1772.0, 1723.0, 1681.0, 1667.0, 1740.0, 1784.0, 1783.0, 1810.0, 1779.0, 1691.0, 1775.0, 1761.0, 1693.0, 1748.0, 1821.0, 1792.0, 1718.0, 1769.0, 1794.0, 1723.0, 1719.0, 1774.0, 1703.0, 1744.0, 1754.0, 1696.0, 1738.0, 1882.0, 1741.0, 1767.0, 1773.0, 1736.0, 1810.0, 1760.0, 1939.0, 1723.0, 1800.0, 1765.0, 1697.0, 1727.0, 1710.0, 1812.0, 1794.0, 1788.0, 1791.0, 1771.0, 1742.0, 1784.0, 1771.0, 1846.0, 1749.0, 1700.0, 1731.0, 1770.0, 1747.0, 1773.0, 1799.0, 1788.0, 1769.0, 1828.0, 1722.0, 1762.0, 1790.0, 1781.0, 1757.0, 1784.0, 1779.0, 1794.0, 1758.0, 1847.0, 1775.0, 1750.0, 1767.0, 1733.0, 1814.0, 1737.0, 1770.0, 1737.0, 1765.0, 1753.0, 1788.0, 1739.0, 1804.0, 1877.0, 1806.0, 1734.0, 1715.0, 1723.0, 1762.0, 1806.0, 1803.0, 1605.0, 1586.0, 1620.0, 1634.0, 1654.0, 1648.0, 1669.0, 1605.0, 1651.0, 1631.0, 1667.0, 1617.0, 1674.0, 1667.0, 1666.0, 1615.0, 1667.0, 1661.0, 1687.0, 1673.0, 1687.0, 1656.0, 1642.0, 1640.0, 1585.0, 1666.0, 1629.0, 1654.0, 1568.0, 1593.0, 1597.0, 1622.0, 1613.0, 1592.0, 1668.0, 1611.0, 1662.0, 1561.0, 1665.0, 1639.0, 1693.0, 1705.0, 1651.0, 1625.0, 1545.0, 1534.0, 1667.0, 1631.0, 1664.0, 1578.0, 1748.0, 1600.0, 1587.0, 1599.0, 1659.0, 1673.0, 1749.0, 1593.0, 1687.0, 1633.0, 1654.0, 1689.0, 1603.0, 1666.0, 1710.0, 1635.0, 1661.0, 1637.0, 1642.0, 1569.0, 1656.0, 1646.0, 1664.0, 1619.0, 1674.0, 1604.0, 1608.0, 1646.0, 1639.0, 1681.0, 1656.0, 1663.0, 1643.0, 1651.0, 1622.0, 1614.0, 1639.0, 1663.0, 1668.0, 1684.0, 1682.0, 1688.0, 1624.0, 1692.0, 1626.0, 1593.0, 1666.0, 1615.0, 1693.0, 1656.0, 1592.0, 1700.0, 1623.0, 1676.0, 1669.0, 1697.0, 1574.0, 1644.0, 1647.0, 1693.0, 1646.0, 1673.0, 1595.0, 1605.0, 1644.0, 1579.0, 1625.0, 1661.0, 1667.0, 1668.0, 1590.0, 1665.0, 1660.0, 1661.0, 1603.0, 1681.0, 1631.0, 1622.0, 1698.0, 1687.0, 1607.0, 1626.0, 1668.0, 1665.0, 1630.0, 1727.0, 1587.0, 1586.0, 1641.0, 1663.0, 1639.0, 1634.0, 1586.0, 1579.0, 1582.0, 1670.0, 1649.0, 1641.0, 1576.0, 1664.0, 1605.0, 1637.0, 1649.0, 1639.0, 1664.0, 1619.0, 1642.0, 1614.0, 1682.0, 1650.0, 1542.0, 1687.0, 1643.0, 1630.0, 1679.0, 1608.0, 1604.0, 1699.0, 1586.0, 1645.0, 1707.0, 1629.0, 1577.0, 1638.0, 1702.0, 1683.0, 1582.0, 1626.0, 1649.0, 1637.0, 1618.0, 1654.0, 1627.0, 1645.0, 1672.0, 1584.0, 1642.0, 1618.0, 1636.0, 1707.0, 1614.0, 1591.0, 1638.0, 1586.0, 1565.0, 1555.0, 1683.0, 1626.0, 1645.0, 1641.0, 1680.0, 1578.0, 1635.0, 1709.0, 1580.0, 1698.0, 1620.0, 1636.0, 1713.0, 1611.0, 1623.0, 1577.0, 1619.0, 1671.0, 1586.0, 1614.0, 1665.0, 1616.0, 1608.0, 1607.0, 1677.0, 1630.0, 1620.0, 1609.0, 1629.0, 1692.0, 1686.0, 1703.0, 1661.0, 1631.0, 1624.0, 1597.0, 1653.0, 1650.0, 1645.0, 1640.0, 1644.0, 1585.0, 1651.0, 1653.0, 1642.0, 1586.0, 1660.0, 1675.0, 1691.0, 1639.0, 1635.0, 1660.0, 1611.0, 1642.0, 1699.0, 1556.0, 1703.0, 1594.0, 1592.0, 1694.0, 1534.0, 1596.0, 1649.0, 1668.0, 1682.0, 1598.0, 1658.0, 1677.0, 1670.0, 1653.0, 1659.0, 1574.0, 1673.0, 1607.0, 1653.0, 1680.0, 1729.0, 1624.0, 1596.0, 1639.0, 1616.0, 1619.0, 1679.0, 1677.0, 1631.0, 1572.0, 1615.0, 1697.0, 1611.0, 1656.0, 1649.0, 1580.0, 1619.0, 1651.0, 1630.0, 1663.0, 1583.0, 1738.0, 1653.0, 1592.0, 1689.0, 1647.0, 1591.0, 1585.0, 1697.0, 1678.0, 1640.0, 1664.0, 1719.0, 1662.0, 1671.0, 1663.0, 1629.0, 1651.0, 1651.0, 1596.0, 1690.0, 1727.0, 1637.0, 1669.0, 1566.0, 1671.0, 1648.0, 1693.0, 1641.0, 1608.0, 1543.0, 1643.0, 1642.0, 1570.0, 1670.0, 1607.0, 1598.0, 1636.0, 1567.0, 1609.0, 1619.0, 1669.0, 1620.0, 1666.0, 1666.0, 1645.0, 1651.0, 1710.0, 1648.0, 1653.0, 1652.0, 1615.0, 1679.0, 1656.0, 1704.0, 1620.0, 1709.0, 1588.0, 1620.0, 1622.0, 1636.0, 1706.0, 1695.0, 1613.0, 1632.0, 1645.0, 1694.0, 1657.0, 1698.0, 1611.0, 1686.0, 1663.0, 1587.0, 1619.0, 1611.0, 1654.0, 1639.0, 1660.0, 1715.0, 1688.0, 1662.0, 1637.0, 1727.0, 1583.0, 1621.0, 1599.0, 1647.0, 1736.0, 1658.0, 1651.0, 1644.0, 1710.0, 1615.0, 1647.0, 1651.0, 1673.0, 1697.0, 1645.0, 1605.0, 1667.0, 1740.0, 1661.0, 1666.0, 1699.0, 1667.0, 1616.0, 1711.0, 1651.0, 1639.0, 1512.0, 1486.0, 1513.0, 1592.0, 1638.0, 1591.0, 1592.0, 1528.0, 1581.0, 1597.0, 1601.0, 1551.0, 1565.0, 1557.0, 1586.0, 1616.0, 1587.0, 1554.0, 1575.0, 1566.0, 1625.0, 1590.0, 1565.0, 1552.0, 1570.0, 1517.0, 1549.0, 1541.0, 1554.0, 1590.0, 1621.0, 1571.0, 1558.0, 1580.0, 1578.0, 1535.0, 1597.0, 1552.0, 1548.0, 1545.0, 1593.0, 1589.0, 1492.0, 1552.0, 1554.0, 1543.0, 1591.0, 1582.0, 1549.0, 1574.0, 1629.0, 1539.0, 1641.0, 1523.0, 1605.0, 1516.0, 1646.0, 1544.0, 1514.0, 1579.0, 1652.0, 1578.0, 1564.0, 1570.0, 1587.0, 1500.0, 1626.0, 1615.0, 1545.0, 1574.0, 1619.0, 1576.0, 1550.0, 1596.0, 1555.0, 1558.0, 1621.0, 1607.0, 1594.0, 1570.0, 1591.0, 1526.0, 1579.0, 1577.0, 1544.0, 1596.0, 1493.0, 1603.0, 1663.0, 1571.0, 1556.0, 1590.0, 1571.0, 1529.0, 1535.0, 1536.0, 1538.0, 1527.0, 1578.0, 1561.0, 1565.0, 1643.0, 1578.0, 1547.0, 1586.0, 1544.0, 1550.0, 1540.0, 1603.0, 1598.0, 1591.0, 1575.0, 1578.0, 1508.0, 1624.0, 1533.0, 1525.0, 1504.0, 1567.0, 1547.0, 1562.0, 1533.0, 1534.0, 1476.0, 1567.0, 1579.0, 1600.0, 1560.0, 1588.0, 1508.0, 1539.0, 1583.0, 1506.0, 1474.0, 1534.0, 1604.0, 1551.0, 1596.0, 1461.0, 1500.0, 1590.0, 1572.0, 1574.0, 1530.0, 1535.0, 1532.0, 1586.0, 1550.0, 1579.0, 1523.0, 1559.0, 1599.0, 1546.0, 1548.0, 1512.0, 1532.0, 1494.0, 1503.0, 1531.0, 1563.0, 1519.0, 1599.0, 1510.0, 1579.0, 1530.0, 1557.0, 1493.0, 1578.0, 1568.0, 1536.0, 1620.0, 1576.0, 1589.0, 1548.0, 1526.0, 1585.0, 1563.0, 1573.0, 1516.0, 1549.0, 1535.0, 1527.0, 1545.0, 1603.0, 1563.0, 1560.0, 1542.0, 1587.0, 1547.0, 1508.0, 1560.0, 1500.0, 1569.0, 1466.0, 1548.0, 1451.0, 1627.0, 1573.0, 1582.0, 1596.0, 1565.0, 1580.0, 1590.0, 1549.0, 1609.0, 1559.0, 1568.0, 1559.0, 1578.0, 1466.0, 1586.0, 1570.0, 1561.0, 1630.0, 1571.0, 1528.0, 1553.0, 1632.0, 1548.0, 1588.0, 1594.0, 1550.0, 1567.0, 1562.0, 1488.0, 1569.0, 1585.0, 1554.0, 1507.0, 1574.0, 1553.0, 1548.0, 1614.0, 1525.0, 1552.0, 1573.0, 1541.0, 1599.0, 1545.0, 1635.0, 1430.0, 1593.0, 1554.0, 1621.0, 1589.0, 1586.0, 1611.0, 1631.0, 1477.0, 1599.0, 1544.0, 1564.0, 1525.0, 1560.0, 1572.0, 1634.0, 1599.0, 1625.0, 1483.0, 1476.0, 1650.0, 1587.0, 1553.0, 1546.0, 1555.0, 1547.0, 1525.0, 1601.0, 1569.0, 1539.0, 1581.0, 1618.0, 1567.0, 1540.0, 1586.0, 1655.0, 1594.0, 1599.0, 1625.0, 1539.0, 1611.0, 1618.0, 1535.0, 1562.0, 1560.0, 1547.0, 1543.0, 1568.0, 1542.0, 1620.0, 1534.0, 1620.0, 1569.0, 1501.0, 1566.0, 1575.0, 1592.0, 1511.0, 1631.0, 1489.0, 1522.0, 1548.0, 1551.0, 1583.0, 1536.0, 1576.0, 1548.0, 1564.0, 1548.0, 1533.0, 1560.0, 1574.0, 1563.0, 1505.0, 1504.0, 1554.0, 1545.0, 1542.0, 1553.0, 1524.0, 1610.0, 1679.0, 1524.0, 1539.0, 1522.0, 1596.0, 1562.0, 1517.0, 1531.0, 1550.0, 1509.0, 1534.0, 1595.0, 1516.0, 1525.0, 1516.0, 1574.0, 1594.0, 1564.0, 1533.0, 1516.0, 1514.0, 1527.0, 1541.0, 1534.0, 1578.0, 1558.0, 1537.0, 1629.0, 1527.0, 1541.0, 1520.0, 1490.0, 1594.0, 1483.0, 1631.0, 1547.0, 1541.0, 1573.0, 1591.0, 1494.0, 1581.0, 1485.0, 1515.0, 1539.0, 1536.0, 1570.0, 1541.0, 1550.0, 1546.0, 1572.0, 1471.0, 1545.0, 1516.0, 1528.0, 1489.0, 1552.0, 1544.0, 1613.0, 1533.0, 1574.0, 1564.0, 1524.0, 1554.0, 1590.0, 1486.0, 1595.0, 1554.0, 1586.0, 1610.0, 1568.0, 1615.0, 1497.0, 1535.0, 1528.0, 1559.0, 1521.0, 1569.0, 1488.0, 1600.0, 1596.0, 1480.0, 1569.0, 1599.0, 1552.0, 1545.0, 1480.0, 1577.0, 1605.0, 1554.0, 1523.0, 1492.0, 1602.0, 1606.0, 1484.0, 1491.0, 1544.0, 1573.0, 1555.0, 1507.0, 1518.0, 1559.0, 1618.0, 1576.0, 1472.0, 1679.0, 1553.0, 1560.0, 1550.0, 1615.0, 1597.0, 1559.0, 1587.0, 1560.0, 1525.0, 1563.0, 1566.0, 1630.0, 1617.0, 1569.0, 1561.0, 1515.0, 1587.0, 1563.0, 1555.0, 1524.0, 1566.0, 1629.0, 1499.0, 1535.0, 1536.0, 1548.0, 1585.0, 1555.0, 1611.0, 1522.0, 1581.0, 1584.0, 1603.0, 1523.0, 1494.0, 1577.0, 1570.0, 1509.0, 1542.0, 1573.0, 1564.0, 1501.0, 1533.0, 1536.0, 1573.0, 1542.0, 1585.0, 1569.0, 1575.0, 1489.0, 1473.0, 1555.0, 1546.0, 1640.0, 1524.0, 1543.0, 1632.0, 1576.0, 1521.0, 1499.0, 1542.0, 1517.0, 1565.0, 1510.0, 1529.0, 1524.0, 1538.0, 1529.0, 1650.0, 1555.0, 1553.0, 1504.0, 1523.0, 1139.0, 1176.0, 1107.0, 1144.0, 1134.0, 1158.0, 1236.0, 1163.0, 1140.0, 1208.0, 1174.0, 1135.0, 1184.0, 1188.0, 1099.0, 1155.0, 1087.0, 1217.0, 1200.0, 1174.0, 1153.0, 1148.0, 1140.0, 1171.0, 1158.0, 1172.0, 1178.0, 1166.0, 1171.0, 1192.0, 1111.0, 1120.0, 1170.0, 1209.0, 1158.0, 1102.0, 1101.0, 1156.0, 1175.0, 1145.0, 1124.0, 1130.0, 1198.0, 1119.0, 1134.0, 1167.0, 1145.0, 1145.0, 1183.0, 1210.0, 1121.0, 1123.0, 1145.0, 1204.0, 1119.0, 1149.0, 1167.0, 1192.0, 1163.0, 1162.0, 1176.0, 1128.0, 1167.0, 1158.0, 1125.0, 1125.0, 1157.0, 1169.0, 1161.0, 1148.0, 1176.0, 1182.0, 1104.0, 1116.0, 1151.0, 1122.0, 1120.0, 1188.0, 1195.0, 1144.0, 1155.0, 1114.0, 1165.0, 1175.0, 1125.0, 1129.0, 1126.0, 1153.0, 1217.0, 1114.0, 1089.0, 1167.0, 1092.0, 1138.0, 1119.0, 1225.0, 1169.0, 1171.0, 1116.0, 1178.0, 1142.0, 1129.0, 1174.0, 1141.0, 1115.0, 1161.0, 1081.0, 1127.0, 1166.0, 1160.0, 1115.0, 1192.0, 1193.0, 1194.0, 1159.0, 1216.0, 1164.0, 1155.0, 1163.0, 1182.0, 1125.0, 1135.0, 1173.0, 1184.0, 1182.0, 1120.0, 1177.0, 1193.0, 1180.0, 1086.0, 1239.0, 1186.0, 1170.0, 1133.0, 1124.0, 1167.0, 1164.0, 1128.0, 1204.0, 1142.0, 1126.0, 1141.0, 1118.0, 1143.0, 1130.0, 1215.0, 1119.0, 1204.0, 1147.0, 1139.0, 1139.0, 1181.0, 1143.0, 1206.0, 1172.0, 1165.0, 1177.0, 1112.0, 1141.0, 1162.0, 1164.0, 1212.0, 1191.0, 1195.0, 1156.0, 1108.0, 1228.0, 1145.0, 1152.0, 1169.0, 1152.0, 1151.0, 1132.0, 1254.0, 1174.0, 1171.0, 1195.0, 1132.0, 1104.0, 1156.0, 1154.0, 1150.0, 1137.0, 1151.0, 1133.0, 1143.0, 1187.0, 1143.0, 1182.0, 1155.0, 1124.0, 1143.0, 1159.0, 1197.0, 1092.0, 1173.0, 1139.0, 1245.0, 1122.0, 1138.0, 795.0, 738.0, 776.0, 717.0, 772.0, 761.0, 804.0, 861.0, 812.0, 793.0, 807.0, 797.0, 867.0, 803.0, 814.0, 803.0, 760.0, 803.0, 766.0, 829.0, 795.0, 803.0, 815.0, 777.0, 828.0, 816.0, 794.0, 797.0, 754.0, 786.0, 777.0, 807.0, 807.0, 769.0, 792.0, 798.0, 807.0, 777.0, 764.0, 819.0, 794.0, 843.0, 767.0, 796.0, 802.0, 808.0, 792.0, 793.0, 754.0, 793.0, 823.0, 780.0, 804.0, 776.0, 811.0, 776.0, 807.0, 779.0, 826.0, 799.0, 794.0, 806.0, 759.0, 788.0, 737.0, 787.0, 798.0, 785.0, 873.0, 767.0, 837.0, 861.0, 798.0, 852.0, 801.0, 778.0, 775.0, 782.0, 808.0, 807.0, 749.0, 756.0, 806.0, 775.0, 781.0, 747.0, 775.0, 804.0, 761.0, 787.0, 766.0, 752.0, 769.0, 831.0, 774.0, 815.0, 787.0, 763.0, 782.0, 729.0, 756.0, 720.0, 766.0, 714.0, 718.0, 712.0, 728.0, 766.0, 740.0, 762.0, 743.0, 730.0, 736.0, 696.0, 732.0, 743.0, 725.0, 760.0, 719.0, 697.0, 738.0, 762.0, 760.0, 745.0, 734.0, 744.0, 700.0, 774.0, 728.0, 782.0, 767.0, 760.0, 754.0, 754.0, 766.0, 754.0, 735.0, 720.0, 708.0, 794.0, 765.0, 743.0, 731.0, 689.0, 707.0, 767.0, 748.0, 669.0, 722.0, 771.0, 701.0, 720.0, 747.0, 718.0, 735.0, 727.0, 744.0, 711.0, 758.0, 713.0, 760.0, 717.0, 733.0, 763.0, 699.0, 771.0, 763.0, 774.0, 702.0, 732.0, 730.0, 772.0, 747.0, 701.0, 701.0, 750.0, 713.0, 764.0, 723.0, 709.0, 754.0, 726.0, 769.0, 743.0, 723.0, 750.0, 792.0, 736.0, 740.0, 750.0, 747.0, 748.0, 740.0, 744.0, 756.0, 749.0, 745.0, 742.0, 703.0, 753.0, 679.0, 702.0, 707.0, 706.0, 741.0, 726.0, 724.0, 740.0, 737.0, 726.0, 720.0, 677.0, 724.0, 684.0, 719.0, 688.0, 746.0, 704.0, 684.0, 725.0, 711.0, 750.0, 687.0, 730.0, 714.0, 728.0, 746.0, 705.0, 697.0, 769.0, 684.0, 773.0, 732.0, 689.0, 681.0, 695.0, 733.0, 719.0, 754.0, 708.0, 688.0, 744.0, 693.0, 718.0, 763.0, 735.0, 675.0, 711.0, 701.0, 690.0, 709.0, 712.0, 678.0, 741.0, 720.0, 734.0, 719.0, 667.0, 684.0, 721.0, 734.0, 706.0, 723.0, 719.0, 710.0, 729.0, 717.0, 700.0, 677.0, 686.0, 770.0, 734.0, 711.0, 715.0, 695.0, 734.0, 709.0, 698.0, 722.0, 734.0, 736.0, 713.0, 706.0, 721.0, 737.0, 699.0, 687.0, 744.0, 663.0, 739.0, 736.0, 697.0, 703.0, 700.0, 764.0, 753.0, 729.0, 714.0, 700.0, 764.0, 434.0, 475.0, 431.0, 444.0, 459.0, 436.0, 425.0, 413.0, 420.0, 440.0, 425.0, 462.0, 423.0, 473.0, 464.0, 501.0, 416.0, 476.0, 440.0, 447.0, 409.0, 452.0, 461.0, 450.0, 438.0, 447.0, 441.0, 453.0, 426.0, 474.0, 405.0, 461.0, 475.0, 397.0, 434.0, 420.0, 433.0, 437.0, 437.0, 434.0, 435.0, 432.0, 426.0, 397.0, 441.0, 417.0, 417.0, 451.0, 470.0, 443.0, 480.0, 429.0, 449.0, 487.0, 428.0, 447.0, 411.0, 491.0, 413.0, 411.0, 461.0, 419.0, 423.0, 447.0, 447.0, 442.0, 439.0, 430.0, 444.0, 440.0, 473.0, 425.0, 465.0, 430.0, 450.0, 440.0, 421.0, 427.0, 400.0, 445.0, 428.0, 433.0, 417.0, 464.0, 451.0, 468.0, 438.0, 473.0, 474.0, 435.0, 436.0, 452.0, 456.0, 476.0, 441.0, 443.0, 460.0, 395.0, 492.0, 489.0, 372.0, 355.0, 344.0, 342.0, 371.0, 325.0, 350.0, 357.0, 395.0, 401.0, 357.0, 334.0, 396.0, 348.0, 359.0, 334.0, 363.0, 336.0, 353.0, 362.0, 367.0, 383.0, 331.0, 356.0, 353.0, 385.0, 349.0, 378.0, 344.0, 415.0, 368.0, 375.0, 361.0, 373.0, 370.0, 332.0, 377.0, 359.0, 378.0, 370.0, 390.0, 347.0, 353.0, 366.0, 378.0, 356.0, 358.0, 388.0, 355.0, 365.0, 365.0, 362.0, 378.0, 386.0, 349.0, 365.0, 388.0, 376.0, 351.0, 389.0, 404.0, 361.0, 355.0, 370.0, 387.0, 404.0, 391.0, 373.0, 367.0, 352.0, 345.0, 350.0, 381.0, 386.0, 345.0, 386.0, 342.0, 371.0, 365.0, 369.0, 400.0, 356.0, 374.0, 341.0, 377.0, 375.0, 379.0, 381.0, 378.0, 346.0, 365.0, 370.0, 385.0, 371.0, 343.0, 366.0, 357.0, 329.0, 375.0, 369.0, 368.0, 396.0, 379.0, 372.0, 395.0, 354.0, 388.0, 367.0, 330.0, 373.0, 312.0, 376.0, 327.0, 372.0, 339.0, 377.0, 381.0, 380.0, 360.0, 381.0, 372.0, 362.0, 349.0, 330.0, 365.0, 342.0, 373.0, 341.0, 341.0, 343.0, 368.0, 342.0, 360.0, 360.0, 354.0, 358.0, 371.0, 388.0, 389.0, 366.0, 328.0, 407.0, 366.0, 395.0, 379.0, 392.0, 345.0, 352.0, 364.0, 373.0, 360.0, 376.0, 366.0, 355.0, 373.0, 359.0, 368.0, 361.0, 358.0, 423.0, 365.0, 389.0, 368.0, 369.0, 398.0, 356.0, 376.0, 367.0, 375.0, 391.0, 355.0, 395.0, 371.0, 390.0, 346.0, 387.0, 387.0, 356.0, 348.0, 366.0, 375.0, 380.0, 350.0, 364.0, 383.0, 399.0, 373.0, 347.0, 371.0, 344.0, 363.0, 361.0, 341.0, 366.0, 366.0, 361.0, 344.0, 356.0, 361.0, 351.0, 346.0, 365.0, 303.0, 323.0, 351.0, 365.0, 366.0, 339.0, 325.0, 321.0, 360.0, 351.0, 303.0, 320.0, 360.0, 324.0, 325.0, 313.0, 345.0, 330.0, 345.0, 330.0, 335.0, 336.0, 310.0, 383.0, 377.0, 330.0, 368.0, 318.0, 332.0, 315.0, 336.0, 328.0, 353.0, 321.0, 336.0, 332.0, 332.0, 350.0, 317.0, 333.0, 342.0, 376.0, 347.0, 354.0, 333.0, 324.0, 319.0, 343.0, 344.0, 340.0, 361.0, 329.0, 343.0, 342.0, 315.0, 299.0, 331.0, 318.0, 332.0, 314.0, 330.0, 347.0, 331.0, 314.0, 355.0, 316.0, 361.0, 331.0, 327.0, 321.0, 329.0, 349.0, 360.0, 315.0, 341.0, 343.0, 343.0, 328.0, 318.0, 351.0, 324.0, 312.0, 344.0, 319.0, 301.0, 338.0, 363.0, 355.0, 331.0, 343.0, 285.0, 363.0, 324.0, 340.0, 344.0, 326.0, 300.0, 313.0, 271.0, 327.0, 333.0, 327.0, 335.0, 314.0, 321.0, 271.0, 300.0, 339.0, 283.0, 328.0, 281.0, 295.0, 281.0, 279.0, 327.0, 289.0, 309.0, 316.0, 301.0, 314.0, 326.0, 292.0, 318.0, 315.0, 324.0, 315.0, 311.0, 297.0, 264.0, 304.0, 329.0, 312.0, 299.0, 339.0, 297.0, 324.0, 286.0, 302.0, 312.0, 313.0, 297.0, 315.0, 298.0, 308.0, 314.0, 312.0, 296.0, 304.0, 303.0, 313.0, 295.0, 291.0, 322.0, 292.0, 323.0, 302.0, 310.0, 293.0, 292.0, 314.0, 300.0, 290.0, 317.0, 288.0, 322.0, 303.0, 306.0, 312.0, 340.0, 306.0, 317.0, 312.0, 293.0, 300.0, 308.0, 280.0, 283.0, 312.0, 326.0, 345.0, 315.0, 269.0, 280.0, 331.0, 282.0, 306.0, 259.0, 275.0, 292.0, 318.0, 310.0, 315.0, 283.0, 311.0, 291.0, 317.0, 301.0, 300.0, 188.0, 200.0, 193.0, 183.0, 168.0, 198.0, 209.0, 162.0, 160.0, 175.0, 182.0, 173.0, 176.0, 216.0, 196.0, 181.0, 184.0, 203.0, 179.0, 180.0, 200.0, 190.0, 182.0, 194.0, 202.0, 189.0, 199.0, 195.0, 187.0, 173.0, 172.0, 183.0, 182.0, 191.0, 189.0, 197.0, 183.0, 177.0, 175.0, 181.0, 201.0, 187.0, 203.0, 172.0, 170.0, 161.0, 169.0, 182.0, 185.0, 190.0, 178.0, 176.0, 186.0, 190.0, 197.0, 185.0, 178.0, 175.0, 193.0, 167.0, 198.0, 193.0, 187.0, 172.0, 179.0, 159.0, 214.0, 180.0, 209.0, 179.0, 206.0, 190.0, 196.0, 181.0, 179.0, 189.0, 190.0, 206.0, 206.0, 169.0, 169.0, 180.0, 186.0, 164.0, 195.0, 181.0, 186.0, 170.0, 170.0, 185.0, 181.0, 184.0, 169.0, 179.0, 181.0, 188.0, 175.0, 209.0, 190.0, 194.0, 162.0, 159.0, 163.0, 184.0, 170.0, 189.0, 165.0, 131.0, 130.0, 155.0, 170.0, 173.0, 174.0, 167.0, 171.0, 174.0, 151.0, 159.0, 144.0, 141.0, 158.0, 144.0, 154.0, 170.0, 147.0, 161.0, 154.0, 165.0, 155.0, 158.0, 178.0, 170.0, 175.0, 152.0, 192.0, 154.0, 164.0, 148.0, 160.0, 159.0, 147.0, 149.0, 157.0, 150.0, 167.0, 169.0, 169.0, 139.0, 164.0, 174.0, 164.0, 165.0, 174.0, 165.0, 155.0, 164.0, 176.0, 160.0, 145.0, 164.0, 165.0, 182.0, 162.0, 156.0, 143.0, 170.0, 153.0, 139.0, 138.0, 138.0, 153.0, 175.0, 152.0, 151.0, 164.0, 172.0, 175.0, 166.0, 157.0, 188.0, 155.0, 162.0, 159.0, 171.0, 175.0, 165.0, 151.0, 169.0, 164.0, 155.0, 136.0, 146.0, 144.0, 153.0, 179.0, 163.0, 142.0, 179.0, 161.0, 140.0], \"yaxis\": \"y\"}],\n",
              "                        {\"autosize\": false, \"height\": 400, \"legend\": {\"tracegroupgap\": 0}, \"margin\": {\"b\": 10, \"l\": 5, \"pad\": 4, \"r\": 5, \"t\": 10}, \"paper_bgcolor\": \"LightSteelBlue\", \"template\": {\"data\": {\"bar\": [{\"error_x\": {\"color\": \"#2a3f5f\"}, \"error_y\": {\"color\": \"#2a3f5f\"}, \"marker\": {\"line\": {\"color\": \"#E5ECF6\", \"width\": 0.5}}, \"type\": \"bar\"}], \"barpolar\": [{\"marker\": {\"line\": {\"color\": \"#E5ECF6\", \"width\": 0.5}}, \"type\": \"barpolar\"}], \"carpet\": [{\"aaxis\": {\"endlinecolor\": \"#2a3f5f\", \"gridcolor\": \"white\", \"linecolor\": \"white\", \"minorgridcolor\": \"white\", \"startlinecolor\": \"#2a3f5f\"}, \"baxis\": {\"endlinecolor\": \"#2a3f5f\", \"gridcolor\": \"white\", \"linecolor\": \"white\", \"minorgridcolor\": \"white\", \"startlinecolor\": \"#2a3f5f\"}, \"type\": \"carpet\"}], \"choropleth\": [{\"colorbar\": {\"outlinewidth\": 0, \"ticks\": \"\"}, \"type\": \"choropleth\"}], \"contour\": [{\"colorbar\": {\"outlinewidth\": 0, \"ticks\": \"\"}, \"colorscale\": [[0.0, \"#0d0887\"], [0.1111111111111111, \"#46039f\"], [0.2222222222222222, \"#7201a8\"], [0.3333333333333333, \"#9c179e\"], [0.4444444444444444, \"#bd3786\"], [0.5555555555555556, \"#d8576b\"], [0.6666666666666666, \"#ed7953\"], [0.7777777777777778, \"#fb9f3a\"], [0.8888888888888888, \"#fdca26\"], [1.0, \"#f0f921\"]], \"type\": \"contour\"}], \"contourcarpet\": [{\"colorbar\": {\"outlinewidth\": 0, \"ticks\": \"\"}, \"type\": \"contourcarpet\"}], \"heatmap\": [{\"colorbar\": {\"outlinewidth\": 0, \"ticks\": \"\"}, \"colorscale\": [[0.0, \"#0d0887\"], [0.1111111111111111, \"#46039f\"], [0.2222222222222222, \"#7201a8\"], [0.3333333333333333, \"#9c179e\"], [0.4444444444444444, \"#bd3786\"], [0.5555555555555556, \"#d8576b\"], [0.6666666666666666, \"#ed7953\"], [0.7777777777777778, \"#fb9f3a\"], [0.8888888888888888, \"#fdca26\"], [1.0, \"#f0f921\"]], \"type\": \"heatmap\"}], \"heatmapgl\": [{\"colorbar\": {\"outlinewidth\": 0, \"ticks\": \"\"}, \"colorscale\": [[0.0, \"#0d0887\"], [0.1111111111111111, \"#46039f\"], [0.2222222222222222, \"#7201a8\"], [0.3333333333333333, \"#9c179e\"], [0.4444444444444444, \"#bd3786\"], [0.5555555555555556, \"#d8576b\"], [0.6666666666666666, \"#ed7953\"], [0.7777777777777778, \"#fb9f3a\"], [0.8888888888888888, \"#fdca26\"], [1.0, \"#f0f921\"]], \"type\": \"heatmapgl\"}], \"histogram\": [{\"marker\": {\"colorbar\": {\"outlinewidth\": 0, \"ticks\": \"\"}}, \"type\": \"histogram\"}], \"histogram2d\": [{\"colorbar\": {\"outlinewidth\": 0, \"ticks\": \"\"}, \"colorscale\": [[0.0, \"#0d0887\"], [0.1111111111111111, \"#46039f\"], [0.2222222222222222, \"#7201a8\"], [0.3333333333333333, \"#9c179e\"], [0.4444444444444444, \"#bd3786\"], [0.5555555555555556, \"#d8576b\"], [0.6666666666666666, \"#ed7953\"], [0.7777777777777778, \"#fb9f3a\"], [0.8888888888888888, \"#fdca26\"], [1.0, \"#f0f921\"]], \"type\": \"histogram2d\"}], \"histogram2dcontour\": [{\"colorbar\": {\"outlinewidth\": 0, \"ticks\": \"\"}, \"colorscale\": [[0.0, \"#0d0887\"], [0.1111111111111111, \"#46039f\"], [0.2222222222222222, \"#7201a8\"], [0.3333333333333333, \"#9c179e\"], [0.4444444444444444, \"#bd3786\"], [0.5555555555555556, \"#d8576b\"], [0.6666666666666666, \"#ed7953\"], [0.7777777777777778, \"#fb9f3a\"], [0.8888888888888888, \"#fdca26\"], [1.0, \"#f0f921\"]], \"type\": \"histogram2dcontour\"}], \"mesh3d\": [{\"colorbar\": {\"outlinewidth\": 0, \"ticks\": \"\"}, \"type\": \"mesh3d\"}], \"parcoords\": [{\"line\": {\"colorbar\": {\"outlinewidth\": 0, \"ticks\": \"\"}}, \"type\": \"parcoords\"}], \"pie\": [{\"automargin\": true, \"type\": \"pie\"}], \"scatter\": [{\"marker\": {\"colorbar\": {\"outlinewidth\": 0, \"ticks\": \"\"}}, \"type\": \"scatter\"}], \"scatter3d\": [{\"line\": {\"colorbar\": {\"outlinewidth\": 0, \"ticks\": \"\"}}, \"marker\": {\"colorbar\": {\"outlinewidth\": 0, \"ticks\": \"\"}}, \"type\": \"scatter3d\"}], \"scattercarpet\": [{\"marker\": {\"colorbar\": {\"outlinewidth\": 0, \"ticks\": \"\"}}, \"type\": \"scattercarpet\"}], \"scattergeo\": [{\"marker\": {\"colorbar\": {\"outlinewidth\": 0, \"ticks\": \"\"}}, \"type\": \"scattergeo\"}], \"scattergl\": [{\"marker\": {\"colorbar\": {\"outlinewidth\": 0, \"ticks\": \"\"}}, \"type\": \"scattergl\"}], \"scattermapbox\": [{\"marker\": {\"colorbar\": {\"outlinewidth\": 0, \"ticks\": \"\"}}, \"type\": \"scattermapbox\"}], \"scatterpolar\": [{\"marker\": {\"colorbar\": {\"outlinewidth\": 0, \"ticks\": \"\"}}, \"type\": \"scatterpolar\"}], \"scatterpolargl\": [{\"marker\": {\"colorbar\": {\"outlinewidth\": 0, \"ticks\": \"\"}}, \"type\": \"scatterpolargl\"}], \"scatterternary\": [{\"marker\": {\"colorbar\": {\"outlinewidth\": 0, \"ticks\": \"\"}}, \"type\": \"scatterternary\"}], \"surface\": [{\"colorbar\": {\"outlinewidth\": 0, \"ticks\": \"\"}, \"colorscale\": [[0.0, \"#0d0887\"], [0.1111111111111111, \"#46039f\"], [0.2222222222222222, \"#7201a8\"], [0.3333333333333333, \"#9c179e\"], [0.4444444444444444, \"#bd3786\"], [0.5555555555555556, \"#d8576b\"], [0.6666666666666666, \"#ed7953\"], [0.7777777777777778, \"#fb9f3a\"], [0.8888888888888888, \"#fdca26\"], [1.0, \"#f0f921\"]], \"type\": \"surface\"}], \"table\": [{\"cells\": {\"fill\": {\"color\": \"#EBF0F8\"}, \"line\": {\"color\": \"white\"}}, \"header\": {\"fill\": {\"color\": \"#C8D4E3\"}, \"line\": {\"color\": \"white\"}}, \"type\": \"table\"}]}, \"layout\": {\"annotationdefaults\": {\"arrowcolor\": \"#2a3f5f\", \"arrowhead\": 0, \"arrowwidth\": 1}, \"coloraxis\": {\"colorbar\": {\"outlinewidth\": 0, \"ticks\": \"\"}}, \"colorscale\": {\"diverging\": [[0, \"#8e0152\"], [0.1, \"#c51b7d\"], [0.2, \"#de77ae\"], [0.3, \"#f1b6da\"], [0.4, \"#fde0ef\"], [0.5, \"#f7f7f7\"], [0.6, \"#e6f5d0\"], [0.7, \"#b8e186\"], [0.8, \"#7fbc41\"], [0.9, \"#4d9221\"], [1, \"#276419\"]], \"sequential\": [[0.0, \"#0d0887\"], [0.1111111111111111, \"#46039f\"], [0.2222222222222222, \"#7201a8\"], [0.3333333333333333, \"#9c179e\"], [0.4444444444444444, \"#bd3786\"], [0.5555555555555556, \"#d8576b\"], [0.6666666666666666, \"#ed7953\"], [0.7777777777777778, \"#fb9f3a\"], [0.8888888888888888, \"#fdca26\"], [1.0, \"#f0f921\"]], \"sequentialminus\": [[0.0, \"#0d0887\"], [0.1111111111111111, \"#46039f\"], [0.2222222222222222, \"#7201a8\"], [0.3333333333333333, \"#9c179e\"], [0.4444444444444444, \"#bd3786\"], [0.5555555555555556, \"#d8576b\"], [0.6666666666666666, \"#ed7953\"], [0.7777777777777778, \"#fb9f3a\"], [0.8888888888888888, \"#fdca26\"], [1.0, \"#f0f921\"]]}, \"colorway\": [\"#636efa\", \"#EF553B\", \"#00cc96\", \"#ab63fa\", \"#FFA15A\", \"#19d3f3\", \"#FF6692\", \"#B6E880\", \"#FF97FF\", \"#FECB52\"], \"font\": {\"color\": \"#2a3f5f\"}, \"geo\": {\"bgcolor\": \"white\", \"lakecolor\": \"white\", \"landcolor\": \"#E5ECF6\", \"showlakes\": true, \"showland\": true, \"subunitcolor\": \"white\"}, \"hoverlabel\": {\"align\": \"left\"}, \"hovermode\": \"closest\", \"mapbox\": {\"style\": \"light\"}, \"paper_bgcolor\": \"white\", \"plot_bgcolor\": \"#E5ECF6\", \"polar\": {\"angularaxis\": {\"gridcolor\": \"white\", \"linecolor\": \"white\", \"ticks\": \"\"}, \"bgcolor\": \"#E5ECF6\", \"radialaxis\": {\"gridcolor\": \"white\", \"linecolor\": \"white\", \"ticks\": \"\"}}, \"scene\": {\"xaxis\": {\"backgroundcolor\": \"#E5ECF6\", \"gridcolor\": \"white\", \"gridwidth\": 2, \"linecolor\": \"white\", \"showbackground\": true, \"ticks\": \"\", \"zerolinecolor\": \"white\"}, \"yaxis\": {\"backgroundcolor\": \"#E5ECF6\", \"gridcolor\": \"white\", \"gridwidth\": 2, \"linecolor\": \"white\", \"showbackground\": true, \"ticks\": \"\", \"zerolinecolor\": \"white\"}, \"zaxis\": {\"backgroundcolor\": \"#E5ECF6\", \"gridcolor\": \"white\", \"gridwidth\": 2, \"linecolor\": \"white\", \"showbackground\": true, \"ticks\": \"\", \"zerolinecolor\": \"white\"}}, \"shapedefaults\": {\"line\": {\"color\": \"#2a3f5f\"}}, \"ternary\": {\"aaxis\": {\"gridcolor\": \"white\", \"linecolor\": \"white\", \"ticks\": \"\"}, \"baxis\": {\"gridcolor\": \"white\", \"linecolor\": \"white\", \"ticks\": \"\"}, \"bgcolor\": \"#E5ECF6\", \"caxis\": {\"gridcolor\": \"white\", \"linecolor\": \"white\", \"ticks\": \"\"}}, \"title\": {\"x\": 0.05}, \"xaxis\": {\"automargin\": true, \"gridcolor\": \"white\", \"linecolor\": \"white\", \"ticks\": \"\", \"title\": {\"standoff\": 15}, \"zerolinecolor\": \"white\", \"zerolinewidth\": 2}, \"yaxis\": {\"automargin\": true, \"gridcolor\": \"white\", \"linecolor\": \"white\", \"ticks\": \"\", \"title\": {\"standoff\": 15}, \"zerolinecolor\": \"white\", \"zerolinewidth\": 2}}}, \"width\": 300, \"xaxis\": {\"anchor\": \"y\", \"domain\": [0.0, 1.0]}, \"yaxis\": {\"anchor\": \"x\", \"domain\": [0.0, 1.0], \"title\": {\"text\": \"0\"}}},\n",
              "                        {\"responsive\": true}\n",
              "                    ).then(function(){\n",
              "                            \n",
              "var gd = document.getElementById('621bdeef-ffc9-4237-bd8e-6ee23a797093');\n",
              "var x = new MutationObserver(function (mutations, observer) {{\n",
              "        var display = window.getComputedStyle(gd).display;\n",
              "        if (!display || display === 'none') {{\n",
              "            console.log([gd, 'removed!']);\n",
              "            Plotly.purge(gd);\n",
              "            observer.disconnect();\n",
              "        }}\n",
              "}});\n",
              "\n",
              "// Listen for the removal of the full notebook cells\n",
              "var notebookContainer = gd.closest('#notebook-container');\n",
              "if (notebookContainer) {{\n",
              "    x.observe(notebookContainer, {childList: true});\n",
              "}}\n",
              "\n",
              "// Listen for the clearing of the current output cell\n",
              "var outputEl = gd.closest('.output');\n",
              "if (outputEl) {{\n",
              "    x.observe(outputEl, {childList: true});\n",
              "}}\n",
              "\n",
              "                        })\n",
              "                };\n",
              "                \n",
              "            </script>\n",
              "        </div>\n",
              "</body>\n",
              "</html>"
            ]
          },
          "metadata": {}
        }
      ]
    },
    {
      "cell_type": "code",
      "metadata": {
        "colab": {
          "base_uri": "https://localhost:8080/",
          "height": 284
        },
        "id": "fsgV5ZgzfHzA",
        "outputId": "ab73bfd8-db03-4c92-a04e-0e3acb4dd857"
      },
      "source": [
        "num_states = len(w2v_cosim_result)\n",
        "initial_state_logits = tf.zeros([num_states]) \n",
        "change_prob = 0.05\n",
        "transition_probs = tf.fill([num_states, num_states], change_prob / (num_states - 1))\n",
        "transition_probs = tf.linalg.set_diag(transition_probs, tf.fill([num_states], 1 - change_prob))\n",
        "\n",
        "x = tf.math.log(tf.reduce_mean(observed_counts))\n",
        "x = tf.cast(x, dtype=tf.float32)\n",
        "trainable_log_rates = tf.Variable( x + tf.random.stateless_normal([num_states], seed=(42, 42) ), name='log_rates')\n",
        "\n",
        "hmm = tfd.HiddenMarkovModel(\n",
        "  initial_distribution=tfd.Categorical(\n",
        "      logits=initial_state_logits),\n",
        "  transition_distribution=tfd.Categorical(probs=transition_probs),\n",
        "  observation_distribution=tfd.Poisson(log_rate=trainable_log_rates),\n",
        "  num_steps=len(observed_counts))\n",
        "\n",
        "rate_prior = tfd.LogNormal(5, 5)\n",
        "\n",
        "def log_prob():\n",
        " return (tf.reduce_sum(rate_prior.log_prob(tf.math.exp(trainable_log_rates))) +\n",
        "         hmm.log_prob(observed_counts))\n",
        "\n",
        "losses = tfp.math.minimize(\n",
        "    lambda: -log_prob(), optimizer=tf.optimizers.Adam(learning_rate=0.1), num_steps=100)\n",
        "plt.plot(losses)\n",
        "plt.ylabel('Negative log marginal likelihood')"
      ],
      "execution_count": 329,
      "outputs": [
        {
          "output_type": "execute_result",
          "data": {
            "text/plain": [
              "Text(0, 0.5, 'Negative log marginal likelihood')"
            ]
          },
          "metadata": {},
          "execution_count": 329
        },
        {
          "output_type": "display_data",
          "data": {
            "image/png": "[encoded data removed]",
            "text/plain": [
              "<Figure size 432x288 with 1 Axes>"
            ]
          },
          "metadata": {
            "image/png": {
              "width": 401,
              "height": 251
            },
            "needs_background": "light"
          }
        }
      ]
    },
    {
      "cell_type": "code",
      "metadata": {
        "id": "yiKuWs6F6ORn"
      },
      "source": [
        "rates = tf.exp(trainable_log_rates)\n",
        "\n",
        "most_probable_states = hmm.posterior_mode(observed_counts)\n",
        "most_probable_rates = tf.gather(rates, most_probable_states)"
      ],
      "execution_count": 332,
      "outputs": []
    },
    {
      "cell_type": "code",
      "metadata": {
        "colab": {
          "base_uri": "https://localhost:8080/",
          "height": 416
        },
        "id": "hPAw7fzPD5Gm",
        "outputId": "c1c57972-48d0-4528-8e74-34f21e0b2c52"
      },
      "source": [
        "fig = go.Figure()\n",
        "fig.add_trace(go.Scatter(y=most_probable_rates, name='inferred rate', line_shape='linear', line_color='blue'))\n",
        "fig.add_trace(go.Scatter(y=observed_counts, name='observed counts', line_shape='linear', line_color='black', opacity=0.3))\n",
        "\n",
        "fig.update_layout(\n",
        "    autosize=False,\n",
        "    width=400,\n",
        "    height=400,\n",
        "    margin=dict(\n",
        "        l=5,\n",
        "        r=5,\n",
        "        b=10,\n",
        "        t=10,\n",
        "        pad=4\n",
        "    ),\n",
        "    paper_bgcolor=\"LightSteelBlue\",\n",
        ")\n",
        "\n",
        "fig.show()"
      ],
      "execution_count": 358,
      "outputs": [
        {
          "output_type": "display_data",
          "data": {
            "text/html": [
              "<html>\n",
              "<head><meta charset=\"utf-8\" /></head>\n",
              "<body>\n",
              "    <div>\n",
              "            <script src=\"https://cdnjs.cloudflare.com/ajax/libs/mathjax/2.7.5/MathJax.js?config=TeX-AMS-MML_SVG\"></script><script type=\"text/javascript\">if (window.MathJax) {MathJax.Hub.Config({SVG: {font: \"STIX-Web\"}});}</script>\n",
              "                <script type=\"text/javascript\">window.PlotlyConfig = {MathJaxConfig: 'local'};</script>\n",
              "        <script src=\"https://cdn.plot.ly/plotly-latest.min.js\"></script>    \n",
              "            <div id=\"d481c5f5-d853-47d0-9696-55007b7ca5bc\" class=\"plotly-graph-div\" style=\"height:400px; width:400px;\"></div>\n",
              "            <script type=\"text/javascript\">\n",
              "                \n",
              "                    window.PLOTLYENV=window.PLOTLYENV || {};\n",
              "                    \n",
              "                if (document.getElementById(\"d481c5f5-d853-47d0-9696-55007b7ca5bc\")) {\n",
              "                    Plotly.newPlot(\n",
              "                        'd481c5f5-d853-47d0-9696-55007b7ca5bc',\n",
              "                        [{\"line\": {\"color\": \"blue\", \"shape\": \"linear\"}, \"name\": \"inferred rate\", \"type\": \"scatter\", \"y\": [5794.9794921875, 5794.9794921875, 5794.9794921875, 5794.9794921875, 5794.9794921875, 5794.9794921875, 5794.9794921875, 5794.9794921875, 5794.9794921875, 5794.9794921875, 5794.9794921875, 5794.9794921875, 5794.9794921875, 5794.9794921875, 5794.9794921875, 5794.9794921875, 5794.9794921875, 5794.9794921875, 5794.9794921875, 5794.9794921875, 5794.9794921875, 5794.9794921875, 5794.9794921875, 5794.9794921875, 5794.9794921875, 5794.9794921875, 5794.9794921875, 5794.9794921875, 5794.9794921875, 5794.9794921875, 5794.9794921875, 5794.9794921875, 5794.9794921875, 5794.9794921875, 5794.9794921875, 5794.9794921875, 5794.9794921875, 5794.9794921875, 5794.9794921875, 5794.9794921875, 5794.9794921875, 5794.9794921875, 5794.9794921875, 5794.9794921875, 5794.9794921875, 5794.9794921875, 5794.9794921875, 5794.9794921875, 5794.9794921875, 5794.9794921875, 5794.9794921875, 5794.9794921875, 5794.9794921875, 5794.9794921875, 5794.9794921875, 5794.9794921875, 5794.9794921875, 5794.9794921875, 5794.9794921875, 5794.9794921875, 5794.9794921875, 5794.9794921875, 5794.9794921875, 5794.9794921875, 5794.9794921875, 5794.9794921875, 5794.9794921875, 5794.9794921875, 5794.9794921875, 5794.9794921875, 5794.9794921875, 5794.9794921875, 5794.9794921875, 5794.9794921875, 5794.9794921875, 5794.9794921875, 5794.9794921875, 5794.9794921875, 5794.9794921875, 5794.9794921875, 5794.9794921875, 5794.9794921875, 5794.9794921875, 5794.9794921875, 5794.9794921875, 5794.9794921875, 5794.9794921875, 5794.9794921875, 5794.9794921875, 5794.9794921875, 5794.9794921875, 5794.9794921875, 5794.9794921875, 5794.9794921875, 5794.9794921875, 5794.9794921875, 5794.9794921875, 5794.9794921875, 5794.9794921875, 5467.17236328125, 5467.17236328125, 5467.17236328125, 5467.17236328125, 5467.17236328125, 5467.17236328125, 5467.17236328125, 5467.17236328125, 5467.17236328125, 5467.17236328125, 5467.17236328125, 5467.17236328125, 5467.17236328125, 5467.17236328125, 5467.17236328125, 5467.17236328125, 5467.17236328125, 5467.17236328125, 5467.17236328125, 5467.17236328125, 5467.17236328125, 5467.17236328125, 5467.17236328125, 5467.17236328125, 5467.17236328125, 5467.17236328125, 5467.17236328125, 5467.17236328125, 5467.17236328125, 5467.17236328125, 5467.17236328125, 5467.17236328125, 5467.17236328125, 5467.17236328125, 5467.17236328125, 5467.17236328125, 5467.17236328125, 5467.17236328125, 5467.17236328125, 5467.17236328125, 5467.17236328125, 5467.17236328125, 5467.17236328125, 5467.17236328125, 5467.17236328125, 5467.17236328125, 5467.17236328125, 5467.17236328125, 5467.17236328125, 5467.17236328125, 5467.17236328125, 5467.17236328125, 5467.17236328125, 5467.17236328125, 5467.17236328125, 5467.17236328125, 5467.17236328125, 5467.17236328125, 5467.17236328125, 5467.17236328125, 5467.17236328125, 5467.17236328125, 5467.17236328125, 5467.17236328125, 5467.17236328125, 5467.17236328125, 5467.17236328125, 5467.17236328125, 5467.17236328125, 5467.17236328125, 5467.17236328125, 5467.17236328125, 5467.17236328125, 5467.17236328125, 5467.17236328125, 5467.17236328125, 5467.17236328125, 5467.17236328125, 5467.17236328125, 5467.17236328125, 5467.17236328125, 5467.17236328125, 5467.17236328125, 5467.17236328125, 5467.17236328125, 5467.17236328125, 5467.17236328125, 5467.17236328125, 5467.17236328125, 5467.17236328125, 5467.17236328125, 5467.17236328125, 5467.17236328125, 5467.17236328125, 5467.17236328125, 5467.17236328125, 5467.17236328125, 5467.17236328125, 5467.17236328125, 5467.17236328125, 5467.17236328125, 5089.15625, 5089.15625, 5089.15625, 5089.15625, 5089.15625, 5089.15625, 5089.15625, 5089.15625, 5089.15625, 5089.15625, 5089.15625, 5089.15625, 5089.15625, 5089.15625, 5089.15625, 5089.15625, 5089.15625, 5089.15625, 5089.15625, 5089.15625, 5089.15625, 5089.15625, 5089.15625, 5089.15625, 5089.15625, 5089.15625, 5089.15625, 5089.15625, 5089.15625, 5089.15625, 5089.15625, 5089.15625, 5089.15625, 5089.15625, 5089.15625, 5089.15625, 5089.15625, 5089.15625, 5089.15625, 5089.15625, 5089.15625, 5089.15625, 5089.15625, 5089.15625, 5089.15625, 5089.15625, 5089.15625, 5089.15625, 5089.15625, 5089.15625, 5089.15625, 5089.15625, 5089.15625, 5089.15625, 5089.15625, 5089.15625, 5089.15625, 5089.15625, 5089.15625, 5089.15625, 5089.15625, 5089.15625, 5089.15625, 5089.15625, 5089.15625, 5089.15625, 5089.15625, 5089.15625, 5089.15625, 5089.15625, 5089.15625, 5089.15625, 5089.15625, 5089.15625, 5089.15625, 5089.15625, 5089.15625, 5089.15625, 5089.15625, 5089.15625, 5089.15625, 5089.15625, 5089.15625, 5089.15625, 5089.15625, 5089.15625, 5089.15625, 5089.15625, 5089.15625, 5089.15625, 5089.15625, 5089.15625, 5089.15625, 5089.15625, 5089.15625, 5089.15625, 5089.15625, 5089.15625, 5089.15625, 5089.15625, 5089.15625, 5089.15625, 5089.15625, 5089.15625, 5089.15625, 5089.15625, 5089.15625, 5089.15625, 5089.15625, 5089.15625, 5089.15625, 5089.15625, 5089.15625, 5089.15625, 5089.15625, 5089.15625, 5089.15625, 5089.15625, 5089.15625, 5089.15625, 5089.15625, 5089.15625, 5089.15625, 5089.15625, 5089.15625, 5089.15625, 5089.15625, 5089.15625, 5089.15625, 5089.15625, 5089.15625, 5089.15625, 5089.15625, 5089.15625, 5089.15625, 5089.15625, 5089.15625, 5089.15625, 5089.15625, 5089.15625, 5089.15625, 5089.15625, 5089.15625, 5089.15625, 5089.15625, 5089.15625, 5089.15625, 5089.15625, 5089.15625, 5089.15625, 5089.15625, 5089.15625, 5089.15625, 5089.15625, 5089.15625, 5089.15625, 5089.15625, 5089.15625, 5089.15625, 5089.15625, 5089.15625, 5089.15625, 5089.15625, 5089.15625, 5089.15625, 5089.15625, 5089.15625, 5089.15625, 5089.15625, 5089.15625, 5089.15625, 5089.15625, 5089.15625, 5089.15625, 5089.15625, 5089.15625, 5089.15625, 5089.15625, 5089.15625, 5089.15625, 5089.15625, 5089.15625, 5089.15625, 5089.15625, 5089.15625, 5089.15625, 5089.15625, 5089.15625, 5089.15625, 5089.15625, 5089.15625, 5089.15625, 5089.15625, 5089.15625, 5089.15625, 5089.15625, 5089.15625, 5089.15625, 5089.15625, 5089.15625, 5089.15625, 5089.15625, 5089.15625, 5089.15625, 5089.15625, 5089.15625, 5089.15625, 5089.15625, 5089.15625, 5089.15625, 5089.15625, 5089.15625, 5089.15625, 5089.15625, 5089.15625, 5089.15625, 5089.15625, 5089.15625, 5089.15625, 5089.15625, 5089.15625, 5089.15625, 5089.15625, 5089.15625, 5089.15625, 5089.15625, 5089.15625, 5089.15625, 5089.15625, 5089.15625, 5089.15625, 5089.15625, 5089.15625, 5089.15625, 5089.15625, 5089.15625, 5089.15625, 5089.15625, 5089.15625, 5089.15625, 5089.15625, 5089.15625, 5089.15625, 5089.15625, 5089.15625, 5089.15625, 5089.15625, 5089.15625, 5089.15625, 5089.15625, 5089.15625, 5089.15625, 5089.15625, 5089.15625, 5089.15625, 5089.15625, 5089.15625, 5089.15625, 5089.15625, 5089.15625, 5089.15625, 5089.15625, 5089.15625, 5089.15625, 5089.15625, 5089.15625, 5089.15625, 5089.15625, 5089.15625, 5089.15625, 5089.15625, 5089.15625, 5089.15625, 5089.15625, 5089.15625, 5089.15625, 5089.15625, 5089.15625, 5089.15625, 5089.15625, 5089.15625, 5089.15625, 5089.15625, 5089.15625, 5089.15625, 5089.15625, 5089.15625, 5089.15625, 5089.15625, 5089.15625, 5089.15625, 5089.15625, 5089.15625, 5089.15625, 5089.15625, 5089.15625, 5089.15625, 5089.15625, 5089.15625, 5089.15625, 4448.79150390625, 4448.79150390625, 4448.79150390625, 4448.79150390625, 4448.79150390625, 4448.79150390625, 4448.79150390625, 4448.79150390625, 4448.79150390625, 4448.79150390625, 4448.79150390625, 4448.79150390625, 4448.79150390625, 4448.79150390625, 4448.79150390625, 4448.79150390625, 4448.79150390625, 4448.79150390625, 4448.79150390625, 4448.79150390625, 4448.79150390625, 4448.79150390625, 4448.79150390625, 4448.79150390625, 4448.79150390625, 4448.79150390625, 4448.79150390625, 4448.79150390625, 4448.79150390625, 4448.79150390625, 4448.79150390625, 4448.79150390625, 4448.79150390625, 4448.79150390625, 4448.79150390625, 4448.79150390625, 4448.79150390625, 4448.79150390625, 4448.79150390625, 4448.79150390625, 4448.79150390625, 4448.79150390625, 4448.79150390625, 4448.79150390625, 4448.79150390625, 4448.79150390625, 4448.79150390625, 4448.79150390625, 4448.79150390625, 4448.79150390625, 4448.79150390625, 4448.79150390625, 4448.79150390625, 4448.79150390625, 4448.79150390625, 4448.79150390625, 4448.79150390625, 4448.79150390625, 4448.79150390625, 4448.79150390625, 4448.79150390625, 4448.79150390625, 4448.79150390625, 4448.79150390625, 4448.79150390625, 4448.79150390625, 4448.79150390625, 4448.79150390625, 4448.79150390625, 4448.79150390625, 4448.79150390625, 4448.79150390625, 4448.79150390625, 4448.79150390625, 4448.79150390625, 4448.79150390625, 4448.79150390625, 4448.79150390625, 4448.79150390625, 4448.79150390625, 4448.79150390625, 4448.79150390625, 4448.79150390625, 4448.79150390625, 4448.79150390625, 4448.79150390625, 4448.79150390625, 4448.79150390625, 4448.79150390625, 4448.79150390625, 4448.79150390625, 4448.79150390625, 4448.79150390625, 4448.79150390625, 4448.79150390625, 4448.79150390625, 4448.79150390625, 4448.79150390625, 4448.79150390625, 4448.79150390625, 4170.49365234375, 4170.49365234375, 4170.49365234375, 4170.49365234375, 4170.49365234375, 4170.49365234375, 4170.49365234375, 4170.49365234375, 4170.49365234375, 4170.49365234375, 4170.49365234375, 4170.49365234375, 4170.49365234375, 4170.49365234375, 4170.49365234375, 4170.49365234375, 4170.49365234375, 4170.49365234375, 4170.49365234375, 4170.49365234375, 4170.49365234375, 4170.49365234375, 4170.49365234375, 4170.49365234375, 4170.49365234375, 4170.49365234375, 4170.49365234375, 4170.49365234375, 4170.49365234375, 4170.49365234375, 4170.49365234375, 4170.49365234375, 4170.49365234375, 4170.49365234375, 4170.49365234375, 4170.49365234375, 4170.49365234375, 4170.49365234375, 4170.49365234375, 4170.49365234375, 4170.49365234375, 4170.49365234375, 4170.49365234375, 4170.49365234375, 4170.49365234375, 4170.49365234375, 4170.49365234375, 4170.49365234375, 4170.49365234375, 4170.49365234375, 4170.49365234375, 4170.49365234375, 4170.49365234375, 4170.49365234375, 4170.49365234375, 4170.49365234375, 4170.49365234375, 4170.49365234375, 4170.49365234375, 4170.49365234375, 4170.49365234375, 4170.49365234375, 4170.49365234375, 4170.49365234375, 4170.49365234375, 4170.49365234375, 4170.49365234375, 4170.49365234375, 4170.49365234375, 4170.49365234375, 4170.49365234375, 4170.49365234375, 4170.49365234375, 4170.49365234375, 4170.49365234375, 4170.49365234375, 4170.49365234375, 4170.49365234375, 4170.49365234375, 4170.49365234375, 4170.49365234375, 4170.49365234375, 4170.49365234375, 4170.49365234375, 4170.49365234375, 4170.49365234375, 4170.49365234375, 4170.49365234375, 4170.49365234375, 4170.49365234375, 4170.49365234375, 4170.49365234375, 4170.49365234375, 4170.49365234375, 4170.49365234375, 4170.49365234375, 4170.49365234375, 4170.49365234375, 4170.49365234375, 4170.49365234375, 1768.018798828125, 1768.018798828125, 1768.018798828125, 1768.018798828125, 1768.018798828125, 1768.018798828125, 1768.018798828125, 1768.018798828125, 1768.018798828125, 1768.018798828125, 1768.018798828125, 1768.018798828125, 1768.018798828125, 1768.018798828125, 1768.018798828125, 1768.018798828125, 1768.018798828125, 1768.018798828125, 1768.018798828125, 1768.018798828125, 1768.018798828125, 1768.018798828125, 1768.018798828125, 1768.018798828125, 1768.018798828125, 1768.018798828125, 1768.018798828125, 1768.018798828125, 1768.018798828125, 1768.018798828125, 1768.018798828125, 1768.018798828125, 1768.018798828125, 1768.018798828125, 1768.018798828125, 1768.018798828125, 1768.018798828125, 1768.018798828125, 1768.018798828125, 1768.018798828125, 1768.018798828125, 1768.018798828125, 1768.018798828125, 1768.018798828125, 1768.018798828125, 1768.018798828125, 1768.018798828125, 1768.018798828125, 1768.018798828125, 1768.018798828125, 1768.018798828125, 1768.018798828125, 1768.018798828125, 1768.018798828125, 1768.018798828125, 1768.018798828125, 1768.018798828125, 1768.018798828125, 1768.018798828125, 1768.018798828125, 1768.018798828125, 1768.018798828125, 1768.018798828125, 1768.018798828125, 1768.018798828125, 1768.018798828125, 1768.018798828125, 1768.018798828125, 1768.018798828125, 1768.018798828125, 1768.018798828125, 1768.018798828125, 1768.018798828125, 1768.018798828125, 1768.018798828125, 1768.018798828125, 1768.018798828125, 1768.018798828125, 1768.018798828125, 1768.018798828125, 1768.018798828125, 1768.018798828125, 1768.018798828125, 1768.018798828125, 1768.018798828125, 1768.018798828125, 1768.018798828125, 1768.018798828125, 1768.018798828125, 1768.018798828125, 1768.018798828125, 1768.018798828125, 1768.018798828125, 1768.018798828125, 1768.018798828125, 1768.018798828125, 1768.018798828125, 1768.018798828125, 1768.018798828125, 1768.018798828125, 1768.018798828125, 1768.018798828125, 1768.018798828125, 1768.018798828125, 1768.018798828125, 1768.018798828125, 1768.018798828125, 1768.018798828125, 1768.018798828125, 1768.018798828125, 1768.018798828125, 1768.018798828125, 1768.018798828125, 1768.018798828125, 1768.018798828125, 1768.018798828125, 1768.018798828125, 1768.018798828125, 1768.018798828125, 1768.018798828125, 1768.018798828125, 1768.018798828125, 1768.018798828125, 1768.018798828125, 1768.018798828125, 1768.018798828125, 1768.018798828125, 1768.018798828125, 1768.018798828125, 1768.018798828125, 1768.018798828125, 1768.018798828125, 1768.018798828125, 1768.018798828125, 1768.018798828125, 1768.018798828125, 1768.018798828125, 1768.018798828125, 1768.018798828125, 1768.018798828125, 1768.018798828125, 1768.018798828125, 1768.018798828125, 1768.018798828125, 1768.018798828125, 1768.018798828125, 1768.018798828125, 1768.018798828125, 1768.018798828125, 1768.018798828125, 1768.018798828125, 1768.018798828125, 1768.018798828125, 1768.018798828125, 1768.018798828125, 1768.018798828125, 1768.018798828125, 1768.018798828125, 1768.018798828125, 1768.018798828125, 1768.018798828125, 1768.018798828125, 1768.018798828125, 1768.018798828125, 1768.018798828125, 1768.018798828125, 1768.018798828125, 1768.018798828125, 1768.018798828125, 1768.018798828125, 1768.018798828125, 1768.018798828125, 1768.018798828125, 1768.018798828125, 1768.018798828125, 1768.018798828125, 1768.018798828125, 1768.018798828125, 1768.018798828125, 1768.018798828125, 1768.018798828125, 1768.018798828125, 1768.018798828125, 1768.018798828125, 1768.018798828125, 1768.018798828125, 1768.018798828125, 1768.018798828125, 1768.018798828125, 1768.018798828125, 1768.018798828125, 1768.018798828125, 1768.018798828125, 1768.018798828125, 1768.018798828125, 1768.018798828125, 1768.018798828125, 1768.018798828125, 1768.018798828125, 1768.018798828125, 1768.018798828125, 1768.018798828125, 1768.018798828125, 1768.018798828125, 1768.018798828125, 1768.018798828125, 1768.018798828125, 1768.018798828125, 1768.018798828125, 1768.018798828125, 1768.018798828125, 1768.018798828125, 1768.018798828125, 1768.018798828125, 1768.018798828125, 1768.018798828125, 1768.018798828125, 1768.018798828125, 1768.018798828125, 1768.018798828125, 1768.018798828125, 1768.018798828125, 1768.018798828125, 1768.018798828125, 1768.018798828125, 1768.018798828125, 1768.018798828125, 1768.018798828125, 1768.018798828125, 1768.018798828125, 1768.018798828125, 1768.018798828125, 1768.018798828125, 1768.018798828125, 1768.018798828125, 1768.018798828125, 1768.018798828125, 1768.018798828125, 1768.018798828125, 1768.018798828125, 1768.018798828125, 1768.018798828125, 1768.018798828125, 1768.018798828125, 1768.018798828125, 1768.018798828125, 1768.018798828125, 1768.018798828125, 1768.018798828125, 1768.018798828125, 1768.018798828125, 1768.018798828125, 1768.018798828125, 1768.018798828125, 1768.018798828125, 1768.018798828125, 1768.018798828125, 1768.018798828125, 1768.018798828125, 1768.018798828125, 1768.018798828125, 1768.018798828125, 1768.018798828125, 1768.018798828125, 1768.018798828125, 1768.018798828125, 1768.018798828125, 1768.018798828125, 1768.018798828125, 1768.018798828125, 1768.018798828125, 1768.018798828125, 1768.018798828125, 1768.018798828125, 1768.018798828125, 1768.018798828125, 1768.018798828125, 1768.018798828125, 1768.018798828125, 1768.018798828125, 1768.018798828125, 1768.018798828125, 1768.018798828125, 1768.018798828125, 1768.018798828125, 1768.018798828125, 1768.018798828125, 1768.018798828125, 1768.018798828125, 1768.018798828125, 1768.018798828125, 1768.018798828125, 1768.018798828125, 1768.018798828125, 1768.018798828125, 1768.018798828125, 1768.018798828125, 1768.018798828125, 1768.018798828125, 1768.018798828125, 1642.3336181640625, 1642.3336181640625, 1642.3336181640625, 1642.3336181640625, 1642.3336181640625, 1642.3336181640625, 1642.3336181640625, 1642.3336181640625, 1642.3336181640625, 1642.3336181640625, 1642.3336181640625, 1642.3336181640625, 1642.3336181640625, 1642.3336181640625, 1642.3336181640625, 1642.3336181640625, 1642.3336181640625, 1642.3336181640625, 1642.3336181640625, 1642.3336181640625, 1642.3336181640625, 1642.3336181640625, 1642.3336181640625, 1642.3336181640625, 1642.3336181640625, 1642.3336181640625, 1642.3336181640625, 1642.3336181640625, 1642.3336181640625, 1642.3336181640625, 1642.3336181640625, 1642.3336181640625, 1642.3336181640625, 1642.3336181640625, 1642.3336181640625, 1642.3336181640625, 1642.3336181640625, 1642.3336181640625, 1642.3336181640625, 1642.3336181640625, 1642.3336181640625, 1642.3336181640625, 1642.3336181640625, 1642.3336181640625, 1642.3336181640625, 1642.3336181640625, 1642.3336181640625, 1642.3336181640625, 1642.3336181640625, 1642.3336181640625, 1642.3336181640625, 1642.3336181640625, 1642.3336181640625, 1642.3336181640625, 1642.3336181640625, 1642.3336181640625, 1642.3336181640625, 1642.3336181640625, 1642.3336181640625, 1642.3336181640625, 1642.3336181640625, 1642.3336181640625, 1642.3336181640625, 1642.3336181640625, 1642.3336181640625, 1642.3336181640625, 1642.3336181640625, 1642.3336181640625, 1642.3336181640625, 1642.3336181640625, 1642.3336181640625, 1642.3336181640625, 1642.3336181640625, 1642.3336181640625, 1642.3336181640625, 1642.3336181640625, 1642.3336181640625, 1642.3336181640625, 1642.3336181640625, 1642.3336181640625, 1642.3336181640625, 1642.3336181640625, 1642.3336181640625, 1642.3336181640625, 1642.3336181640625, 1642.3336181640625, 1642.3336181640625, 1642.3336181640625, 1642.3336181640625, 1642.3336181640625, 1642.3336181640625, 1642.3336181640625, 1642.3336181640625, 1642.3336181640625, 1642.3336181640625, 1642.3336181640625, 1642.3336181640625, 1642.3336181640625, 1642.3336181640625, 1642.3336181640625, 1642.3336181640625, 1642.3336181640625, 1642.3336181640625, 1642.3336181640625, 1642.3336181640625, 1642.3336181640625, 1642.3336181640625, 1642.3336181640625, 1642.3336181640625, 1642.3336181640625, 1642.3336181640625, 1642.3336181640625, 1642.3336181640625, 1642.3336181640625, 1642.3336181640625, 1642.3336181640625, 1642.3336181640625, 1642.3336181640625, 1642.3336181640625, 1642.3336181640625, 1642.3336181640625, 1642.3336181640625, 1642.3336181640625, 1642.3336181640625, 1642.3336181640625, 1642.3336181640625, 1642.3336181640625, 1642.3336181640625, 1642.3336181640625, 1642.3336181640625, 1642.3336181640625, 1642.3336181640625, 1642.3336181640625, 1642.3336181640625, 1642.3336181640625, 1642.3336181640625, 1642.3336181640625, 1642.3336181640625, 1642.3336181640625, 1642.3336181640625, 1642.3336181640625, 1642.3336181640625, 1642.3336181640625, 1642.3336181640625, 1642.3336181640625, 1642.3336181640625, 1642.3336181640625, 1642.3336181640625, 1642.3336181640625, 1642.3336181640625, 1642.3336181640625, 1642.3336181640625, 1642.3336181640625, 1642.3336181640625, 1642.3336181640625, 1642.3336181640625, 1642.3336181640625, 1642.3336181640625, 1642.3336181640625, 1642.3336181640625, 1642.3336181640625, 1642.3336181640625, 1642.3336181640625, 1642.3336181640625, 1642.3336181640625, 1642.3336181640625, 1642.3336181640625, 1642.3336181640625, 1642.3336181640625, 1642.3336181640625, 1642.3336181640625, 1642.3336181640625, 1642.3336181640625, 1642.3336181640625, 1642.3336181640625, 1642.3336181640625, 1642.3336181640625, 1642.3336181640625, 1642.3336181640625, 1642.3336181640625, 1642.3336181640625, 1642.3336181640625, 1642.3336181640625, 1642.3336181640625, 1642.3336181640625, 1642.3336181640625, 1642.3336181640625, 1642.3336181640625, 1642.3336181640625, 1642.3336181640625, 1642.3336181640625, 1642.3336181640625, 1642.3336181640625, 1642.3336181640625, 1642.3336181640625, 1642.3336181640625, 1642.3336181640625, 1642.3336181640625, 1642.3336181640625, 1642.3336181640625, 1642.3336181640625, 1642.3336181640625, 1642.3336181640625, 1642.3336181640625, 1642.3336181640625, 1642.3336181640625, 1642.3336181640625, 1642.3336181640625, 1642.3336181640625, 1642.3336181640625, 1642.3336181640625, 1642.3336181640625, 1642.3336181640625, 1642.3336181640625, 1642.3336181640625, 1642.3336181640625, 1642.3336181640625, 1642.3336181640625, 1642.3336181640625, 1642.3336181640625, 1642.3336181640625, 1642.3336181640625, 1642.3336181640625, 1642.3336181640625, 1642.3336181640625, 1642.3336181640625, 1642.3336181640625, 1642.3336181640625, 1642.3336181640625, 1642.3336181640625, 1642.3336181640625, 1642.3336181640625, 1642.3336181640625, 1642.3336181640625, 1642.3336181640625, 1642.3336181640625, 1642.3336181640625, 1642.3336181640625, 1642.3336181640625, 1642.3336181640625, 1642.3336181640625, 1642.3336181640625, 1642.3336181640625, 1642.3336181640625, 1642.3336181640625, 1642.3336181640625, 1642.3336181640625, 1642.3336181640625, 1642.3336181640625, 1642.3336181640625, 1642.3336181640625, 1642.3336181640625, 1642.3336181640625, 1642.3336181640625, 1642.3336181640625, 1642.3336181640625, 1642.3336181640625, 1642.3336181640625, 1642.3336181640625, 1642.3336181640625, 1642.3336181640625, 1642.3336181640625, 1642.3336181640625, 1642.3336181640625, 1642.3336181640625, 1642.3336181640625, 1642.3336181640625, 1642.3336181640625, 1642.3336181640625, 1642.3336181640625, 1642.3336181640625, 1642.3336181640625, 1642.3336181640625, 1642.3336181640625, 1642.3336181640625, 1642.3336181640625, 1642.3336181640625, 1642.3336181640625, 1642.3336181640625, 1642.3336181640625, 1642.3336181640625, 1642.3336181640625, 1642.3336181640625, 1642.3336181640625, 1642.3336181640625, 1642.3336181640625, 1642.3336181640625, 1642.3336181640625, 1642.3336181640625, 1642.3336181640625, 1642.3336181640625, 1642.3336181640625, 1642.3336181640625, 1642.3336181640625, 1642.3336181640625, 1642.3336181640625, 1642.3336181640625, 1642.3336181640625, 1642.3336181640625, 1642.3336181640625, 1642.3336181640625, 1642.3336181640625, 1642.3336181640625, 1642.3336181640625, 1642.3336181640625, 1642.3336181640625, 1642.3336181640625, 1642.3336181640625, 1642.3336181640625, 1642.3336181640625, 1642.3336181640625, 1642.3336181640625, 1642.3336181640625, 1642.3336181640625, 1642.3336181640625, 1642.3336181640625, 1642.3336181640625, 1642.3336181640625, 1642.3336181640625, 1642.3336181640625, 1642.3336181640625, 1642.3336181640625, 1642.3336181640625, 1642.3336181640625, 1642.3336181640625, 1642.3336181640625, 1642.3336181640625, 1642.3336181640625, 1642.3336181640625, 1642.3336181640625, 1642.3336181640625, 1642.3336181640625, 1642.3336181640625, 1642.3336181640625, 1642.3336181640625, 1642.3336181640625, 1642.3336181640625, 1642.3336181640625, 1642.3336181640625, 1642.3336181640625, 1642.3336181640625, 1642.3336181640625, 1642.3336181640625, 1642.3336181640625, 1642.3336181640625, 1642.3336181640625, 1642.3336181640625, 1642.3336181640625, 1642.3336181640625, 1642.3336181640625, 1642.3336181640625, 1642.3336181640625, 1642.3336181640625, 1642.3336181640625, 1642.3336181640625, 1642.3336181640625, 1642.3336181640625, 1642.3336181640625, 1642.3336181640625, 1642.3336181640625, 1642.3336181640625, 1642.3336181640625, 1642.3336181640625, 1642.3336181640625, 1642.3336181640625, 1642.3336181640625, 1642.3336181640625, 1642.3336181640625, 1642.3336181640625, 1642.3336181640625, 1642.3336181640625, 1642.3336181640625, 1642.3336181640625, 1642.3336181640625, 1642.3336181640625, 1642.3336181640625, 1642.3336181640625, 1642.3336181640625, 1642.3336181640625, 1642.3336181640625, 1642.3336181640625, 1642.3336181640625, 1642.3336181640625, 1642.3336181640625, 1642.3336181640625, 1642.3336181640625, 1642.3336181640625, 1642.3336181640625, 1642.3336181640625, 1642.3336181640625, 1642.3336181640625, 1642.3336181640625, 1642.3336181640625, 1642.3336181640625, 1642.3336181640625, 1642.3336181640625, 1642.3336181640625, 1642.3336181640625, 1642.3336181640625, 1642.3336181640625, 1642.3336181640625, 1558.7213134765625, 1558.7213134765625, 1558.7213134765625, 1558.7213134765625, 1558.7213134765625, 1558.7213134765625, 1558.7213134765625, 1558.7213134765625, 1558.7213134765625, 1558.7213134765625, 1558.7213134765625, 1558.7213134765625, 1558.7213134765625, 1558.7213134765625, 1558.7213134765625, 1558.7213134765625, 1558.7213134765625, 1558.7213134765625, 1558.7213134765625, 1558.7213134765625, 1558.7213134765625, 1558.7213134765625, 1558.7213134765625, 1558.7213134765625, 1558.7213134765625, 1558.7213134765625, 1558.7213134765625, 1558.7213134765625, 1558.7213134765625, 1558.7213134765625, 1558.7213134765625, 1558.7213134765625, 1558.7213134765625, 1558.7213134765625, 1558.7213134765625, 1558.7213134765625, 1558.7213134765625, 1558.7213134765625, 1558.7213134765625, 1558.7213134765625, 1558.7213134765625, 1558.7213134765625, 1558.7213134765625, 1558.7213134765625, 1558.7213134765625, 1558.7213134765625, 1558.7213134765625, 1558.7213134765625, 1558.7213134765625, 1558.7213134765625, 1558.7213134765625, 1558.7213134765625, 1558.7213134765625, 1558.7213134765625, 1558.7213134765625, 1558.7213134765625, 1558.7213134765625, 1558.7213134765625, 1558.7213134765625, 1558.7213134765625, 1558.7213134765625, 1558.7213134765625, 1558.7213134765625, 1558.7213134765625, 1558.7213134765625, 1558.7213134765625, 1558.7213134765625, 1558.7213134765625, 1558.7213134765625, 1558.7213134765625, 1558.7213134765625, 1558.7213134765625, 1558.7213134765625, 1558.7213134765625, 1558.7213134765625, 1558.7213134765625, 1558.7213134765625, 1558.7213134765625, 1558.7213134765625, 1558.7213134765625, 1558.7213134765625, 1558.7213134765625, 1558.7213134765625, 1558.7213134765625, 1558.7213134765625, 1558.7213134765625, 1558.7213134765625, 1558.7213134765625, 1558.7213134765625, 1558.7213134765625, 1558.7213134765625, 1558.7213134765625, 1558.7213134765625, 1558.7213134765625, 1558.7213134765625, 1558.7213134765625, 1558.7213134765625, 1558.7213134765625, 1558.7213134765625, 1558.7213134765625, 1558.7213134765625, 1558.7213134765625, 1558.7213134765625, 1558.7213134765625, 1558.7213134765625, 1558.7213134765625, 1558.7213134765625, 1558.7213134765625, 1558.7213134765625, 1558.7213134765625, 1558.7213134765625, 1558.7213134765625, 1558.7213134765625, 1558.7213134765625, 1558.7213134765625, 1558.7213134765625, 1558.7213134765625, 1558.7213134765625, 1558.7213134765625, 1558.7213134765625, 1558.7213134765625, 1558.7213134765625, 1558.7213134765625, 1558.7213134765625, 1558.7213134765625, 1558.7213134765625, 1558.7213134765625, 1558.7213134765625, 1558.7213134765625, 1558.7213134765625, 1558.7213134765625, 1558.7213134765625, 1558.7213134765625, 1558.7213134765625, 1558.7213134765625, 1558.7213134765625, 1558.7213134765625, 1558.7213134765625, 1558.7213134765625, 1558.7213134765625, 1558.7213134765625, 1558.7213134765625, 1558.7213134765625, 1558.7213134765625, 1558.7213134765625, 1558.7213134765625, 1558.7213134765625, 1558.7213134765625, 1558.7213134765625, 1558.7213134765625, 1558.7213134765625, 1558.7213134765625, 1558.7213134765625, 1558.7213134765625, 1558.7213134765625, 1558.7213134765625, 1558.7213134765625, 1558.7213134765625, 1558.7213134765625, 1558.7213134765625, 1558.7213134765625, 1558.7213134765625, 1558.7213134765625, 1558.7213134765625, 1558.7213134765625, 1558.7213134765625, 1558.7213134765625, 1558.7213134765625, 1558.7213134765625, 1558.7213134765625, 1558.7213134765625, 1558.7213134765625, 1558.7213134765625, 1558.7213134765625, 1558.7213134765625, 1558.7213134765625, 1558.7213134765625, 1558.7213134765625, 1558.7213134765625, 1558.7213134765625, 1558.7213134765625, 1558.7213134765625, 1558.7213134765625, 1558.7213134765625, 1558.7213134765625, 1558.7213134765625, 1558.7213134765625, 1558.7213134765625, 1558.7213134765625, 1558.7213134765625, 1558.7213134765625, 1558.7213134765625, 1558.7213134765625, 1558.7213134765625, 1558.7213134765625, 1558.7213134765625, 1558.7213134765625, 1558.7213134765625, 1558.7213134765625, 1558.7213134765625, 1558.7213134765625, 1558.7213134765625, 1558.7213134765625, 1558.7213134765625, 1558.7213134765625, 1558.7213134765625, 1558.7213134765625, 1558.7213134765625, 1558.7213134765625, 1558.7213134765625, 1558.7213134765625, 1558.7213134765625, 1558.7213134765625, 1558.7213134765625, 1558.7213134765625, 1558.7213134765625, 1558.7213134765625, 1558.7213134765625, 1558.7213134765625, 1558.7213134765625, 1558.7213134765625, 1558.7213134765625, 1558.7213134765625, 1558.7213134765625, 1558.7213134765625, 1558.7213134765625, 1558.7213134765625, 1558.7213134765625, 1558.7213134765625, 1558.7213134765625, 1558.7213134765625, 1558.7213134765625, 1558.7213134765625, 1558.7213134765625, 1558.7213134765625, 1558.7213134765625, 1558.7213134765625, 1558.7213134765625, 1558.7213134765625, 1558.7213134765625, 1558.7213134765625, 1558.7213134765625, 1558.7213134765625, 1558.7213134765625, 1558.7213134765625, 1558.7213134765625, 1558.7213134765625, 1558.7213134765625, 1558.7213134765625, 1558.7213134765625, 1558.7213134765625, 1558.7213134765625, 1558.7213134765625, 1558.7213134765625, 1558.7213134765625, 1558.7213134765625, 1558.7213134765625, 1558.7213134765625, 1558.7213134765625, 1558.7213134765625, 1558.7213134765625, 1558.7213134765625, 1558.7213134765625, 1558.7213134765625, 1558.7213134765625, 1558.7213134765625, 1558.7213134765625, 1558.7213134765625, 1558.7213134765625, 1558.7213134765625, 1558.7213134765625, 1558.7213134765625, 1558.7213134765625, 1558.7213134765625, 1558.7213134765625, 1558.7213134765625, 1558.7213134765625, 1558.7213134765625, 1558.7213134765625, 1558.7213134765625, 1558.7213134765625, 1558.7213134765625, 1558.7213134765625, 1558.7213134765625, 1558.7213134765625, 1558.7213134765625, 1558.7213134765625, 1558.7213134765625, 1558.7213134765625, 1558.7213134765625, 1558.7213134765625, 1558.7213134765625, 1558.7213134765625, 1558.7213134765625, 1558.7213134765625, 1558.7213134765625, 1558.7213134765625, 1558.7213134765625, 1558.7213134765625, 1558.7213134765625, 1558.7213134765625, 1558.7213134765625, 1558.7213134765625, 1558.7213134765625, 1558.7213134765625, 1558.7213134765625, 1558.7213134765625, 1558.7213134765625, 1558.7213134765625, 1558.7213134765625, 1558.7213134765625, 1558.7213134765625, 1558.7213134765625, 1558.7213134765625, 1558.7213134765625, 1558.7213134765625, 1558.7213134765625, 1558.7213134765625, 1558.7213134765625, 1558.7213134765625, 1558.7213134765625, 1558.7213134765625, 1558.7213134765625, 1558.7213134765625, 1558.7213134765625, 1558.7213134765625, 1558.7213134765625, 1558.7213134765625, 1558.7213134765625, 1558.7213134765625, 1558.7213134765625, 1558.7213134765625, 1558.7213134765625, 1558.7213134765625, 1558.7213134765625, 1558.7213134765625, 1558.7213134765625, 1558.7213134765625, 1558.7213134765625, 1558.7213134765625, 1558.7213134765625, 1558.7213134765625, 1558.7213134765625, 1558.7213134765625, 1558.7213134765625, 1558.7213134765625, 1558.7213134765625, 1558.7213134765625, 1558.7213134765625, 1558.7213134765625, 1558.7213134765625, 1558.7213134765625, 1558.7213134765625, 1558.7213134765625, 1558.7213134765625, 1558.7213134765625, 1558.7213134765625, 1558.7213134765625, 1558.7213134765625, 1558.7213134765625, 1558.7213134765625, 1558.7213134765625, 1558.7213134765625, 1558.7213134765625, 1558.7213134765625, 1558.7213134765625, 1558.7213134765625, 1558.7213134765625, 1558.7213134765625, 1558.7213134765625, 1558.7213134765625, 1558.7213134765625, 1558.7213134765625, 1558.7213134765625, 1558.7213134765625, 1558.7213134765625, 1558.7213134765625, 1558.7213134765625, 1558.7213134765625, 1558.7213134765625, 1558.7213134765625, 1558.7213134765625, 1558.7213134765625, 1558.7213134765625, 1558.7213134765625, 1558.7213134765625, 1558.7213134765625, 1558.7213134765625, 1558.7213134765625, 1558.7213134765625, 1558.7213134765625, 1558.7213134765625, 1558.7213134765625, 1558.7213134765625, 1558.7213134765625, 1558.7213134765625, 1558.7213134765625, 1558.7213134765625, 1558.7213134765625, 1558.7213134765625, 1558.7213134765625, 1558.7213134765625, 1558.7213134765625, 1558.7213134765625, 1558.7213134765625, 1558.7213134765625, 1558.7213134765625, 1558.7213134765625, 1558.7213134765625, 1558.7213134765625, 1558.7213134765625, 1558.7213134765625, 1558.7213134765625, 1558.7213134765625, 1558.7213134765625, 1558.7213134765625, 1558.7213134765625, 1558.7213134765625, 1558.7213134765625, 1558.7213134765625, 1558.7213134765625, 1558.7213134765625, 1558.7213134765625, 1558.7213134765625, 1558.7213134765625, 1558.7213134765625, 1558.7213134765625, 1558.7213134765625, 1558.7213134765625, 1558.7213134765625, 1558.7213134765625, 1558.7213134765625, 1558.7213134765625, 1558.7213134765625, 1558.7213134765625, 1558.7213134765625, 1558.7213134765625, 1558.7213134765625, 1558.7213134765625, 1558.7213134765625, 1558.7213134765625, 1558.7213134765625, 1558.7213134765625, 1558.7213134765625, 1558.7213134765625, 1558.7213134765625, 1558.7213134765625, 1558.7213134765625, 1558.7213134765625, 1558.7213134765625, 1558.7213134765625, 1558.7213134765625, 1558.7213134765625, 1558.7213134765625, 1558.7213134765625, 1558.7213134765625, 1558.7213134765625, 1558.7213134765625, 1558.7213134765625, 1558.7213134765625, 1558.7213134765625, 1558.7213134765625, 1558.7213134765625, 1558.7213134765625, 1558.7213134765625, 1558.7213134765625, 1558.7213134765625, 1558.7213134765625, 1558.7213134765625, 1558.7213134765625, 1558.7213134765625, 1558.7213134765625, 1558.7213134765625, 1558.7213134765625, 1558.7213134765625, 1558.7213134765625, 1558.7213134765625, 1558.7213134765625, 1558.7213134765625, 1558.7213134765625, 1558.7213134765625, 1558.7213134765625, 1558.7213134765625, 1558.7213134765625, 1558.7213134765625, 1558.7213134765625, 1558.7213134765625, 1558.7213134765625, 1558.7213134765625, 1558.7213134765625, 1558.7213134765625, 1558.7213134765625, 1558.7213134765625, 1558.7213134765625, 1558.7213134765625, 1558.7213134765625, 1558.7213134765625, 1558.7213134765625, 1558.7213134765625, 1156.4603271484375, 1156.4603271484375, 1156.4603271484375, 1156.4603271484375, 1156.4603271484375, 1156.4603271484375, 1156.4603271484375, 1156.4603271484375, 1156.4603271484375, 1156.4603271484375, 1156.4603271484375, 1156.4603271484375, 1156.4603271484375, 1156.4603271484375, 1156.4603271484375, 1156.4603271484375, 1156.4603271484375, 1156.4603271484375, 1156.4603271484375, 1156.4603271484375, 1156.4603271484375, 1156.4603271484375, 1156.4603271484375, 1156.4603271484375, 1156.4603271484375, 1156.4603271484375, 1156.4603271484375, 1156.4603271484375, 1156.4603271484375, 1156.4603271484375, 1156.4603271484375, 1156.4603271484375, 1156.4603271484375, 1156.4603271484375, 1156.4603271484375, 1156.4603271484375, 1156.4603271484375, 1156.4603271484375, 1156.4603271484375, 1156.4603271484375, 1156.4603271484375, 1156.4603271484375, 1156.4603271484375, 1156.4603271484375, 1156.4603271484375, 1156.4603271484375, 1156.4603271484375, 1156.4603271484375, 1156.4603271484375, 1156.4603271484375, 1156.4603271484375, 1156.4603271484375, 1156.4603271484375, 1156.4603271484375, 1156.4603271484375, 1156.4603271484375, 1156.4603271484375, 1156.4603271484375, 1156.4603271484375, 1156.4603271484375, 1156.4603271484375, 1156.4603271484375, 1156.4603271484375, 1156.4603271484375, 1156.4603271484375, 1156.4603271484375, 1156.4603271484375, 1156.4603271484375, 1156.4603271484375, 1156.4603271484375, 1156.4603271484375, 1156.4603271484375, 1156.4603271484375, 1156.4603271484375, 1156.4603271484375, 1156.4603271484375, 1156.4603271484375, 1156.4603271484375, 1156.4603271484375, 1156.4603271484375, 1156.4603271484375, 1156.4603271484375, 1156.4603271484375, 1156.4603271484375, 1156.4603271484375, 1156.4603271484375, 1156.4603271484375, 1156.4603271484375, 1156.4603271484375, 1156.4603271484375, 1156.4603271484375, 1156.4603271484375, 1156.4603271484375, 1156.4603271484375, 1156.4603271484375, 1156.4603271484375, 1156.4603271484375, 1156.4603271484375, 1156.4603271484375, 1156.4603271484375, 1156.4603271484375, 1156.4603271484375, 1156.4603271484375, 1156.4603271484375, 1156.4603271484375, 1156.4603271484375, 1156.4603271484375, 1156.4603271484375, 1156.4603271484375, 1156.4603271484375, 1156.4603271484375, 1156.4603271484375, 1156.4603271484375, 1156.4603271484375, 1156.4603271484375, 1156.4603271484375, 1156.4603271484375, 1156.4603271484375, 1156.4603271484375, 1156.4603271484375, 1156.4603271484375, 1156.4603271484375, 1156.4603271484375, 1156.4603271484375, 1156.4603271484375, 1156.4603271484375, 1156.4603271484375, 1156.4603271484375, 1156.4603271484375, 1156.4603271484375, 1156.4603271484375, 1156.4603271484375, 1156.4603271484375, 1156.4603271484375, 1156.4603271484375, 1156.4603271484375, 1156.4603271484375, 1156.4603271484375, 1156.4603271484375, 1156.4603271484375, 1156.4603271484375, 1156.4603271484375, 1156.4603271484375, 1156.4603271484375, 1156.4603271484375, 1156.4603271484375, 1156.4603271484375, 1156.4603271484375, 1156.4603271484375, 1156.4603271484375, 1156.4603271484375, 1156.4603271484375, 1156.4603271484375, 1156.4603271484375, 1156.4603271484375, 1156.4603271484375, 1156.4603271484375, 1156.4603271484375, 1156.4603271484375, 1156.4603271484375, 1156.4603271484375, 1156.4603271484375, 1156.4603271484375, 1156.4603271484375, 1156.4603271484375, 1156.4603271484375, 1156.4603271484375, 1156.4603271484375, 1156.4603271484375, 1156.4603271484375, 1156.4603271484375, 1156.4603271484375, 1156.4603271484375, 1156.4603271484375, 1156.4603271484375, 1156.4603271484375, 1156.4603271484375, 1156.4603271484375, 1156.4603271484375, 1156.4603271484375, 1156.4603271484375, 1156.4603271484375, 1156.4603271484375, 1156.4603271484375, 1156.4603271484375, 1156.4603271484375, 1156.4603271484375, 1156.4603271484375, 1156.4603271484375, 1156.4603271484375, 1156.4603271484375, 1156.4603271484375, 1156.4603271484375, 1156.4603271484375, 1156.4603271484375, 1156.4603271484375, 1156.4603271484375, 1156.4603271484375, 1156.4603271484375, 1156.4603271484375, 792.4231567382812, 792.4231567382812, 792.4231567382812, 792.4231567382812, 792.4231567382812, 792.4231567382812, 792.4231567382812, 792.4231567382812, 792.4231567382812, 792.4231567382812, 792.4231567382812, 792.4231567382812, 792.4231567382812, 792.4231567382812, 792.4231567382812, 792.4231567382812, 792.4231567382812, 792.4231567382812, 792.4231567382812, 792.4231567382812, 792.4231567382812, 792.4231567382812, 792.4231567382812, 792.4231567382812, 792.4231567382812, 792.4231567382812, 792.4231567382812, 792.4231567382812, 792.4231567382812, 792.4231567382812, 792.4231567382812, 792.4231567382812, 792.4231567382812, 792.4231567382812, 792.4231567382812, 792.4231567382812, 792.4231567382812, 792.4231567382812, 792.4231567382812, 792.4231567382812, 792.4231567382812, 792.4231567382812, 792.4231567382812, 792.4231567382812, 792.4231567382812, 792.4231567382812, 792.4231567382812, 792.4231567382812, 792.4231567382812, 792.4231567382812, 792.4231567382812, 792.4231567382812, 792.4231567382812, 792.4231567382812, 792.4231567382812, 792.4231567382812, 792.4231567382812, 792.4231567382812, 792.4231567382812, 792.4231567382812, 792.4231567382812, 792.4231567382812, 792.4231567382812, 792.4231567382812, 792.4231567382812, 792.4231567382812, 792.4231567382812, 792.4231567382812, 792.4231567382812, 792.4231567382812, 792.4231567382812, 792.4231567382812, 792.4231567382812, 792.4231567382812, 792.4231567382812, 792.4231567382812, 792.4231567382812, 792.4231567382812, 792.4231567382812, 792.4231567382812, 792.4231567382812, 792.4231567382812, 792.4231567382812, 792.4231567382812, 792.4231567382812, 792.4231567382812, 792.4231567382812, 792.4231567382812, 792.4231567382812, 792.4231567382812, 792.4231567382812, 792.4231567382812, 792.4231567382812, 792.4231567382812, 792.4231567382812, 792.4231567382812, 792.4231567382812, 792.4231567382812, 792.4231567382812, 727.3569946289062, 727.3569946289062, 727.3569946289062, 727.3569946289062, 727.3569946289062, 727.3569946289062, 727.3569946289062, 727.3569946289062, 727.3569946289062, 727.3569946289062, 727.3569946289062, 727.3569946289062, 727.3569946289062, 727.3569946289062, 727.3569946289062, 727.3569946289062, 727.3569946289062, 727.3569946289062, 727.3569946289062, 727.3569946289062, 727.3569946289062, 727.3569946289062, 727.3569946289062, 727.3569946289062, 727.3569946289062, 727.3569946289062, 727.3569946289062, 727.3569946289062, 727.3569946289062, 727.3569946289062, 727.3569946289062, 727.3569946289062, 727.3569946289062, 727.3569946289062, 727.3569946289062, 727.3569946289062, 727.3569946289062, 727.3569946289062, 727.3569946289062, 727.3569946289062, 727.3569946289062, 727.3569946289062, 727.3569946289062, 727.3569946289062, 727.3569946289062, 727.3569946289062, 727.3569946289062, 727.3569946289062, 727.3569946289062, 727.3569946289062, 727.3569946289062, 727.3569946289062, 727.3569946289062, 727.3569946289062, 727.3569946289062, 727.3569946289062, 727.3569946289062, 727.3569946289062, 727.3569946289062, 727.3569946289062, 727.3569946289062, 727.3569946289062, 727.3569946289062, 727.3569946289062, 727.3569946289062, 727.3569946289062, 727.3569946289062, 727.3569946289062, 727.3569946289062, 727.3569946289062, 727.3569946289062, 727.3569946289062, 727.3569946289062, 727.3569946289062, 727.3569946289062, 727.3569946289062, 727.3569946289062, 727.3569946289062, 727.3569946289062, 727.3569946289062, 727.3569946289062, 727.3569946289062, 727.3569946289062, 727.3569946289062, 727.3569946289062, 727.3569946289062, 727.3569946289062, 727.3569946289062, 727.3569946289062, 727.3569946289062, 727.3569946289062, 727.3569946289062, 727.3569946289062, 727.3569946289062, 727.3569946289062, 727.3569946289062, 727.3569946289062, 727.3569946289062, 727.3569946289062, 727.3569946289062, 727.3569946289062, 727.3569946289062, 727.3569946289062, 727.3569946289062, 727.3569946289062, 727.3569946289062, 727.3569946289062, 727.3569946289062, 727.3569946289062, 727.3569946289062, 727.3569946289062, 727.3569946289062, 727.3569946289062, 727.3569946289062, 727.3569946289062, 727.3569946289062, 727.3569946289062, 727.3569946289062, 727.3569946289062, 727.3569946289062, 727.3569946289062, 727.3569946289062, 727.3569946289062, 727.3569946289062, 727.3569946289062, 727.3569946289062, 727.3569946289062, 727.3569946289062, 727.3569946289062, 727.3569946289062, 727.3569946289062, 727.3569946289062, 727.3569946289062, 727.3569946289062, 727.3569946289062, 727.3569946289062, 727.3569946289062, 727.3569946289062, 727.3569946289062, 727.3569946289062, 727.3569946289062, 727.3569946289062, 727.3569946289062, 727.3569946289062, 727.3569946289062, 727.3569946289062, 727.3569946289062, 727.3569946289062, 727.3569946289062, 727.3569946289062, 727.3569946289062, 727.3569946289062, 727.3569946289062, 727.3569946289062, 727.3569946289062, 727.3569946289062, 727.3569946289062, 727.3569946289062, 727.3569946289062, 727.3569946289062, 727.3569946289062, 727.3569946289062, 727.3569946289062, 727.3569946289062, 727.3569946289062, 727.3569946289062, 727.3569946289062, 727.3569946289062, 727.3569946289062, 727.3569946289062, 727.3569946289062, 727.3569946289062, 727.3569946289062, 727.3569946289062, 727.3569946289062, 727.3569946289062, 727.3569946289062, 727.3569946289062, 727.3569946289062, 727.3569946289062, 727.3569946289062, 727.3569946289062, 727.3569946289062, 727.3569946289062, 727.3569946289062, 727.3569946289062, 727.3569946289062, 727.3569946289062, 727.3569946289062, 727.3569946289062, 727.3569946289062, 727.3569946289062, 727.3569946289062, 727.3569946289062, 727.3569946289062, 727.3569946289062, 727.3569946289062, 727.3569946289062, 727.3569946289062, 727.3569946289062, 727.3569946289062, 443.4015197753906, 443.4015197753906, 443.4015197753906, 443.4015197753906, 443.4015197753906, 443.4015197753906, 443.4015197753906, 443.4015197753906, 443.4015197753906, 443.4015197753906, 443.4015197753906, 443.4015197753906, 443.4015197753906, 443.4015197753906, 443.4015197753906, 443.4015197753906, 443.4015197753906, 443.4015197753906, 443.4015197753906, 443.4015197753906, 443.4015197753906, 443.4015197753906, 443.4015197753906, 443.4015197753906, 443.4015197753906, 443.4015197753906, 443.4015197753906, 443.4015197753906, 443.4015197753906, 443.4015197753906, 443.4015197753906, 443.4015197753906, 443.4015197753906, 443.4015197753906, 443.4015197753906, 443.4015197753906, 443.4015197753906, 443.4015197753906, 443.4015197753906, 443.4015197753906, 443.4015197753906, 443.4015197753906, 443.4015197753906, 443.4015197753906, 443.4015197753906, 443.4015197753906, 443.4015197753906, 443.4015197753906, 443.4015197753906, 443.4015197753906, 443.4015197753906, 443.4015197753906, 443.4015197753906, 443.4015197753906, 443.4015197753906, 443.4015197753906, 443.4015197753906, 443.4015197753906, 443.4015197753906, 443.4015197753906, 443.4015197753906, 443.4015197753906, 443.4015197753906, 443.4015197753906, 443.4015197753906, 443.4015197753906, 443.4015197753906, 443.4015197753906, 443.4015197753906, 443.4015197753906, 443.4015197753906, 443.4015197753906, 443.4015197753906, 443.4015197753906, 443.4015197753906, 443.4015197753906, 443.4015197753906, 443.4015197753906, 443.4015197753906, 443.4015197753906, 443.4015197753906, 443.4015197753906, 443.4015197753906, 443.4015197753906, 443.4015197753906, 443.4015197753906, 443.4015197753906, 443.4015197753906, 443.4015197753906, 443.4015197753906, 443.4015197753906, 443.4015197753906, 443.4015197753906, 443.4015197753906, 443.4015197753906, 443.4015197753906, 443.4015197753906, 443.4015197753906, 443.4015197753906, 443.4015197753906, 365.2281494140625, 365.2281494140625, 365.2281494140625, 365.2281494140625, 365.2281494140625, 365.2281494140625, 365.2281494140625, 365.2281494140625, 365.2281494140625, 365.2281494140625, 365.2281494140625, 365.2281494140625, 365.2281494140625, 365.2281494140625, 365.2281494140625, 365.2281494140625, 365.2281494140625, 365.2281494140625, 365.2281494140625, 365.2281494140625, 365.2281494140625, 365.2281494140625, 365.2281494140625, 365.2281494140625, 365.2281494140625, 365.2281494140625, 365.2281494140625, 365.2281494140625, 365.2281494140625, 365.2281494140625, 365.2281494140625, 365.2281494140625, 365.2281494140625, 365.2281494140625, 365.2281494140625, 365.2281494140625, 365.2281494140625, 365.2281494140625, 365.2281494140625, 365.2281494140625, 365.2281494140625, 365.2281494140625, 365.2281494140625, 365.2281494140625, 365.2281494140625, 365.2281494140625, 365.2281494140625, 365.2281494140625, 365.2281494140625, 365.2281494140625, 365.2281494140625, 365.2281494140625, 365.2281494140625, 365.2281494140625, 365.2281494140625, 365.2281494140625, 365.2281494140625, 365.2281494140625, 365.2281494140625, 365.2281494140625, 365.2281494140625, 365.2281494140625, 365.2281494140625, 365.2281494140625, 365.2281494140625, 365.2281494140625, 365.2281494140625, 365.2281494140625, 365.2281494140625, 365.2281494140625, 365.2281494140625, 365.2281494140625, 365.2281494140625, 365.2281494140625, 365.2281494140625, 365.2281494140625, 365.2281494140625, 365.2281494140625, 365.2281494140625, 365.2281494140625, 365.2281494140625, 365.2281494140625, 365.2281494140625, 365.2281494140625, 365.2281494140625, 365.2281494140625, 365.2281494140625, 365.2281494140625, 365.2281494140625, 365.2281494140625, 365.2281494140625, 365.2281494140625, 365.2281494140625, 365.2281494140625, 365.2281494140625, 365.2281494140625, 365.2281494140625, 365.2281494140625, 365.2281494140625, 365.2281494140625, 365.2281494140625, 365.2281494140625, 365.2281494140625, 365.2281494140625, 365.2281494140625, 365.2281494140625, 365.2281494140625, 365.2281494140625, 365.2281494140625, 365.2281494140625, 365.2281494140625, 365.2281494140625, 365.2281494140625, 365.2281494140625, 365.2281494140625, 365.2281494140625, 365.2281494140625, 365.2281494140625, 365.2281494140625, 365.2281494140625, 365.2281494140625, 365.2281494140625, 365.2281494140625, 365.2281494140625, 365.2281494140625, 365.2281494140625, 365.2281494140625, 365.2281494140625, 365.2281494140625, 365.2281494140625, 365.2281494140625, 365.2281494140625, 365.2281494140625, 365.2281494140625, 365.2281494140625, 365.2281494140625, 365.2281494140625, 365.2281494140625, 365.2281494140625, 365.2281494140625, 365.2281494140625, 365.2281494140625, 365.2281494140625, 365.2281494140625, 365.2281494140625, 365.2281494140625, 365.2281494140625, 365.2281494140625, 365.2281494140625, 365.2281494140625, 365.2281494140625, 365.2281494140625, 365.2281494140625, 365.2281494140625, 365.2281494140625, 365.2281494140625, 365.2281494140625, 365.2281494140625, 365.2281494140625, 365.2281494140625, 365.2281494140625, 365.2281494140625, 365.2281494140625, 365.2281494140625, 365.2281494140625, 365.2281494140625, 365.2281494140625, 365.2281494140625, 365.2281494140625, 365.2281494140625, 365.2281494140625, 365.2281494140625, 365.2281494140625, 365.2281494140625, 365.2281494140625, 365.2281494140625, 365.2281494140625, 365.2281494140625, 365.2281494140625, 365.2281494140625, 365.2281494140625, 365.2281494140625, 365.2281494140625, 365.2281494140625, 365.2281494140625, 365.2281494140625, 365.2281494140625, 365.2281494140625, 365.2281494140625, 365.2281494140625, 365.2281494140625, 365.2281494140625, 365.2281494140625, 365.2281494140625, 365.2281494140625, 365.2281494140625, 365.2281494140625, 365.2281494140625, 365.2281494140625, 365.2281494140625, 365.2281494140625, 365.2281494140625, 365.2281494140625, 365.2281494140625, 365.2281494140625, 365.2281494140625, 365.2281494140625, 318.4574279785156, 318.4574279785156, 318.4574279785156, 318.4574279785156, 318.4574279785156, 318.4574279785156, 318.4574279785156, 318.4574279785156, 318.4574279785156, 318.4574279785156, 318.4574279785156, 318.4574279785156, 318.4574279785156, 318.4574279785156, 318.4574279785156, 318.4574279785156, 318.4574279785156, 318.4574279785156, 365.2281494140625, 365.2281494140625, 365.2281494140625, 365.2281494140625, 318.4574279785156, 318.4574279785156, 318.4574279785156, 318.4574279785156, 318.4574279785156, 318.4574279785156, 318.4574279785156, 318.4574279785156, 318.4574279785156, 318.4574279785156, 318.4574279785156, 318.4574279785156, 318.4574279785156, 318.4574279785156, 318.4574279785156, 318.4574279785156, 318.4574279785156, 318.4574279785156, 318.4574279785156, 318.4574279785156, 318.4574279785156, 318.4574279785156, 318.4574279785156, 318.4574279785156, 318.4574279785156, 318.4574279785156, 318.4574279785156, 318.4574279785156, 318.4574279785156, 318.4574279785156, 318.4574279785156, 318.4574279785156, 318.4574279785156, 318.4574279785156, 318.4574279785156, 318.4574279785156, 318.4574279785156, 318.4574279785156, 318.4574279785156, 318.4574279785156, 318.4574279785156, 318.4574279785156, 318.4574279785156, 318.4574279785156, 318.4574279785156, 318.4574279785156, 318.4574279785156, 318.4574279785156, 318.4574279785156, 318.4574279785156, 318.4574279785156, 318.4574279785156, 318.4574279785156, 318.4574279785156, 318.4574279785156, 318.4574279785156, 318.4574279785156, 318.4574279785156, 318.4574279785156, 318.4574279785156, 318.4574279785156, 318.4574279785156, 318.4574279785156, 318.4574279785156, 318.4574279785156, 318.4574279785156, 318.4574279785156, 318.4574279785156, 318.4574279785156, 318.4574279785156, 318.4574279785156, 318.4574279785156, 318.4574279785156, 318.4574279785156, 318.4574279785156, 318.4574279785156, 318.4574279785156, 318.4574279785156, 318.4574279785156, 318.4574279785156, 318.4574279785156, 318.4574279785156, 318.4574279785156, 318.4574279785156, 318.4574279785156, 318.4574279785156, 318.4574279785156, 318.4574279785156, 318.4574279785156, 318.4574279785156, 318.4574279785156, 318.4574279785156, 318.4574279785156, 318.4574279785156, 318.4574279785156, 318.4574279785156, 318.4574279785156, 318.4574279785156, 318.4574279785156, 318.4574279785156, 318.4574279785156, 318.4574279785156, 318.4574279785156, 318.4574279785156, 318.4574279785156, 318.4574279785156, 318.4574279785156, 318.4574279785156, 318.4574279785156, 318.4574279785156, 318.4574279785156, 318.4574279785156, 318.4574279785156, 318.4574279785156, 318.4574279785156, 318.4574279785156, 318.4574279785156, 318.4574279785156, 318.4574279785156, 318.4574279785156, 318.4574279785156, 318.4574279785156, 318.4574279785156, 318.4574279785156, 318.4574279785156, 318.4574279785156, 318.4574279785156, 318.4574279785156, 318.4574279785156, 318.4574279785156, 318.4574279785156, 318.4574279785156, 318.4574279785156, 318.4574279785156, 318.4574279785156, 318.4574279785156, 318.4574279785156, 318.4574279785156, 318.4574279785156, 318.4574279785156, 318.4574279785156, 318.4574279785156, 318.4574279785156, 318.4574279785156, 318.4574279785156, 318.4574279785156, 318.4574279785156, 318.4574279785156, 318.4574279785156, 318.4574279785156, 318.4574279785156, 318.4574279785156, 318.4574279785156, 318.4574279785156, 318.4574279785156, 318.4574279785156, 318.4574279785156, 318.4574279785156, 318.4574279785156, 318.4574279785156, 318.4574279785156, 318.4574279785156, 318.4574279785156, 318.4574279785156, 318.4574279785156, 318.4574279785156, 318.4574279785156, 318.4574279785156, 318.4574279785156, 318.4574279785156, 318.4574279785156, 185.41873168945312, 185.41873168945312, 185.41873168945312, 185.41873168945312, 185.41873168945312, 185.41873168945312, 185.41873168945312, 185.41873168945312, 185.41873168945312, 185.41873168945312, 185.41873168945312, 185.41873168945312, 185.41873168945312, 185.41873168945312, 185.41873168945312, 185.41873168945312, 185.41873168945312, 185.41873168945312, 185.41873168945312, 185.41873168945312, 185.41873168945312, 185.41873168945312, 185.41873168945312, 185.41873168945312, 185.41873168945312, 185.41873168945312, 185.41873168945312, 185.41873168945312, 185.41873168945312, 185.41873168945312, 185.41873168945312, 185.41873168945312, 185.41873168945312, 185.41873168945312, 185.41873168945312, 185.41873168945312, 185.41873168945312, 185.41873168945312, 185.41873168945312, 185.41873168945312, 185.41873168945312, 185.41873168945312, 185.41873168945312, 185.41873168945312, 185.41873168945312, 185.41873168945312, 185.41873168945312, 185.41873168945312, 185.41873168945312, 185.41873168945312, 185.41873168945312, 185.41873168945312, 185.41873168945312, 185.41873168945312, 185.41873168945312, 185.41873168945312, 185.41873168945312, 185.41873168945312, 185.41873168945312, 185.41873168945312, 185.41873168945312, 185.41873168945312, 185.41873168945312, 185.41873168945312, 185.41873168945312, 185.41873168945312, 185.41873168945312, 185.41873168945312, 185.41873168945312, 185.41873168945312, 185.41873168945312, 185.41873168945312, 185.41873168945312, 185.41873168945312, 185.41873168945312, 185.41873168945312, 185.41873168945312, 185.41873168945312, 185.41873168945312, 185.41873168945312, 185.41873168945312, 185.41873168945312, 185.41873168945312, 185.41873168945312, 185.41873168945312, 185.41873168945312, 185.41873168945312, 185.41873168945312, 185.41873168945312, 185.41873168945312, 185.41873168945312, 185.41873168945312, 185.41873168945312, 185.41873168945312, 185.41873168945312, 185.41873168945312, 185.41873168945312, 185.41873168945312, 185.41873168945312, 185.41873168945312, 160.5912322998047, 160.5912322998047, 160.5912322998047, 160.5912322998047, 160.5912322998047, 160.5912322998047, 160.5912322998047, 160.5912322998047, 160.5912322998047, 160.5912322998047, 160.5912322998047, 160.5912322998047, 160.5912322998047, 160.5912322998047, 160.5912322998047, 160.5912322998047, 160.5912322998047, 160.5912322998047, 160.5912322998047, 160.5912322998047, 160.5912322998047, 160.5912322998047, 160.5912322998047, 160.5912322998047, 160.5912322998047, 160.5912322998047, 160.5912322998047, 160.5912322998047, 160.5912322998047, 160.5912322998047, 160.5912322998047, 160.5912322998047, 160.5912322998047, 160.5912322998047, 160.5912322998047, 160.5912322998047, 160.5912322998047, 160.5912322998047, 160.5912322998047, 160.5912322998047, 160.5912322998047, 160.5912322998047, 160.5912322998047, 160.5912322998047, 160.5912322998047, 160.5912322998047, 160.5912322998047, 160.5912322998047, 160.5912322998047, 160.5912322998047, 160.5912322998047, 160.5912322998047, 160.5912322998047, 160.5912322998047, 160.5912322998047, 160.5912322998047, 160.5912322998047, 160.5912322998047, 160.5912322998047, 160.5912322998047, 160.5912322998047, 160.5912322998047, 160.5912322998047, 160.5912322998047, 160.5912322998047, 160.5912322998047, 160.5912322998047, 160.5912322998047, 160.5912322998047, 160.5912322998047, 160.5912322998047, 160.5912322998047, 160.5912322998047, 160.5912322998047, 160.5912322998047, 160.5912322998047, 160.5912322998047, 160.5912322998047, 160.5912322998047, 160.5912322998047, 160.5912322998047, 160.5912322998047, 160.5912322998047, 160.5912322998047, 160.5912322998047, 160.5912322998047, 160.5912322998047, 160.5912322998047, 160.5912322998047, 160.5912322998047, 160.5912322998047, 160.5912322998047, 160.5912322998047, 160.5912322998047, 160.5912322998047, 160.5912322998047, 160.5912322998047, 160.5912322998047, 160.5912322998047, 160.5912322998047]}, {\"line\": {\"color\": \"black\", \"shape\": \"linear\"}, \"name\": \"observed counts\", \"opacity\": 0.3, \"type\": \"scatter\", \"y\": [5764.0, 5771.0, 5860.0, 5695.0, 5785.0, 5678.0, 5751.0, 5680.0, 5780.0, 5906.0, 5770.0, 5752.0, 5887.0, 5856.0, 5760.0, 5841.0, 5810.0, 5825.0, 5807.0, 5825.0, 5721.0, 5763.0, 5718.0, 5815.0, 5816.0, 5693.0, 5823.0, 5793.0, 5576.0, 5792.0, 5872.0, 5633.0, 5807.0, 5821.0, 5734.0, 5832.0, 5843.0, 5744.0, 5772.0, 5847.0, 5715.0, 5911.0, 5827.0, 5742.0, 5880.0, 5924.0, 5852.0, 5871.0, 5867.0, 5848.0, 5722.0, 5802.0, 5729.0, 5777.0, 5828.0, 5864.0, 5798.0, 5795.0, 5685.0, 5800.0, 5753.0, 5858.0, 5808.0, 5887.0, 5851.0, 5629.0, 5815.0, 5862.0, 5844.0, 5799.0, 5915.0, 5942.0, 5918.0, 5751.0, 5783.0, 5747.0, 5817.0, 5837.0, 5831.0, 5847.0, 5773.0, 5764.0, 5741.0, 5715.0, 5769.0, 5757.0, 5898.0, 5783.0, 5817.0, 5701.0, 5905.0, 5814.0, 5939.0, 5825.0, 5739.0, 5648.0, 5822.0, 5623.0, 5896.0, 5610.0, 5531.0, 5551.0, 5306.0, 5363.0, 5428.0, 5520.0, 5520.0, 5443.0, 5380.0, 5354.0, 5425.0, 5390.0, 5453.0, 5483.0, 5553.0, 5378.0, 5438.0, 5577.0, 5262.0, 5524.0, 5508.0, 5408.0, 5417.0, 5581.0, 5625.0, 5538.0, 5416.0, 5499.0, 5509.0, 5438.0, 5528.0, 5536.0, 5347.0, 5405.0, 5553.0, 5506.0, 5482.0, 5603.0, 5517.0, 5444.0, 5395.0, 5573.0, 5489.0, 5382.0, 5470.0, 5481.0, 5553.0, 5552.0, 5527.0, 5402.0, 5532.0, 5364.0, 5617.0, 5390.0, 5325.0, 5413.0, 5574.0, 5512.0, 5441.0, 5411.0, 5396.0, 5350.0, 5507.0, 5443.0, 5491.0, 5495.0, 5540.0, 5406.0, 5404.0, 5390.0, 5475.0, 5408.0, 5550.0, 5442.0, 5649.0, 5424.0, 5383.0, 5556.0, 5455.0, 5400.0, 5462.0, 5284.0, 5398.0, 5333.0, 5532.0, 5526.0, 5310.0, 5529.0, 5384.0, 5352.0, 5353.0, 5415.0, 5524.0, 5517.0, 5434.0, 5523.0, 5641.0, 5472.0, 5635.0, 5521.0, 5090.0, 5096.0, 5111.0, 4897.0, 5101.0, 5019.0, 5023.0, 5090.0, 5034.0, 5149.0, 5179.0, 5064.0, 5083.0, 5120.0, 5082.0, 5005.0, 5066.0, 5113.0, 5103.0, 5104.0, 5075.0, 5112.0, 5130.0, 5101.0, 5102.0, 5071.0, 5028.0, 5045.0, 5113.0, 4987.0, 5081.0, 5055.0, 5040.0, 5052.0, 5128.0, 5011.0, 5020.0, 5101.0, 5217.0, 5108.0, 4924.0, 4923.0, 5183.0, 5078.0, 5066.0, 5086.0, 5199.0, 5224.0, 5102.0, 5133.0, 5084.0, 5025.0, 5062.0, 5095.0, 5158.0, 5072.0, 4975.0, 5142.0, 5115.0, 5073.0, 5075.0, 5037.0, 5018.0, 5003.0, 5041.0, 5076.0, 5188.0, 5164.0, 5181.0, 4959.0, 5168.0, 5092.0, 5121.0, 5083.0, 4998.0, 5036.0, 5023.0, 5083.0, 5047.0, 5099.0, 5155.0, 5073.0, 4983.0, 5142.0, 5068.0, 5206.0, 5016.0, 5141.0, 5056.0, 4995.0, 4992.0, 5071.0, 5106.0, 5204.0, 5022.0, 5036.0, 5082.0, 5058.0, 5146.0, 5164.0, 5227.0, 5036.0, 5081.0, 5089.0, 5046.0, 5141.0, 5160.0, 5092.0, 5130.0, 5215.0, 5121.0, 5062.0, 5012.0, 5231.0, 5051.0, 5078.0, 5086.0, 5132.0, 5168.0, 5098.0, 5142.0, 5138.0, 5080.0, 5188.0, 4996.0, 5074.0, 5181.0, 5119.0, 5136.0, 5099.0, 5117.0, 5059.0, 5098.0, 5116.0, 5109.0, 5137.0, 5128.0, 5067.0, 5194.0, 5141.0, 5190.0, 5166.0, 5162.0, 5099.0, 5133.0, 5202.0, 5117.0, 5102.0, 5088.0, 5262.0, 5076.0, 5125.0, 4973.0, 5083.0, 5023.0, 5124.0, 5203.0, 5130.0, 4895.0, 5095.0, 5145.0, 5121.0, 5083.0, 5155.0, 5071.0, 5210.0, 5204.0, 4997.0, 5048.0, 5144.0, 5147.0, 4958.0, 5235.0, 4970.0, 5068.0, 5105.0, 5235.0, 5119.0, 5154.0, 5023.0, 4972.0, 5145.0, 4949.0, 5231.0, 5013.0, 5087.0, 5141.0, 5037.0, 5181.0, 5182.0, 5051.0, 5130.0, 5134.0, 5176.0, 5172.0, 5035.0, 5138.0, 5080.0, 5041.0, 5138.0, 5177.0, 5067.0, 5092.0, 5018.0, 4991.0, 5117.0, 5232.0, 5128.0, 5162.0, 5129.0, 5023.0, 5051.0, 5202.0, 5121.0, 5131.0, 5053.0, 5086.0, 5101.0, 5069.0, 5008.0, 5062.0, 5093.0, 5183.0, 5082.0, 5091.0, 5082.0, 4996.0, 5044.0, 5149.0, 4992.0, 5058.0, 5132.0, 5062.0, 4946.0, 5129.0, 5027.0, 5025.0, 5114.0, 4996.0, 5010.0, 5077.0, 5067.0, 5026.0, 5007.0, 5001.0, 5088.0, 5012.0, 4978.0, 5063.0, 5123.0, 5047.0, 5113.0, 5039.0, 5050.0, 5104.0, 5122.0, 4944.0, 5100.0, 5169.0, 5046.0, 5021.0, 5058.0, 5097.0, 5078.0, 5067.0, 5068.0, 5094.0, 5139.0, 4935.0, 5036.0, 4968.0, 5059.0, 5088.0, 5023.0, 5128.0, 5055.0, 4901.0, 5133.0, 5074.0, 5096.0, 5185.0, 5354.0, 5068.0, 5016.0, 5000.0, 5066.0, 4929.0, 5020.0, 5067.0, 5054.0, 5118.0, 5130.0, 5195.0, 5134.0, 5069.0, 5155.0, 5040.0, 5058.0, 5169.0, 4958.0, 4397.0, 4465.0, 4481.0, 4416.0, 4382.0, 4488.0, 4449.0, 4531.0, 4512.0, 4445.0, 4453.0, 4430.0, 4417.0, 4404.0, 4518.0, 4475.0, 4465.0, 4458.0, 4478.0, 4471.0, 4446.0, 4395.0, 4422.0, 4418.0, 4548.0, 4445.0, 4533.0, 4485.0, 4419.0, 4445.0, 4312.0, 4470.0, 4507.0, 4394.0, 4445.0, 4433.0, 4398.0, 4440.0, 4370.0, 4334.0, 4427.0, 4415.0, 4515.0, 4447.0, 4283.0, 4513.0, 4469.0, 4505.0, 4532.0, 4407.0, 4440.0, 4526.0, 4462.0, 4473.0, 4550.0, 4490.0, 4490.0, 4445.0, 4435.0, 4510.0, 4374.0, 4444.0, 4432.0, 4468.0, 4476.0, 4450.0, 4436.0, 4433.0, 4430.0, 4572.0, 4527.0, 4412.0, 4533.0, 4410.0, 4399.0, 4494.0, 4403.0, 4407.0, 4472.0, 4495.0, 4404.0, 4310.0, 4452.0, 4491.0, 4445.0, 4436.0, 4565.0, 4354.0, 4410.0, 4469.0, 4404.0, 4463.0, 4352.0, 4442.0, 4437.0, 4446.0, 4502.0, 4346.0, 4353.0, 4531.0, 4167.0, 4214.0, 4291.0, 4104.0, 4283.0, 4106.0, 4182.0, 4172.0, 4137.0, 4158.0, 4110.0, 4246.0, 4248.0, 4102.0, 4180.0, 4100.0, 4052.0, 4249.0, 4172.0, 4136.0, 4254.0, 4156.0, 4164.0, 4072.0, 4095.0, 4167.0, 4110.0, 4129.0, 4109.0, 4359.0, 4135.0, 4033.0, 4178.0, 4297.0, 4196.0, 4258.0, 4182.0, 4262.0, 4211.0, 4109.0, 4190.0, 4108.0, 4197.0, 4145.0, 4261.0, 4230.0, 4089.0, 4228.0, 4112.0, 4235.0, 4205.0, 4079.0, 4103.0, 4188.0, 4088.0, 4096.0, 4232.0, 4238.0, 4201.0, 4176.0, 4132.0, 4141.0, 4293.0, 4148.0, 4218.0, 4276.0, 4204.0, 4188.0, 4151.0, 4150.0, 4203.0, 4161.0, 4186.0, 4111.0, 4264.0, 4152.0, 4131.0, 4118.0, 4213.0, 4234.0, 4173.0, 4257.0, 4215.0, 4192.0, 4250.0, 4144.0, 4126.0, 4089.0, 4057.0, 4120.0, 4122.0, 4132.0, 4159.0, 4162.0, 4263.0, 4007.0, 4170.0, 4212.0, 4230.0, 4103.0, 1762.0, 1706.0, 1757.0, 1739.0, 1810.0, 1836.0, 1737.0, 1861.0, 1738.0, 1760.0, 1728.0, 1665.0, 1725.0, 1781.0, 1862.0, 1815.0, 1802.0, 1829.0, 1796.0, 1798.0, 1841.0, 1796.0, 1773.0, 1720.0, 1719.0, 1820.0, 1789.0, 1801.0, 1796.0, 1779.0, 1815.0, 1795.0, 1781.0, 1802.0, 1825.0, 1786.0, 1826.0, 1767.0, 1777.0, 1787.0, 1802.0, 1823.0, 1775.0, 1711.0, 1762.0, 1834.0, 1813.0, 1767.0, 1770.0, 1688.0, 1794.0, 1744.0, 1694.0, 1794.0, 1727.0, 1751.0, 1767.0, 1803.0, 1824.0, 1789.0, 1792.0, 1794.0, 1792.0, 1726.0, 1739.0, 1861.0, 1754.0, 1753.0, 1746.0, 1772.0, 1737.0, 1833.0, 1795.0, 1753.0, 1796.0, 1818.0, 1752.0, 1802.0, 1799.0, 1701.0, 1734.0, 1785.0, 1761.0, 1801.0, 1831.0, 1778.0, 1816.0, 1754.0, 1798.0, 1752.0, 1797.0, 1845.0, 1719.0, 1810.0, 1761.0, 1771.0, 1790.0, 1845.0, 1736.0, 1783.0, 1752.0, 1805.0, 1700.0, 1738.0, 1820.0, 1811.0, 1824.0, 1722.0, 1768.0, 1691.0, 1735.0, 1739.0, 1721.0, 1880.0, 1765.0, 1854.0, 1709.0, 1797.0, 1776.0, 1862.0, 1713.0, 1698.0, 1754.0, 1733.0, 1782.0, 1722.0, 1759.0, 1793.0, 1795.0, 1654.0, 1803.0, 1741.0, 1746.0, 1706.0, 1660.0, 1733.0, 1717.0, 1760.0, 1737.0, 1769.0, 1854.0, 1698.0, 1714.0, 1810.0, 1825.0, 1779.0, 1780.0, 1748.0, 1799.0, 1815.0, 1739.0, 1732.0, 1717.0, 1764.0, 1739.0, 1785.0, 1725.0, 1801.0, 1753.0, 1814.0, 1741.0, 1748.0, 1681.0, 1773.0, 1796.0, 1834.0, 1749.0, 1768.0, 1808.0, 1699.0, 1670.0, 1770.0, 1742.0, 1775.0, 1707.0, 1781.0, 1766.0, 1778.0, 1764.0, 1699.0, 1754.0, 1712.0, 1684.0, 1760.0, 1741.0, 1804.0, 1757.0, 1752.0, 1742.0, 1817.0, 1816.0, 1776.0, 1677.0, 1770.0, 1788.0, 1718.0, 1751.0, 1754.0, 1787.0, 1760.0, 1735.0, 1690.0, 1804.0, 1747.0, 1785.0, 1849.0, 1796.0, 1808.0, 1704.0, 1772.0, 1723.0, 1681.0, 1667.0, 1740.0, 1784.0, 1783.0, 1810.0, 1779.0, 1691.0, 1775.0, 1761.0, 1693.0, 1748.0, 1821.0, 1792.0, 1718.0, 1769.0, 1794.0, 1723.0, 1719.0, 1774.0, 1703.0, 1744.0, 1754.0, 1696.0, 1738.0, 1882.0, 1741.0, 1767.0, 1773.0, 1736.0, 1810.0, 1760.0, 1939.0, 1723.0, 1800.0, 1765.0, 1697.0, 1727.0, 1710.0, 1812.0, 1794.0, 1788.0, 1791.0, 1771.0, 1742.0, 1784.0, 1771.0, 1846.0, 1749.0, 1700.0, 1731.0, 1770.0, 1747.0, 1773.0, 1799.0, 1788.0, 1769.0, 1828.0, 1722.0, 1762.0, 1790.0, 1781.0, 1757.0, 1784.0, 1779.0, 1794.0, 1758.0, 1847.0, 1775.0, 1750.0, 1767.0, 1733.0, 1814.0, 1737.0, 1770.0, 1737.0, 1765.0, 1753.0, 1788.0, 1739.0, 1804.0, 1877.0, 1806.0, 1734.0, 1715.0, 1723.0, 1762.0, 1806.0, 1803.0, 1605.0, 1586.0, 1620.0, 1634.0, 1654.0, 1648.0, 1669.0, 1605.0, 1651.0, 1631.0, 1667.0, 1617.0, 1674.0, 1667.0, 1666.0, 1615.0, 1667.0, 1661.0, 1687.0, 1673.0, 1687.0, 1656.0, 1642.0, 1640.0, 1585.0, 1666.0, 1629.0, 1654.0, 1568.0, 1593.0, 1597.0, 1622.0, 1613.0, 1592.0, 1668.0, 1611.0, 1662.0, 1561.0, 1665.0, 1639.0, 1693.0, 1705.0, 1651.0, 1625.0, 1545.0, 1534.0, 1667.0, 1631.0, 1664.0, 1578.0, 1748.0, 1600.0, 1587.0, 1599.0, 1659.0, 1673.0, 1749.0, 1593.0, 1687.0, 1633.0, 1654.0, 1689.0, 1603.0, 1666.0, 1710.0, 1635.0, 1661.0, 1637.0, 1642.0, 1569.0, 1656.0, 1646.0, 1664.0, 1619.0, 1674.0, 1604.0, 1608.0, 1646.0, 1639.0, 1681.0, 1656.0, 1663.0, 1643.0, 1651.0, 1622.0, 1614.0, 1639.0, 1663.0, 1668.0, 1684.0, 1682.0, 1688.0, 1624.0, 1692.0, 1626.0, 1593.0, 1666.0, 1615.0, 1693.0, 1656.0, 1592.0, 1700.0, 1623.0, 1676.0, 1669.0, 1697.0, 1574.0, 1644.0, 1647.0, 1693.0, 1646.0, 1673.0, 1595.0, 1605.0, 1644.0, 1579.0, 1625.0, 1661.0, 1667.0, 1668.0, 1590.0, 1665.0, 1660.0, 1661.0, 1603.0, 1681.0, 1631.0, 1622.0, 1698.0, 1687.0, 1607.0, 1626.0, 1668.0, 1665.0, 1630.0, 1727.0, 1587.0, 1586.0, 1641.0, 1663.0, 1639.0, 1634.0, 1586.0, 1579.0, 1582.0, 1670.0, 1649.0, 1641.0, 1576.0, 1664.0, 1605.0, 1637.0, 1649.0, 1639.0, 1664.0, 1619.0, 1642.0, 1614.0, 1682.0, 1650.0, 1542.0, 1687.0, 1643.0, 1630.0, 1679.0, 1608.0, 1604.0, 1699.0, 1586.0, 1645.0, 1707.0, 1629.0, 1577.0, 1638.0, 1702.0, 1683.0, 1582.0, 1626.0, 1649.0, 1637.0, 1618.0, 1654.0, 1627.0, 1645.0, 1672.0, 1584.0, 1642.0, 1618.0, 1636.0, 1707.0, 1614.0, 1591.0, 1638.0, 1586.0, 1565.0, 1555.0, 1683.0, 1626.0, 1645.0, 1641.0, 1680.0, 1578.0, 1635.0, 1709.0, 1580.0, 1698.0, 1620.0, 1636.0, 1713.0, 1611.0, 1623.0, 1577.0, 1619.0, 1671.0, 1586.0, 1614.0, 1665.0, 1616.0, 1608.0, 1607.0, 1677.0, 1630.0, 1620.0, 1609.0, 1629.0, 1692.0, 1686.0, 1703.0, 1661.0, 1631.0, 1624.0, 1597.0, 1653.0, 1650.0, 1645.0, 1640.0, 1644.0, 1585.0, 1651.0, 1653.0, 1642.0, 1586.0, 1660.0, 1675.0, 1691.0, 1639.0, 1635.0, 1660.0, 1611.0, 1642.0, 1699.0, 1556.0, 1703.0, 1594.0, 1592.0, 1694.0, 1534.0, 1596.0, 1649.0, 1668.0, 1682.0, 1598.0, 1658.0, 1677.0, 1670.0, 1653.0, 1659.0, 1574.0, 1673.0, 1607.0, 1653.0, 1680.0, 1729.0, 1624.0, 1596.0, 1639.0, 1616.0, 1619.0, 1679.0, 1677.0, 1631.0, 1572.0, 1615.0, 1697.0, 1611.0, 1656.0, 1649.0, 1580.0, 1619.0, 1651.0, 1630.0, 1663.0, 1583.0, 1738.0, 1653.0, 1592.0, 1689.0, 1647.0, 1591.0, 1585.0, 1697.0, 1678.0, 1640.0, 1664.0, 1719.0, 1662.0, 1671.0, 1663.0, 1629.0, 1651.0, 1651.0, 1596.0, 1690.0, 1727.0, 1637.0, 1669.0, 1566.0, 1671.0, 1648.0, 1693.0, 1641.0, 1608.0, 1543.0, 1643.0, 1642.0, 1570.0, 1670.0, 1607.0, 1598.0, 1636.0, 1567.0, 1609.0, 1619.0, 1669.0, 1620.0, 1666.0, 1666.0, 1645.0, 1651.0, 1710.0, 1648.0, 1653.0, 1652.0, 1615.0, 1679.0, 1656.0, 1704.0, 1620.0, 1709.0, 1588.0, 1620.0, 1622.0, 1636.0, 1706.0, 1695.0, 1613.0, 1632.0, 1645.0, 1694.0, 1657.0, 1698.0, 1611.0, 1686.0, 1663.0, 1587.0, 1619.0, 1611.0, 1654.0, 1639.0, 1660.0, 1715.0, 1688.0, 1662.0, 1637.0, 1727.0, 1583.0, 1621.0, 1599.0, 1647.0, 1736.0, 1658.0, 1651.0, 1644.0, 1710.0, 1615.0, 1647.0, 1651.0, 1673.0, 1697.0, 1645.0, 1605.0, 1667.0, 1740.0, 1661.0, 1666.0, 1699.0, 1667.0, 1616.0, 1711.0, 1651.0, 1639.0, 1512.0, 1486.0, 1513.0, 1592.0, 1638.0, 1591.0, 1592.0, 1528.0, 1581.0, 1597.0, 1601.0, 1551.0, 1565.0, 1557.0, 1586.0, 1616.0, 1587.0, 1554.0, 1575.0, 1566.0, 1625.0, 1590.0, 1565.0, 1552.0, 1570.0, 1517.0, 1549.0, 1541.0, 1554.0, 1590.0, 1621.0, 1571.0, 1558.0, 1580.0, 1578.0, 1535.0, 1597.0, 1552.0, 1548.0, 1545.0, 1593.0, 1589.0, 1492.0, 1552.0, 1554.0, 1543.0, 1591.0, 1582.0, 1549.0, 1574.0, 1629.0, 1539.0, 1641.0, 1523.0, 1605.0, 1516.0, 1646.0, 1544.0, 1514.0, 1579.0, 1652.0, 1578.0, 1564.0, 1570.0, 1587.0, 1500.0, 1626.0, 1615.0, 1545.0, 1574.0, 1619.0, 1576.0, 1550.0, 1596.0, 1555.0, 1558.0, 1621.0, 1607.0, 1594.0, 1570.0, 1591.0, 1526.0, 1579.0, 1577.0, 1544.0, 1596.0, 1493.0, 1603.0, 1663.0, 1571.0, 1556.0, 1590.0, 1571.0, 1529.0, 1535.0, 1536.0, 1538.0, 1527.0, 1578.0, 1561.0, 1565.0, 1643.0, 1578.0, 1547.0, 1586.0, 1544.0, 1550.0, 1540.0, 1603.0, 1598.0, 1591.0, 1575.0, 1578.0, 1508.0, 1624.0, 1533.0, 1525.0, 1504.0, 1567.0, 1547.0, 1562.0, 1533.0, 1534.0, 1476.0, 1567.0, 1579.0, 1600.0, 1560.0, 1588.0, 1508.0, 1539.0, 1583.0, 1506.0, 1474.0, 1534.0, 1604.0, 1551.0, 1596.0, 1461.0, 1500.0, 1590.0, 1572.0, 1574.0, 1530.0, 1535.0, 1532.0, 1586.0, 1550.0, 1579.0, 1523.0, 1559.0, 1599.0, 1546.0, 1548.0, 1512.0, 1532.0, 1494.0, 1503.0, 1531.0, 1563.0, 1519.0, 1599.0, 1510.0, 1579.0, 1530.0, 1557.0, 1493.0, 1578.0, 1568.0, 1536.0, 1620.0, 1576.0, 1589.0, 1548.0, 1526.0, 1585.0, 1563.0, 1573.0, 1516.0, 1549.0, 1535.0, 1527.0, 1545.0, 1603.0, 1563.0, 1560.0, 1542.0, 1587.0, 1547.0, 1508.0, 1560.0, 1500.0, 1569.0, 1466.0, 1548.0, 1451.0, 1627.0, 1573.0, 1582.0, 1596.0, 1565.0, 1580.0, 1590.0, 1549.0, 1609.0, 1559.0, 1568.0, 1559.0, 1578.0, 1466.0, 1586.0, 1570.0, 1561.0, 1630.0, 1571.0, 1528.0, 1553.0, 1632.0, 1548.0, 1588.0, 1594.0, 1550.0, 1567.0, 1562.0, 1488.0, 1569.0, 1585.0, 1554.0, 1507.0, 1574.0, 1553.0, 1548.0, 1614.0, 1525.0, 1552.0, 1573.0, 1541.0, 1599.0, 1545.0, 1635.0, 1430.0, 1593.0, 1554.0, 1621.0, 1589.0, 1586.0, 1611.0, 1631.0, 1477.0, 1599.0, 1544.0, 1564.0, 1525.0, 1560.0, 1572.0, 1634.0, 1599.0, 1625.0, 1483.0, 1476.0, 1650.0, 1587.0, 1553.0, 1546.0, 1555.0, 1547.0, 1525.0, 1601.0, 1569.0, 1539.0, 1581.0, 1618.0, 1567.0, 1540.0, 1586.0, 1655.0, 1594.0, 1599.0, 1625.0, 1539.0, 1611.0, 1618.0, 1535.0, 1562.0, 1560.0, 1547.0, 1543.0, 1568.0, 1542.0, 1620.0, 1534.0, 1620.0, 1569.0, 1501.0, 1566.0, 1575.0, 1592.0, 1511.0, 1631.0, 1489.0, 1522.0, 1548.0, 1551.0, 1583.0, 1536.0, 1576.0, 1548.0, 1564.0, 1548.0, 1533.0, 1560.0, 1574.0, 1563.0, 1505.0, 1504.0, 1554.0, 1545.0, 1542.0, 1553.0, 1524.0, 1610.0, 1679.0, 1524.0, 1539.0, 1522.0, 1596.0, 1562.0, 1517.0, 1531.0, 1550.0, 1509.0, 1534.0, 1595.0, 1516.0, 1525.0, 1516.0, 1574.0, 1594.0, 1564.0, 1533.0, 1516.0, 1514.0, 1527.0, 1541.0, 1534.0, 1578.0, 1558.0, 1537.0, 1629.0, 1527.0, 1541.0, 1520.0, 1490.0, 1594.0, 1483.0, 1631.0, 1547.0, 1541.0, 1573.0, 1591.0, 1494.0, 1581.0, 1485.0, 1515.0, 1539.0, 1536.0, 1570.0, 1541.0, 1550.0, 1546.0, 1572.0, 1471.0, 1545.0, 1516.0, 1528.0, 1489.0, 1552.0, 1544.0, 1613.0, 1533.0, 1574.0, 1564.0, 1524.0, 1554.0, 1590.0, 1486.0, 1595.0, 1554.0, 1586.0, 1610.0, 1568.0, 1615.0, 1497.0, 1535.0, 1528.0, 1559.0, 1521.0, 1569.0, 1488.0, 1600.0, 1596.0, 1480.0, 1569.0, 1599.0, 1552.0, 1545.0, 1480.0, 1577.0, 1605.0, 1554.0, 1523.0, 1492.0, 1602.0, 1606.0, 1484.0, 1491.0, 1544.0, 1573.0, 1555.0, 1507.0, 1518.0, 1559.0, 1618.0, 1576.0, 1472.0, 1679.0, 1553.0, 1560.0, 1550.0, 1615.0, 1597.0, 1559.0, 1587.0, 1560.0, 1525.0, 1563.0, 1566.0, 1630.0, 1617.0, 1569.0, 1561.0, 1515.0, 1587.0, 1563.0, 1555.0, 1524.0, 1566.0, 1629.0, 1499.0, 1535.0, 1536.0, 1548.0, 1585.0, 1555.0, 1611.0, 1522.0, 1581.0, 1584.0, 1603.0, 1523.0, 1494.0, 1577.0, 1570.0, 1509.0, 1542.0, 1573.0, 1564.0, 1501.0, 1533.0, 1536.0, 1573.0, 1542.0, 1585.0, 1569.0, 1575.0, 1489.0, 1473.0, 1555.0, 1546.0, 1640.0, 1524.0, 1543.0, 1632.0, 1576.0, 1521.0, 1499.0, 1542.0, 1517.0, 1565.0, 1510.0, 1529.0, 1524.0, 1538.0, 1529.0, 1650.0, 1555.0, 1553.0, 1504.0, 1523.0, 1139.0, 1176.0, 1107.0, 1144.0, 1134.0, 1158.0, 1236.0, 1163.0, 1140.0, 1208.0, 1174.0, 1135.0, 1184.0, 1188.0, 1099.0, 1155.0, 1087.0, 1217.0, 1200.0, 1174.0, 1153.0, 1148.0, 1140.0, 1171.0, 1158.0, 1172.0, 1178.0, 1166.0, 1171.0, 1192.0, 1111.0, 1120.0, 1170.0, 1209.0, 1158.0, 1102.0, 1101.0, 1156.0, 1175.0, 1145.0, 1124.0, 1130.0, 1198.0, 1119.0, 1134.0, 1167.0, 1145.0, 1145.0, 1183.0, 1210.0, 1121.0, 1123.0, 1145.0, 1204.0, 1119.0, 1149.0, 1167.0, 1192.0, 1163.0, 1162.0, 1176.0, 1128.0, 1167.0, 1158.0, 1125.0, 1125.0, 1157.0, 1169.0, 1161.0, 1148.0, 1176.0, 1182.0, 1104.0, 1116.0, 1151.0, 1122.0, 1120.0, 1188.0, 1195.0, 1144.0, 1155.0, 1114.0, 1165.0, 1175.0, 1125.0, 1129.0, 1126.0, 1153.0, 1217.0, 1114.0, 1089.0, 1167.0, 1092.0, 1138.0, 1119.0, 1225.0, 1169.0, 1171.0, 1116.0, 1178.0, 1142.0, 1129.0, 1174.0, 1141.0, 1115.0, 1161.0, 1081.0, 1127.0, 1166.0, 1160.0, 1115.0, 1192.0, 1193.0, 1194.0, 1159.0, 1216.0, 1164.0, 1155.0, 1163.0, 1182.0, 1125.0, 1135.0, 1173.0, 1184.0, 1182.0, 1120.0, 1177.0, 1193.0, 1180.0, 1086.0, 1239.0, 1186.0, 1170.0, 1133.0, 1124.0, 1167.0, 1164.0, 1128.0, 1204.0, 1142.0, 1126.0, 1141.0, 1118.0, 1143.0, 1130.0, 1215.0, 1119.0, 1204.0, 1147.0, 1139.0, 1139.0, 1181.0, 1143.0, 1206.0, 1172.0, 1165.0, 1177.0, 1112.0, 1141.0, 1162.0, 1164.0, 1212.0, 1191.0, 1195.0, 1156.0, 1108.0, 1228.0, 1145.0, 1152.0, 1169.0, 1152.0, 1151.0, 1132.0, 1254.0, 1174.0, 1171.0, 1195.0, 1132.0, 1104.0, 1156.0, 1154.0, 1150.0, 1137.0, 1151.0, 1133.0, 1143.0, 1187.0, 1143.0, 1182.0, 1155.0, 1124.0, 1143.0, 1159.0, 1197.0, 1092.0, 1173.0, 1139.0, 1245.0, 1122.0, 1138.0, 795.0, 738.0, 776.0, 717.0, 772.0, 761.0, 804.0, 861.0, 812.0, 793.0, 807.0, 797.0, 867.0, 803.0, 814.0, 803.0, 760.0, 803.0, 766.0, 829.0, 795.0, 803.0, 815.0, 777.0, 828.0, 816.0, 794.0, 797.0, 754.0, 786.0, 777.0, 807.0, 807.0, 769.0, 792.0, 798.0, 807.0, 777.0, 764.0, 819.0, 794.0, 843.0, 767.0, 796.0, 802.0, 808.0, 792.0, 793.0, 754.0, 793.0, 823.0, 780.0, 804.0, 776.0, 811.0, 776.0, 807.0, 779.0, 826.0, 799.0, 794.0, 806.0, 759.0, 788.0, 737.0, 787.0, 798.0, 785.0, 873.0, 767.0, 837.0, 861.0, 798.0, 852.0, 801.0, 778.0, 775.0, 782.0, 808.0, 807.0, 749.0, 756.0, 806.0, 775.0, 781.0, 747.0, 775.0, 804.0, 761.0, 787.0, 766.0, 752.0, 769.0, 831.0, 774.0, 815.0, 787.0, 763.0, 782.0, 729.0, 756.0, 720.0, 766.0, 714.0, 718.0, 712.0, 728.0, 766.0, 740.0, 762.0, 743.0, 730.0, 736.0, 696.0, 732.0, 743.0, 725.0, 760.0, 719.0, 697.0, 738.0, 762.0, 760.0, 745.0, 734.0, 744.0, 700.0, 774.0, 728.0, 782.0, 767.0, 760.0, 754.0, 754.0, 766.0, 754.0, 735.0, 720.0, 708.0, 794.0, 765.0, 743.0, 731.0, 689.0, 707.0, 767.0, 748.0, 669.0, 722.0, 771.0, 701.0, 720.0, 747.0, 718.0, 735.0, 727.0, 744.0, 711.0, 758.0, 713.0, 760.0, 717.0, 733.0, 763.0, 699.0, 771.0, 763.0, 774.0, 702.0, 732.0, 730.0, 772.0, 747.0, 701.0, 701.0, 750.0, 713.0, 764.0, 723.0, 709.0, 754.0, 726.0, 769.0, 743.0, 723.0, 750.0, 792.0, 736.0, 740.0, 750.0, 747.0, 748.0, 740.0, 744.0, 756.0, 749.0, 745.0, 742.0, 703.0, 753.0, 679.0, 702.0, 707.0, 706.0, 741.0, 726.0, 724.0, 740.0, 737.0, 726.0, 720.0, 677.0, 724.0, 684.0, 719.0, 688.0, 746.0, 704.0, 684.0, 725.0, 711.0, 750.0, 687.0, 730.0, 714.0, 728.0, 746.0, 705.0, 697.0, 769.0, 684.0, 773.0, 732.0, 689.0, 681.0, 695.0, 733.0, 719.0, 754.0, 708.0, 688.0, 744.0, 693.0, 718.0, 763.0, 735.0, 675.0, 711.0, 701.0, 690.0, 709.0, 712.0, 678.0, 741.0, 720.0, 734.0, 719.0, 667.0, 684.0, 721.0, 734.0, 706.0, 723.0, 719.0, 710.0, 729.0, 717.0, 700.0, 677.0, 686.0, 770.0, 734.0, 711.0, 715.0, 695.0, 734.0, 709.0, 698.0, 722.0, 734.0, 736.0, 713.0, 706.0, 721.0, 737.0, 699.0, 687.0, 744.0, 663.0, 739.0, 736.0, 697.0, 703.0, 700.0, 764.0, 753.0, 729.0, 714.0, 700.0, 764.0, 434.0, 475.0, 431.0, 444.0, 459.0, 436.0, 425.0, 413.0, 420.0, 440.0, 425.0, 462.0, 423.0, 473.0, 464.0, 501.0, 416.0, 476.0, 440.0, 447.0, 409.0, 452.0, 461.0, 450.0, 438.0, 447.0, 441.0, 453.0, 426.0, 474.0, 405.0, 461.0, 475.0, 397.0, 434.0, 420.0, 433.0, 437.0, 437.0, 434.0, 435.0, 432.0, 426.0, 397.0, 441.0, 417.0, 417.0, 451.0, 470.0, 443.0, 480.0, 429.0, 449.0, 487.0, 428.0, 447.0, 411.0, 491.0, 413.0, 411.0, 461.0, 419.0, 423.0, 447.0, 447.0, 442.0, 439.0, 430.0, 444.0, 440.0, 473.0, 425.0, 465.0, 430.0, 450.0, 440.0, 421.0, 427.0, 400.0, 445.0, 428.0, 433.0, 417.0, 464.0, 451.0, 468.0, 438.0, 473.0, 474.0, 435.0, 436.0, 452.0, 456.0, 476.0, 441.0, 443.0, 460.0, 395.0, 492.0, 489.0, 372.0, 355.0, 344.0, 342.0, 371.0, 325.0, 350.0, 357.0, 395.0, 401.0, 357.0, 334.0, 396.0, 348.0, 359.0, 334.0, 363.0, 336.0, 353.0, 362.0, 367.0, 383.0, 331.0, 356.0, 353.0, 385.0, 349.0, 378.0, 344.0, 415.0, 368.0, 375.0, 361.0, 373.0, 370.0, 332.0, 377.0, 359.0, 378.0, 370.0, 390.0, 347.0, 353.0, 366.0, 378.0, 356.0, 358.0, 388.0, 355.0, 365.0, 365.0, 362.0, 378.0, 386.0, 349.0, 365.0, 388.0, 376.0, 351.0, 389.0, 404.0, 361.0, 355.0, 370.0, 387.0, 404.0, 391.0, 373.0, 367.0, 352.0, 345.0, 350.0, 381.0, 386.0, 345.0, 386.0, 342.0, 371.0, 365.0, 369.0, 400.0, 356.0, 374.0, 341.0, 377.0, 375.0, 379.0, 381.0, 378.0, 346.0, 365.0, 370.0, 385.0, 371.0, 343.0, 366.0, 357.0, 329.0, 375.0, 369.0, 368.0, 396.0, 379.0, 372.0, 395.0, 354.0, 388.0, 367.0, 330.0, 373.0, 312.0, 376.0, 327.0, 372.0, 339.0, 377.0, 381.0, 380.0, 360.0, 381.0, 372.0, 362.0, 349.0, 330.0, 365.0, 342.0, 373.0, 341.0, 341.0, 343.0, 368.0, 342.0, 360.0, 360.0, 354.0, 358.0, 371.0, 388.0, 389.0, 366.0, 328.0, 407.0, 366.0, 395.0, 379.0, 392.0, 345.0, 352.0, 364.0, 373.0, 360.0, 376.0, 366.0, 355.0, 373.0, 359.0, 368.0, 361.0, 358.0, 423.0, 365.0, 389.0, 368.0, 369.0, 398.0, 356.0, 376.0, 367.0, 375.0, 391.0, 355.0, 395.0, 371.0, 390.0, 346.0, 387.0, 387.0, 356.0, 348.0, 366.0, 375.0, 380.0, 350.0, 364.0, 383.0, 399.0, 373.0, 347.0, 371.0, 344.0, 363.0, 361.0, 341.0, 366.0, 366.0, 361.0, 344.0, 356.0, 361.0, 351.0, 346.0, 365.0, 303.0, 323.0, 351.0, 365.0, 366.0, 339.0, 325.0, 321.0, 360.0, 351.0, 303.0, 320.0, 360.0, 324.0, 325.0, 313.0, 345.0, 330.0, 345.0, 330.0, 335.0, 336.0, 310.0, 383.0, 377.0, 330.0, 368.0, 318.0, 332.0, 315.0, 336.0, 328.0, 353.0, 321.0, 336.0, 332.0, 332.0, 350.0, 317.0, 333.0, 342.0, 376.0, 347.0, 354.0, 333.0, 324.0, 319.0, 343.0, 344.0, 340.0, 361.0, 329.0, 343.0, 342.0, 315.0, 299.0, 331.0, 318.0, 332.0, 314.0, 330.0, 347.0, 331.0, 314.0, 355.0, 316.0, 361.0, 331.0, 327.0, 321.0, 329.0, 349.0, 360.0, 315.0, 341.0, 343.0, 343.0, 328.0, 318.0, 351.0, 324.0, 312.0, 344.0, 319.0, 301.0, 338.0, 363.0, 355.0, 331.0, 343.0, 285.0, 363.0, 324.0, 340.0, 344.0, 326.0, 300.0, 313.0, 271.0, 327.0, 333.0, 327.0, 335.0, 314.0, 321.0, 271.0, 300.0, 339.0, 283.0, 328.0, 281.0, 295.0, 281.0, 279.0, 327.0, 289.0, 309.0, 316.0, 301.0, 314.0, 326.0, 292.0, 318.0, 315.0, 324.0, 315.0, 311.0, 297.0, 264.0, 304.0, 329.0, 312.0, 299.0, 339.0, 297.0, 324.0, 286.0, 302.0, 312.0, 313.0, 297.0, 315.0, 298.0, 308.0, 314.0, 312.0, 296.0, 304.0, 303.0, 313.0, 295.0, 291.0, 322.0, 292.0, 323.0, 302.0, 310.0, 293.0, 292.0, 314.0, 300.0, 290.0, 317.0, 288.0, 322.0, 303.0, 306.0, 312.0, 340.0, 306.0, 317.0, 312.0, 293.0, 300.0, 308.0, 280.0, 283.0, 312.0, 326.0, 345.0, 315.0, 269.0, 280.0, 331.0, 282.0, 306.0, 259.0, 275.0, 292.0, 318.0, 310.0, 315.0, 283.0, 311.0, 291.0, 317.0, 301.0, 300.0, 188.0, 200.0, 193.0, 183.0, 168.0, 198.0, 209.0, 162.0, 160.0, 175.0, 182.0, 173.0, 176.0, 216.0, 196.0, 181.0, 184.0, 203.0, 179.0, 180.0, 200.0, 190.0, 182.0, 194.0, 202.0, 189.0, 199.0, 195.0, 187.0, 173.0, 172.0, 183.0, 182.0, 191.0, 189.0, 197.0, 183.0, 177.0, 175.0, 181.0, 201.0, 187.0, 203.0, 172.0, 170.0, 161.0, 169.0, 182.0, 185.0, 190.0, 178.0, 176.0, 186.0, 190.0, 197.0, 185.0, 178.0, 175.0, 193.0, 167.0, 198.0, 193.0, 187.0, 172.0, 179.0, 159.0, 214.0, 180.0, 209.0, 179.0, 206.0, 190.0, 196.0, 181.0, 179.0, 189.0, 190.0, 206.0, 206.0, 169.0, 169.0, 180.0, 186.0, 164.0, 195.0, 181.0, 186.0, 170.0, 170.0, 185.0, 181.0, 184.0, 169.0, 179.0, 181.0, 188.0, 175.0, 209.0, 190.0, 194.0, 162.0, 159.0, 163.0, 184.0, 170.0, 189.0, 165.0, 131.0, 130.0, 155.0, 170.0, 173.0, 174.0, 167.0, 171.0, 174.0, 151.0, 159.0, 144.0, 141.0, 158.0, 144.0, 154.0, 170.0, 147.0, 161.0, 154.0, 165.0, 155.0, 158.0, 178.0, 170.0, 175.0, 152.0, 192.0, 154.0, 164.0, 148.0, 160.0, 159.0, 147.0, 149.0, 157.0, 150.0, 167.0, 169.0, 169.0, 139.0, 164.0, 174.0, 164.0, 165.0, 174.0, 165.0, 155.0, 164.0, 176.0, 160.0, 145.0, 164.0, 165.0, 182.0, 162.0, 156.0, 143.0, 170.0, 153.0, 139.0, 138.0, 138.0, 153.0, 175.0, 152.0, 151.0, 164.0, 172.0, 175.0, 166.0, 157.0, 188.0, 155.0, 162.0, 159.0, 171.0, 175.0, 165.0, 151.0, 169.0, 164.0, 155.0, 136.0, 146.0, 144.0, 153.0, 179.0, 163.0, 142.0, 179.0, 161.0, 140.0]}],\n",
              "                        {\"autosize\": false, \"height\": 400, \"margin\": {\"b\": 10, \"l\": 5, \"pad\": 4, \"r\": 5, \"t\": 10}, \"paper_bgcolor\": \"LightSteelBlue\", \"template\": {\"data\": {\"bar\": [{\"error_x\": {\"color\": \"#2a3f5f\"}, \"error_y\": {\"color\": \"#2a3f5f\"}, \"marker\": {\"line\": {\"color\": \"#E5ECF6\", \"width\": 0.5}}, \"type\": \"bar\"}], \"barpolar\": [{\"marker\": {\"line\": {\"color\": \"#E5ECF6\", \"width\": 0.5}}, \"type\": \"barpolar\"}], \"carpet\": [{\"aaxis\": {\"endlinecolor\": \"#2a3f5f\", \"gridcolor\": \"white\", \"linecolor\": \"white\", \"minorgridcolor\": \"white\", \"startlinecolor\": \"#2a3f5f\"}, \"baxis\": {\"endlinecolor\": \"#2a3f5f\", \"gridcolor\": \"white\", \"linecolor\": \"white\", \"minorgridcolor\": \"white\", \"startlinecolor\": \"#2a3f5f\"}, \"type\": \"carpet\"}], \"choropleth\": [{\"colorbar\": {\"outlinewidth\": 0, \"ticks\": \"\"}, \"type\": \"choropleth\"}], \"contour\": [{\"colorbar\": {\"outlinewidth\": 0, \"ticks\": \"\"}, \"colorscale\": [[0.0, \"#0d0887\"], [0.1111111111111111, \"#46039f\"], [0.2222222222222222, \"#7201a8\"], [0.3333333333333333, \"#9c179e\"], [0.4444444444444444, \"#bd3786\"], [0.5555555555555556, \"#d8576b\"], [0.6666666666666666, \"#ed7953\"], [0.7777777777777778, \"#fb9f3a\"], [0.8888888888888888, \"#fdca26\"], [1.0, \"#f0f921\"]], \"type\": \"contour\"}], \"contourcarpet\": [{\"colorbar\": {\"outlinewidth\": 0, \"ticks\": \"\"}, \"type\": \"contourcarpet\"}], \"heatmap\": [{\"colorbar\": {\"outlinewidth\": 0, \"ticks\": \"\"}, \"colorscale\": [[0.0, \"#0d0887\"], [0.1111111111111111, \"#46039f\"], [0.2222222222222222, \"#7201a8\"], [0.3333333333333333, \"#9c179e\"], [0.4444444444444444, \"#bd3786\"], [0.5555555555555556, \"#d8576b\"], [0.6666666666666666, \"#ed7953\"], [0.7777777777777778, \"#fb9f3a\"], [0.8888888888888888, \"#fdca26\"], [1.0, \"#f0f921\"]], \"type\": \"heatmap\"}], \"heatmapgl\": [{\"colorbar\": {\"outlinewidth\": 0, \"ticks\": \"\"}, \"colorscale\": [[0.0, \"#0d0887\"], [0.1111111111111111, \"#46039f\"], [0.2222222222222222, \"#7201a8\"], [0.3333333333333333, \"#9c179e\"], [0.4444444444444444, \"#bd3786\"], [0.5555555555555556, \"#d8576b\"], [0.6666666666666666, \"#ed7953\"], [0.7777777777777778, \"#fb9f3a\"], [0.8888888888888888, \"#fdca26\"], [1.0, \"#f0f921\"]], \"type\": \"heatmapgl\"}], \"histogram\": [{\"marker\": {\"colorbar\": {\"outlinewidth\": 0, \"ticks\": \"\"}}, \"type\": \"histogram\"}], \"histogram2d\": [{\"colorbar\": {\"outlinewidth\": 0, \"ticks\": \"\"}, \"colorscale\": [[0.0, \"#0d0887\"], [0.1111111111111111, \"#46039f\"], [0.2222222222222222, \"#7201a8\"], [0.3333333333333333, \"#9c179e\"], [0.4444444444444444, \"#bd3786\"], [0.5555555555555556, \"#d8576b\"], [0.6666666666666666, \"#ed7953\"], [0.7777777777777778, \"#fb9f3a\"], [0.8888888888888888, \"#fdca26\"], [1.0, \"#f0f921\"]], \"type\": \"histogram2d\"}], \"histogram2dcontour\": [{\"colorbar\": {\"outlinewidth\": 0, \"ticks\": \"\"}, \"colorscale\": [[0.0, \"#0d0887\"], [0.1111111111111111, \"#46039f\"], [0.2222222222222222, \"#7201a8\"], [0.3333333333333333, \"#9c179e\"], [0.4444444444444444, \"#bd3786\"], [0.5555555555555556, \"#d8576b\"], [0.6666666666666666, \"#ed7953\"], [0.7777777777777778, \"#fb9f3a\"], [0.8888888888888888, \"#fdca26\"], [1.0, \"#f0f921\"]], \"type\": \"histogram2dcontour\"}], \"mesh3d\": [{\"colorbar\": {\"outlinewidth\": 0, \"ticks\": \"\"}, \"type\": \"mesh3d\"}], \"parcoords\": [{\"line\": {\"colorbar\": {\"outlinewidth\": 0, \"ticks\": \"\"}}, \"type\": \"parcoords\"}], \"pie\": [{\"automargin\": true, \"type\": \"pie\"}], \"scatter\": [{\"marker\": {\"colorbar\": {\"outlinewidth\": 0, \"ticks\": \"\"}}, \"type\": \"scatter\"}], \"scatter3d\": [{\"line\": {\"colorbar\": {\"outlinewidth\": 0, \"ticks\": \"\"}}, \"marker\": {\"colorbar\": {\"outlinewidth\": 0, \"ticks\": \"\"}}, \"type\": \"scatter3d\"}], \"scattercarpet\": [{\"marker\": {\"colorbar\": {\"outlinewidth\": 0, \"ticks\": \"\"}}, \"type\": \"scattercarpet\"}], \"scattergeo\": [{\"marker\": {\"colorbar\": {\"outlinewidth\": 0, \"ticks\": \"\"}}, \"type\": \"scattergeo\"}], \"scattergl\": [{\"marker\": {\"colorbar\": {\"outlinewidth\": 0, \"ticks\": \"\"}}, \"type\": \"scattergl\"}], \"scattermapbox\": [{\"marker\": {\"colorbar\": {\"outlinewidth\": 0, \"ticks\": \"\"}}, \"type\": \"scattermapbox\"}], \"scatterpolar\": [{\"marker\": {\"colorbar\": {\"outlinewidth\": 0, \"ticks\": \"\"}}, \"type\": \"scatterpolar\"}], \"scatterpolargl\": [{\"marker\": {\"colorbar\": {\"outlinewidth\": 0, \"ticks\": \"\"}}, \"type\": \"scatterpolargl\"}], \"scatterternary\": [{\"marker\": {\"colorbar\": {\"outlinewidth\": 0, \"ticks\": \"\"}}, \"type\": \"scatterternary\"}], \"surface\": [{\"colorbar\": {\"outlinewidth\": 0, \"ticks\": \"\"}, \"colorscale\": [[0.0, \"#0d0887\"], [0.1111111111111111, \"#46039f\"], [0.2222222222222222, \"#7201a8\"], [0.3333333333333333, \"#9c179e\"], [0.4444444444444444, \"#bd3786\"], [0.5555555555555556, \"#d8576b\"], [0.6666666666666666, \"#ed7953\"], [0.7777777777777778, \"#fb9f3a\"], [0.8888888888888888, \"#fdca26\"], [1.0, \"#f0f921\"]], \"type\": \"surface\"}], \"table\": [{\"cells\": {\"fill\": {\"color\": \"#EBF0F8\"}, \"line\": {\"color\": \"white\"}}, \"header\": {\"fill\": {\"color\": \"#C8D4E3\"}, \"line\": {\"color\": \"white\"}}, \"type\": \"table\"}]}, \"layout\": {\"annotationdefaults\": {\"arrowcolor\": \"#2a3f5f\", \"arrowhead\": 0, \"arrowwidth\": 1}, \"coloraxis\": {\"colorbar\": {\"outlinewidth\": 0, \"ticks\": \"\"}}, \"colorscale\": {\"diverging\": [[0, \"#8e0152\"], [0.1, \"#c51b7d\"], [0.2, \"#de77ae\"], [0.3, \"#f1b6da\"], [0.4, \"#fde0ef\"], [0.5, \"#f7f7f7\"], [0.6, \"#e6f5d0\"], [0.7, \"#b8e186\"], [0.8, \"#7fbc41\"], [0.9, \"#4d9221\"], [1, \"#276419\"]], \"sequential\": [[0.0, \"#0d0887\"], [0.1111111111111111, \"#46039f\"], [0.2222222222222222, \"#7201a8\"], [0.3333333333333333, \"#9c179e\"], [0.4444444444444444, \"#bd3786\"], [0.5555555555555556, \"#d8576b\"], [0.6666666666666666, \"#ed7953\"], [0.7777777777777778, \"#fb9f3a\"], [0.8888888888888888, \"#fdca26\"], [1.0, \"#f0f921\"]], \"sequentialminus\": [[0.0, \"#0d0887\"], [0.1111111111111111, \"#46039f\"], [0.2222222222222222, \"#7201a8\"], [0.3333333333333333, \"#9c179e\"], [0.4444444444444444, \"#bd3786\"], [0.5555555555555556, \"#d8576b\"], [0.6666666666666666, \"#ed7953\"], [0.7777777777777778, \"#fb9f3a\"], [0.8888888888888888, \"#fdca26\"], [1.0, \"#f0f921\"]]}, \"colorway\": [\"#636efa\", \"#EF553B\", \"#00cc96\", \"#ab63fa\", \"#FFA15A\", \"#19d3f3\", \"#FF6692\", \"#B6E880\", \"#FF97FF\", \"#FECB52\"], \"font\": {\"color\": \"#2a3f5f\"}, \"geo\": {\"bgcolor\": \"white\", \"lakecolor\": \"white\", \"landcolor\": \"#E5ECF6\", \"showlakes\": true, \"showland\": true, \"subunitcolor\": \"white\"}, \"hoverlabel\": {\"align\": \"left\"}, \"hovermode\": \"closest\", \"mapbox\": {\"style\": \"light\"}, \"paper_bgcolor\": \"white\", \"plot_bgcolor\": \"#E5ECF6\", \"polar\": {\"angularaxis\": {\"gridcolor\": \"white\", \"linecolor\": \"white\", \"ticks\": \"\"}, \"bgcolor\": \"#E5ECF6\", \"radialaxis\": {\"gridcolor\": \"white\", \"linecolor\": \"white\", \"ticks\": \"\"}}, \"scene\": {\"xaxis\": {\"backgroundcolor\": \"#E5ECF6\", \"gridcolor\": \"white\", \"gridwidth\": 2, \"linecolor\": \"white\", \"showbackground\": true, \"ticks\": \"\", \"zerolinecolor\": \"white\"}, \"yaxis\": {\"backgroundcolor\": \"#E5ECF6\", \"gridcolor\": \"white\", \"gridwidth\": 2, \"linecolor\": \"white\", \"showbackground\": true, \"ticks\": \"\", \"zerolinecolor\": \"white\"}, \"zaxis\": {\"backgroundcolor\": \"#E5ECF6\", \"gridcolor\": \"white\", \"gridwidth\": 2, \"linecolor\": \"white\", \"showbackground\": true, \"ticks\": \"\", \"zerolinecolor\": \"white\"}}, \"shapedefaults\": {\"line\": {\"color\": \"#2a3f5f\"}}, \"ternary\": {\"aaxis\": {\"gridcolor\": \"white\", \"linecolor\": \"white\", \"ticks\": \"\"}, \"baxis\": {\"gridcolor\": \"white\", \"linecolor\": \"white\", \"ticks\": \"\"}, \"bgcolor\": \"#E5ECF6\", \"caxis\": {\"gridcolor\": \"white\", \"linecolor\": \"white\", \"ticks\": \"\"}}, \"title\": {\"x\": 0.05}, \"xaxis\": {\"automargin\": true, \"gridcolor\": \"white\", \"linecolor\": \"white\", \"ticks\": \"\", \"title\": {\"standoff\": 15}, \"zerolinecolor\": \"white\", \"zerolinewidth\": 2}, \"yaxis\": {\"automargin\": true, \"gridcolor\": \"white\", \"linecolor\": \"white\", \"ticks\": \"\", \"title\": {\"standoff\": 15}, \"zerolinecolor\": \"white\", \"zerolinewidth\": 2}}}, \"width\": 400},\n",
              "                        {\"responsive\": true}\n",
              "                    ).then(function(){\n",
              "                            \n",
              "var gd = document.getElementById('d481c5f5-d853-47d0-9696-55007b7ca5bc');\n",
              "var x = new MutationObserver(function (mutations, observer) {{\n",
              "        var display = window.getComputedStyle(gd).display;\n",
              "        if (!display || display === 'none') {{\n",
              "            console.log([gd, 'removed!']);\n",
              "            Plotly.purge(gd);\n",
              "            observer.disconnect();\n",
              "        }}\n",
              "}});\n",
              "\n",
              "// Listen for the removal of the full notebook cells\n",
              "var notebookContainer = gd.closest('#notebook-container');\n",
              "if (notebookContainer) {{\n",
              "    x.observe(notebookContainer, {childList: true});\n",
              "}}\n",
              "\n",
              "// Listen for the clearing of the current output cell\n",
              "var outputEl = gd.closest('.output');\n",
              "if (outputEl) {{\n",
              "    x.observe(outputEl, {childList: true});\n",
              "}}\n",
              "\n",
              "                        })\n",
              "                };\n",
              "                \n",
              "            </script>\n",
              "        </div>\n",
              "</body>\n",
              "</html>"
            ]
          },
          "metadata": {}
        }
      ]
    },
    {
      "cell_type": "code",
      "metadata": {
        "colab": {
          "base_uri": "https://localhost:8080/"
        },
        "id": "DXQcR6IjCD2p",
        "outputId": "f4597924-daeb-4a81-9d57-6d7cdf93a969"
      },
      "source": [
        "list(most_probable_rates)[0]"
      ],
      "execution_count": 375,
      "outputs": [
        {
          "output_type": "execute_result",
          "data": {
            "text/plain": [
              "<tf.Tensor: shape=(), dtype=float32, numpy=5794.9795>"
            ]
          },
          "metadata": {},
          "execution_count": 375
        }
      ]
    },
    {
      "cell_type": "code",
      "metadata": {
        "colab": {
          "base_uri": "https://localhost:8080/"
        },
        "id": "09-0gfn5Haq3",
        "outputId": "9746080e-3fbd-4007-ced0-1d7c50ec1ada"
      },
      "source": [
        "# lst  = sorted(list(set(np.array(most_probable_rates))), reverse=True)\n",
        "diff = [abs(lst[x] - lst[x-1]) for x in range(1, len(lst))]\n",
        "ind = diff.index(max(diff))\n",
        "lst[ind - 2] / 10000 "
      ],
      "execution_count": 436,
      "outputs": [
        {
          "output_type": "execute_result",
          "data": {
            "text/plain": [
              "0.508915625"
            ]
          },
          "metadata": {},
          "execution_count": 436
        }
      ]
    },
    {
      "cell_type": "code",
      "metadata": {
        "colab": {
          "base_uri": "https://localhost:8080/"
        },
        "id": "MHw_pTD_NlE6",
        "outputId": "1d22a5f9-9adc-4655-e566-b889f0827108"
      },
      "source": [
        "lst[3] / 10000 "
      ],
      "execution_count": 435,
      "outputs": [
        {
          "output_type": "execute_result",
          "data": {
            "text/plain": [
              "0.444879150390625"
            ]
          },
          "metadata": {},
          "execution_count": 435
        }
      ]
    },
    {
      "cell_type": "code",
      "metadata": {
        "colab": {
          "base_uri": "https://localhost:8080/"
        },
        "id": "nZiO6fc3PHjG",
        "outputId": "7749ae20-2802-43eb-ab86-a3fe523382de"
      },
      "source": [
        "w2v_cosim_result"
      ],
      "execution_count": 434,
      "outputs": [
        {
          "output_type": "execute_result",
          "data": {
            "text/plain": [
              "[0.5787822382978544,\n",
              " 0.5463245009565193,\n",
              " 0.5074553954903751,\n",
              " 0.510491237470416,\n",
              " 0.5074553954903751,\n",
              " 0.443942551877716,\n",
              " 0.4179114993249615,\n",
              " 0.1774571450833579,\n",
              " 0.17566909063070957,\n",
              " 0.17660190111551874,\n",
              " 0.1637164990847015,\n",
              " 0.1637164990847015,\n",
              " 0.1637164990847015,\n",
              " 0.1648893458393392,\n",
              " 0.15655384582171417,\n",
              " 0.1548746754855024,\n",
              " 0.15655384582171417,\n",
              " 0.1548746754855024,\n",
              " 0.1548746754855024,\n",
              " 0.11525962578826561,\n",
              " 0.11569347875693246,\n",
              " 0.07908524909018887,\n",
              " 0.07436990968422375,\n",
              " 0.07195787755632109,\n",
              " 0.04433618763928671,\n",
              " 0.03648757261761064,\n",
              " 0.03648757261761064,\n",
              " 0.0333173361943994,\n",
              " 0.030586196293187977,\n",
              " 0.01846136740838555,\n",
              " 0.015932879563309382]"
            ]
          },
          "metadata": {},
          "execution_count": 434
        }
      ]
    },
    {
      "cell_type": "code",
      "metadata": {
        "id": "Kh26BhkbPi4s"
      },
      "source": [
        ""
      ],
      "execution_count": null,
      "outputs": []
    }
  ]
}