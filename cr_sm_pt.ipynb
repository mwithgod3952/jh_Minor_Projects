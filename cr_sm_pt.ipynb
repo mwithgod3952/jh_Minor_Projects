{
 "cells": [
  {
   "cell_type": "code",
   "execution_count": 4,
   "id": "11ef1d90-ae78-4364-9a93-caabd7c5ca8e",
   "metadata": {},
   "outputs": [
    {
     "name": "stdout",
     "output_type": "stream",
     "text": [
      "Collecting fake-useragent\n",
      "  Downloading fake-useragent-0.1.11.tar.gz (13 kB)\n",
      "Building wheels for collected packages: fake-useragent\n",
      "  Building wheel for fake-useragent (setup.py): started\n",
      "  Building wheel for fake-useragent (setup.py): finished with status 'done'\n",
      "  Created wheel for fake-useragent: filename=fake_useragent-0.1.11-py3-none-any.whl size=13486 sha256=494723f51f1c89984abd6a453dd0e250ded3ebbca1a41da49148c412eabe025a\n",
      "  Stored in directory: c:\\users\\mwith\\appdata\\local\\pip\\cache\\wheels\\a0\\b8\\b7\\8c942b2c5be5158b874a88195116b05ad124bac795f6665e65\n",
      "Successfully built fake-useragent\n",
      "Installing collected packages: fake-useragent\n",
      "Successfully installed fake-useragent-0.1.11\n"
     ]
    }
   ],
   "source": [
    "!pip install fake-useragent"
   ]
  },
  {
   "cell_type": "code",
   "execution_count": 5,
   "id": "680587b0-c48f-4658-a7fa-8e60c207d394",
   "metadata": {
    "tags": []
   },
   "outputs": [],
   "source": [
    "import pandas as pd\n",
    "import numpy as np\n",
    "import re\n",
    "import time\n",
    "\n",
    "# Scrapping\n",
    "import selenium\n",
    "from selenium import webdriver\n",
    "from selenium.webdriver.common.keys import Keys\n",
    "from selenium.webdriver.support import expected_conditions as EC\n",
    "from webdriver_manager.chrome import ChromeDriverManager\n",
    "from selenium.webdriver.common.by import By\n",
    "from selenium.webdriver.chrome.options import Options\n",
    "from fake_useragent import UserAgent\n",
    "\n",
    "# Error Handling\n",
    "import socket\n",
    "import urllib.request\n",
    "from urllib.request import urlopen\n",
    "from urllib.parse import quote_plus\n",
    "from urllib.request import urlretrieve\n",
    "from urllib.error import HTTPError, URLError\n",
    "from selenium.common.exceptions import ElementClickInterceptedException, NoSuchElementException, ElementNotInteractableException\n",
    "\n",
    "# CK Image size\n",
    "from PIL import Image\n",
    "\n",
    "import warnings\n",
    "warnings.filterwarnings(\"ignore\")"
   ]
  },
  {
   "cell_type": "code",
   "execution_count": 6,
   "id": "385f0c62-7814-48a3-8f45-3b1793eeb209",
   "metadata": {},
   "outputs": [
    {
     "name": "stdout",
     "output_type": "stream",
     "text": [
      "Current working directory :  C:\\work\\cr_sm\n"
     ]
    }
   ],
   "source": [
    "import os\n",
    "\n",
    "print(\"Current working directory : \", os.getcwd())"
   ]
  },
  {
   "cell_type": "code",
   "execution_count": 7,
   "id": "d7cfcb68-4feb-4f24-a6d1-f9be64cebd9f",
   "metadata": {},
   "outputs": [],
   "source": [
    "df = pd.read_csv(\"final_product_info.csv\")"
   ]
  },
  {
   "cell_type": "markdown",
   "id": "d40ccb7a-5d86-43e2-9134-9a1e6e90a824",
   "metadata": {},
   "source": [
    "# ***Combination of brand name and product name***"
   ]
  },
  {
   "cell_type": "code",
   "execution_count": 8,
   "id": "bc77fc93-9241-469f-afc5-c304e8897430",
   "metadata": {},
   "outputs": [],
   "source": [
    "brand = list(df.loc[:,\"브랜드\"])\n",
    "brand_1 = []\n",
    "for x in brand:\n",
    "    x = str(x)\n",
    "    x=x.replace('nan', '없음')\n",
    "    brand_1.append(x)\n",
    "\n",
    "lst = []\n",
    "\n",
    "for string in brand_1: \n",
    "    if \"(\" in string:\n",
    "        a = string.index(\"(\")\n",
    "        b = string.index(\")\")\n",
    "    \n",
    "        lst.append(string[0:a] + string[b+1:len(string)])\n",
    "    else:\n",
    "        lst.append(string)"
   ]
  },
  {
   "cell_type": "code",
   "execution_count": 9,
   "id": "a3488464-ed17-40c1-b14c-1c7b6ae10ca1",
   "metadata": {},
   "outputs": [],
   "source": [
    "brand_pl_stuffs = []\n",
    "for i in range(32465):\n",
    "    if str(df['모델명'][i]) != 'nan':\n",
    "        brand_pl_stuff = str(lst[i]) + \" \" + str(df['모델명'][i])\n",
    "    else:\n",
    "        brand_pl_stuff = str(lst[i]) + \"\" + str(df['모델명'][i])\n",
    "    \n",
    "    brand_pl_stuff = re.sub('[-=+,#/\\?:^$.@*\\\"※~&%ㆍ!』\\\\‘|\\(\\)\\[\\]\\<\\>`\\'…》]', '', brand_pl_stuff)\n",
    "    \n",
    "    if 'nan' in brand_pl_stuff:\n",
    "        brand_pl_stuff = str(brand_pl_stuff).replace(\"nan\", '')\n",
    "    brand_pl_stuffs.append(brand_pl_stuff)"
   ]
  },
  {
   "cell_type": "code",
   "execution_count": 10,
   "id": "f418ec8d-71ef-424d-81e6-32aa572c22c2",
   "metadata": {},
   "outputs": [],
   "source": [
    "rt = []\n",
    "for x in brand_pl_stuffs:\n",
    "    st_sv = []\n",
    "    if \" \" in x:\n",
    "        for i in range(1, len(x.split(\" \"))):\n",
    "            st_sv.append([x.split(\" \")[0] + \" \" + x.split(\" \")[i]])\n",
    "    else:\n",
    "        st_sv.append(x)\n",
    "\n",
    "    rt.append(st_sv)"
   ]
  },
  {
   "cell_type": "code",
   "execution_count": 11,
   "id": "676a06ad-378a-49e1-b49d-4bdb5ed392ae",
   "metadata": {},
   "outputs": [
    {
     "name": "stdout",
     "output_type": "stream",
     "text": [
      "[[['아던샵 속눈썹펌']], [['메디헤어 HGN2V']], [['라피타 JOC9000']], ['헤라'], ['아이오페'], ['와이츄'], [['이오시카 SIPL1000']], ['설화수'], [['유라이크 UI04M']], [['잇템샵 패디큐어']]]\n"
     ]
    }
   ],
   "source": [
    "print(rt[:10])"
   ]
  },
  {
   "cell_type": "markdown",
   "id": "22de840c-52a2-4217-a1b8-f180c91e1a0a",
   "metadata": {},
   "source": [
    "---"
   ]
  },
  {
   "cell_type": "markdown",
   "id": "84270e63-963c-4346-bffe-5d4a54d3c0b2",
   "metadata": {},
   "source": [
    "# ***Combination of brand name and product features***"
   ]
  },
  {
   "cell_type": "code",
   "execution_count": 12,
   "id": "384d4e16-f731-42fb-92f1-2e09a809da3d",
   "metadata": {},
   "outputs": [],
   "source": [
    "title = list(df['title'])"
   ]
  },
  {
   "cell_type": "code",
   "execution_count": 13,
   "id": "bed1e935-5e59-4395-8e5f-ed791cf3609e",
   "metadata": {
    "tags": []
   },
   "outputs": [],
   "source": [
    "title_1 = []\n",
    "for i in range(len(df)):\n",
    "    l = []\n",
    "    \n",
    "    se = title[i]\n",
    "    se = re.sub('[-=+,#/\\?:^$.@*Ⅲ🔥💛|\\\"※~&%ㆍ!』\\\\‘|\\(\\)\\[\\]\\<\\>`\\'…》]', '', se)\n",
    "    \n",
    "    if any(lst[i] in s for s in se.split()):\n",
    "        terminal = re.sub(lst[i],\"\", se).split(\" \")        \n",
    "        for vocab in terminal:\n",
    "            if vocab != '':\n",
    "                l.append(vocab)\n",
    "        title_1.append(l)\n",
    "    else:\n",
    "        title_1.append(se.split())\n",
    "        \n",
    "\n",
    "result_f = []\n",
    "for j in range(len(df)):\n",
    "    result_f.append(list(set(title_1[j])))"
   ]
  },
  {
   "cell_type": "code",
   "execution_count": 14,
   "id": "4066e9c3-a902-4e7d-b7bf-5e93f4d234d8",
   "metadata": {},
   "outputs": [],
   "source": [
    "rt_1 = []\n",
    "\n",
    "for i in range(len(df)):\n",
    "    \n",
    "    bd = lst[i]\n",
    "    terminal = []\n",
    "    \n",
    "    if bd != \"없음\":\n",
    "        for pf in result_f[i]:\n",
    "            terminal.append([bd + \" \" + pf])\n",
    "                \n",
    "    else:\n",
    "        for nf in range(1, len(result_f[i])):\n",
    "            terminal.append(result_f[i][0] + \" \" + result_f[i][nf])\n",
    "            \n",
    "    rt_1.append(terminal)"
   ]
  },
  {
   "cell_type": "code",
   "execution_count": 15,
   "id": "d616ac2a-d21e-4fcd-ba3a-2db27d455d54",
   "metadata": {},
   "outputs": [
    {
     "name": "stdout",
     "output_type": "stream",
     "text": [
      "[[['아던샵 셀프'], ['아던샵 세트'], ['아던샵 파마'], ['아던샵 키트'], ['아던샵 속눈썹펌']], [['메디헤어 프라엘'], ['메디헤어 치료기'], ['메디헤어 1개'], ['메디헤어 LG'], ['메디헤어 안드로겐성탈모'], ['메디헤어 HGN2V']]]\n"
     ]
    }
   ],
   "source": [
    "print(rt_1[:2])"
   ]
  },
  {
   "cell_type": "code",
   "execution_count": 16,
   "id": "912ea3e8-497f-404d-af2e-744771636c87",
   "metadata": {},
   "outputs": [
    {
     "data": {
      "text/html": [
       "<div>\n",
       "<style scoped>\n",
       "    .dataframe tbody tr th:only-of-type {\n",
       "        vertical-align: middle;\n",
       "    }\n",
       "\n",
       "    .dataframe tbody tr th {\n",
       "        vertical-align: top;\n",
       "    }\n",
       "\n",
       "    .dataframe thead th {\n",
       "        text-align: right;\n",
       "    }\n",
       "</style>\n",
       "<table border=\"1\" class=\"dataframe\">\n",
       "  <thead>\n",
       "    <tr style=\"text-align: right;\">\n",
       "      <th></th>\n",
       "      <th>rt</th>\n",
       "      <th>rt_1</th>\n",
       "    </tr>\n",
       "  </thead>\n",
       "  <tbody>\n",
       "    <tr>\n",
       "      <th>32455</th>\n",
       "      <td>[드로잉에그]</td>\n",
       "      <td>[[드로잉에그 스톤], [드로잉에그 1EA], [드로잉에그 라운드], [드로잉에그 ...</td>\n",
       "    </tr>\n",
       "    <tr>\n",
       "      <th>32456</th>\n",
       "      <td>[[베네자임 베네자임], [베네자임 블루밍], [베네자임 카밍], [베네자임 샴푸]...</td>\n",
       "      <td>[[베네자임 리커버리], [베네자임 헤어], [베네자임 카밍], [베네자임 밤], ...</td>\n",
       "    </tr>\n",
       "    <tr>\n",
       "      <th>32457</th>\n",
       "      <td>[드로잉에그]</td>\n",
       "      <td>[[드로잉에그 1EA], [드로잉에그 파츠], [드로잉에그 1X1cm], [드로잉에...</td>\n",
       "    </tr>\n",
       "    <tr>\n",
       "      <th>32458</th>\n",
       "      <td>[드로잉에그]</td>\n",
       "      <td>[[드로잉에그 09X14cm], [드로잉에그 1EA], [드로잉에그 파츠], [드로...</td>\n",
       "    </tr>\n",
       "    <tr>\n",
       "      <th>32459</th>\n",
       "      <td>[[베네자임 베네자임], [베네자임 블루밍], [베네자임 카밍], [베네자임 샴푸]...</td>\n",
       "      <td>[[베네자임 트리트먼트], [베네자임 카밍], [베네자임 500ml], [베네자임 ...</td>\n",
       "    </tr>\n",
       "    <tr>\n",
       "      <th>32460</th>\n",
       "      <td>[[WDRESSROOM 바디미스트], [WDRESSROOM 스윗블룸], [WDRES...</td>\n",
       "      <td>[[W.DRESSROOM 100ml], [W.DRESSROOM 바디미스트], [W....</td>\n",
       "    </tr>\n",
       "    <tr>\n",
       "      <th>32461</th>\n",
       "      <td>[[스칼프메드 레드캡슐바이옴]]</td>\n",
       "      <td>[[스칼프메드 탈모케어], [스칼프메드 400mlx2], [스칼프메드 100ml],...</td>\n",
       "    </tr>\n",
       "    <tr>\n",
       "      <th>32462</th>\n",
       "      <td>[[더레드립 더레드립], [더레드립 ], [더레드립 괄사기]]</td>\n",
       "      <td>[[더레드립 얼굴], [더레드립 괄사기], [더레드립 2개], [더레드립 경락], ...</td>\n",
       "    </tr>\n",
       "    <tr>\n",
       "      <th>32463</th>\n",
       "      <td>[[스킨구하리 에이티엘], [스킨구하리 릴리프], [스킨구하리 로션], [스킨구하리...</td>\n",
       "      <td>[[스킨구하리 로션], [스킨구하리 200ml], [스킨구하리 ATL], [스킨구하...</td>\n",
       "    </tr>\n",
       "    <tr>\n",
       "      <th>32464</th>\n",
       "      <td>[[스칼프메드 레드캡슐바이옴]]</td>\n",
       "      <td>[[스칼프메드 트리트먼트], [스칼프메드 400mlx2], [스칼프메드 400ml]...</td>\n",
       "    </tr>\n",
       "  </tbody>\n",
       "</table>\n",
       "</div>"
      ],
      "text/plain": [
       "                                                      rt  \\\n",
       "32455                                            [드로잉에그]   \n",
       "32456  [[베네자임 베네자임], [베네자임 블루밍], [베네자임 카밍], [베네자임 샴푸]...   \n",
       "32457                                            [드로잉에그]   \n",
       "32458                                            [드로잉에그]   \n",
       "32459  [[베네자임 베네자임], [베네자임 블루밍], [베네자임 카밍], [베네자임 샴푸]...   \n",
       "32460  [[WDRESSROOM 바디미스트], [WDRESSROOM 스윗블룸], [WDRES...   \n",
       "32461                                  [[스칼프메드 레드캡슐바이옴]]   \n",
       "32462                 [[더레드립 더레드립], [더레드립 ], [더레드립 괄사기]]   \n",
       "32463  [[스킨구하리 에이티엘], [스킨구하리 릴리프], [스킨구하리 로션], [스킨구하리...   \n",
       "32464                                  [[스칼프메드 레드캡슐바이옴]]   \n",
       "\n",
       "                                                    rt_1  \n",
       "32455  [[드로잉에그 스톤], [드로잉에그 1EA], [드로잉에그 라운드], [드로잉에그 ...  \n",
       "32456  [[베네자임 리커버리], [베네자임 헤어], [베네자임 카밍], [베네자임 밤], ...  \n",
       "32457  [[드로잉에그 1EA], [드로잉에그 파츠], [드로잉에그 1X1cm], [드로잉에...  \n",
       "32458  [[드로잉에그 09X14cm], [드로잉에그 1EA], [드로잉에그 파츠], [드로...  \n",
       "32459  [[베네자임 트리트먼트], [베네자임 카밍], [베네자임 500ml], [베네자임 ...  \n",
       "32460  [[W.DRESSROOM 100ml], [W.DRESSROOM 바디미스트], [W....  \n",
       "32461  [[스칼프메드 탈모케어], [스칼프메드 400mlx2], [스칼프메드 100ml],...  \n",
       "32462  [[더레드립 얼굴], [더레드립 괄사기], [더레드립 2개], [더레드립 경락], ...  \n",
       "32463  [[스킨구하리 로션], [스킨구하리 200ml], [스킨구하리 ATL], [스킨구하...  \n",
       "32464  [[스칼프메드 트리트먼트], [스칼프메드 400mlx2], [스칼프메드 400ml]...  "
      ]
     },
     "execution_count": 16,
     "metadata": {},
     "output_type": "execute_result"
    }
   ],
   "source": [
    "search_words_df = pd.DataFrame()\n",
    "search_words_df['rt'] = rt\n",
    "search_words_df['rt_1'] = rt_1\n",
    "search_words_df.tail(10)"
   ]
  },
  {
   "cell_type": "code",
   "execution_count": 17,
   "id": "4433033e-3bd0-43f5-97e6-997f71e5239f",
   "metadata": {},
   "outputs": [],
   "source": [
    "sc_wd_final_lst = []\n",
    "\n",
    "for i in range(len(search_words_df)):\n",
    "    \n",
    "    sv_phr = []\n",
    "    lst = sum([search_words_df.iloc[i,0], search_words_df.iloc[i,1]], [])\n",
    "    \n",
    "    for phr in lst:\n",
    "        '''\n",
    "        phr: phrase\n",
    "        '''\n",
    "\n",
    "        if type(phr) == list:\n",
    "            phr = phr[0]\n",
    "            if type(phr) == list:\n",
    "                phr = phr[0]\n",
    "        sv_phr.append(phr)\n",
    "    \n",
    "    sc_wd_final_lst.append(sv_phr)"
   ]
  },
  {
   "cell_type": "code",
   "execution_count": 18,
   "id": "7f8d9db6-f197-4265-8448-9f7fb5c81a4c",
   "metadata": {},
   "outputs": [
    {
     "data": {
      "text/html": [
       "<div>\n",
       "<style scoped>\n",
       "    .dataframe tbody tr th:only-of-type {\n",
       "        vertical-align: middle;\n",
       "    }\n",
       "\n",
       "    .dataframe tbody tr th {\n",
       "        vertical-align: top;\n",
       "    }\n",
       "\n",
       "    .dataframe thead th {\n",
       "        text-align: right;\n",
       "    }\n",
       "</style>\n",
       "<table border=\"1\" class=\"dataframe\">\n",
       "  <thead>\n",
       "    <tr style=\"text-align: right;\">\n",
       "      <th></th>\n",
       "      <th>original_title</th>\n",
       "      <th>search_words</th>\n",
       "    </tr>\n",
       "  </thead>\n",
       "  <tbody>\n",
       "    <tr>\n",
       "      <th>32455</th>\n",
       "      <td>드로잉에그 네일파츠 1EA 라운드 꼬임 스톤 0.8X1.1cm 라운드커브</td>\n",
       "      <td>[드로잉에그 꼬임, 드로잉에그 스톤, 드로잉에그, 드로잉에그 08X11cm, 드로잉...</td>\n",
       "    </tr>\n",
       "    <tr>\n",
       "      <th>32456</th>\n",
       "      <td>베네자임 블루밍 카밍 샴푸 500ml + 리커버리 헤어 밤 150ml</td>\n",
       "      <td>[베네자임 베네자임, 베네자임 리커버리, 베네자임 카밍, 베네자임 150ml, 베네...</td>\n",
       "    </tr>\n",
       "    <tr>\n",
       "      <th>32457</th>\n",
       "      <td>드로잉에그 네일 파츠 1EA 드롭 브로치 골드 1X1cm 라운드커브</td>\n",
       "      <td>[드로잉에그 네일, 드로잉에그, 드로잉에그 1X1cm, 드로잉에그 드롭, 드로잉에그...</td>\n",
       "    </tr>\n",
       "    <tr>\n",
       "      <th>32458</th>\n",
       "      <td>드로잉에그 네일 파츠 1EA 드롭 브로치 골드 0.9X1.4cm 라운드커브</td>\n",
       "      <td>[드로잉에그 네일, 드로잉에그 09X14cm, 드로잉에그, 드로잉에그 드롭, 드로잉...</td>\n",
       "    </tr>\n",
       "    <tr>\n",
       "      <th>32459</th>\n",
       "      <td>베네자임 블루밍 카밍 샴푸 500ml + 카밍 트리트먼트 500ml</td>\n",
       "      <td>[베네자임 베네자임, 베네자임 트리트먼트, 베네자임 카밍, 베네자임 , 베네자임 5...</td>\n",
       "    </tr>\n",
       "    <tr>\n",
       "      <th>32460</th>\n",
       "      <td>블랑드바디 히알루론산 바디미스트 스윗블룸 100ml</td>\n",
       "      <td>[WDRESSROOM 100ml, W.DRESSROOM 히알루론산, W.DRESSR...</td>\n",
       "    </tr>\n",
       "    <tr>\n",
       "      <th>32461</th>\n",
       "      <td>스칼프메드 레드캡슐바이옴 두피케어 탈모케어 2종세트 (샴푸 400mlx2 + 토닉 ...</td>\n",
       "      <td>[스칼프메드 샴푸, 스칼프메드 두피케어, 스칼프메드 레드캡슐바이옴, 스칼프메드 탈모...</td>\n",
       "    </tr>\n",
       "    <tr>\n",
       "      <th>32462</th>\n",
       "      <td>더레드립 BK 바디 괄사기 2개 피부 마사지기 도자기 경락 유기 마사지 얼굴 괄사</td>\n",
       "      <td>[더레드립 BK, 더레드립 괄사기, 더레드립 , 더레드립 마사지, 더레드립 마사지기...</td>\n",
       "    </tr>\n",
       "    <tr>\n",
       "      <th>32463</th>\n",
       "      <td>스킨구하리 / ATL 릴리프 로션 / 200ml</td>\n",
       "      <td>[스킨구하리 로션, 스킨구하리 릴리프, 스킨구하리 ATL, 스킨구하리 에이티엘, 스...</td>\n",
       "    </tr>\n",
       "    <tr>\n",
       "      <th>32464</th>\n",
       "      <td>스칼프메드 레드캡슐바이옴 두피케어 2종세트 (샴푸 400mlx2 + 트리트먼트 40...</td>\n",
       "      <td>[스칼프메드 샴푸, 스칼프메드 400ml, 스칼프메드 두피케어, 스칼프메드 레드캡슐...</td>\n",
       "    </tr>\n",
       "  </tbody>\n",
       "</table>\n",
       "</div>"
      ],
      "text/plain": [
       "                                          original_title  \\\n",
       "32455           드로잉에그 네일파츠 1EA 라운드 꼬임 스톤 0.8X1.1cm 라운드커브   \n",
       "32456             베네자임 블루밍 카밍 샴푸 500ml + 리커버리 헤어 밤 150ml   \n",
       "32457              드로잉에그 네일 파츠 1EA 드롭 브로치 골드 1X1cm 라운드커브   \n",
       "32458          드로잉에그 네일 파츠 1EA 드롭 브로치 골드 0.9X1.4cm 라운드커브   \n",
       "32459              베네자임 블루밍 카밍 샴푸 500ml + 카밍 트리트먼트 500ml   \n",
       "32460                       블랑드바디 히알루론산 바디미스트 스윗블룸 100ml   \n",
       "32461  스칼프메드 레드캡슐바이옴 두피케어 탈모케어 2종세트 (샴푸 400mlx2 + 토닉 ...   \n",
       "32462      더레드립 BK 바디 괄사기 2개 피부 마사지기 도자기 경락 유기 마사지 얼굴 괄사   \n",
       "32463                         스킨구하리 / ATL 릴리프 로션 / 200ml   \n",
       "32464  스칼프메드 레드캡슐바이옴 두피케어 2종세트 (샴푸 400mlx2 + 트리트먼트 40...   \n",
       "\n",
       "                                            search_words  \n",
       "32455  [드로잉에그 꼬임, 드로잉에그 스톤, 드로잉에그, 드로잉에그 08X11cm, 드로잉...  \n",
       "32456  [베네자임 베네자임, 베네자임 리커버리, 베네자임 카밍, 베네자임 150ml, 베네...  \n",
       "32457  [드로잉에그 네일, 드로잉에그, 드로잉에그 1X1cm, 드로잉에그 드롭, 드로잉에그...  \n",
       "32458  [드로잉에그 네일, 드로잉에그 09X14cm, 드로잉에그, 드로잉에그 드롭, 드로잉...  \n",
       "32459  [베네자임 베네자임, 베네자임 트리트먼트, 베네자임 카밍, 베네자임 , 베네자임 5...  \n",
       "32460  [WDRESSROOM 100ml, W.DRESSROOM 히알루론산, W.DRESSR...  \n",
       "32461  [스칼프메드 샴푸, 스칼프메드 두피케어, 스칼프메드 레드캡슐바이옴, 스칼프메드 탈모...  \n",
       "32462  [더레드립 BK, 더레드립 괄사기, 더레드립 , 더레드립 마사지, 더레드립 마사지기...  \n",
       "32463  [스킨구하리 로션, 스킨구하리 릴리프, 스킨구하리 ATL, 스킨구하리 에이티엘, 스...  \n",
       "32464  [스칼프메드 샴푸, 스칼프메드 400ml, 스칼프메드 두피케어, 스칼프메드 레드캡슐...  "
      ]
     },
     "execution_count": 18,
     "metadata": {},
     "output_type": "execute_result"
    }
   ],
   "source": [
    "sc_wd_final_df = pd.DataFrame()\n",
    "\n",
    "sc_wd_final_lst = [list(set(x)) for x in sc_wd_final_lst]\n",
    "sc_wd_final_df['original_title'] = df.loc[:,'title']\n",
    "sc_wd_final_df['search_words'] = sc_wd_final_lst\n",
    "\n",
    "sc_wd_final_df.tail(10)"
   ]
  },
  {
   "cell_type": "markdown",
   "id": "10bd8b21-244c-4530-b88f-98935b25039c",
   "metadata": {},
   "source": [
    "---"
   ]
  },
  {
   "cell_type": "code",
   "execution_count": 21,
   "id": "f3ec09a1-9a17-4556-a24c-d1f355cf7f2c",
   "metadata": {
    "tags": []
   },
   "outputs": [
    {
     "name": "stderr",
     "output_type": "stream",
     "text": [
      "\n",
      "\n",
      "====== WebDriver manager ======\n",
      "Current google-chrome version is 92.0.4515\n",
      "Get LATEST driver version for 92.0.4515\n"
     ]
    },
    {
     "name": "stdout",
     "output_type": "stream",
     "text": [
      "Mozilla/5.0 (Macintosh; Intel Mac OS X 10_10_1) AppleWebKit/537.36 (KHTML, like Gecko) Chrome/37.0.2062.124 Safari/537.36\n"
     ]
    },
    {
     "name": "stderr",
     "output_type": "stream",
     "text": [
      "Driver [C:\\Users\\mwith\\.wdm\\drivers\\chromedriver\\win32\\92.0.4515.107\\chromedriver.exe] found in cache\n"
     ]
    }
   ],
   "source": [
    "options = Options()\n",
    "ua = UserAgent()\n",
    "userAgent = ua.random\n",
    "print(userAgent)\n",
    "\n",
    "options.add_argument(f'user-agent={userAgent}')\n",
    "wd = webdriver.Chrome(ChromeDriverManager().install(), chrome_options=options)\n",
    "\n",
    "url = 'https://www.glowpick.com/searches/keywords'\n",
    "wd.get(url)\n",
    "time.sleep(2)\n",
    "\n",
    "# 해당 웹페이지 접속 시 팝업창 생성으로 인한 스크레핑 오류를 피하기 위하여 xpath click 코드라인 추가     \n",
    "elem = wd.find_element_by_xpath(\"//*[@id='default-layout']/div/div[1]/span/div/div[2]/div[2]/button[2]\")\n",
    "elem.click()\n",
    "\n",
    "# 크롤링 할 수 있는 이미지 수 최대 확보를 위한 window 화면크기 최대화     \n",
    "wd.maximize_window()\n",
    "time.sleep(2)\n",
    "    \n",
    "# 이미지 검색을 윟나 상품명 입력     \n",
    "search_box = wd.find_element_by_xpath(\"//*[@id='default-layout']/div/div[2]/div/div/div/input\")\n",
    "search_box.send_keys('아더')\n",
    "search_box.send_keys(Keys.ENTER)\n",
    "\n",
    "time.sleep(4)\n",
    "while True:\n",
    "    global img_lst, div\n",
    "    div = wd.find_element_by_class_name(\"products\")\n",
    "    img_lst = div.find_elements_by_class_name(\"image__img\")\n",
    "    a = [x.get_attribute(\"src\") for x in img_lst]\n",
    "    b = []\n",
    "    for i in range(len(a)):\n",
    "        b.append(a[i] != None)\n",
    "    c = sum(b)\n",
    "    \n",
    "    st_elm = wd.find_element_by_xpath(f\"/html/body/div/div/div/div/main/div/section/div[2]/div/div[1]/div[{c}]/div[1]/div/div/div/img\")\n",
    "    wd.execute_script(\"arguments[0].scrollIntoView(true);\", st_elm)\n",
    "    \n",
    "    tl_length = len(img_lst)\n",
    "    if tl_length == c:\n",
    "        break\n",
    "        \n",
    "fl_src_lst_n = [x.get_attribute('src') for x in img_lst]\n",
    "fl_src_lst_n= [str(fl_src_lst_n[x].split(\"?w=\")[0] + \"?w=500\") for x in range(len(fl_src_lst_n))]\n",
    "\n",
    "\n",
    "fl_tlt_lst_n = []\n",
    "fl_brd_lst_n = []\n",
    "if len(div.find_elements_by_class_name(\"products__brand\")) != 0:\n",
    "    \n",
    "    tlt_len = int(len(div.find_elements_by_class_name(\"products__brand\")) + len(div.find_elements_by_class_name(\"details__product\")))\n",
    "                                                                           \n",
    "    for tn in range(tlt_len):\n",
    "        tn = tn + 1                                                   \n",
    "        if tn <= len(div.find_elements_by_class_name(\"products__brand\")):\n",
    "            fl_tlt_lst_n.append(wd.find_element_by_xpath(f\"/html/body/div/div/div/div/main/div/section/div[2]/div/div[1]/div[{tn}]/span\").text)\n",
    "            fl_brd_lst_n.append(np.nan)\n",
    "        else: \n",
    "            fl_tlt_lst_n.append(wd.find_element_by_xpath(f\"/html/body/div/div/div/div/main/div/section/div[2]/div/div[1]/div[{tn}]/div[2]/p[2]\").text)\n",
    "            fl_brd_lst_n.append(wd.find_element_by_xpath(f\"/html/body/div/div/div/div/main/div/section/div[2]/div/div[1]/div[{tn}]/div[2]/p[1]/span\").text)    \n",
    "else:\n",
    "    tlt_len = len(div.find_elements_by_class_name(\"details__product\"))\n",
    "                                                                           \n",
    "    for tn_1 in range(tlt_len):\n",
    "        tn_1 = tn_1 + 1\n",
    "        fl_tlt_lst_n.append(wd.find_element_by_xpath(f\"/html/body/div/div/div/div/main/div/section/div[2]/div/div[1]/div[{tn_1}]/div[2]/p[2]/span\").text)\n",
    "        fl_brd_lst_n.append(wd.find_element_by_xpath(f\"/html/body/div/div/div/div/main/div/section/div[2]/div/div[1]/div[{tn_1}]/div[2]/p[1]/span\").text)"
   ]
  },
  {
   "cell_type": "code",
   "execution_count": 25,
   "id": "984db31c-fb8e-4314-99cb-8aedd62f752b",
   "metadata": {},
   "outputs": [],
   "source": [
    "# fl_src_lst_n\n",
    "# fl_tlt_lst_n\n",
    "# fl_brd_lst_n"
   ]
  },
  {
   "cell_type": "code",
   "execution_count": null,
   "id": "fb0b0065-ca76-4e13-aeff-fdbbc1557459",
   "metadata": {},
   "outputs": [],
   "source": [
    "# i made the definition to scrap website online\n",
    "def scraping(dir_name, query, search_word):\n",
    "    global scrapped_count\n",
    " \n",
    "    # 검색어 수용 및 저장폴더 생성     \n",
    "    socket.setdefaulttimeout(30)\n",
    "\n",
    "    scrapped_count = 0\n",
    "    path = \"./\"\n",
    "    query = search_word\n",
    "\n",
    "    dir_name = path + query\n",
    "    os.makedirs(dir_name)\n",
    "    \n",
    "    # ===================\n",
    "    # ===================     \n",
    "    # ===================     \n",
    "    \n",
    "    options = Options()\n",
    "    ua = UserAgent()\n",
    "    userAgent = ua.random\n",
    "    print(userAgent)\n",
    "\n",
    "    options.add_argument(f'user-agent={userAgent}')\n",
    "    wd = webdriver.Chrome(ChromeDriverManager().install(), chrome_options=options)\n",
    "\n",
    "    url = 'https://www.glowpick.com/searches/keywords'\n",
    "    wd.get(url)\n",
    "    time.sleep(2)\n",
    "\n",
    "    # 해당 웹페이지 접속 시 팝업창 생성으로 인한 스크레핑 오류를 피하기 위하여 xpath click 코드라인 추가     \n",
    "    elem = wd.find_element_by_xpath(\"//*[@id='default-layout']/div/div[1]/span/div/div[2]/div[2]/button[2]\")\n",
    "    elem.click()\n",
    "\n",
    "    # 크롤링 할 수 있는 이미지 수 최대 확보를 위한 window 화면크기 최대화     \n",
    "    wd.maximize_window()\n",
    "    time.sleep(2)\n",
    "\n",
    "    # 이미지 검색을 윟나 상품명 입력     \n",
    "    search_box = wd.find_element_by_xpath(\"//*[@id='default-layout']/div/div[2]/div/div/div/input\")\n",
    "    search_box.send_keys('아더')\n",
    "    search_box.send_keys(Keys.ENTER)\n",
    "\n",
    "    time.sleep(4)\n",
    "    while True:\n",
    "        global img_lst, div\n",
    "        div = wd.find_element_by_class_name(\"products\")\n",
    "        img_lst = div.find_elements_by_class_name(\"image__img\")\n",
    "\n",
    "        a = [x.get_attribute(\"src\") for x in img_lst]\n",
    "        b = []\n",
    "        for i in range(len(a)):\n",
    "            b.append(a[i] != None)\n",
    "\n",
    "        c = sum(b)\n",
    "\n",
    "        st_elm = wd.find_element_by_xpath(f\"/html/body/div/div/div/div/main/div/section/div[2]/div/div[1]/div[{c}]/div[1]/div/div/div/img\")\n",
    "        wd.execute_script(\"arguments[0].scrollIntoView(true);\", st_elm)\n",
    "\n",
    "        tl_length = len(img_lst)\n",
    "        if tl_length == c:\n",
    "            break\n",
    "\n",
    "    fl_src_lst_n = [x.get_attribute('src') for x in img_lst]\n",
    "    fl_src_lst_n= [str(fl_src_lst_n[x].split(\"?w=\")[0] + \"?w=500\") for x in range(len(fl_src_lst_n))]\n",
    "\n",
    "\n",
    "    fl_tlt_lst_n = []\n",
    "    fl_brd_lst_n = []\n",
    "    if len(div.find_elements_by_class_name(\"products__brand\")) != 0:\n",
    "\n",
    "        tlt_len = int(len(div.find_elements_by_class_name(\"products__brand\")) + len(div.find_elements_by_class_name(\"details__product\")))\n",
    "\n",
    "        for tn in range(tlt_len):\n",
    "            tn = tn + 1                                                   \n",
    "            if tn <= len(div.find_elements_by_class_name(\"products__brand\")):\n",
    "                fl_tlt_lst_n.append(wd.find_element_by_xpath(f\"/html/body/div/div/div/div/main/div/section/div[2]/div/div[1]/div[{tn}]/span\").text)\n",
    "                fl_brd_lst_n.append(np.nan)\n",
    "            else: \n",
    "                fl_tlt_lst_n.append(wd.find_element_by_xpath(f\"/html/body/div/div/div/div/main/div/section/div[2]/div/div[1]/div[{tn}]/div[2]/p[2]\").text)\n",
    "                fl_brd_lst_n.append(wd.find_element_by_xpath(f\"/html/body/div/div/div/div/main/div/section/div[2]/div/div[1]/div[{tn}]/div[2]/p[1]/span\").text)    \n",
    "    else:\n",
    "        tlt_len = len(div.find_elements_by_class_name(\"details__product\"))\n",
    "\n",
    "        for tn_1 in range(tlt_len):\n",
    "            tn_1 = tn_1 + 1\n",
    "            fl_tlt_lst_n.append(wd.find_element_by_xpath(f\"/html/body/div/div/div/div/main/div/section/div[2]/div/div[1]/div[{tn_1}]/div[2]/p[2]/span\").text)\n",
    "            fl_brd_lst_n.append(wd.find_element_by_xpath(f\"/html/body/div/div/div/div/main/div/section/div[2]/div/div[1]/div[{tn_1}]/div[2]/p[1]/span\").text)"
   ]
  },
  {
   "cell_type": "code",
   "execution_count": null,
   "id": "d5cecb7e-51f8-4a88-b614-7fcf4c404d9e",
   "metadata": {},
   "outputs": [],
   "source": [
    "socket.setdefaulttimeout(30)\n",
    "\n",
    "scrapped_count = 0\n",
    "path = \"./\"\n",
    "query = input(\"input_search_words: \")\n",
    "\n",
    "dir_name = path + query\n",
    "os.makedirs(dir_name)"
   ]
  },
  {
   "cell_type": "code",
   "execution_count": null,
   "id": "44e1d9cb-4f36-4abe-b0b6-d78d158620e1",
   "metadata": {},
   "outputs": [],
   "source": []
  },
  {
   "cell_type": "code",
   "execution_count": null,
   "id": "4ad250fd-f24d-4a4d-9fc2-0001a4f76e02",
   "metadata": {},
   "outputs": [],
   "source": []
  },
  {
   "cell_type": "code",
   "execution_count": null,
   "id": "69484c55-7025-4f7a-b851-93ce303b5008",
   "metadata": {},
   "outputs": [],
   "source": []
  },
  {
   "cell_type": "code",
   "execution_count": null,
   "id": "50b67a20-2ff2-460a-86bd-7ba71c43814d",
   "metadata": {},
   "outputs": [],
   "source": []
  },
  {
   "cell_type": "code",
   "execution_count": null,
   "id": "96e86160-693d-4a71-a9d4-601ca83e2f4d",
   "metadata": {},
   "outputs": [],
   "source": []
  },
  {
   "cell_type": "code",
   "execution_count": null,
   "id": "20c69ec2-a44f-4012-8f4a-f2924093d4f3",
   "metadata": {},
   "outputs": [],
   "source": []
  },
  {
   "cell_type": "code",
   "execution_count": null,
   "id": "cc76b57c-e0e9-450d-b355-a3c02bca8a56",
   "metadata": {},
   "outputs": [],
   "source": []
  },
  {
   "cell_type": "code",
   "execution_count": null,
   "id": "3846a8d0-91e4-4cbd-b615-f1567ec97527",
   "metadata": {},
   "outputs": [],
   "source": []
  },
  {
   "cell_type": "code",
   "execution_count": null,
   "id": "b67b92f6-cfb1-4ec0-bcaa-8c70b8f5b470",
   "metadata": {},
   "outputs": [],
   "source": []
  },
  {
   "cell_type": "code",
   "execution_count": null,
   "id": "25fc2063-44b6-45c5-a626-b19cfb7c2180",
   "metadata": {},
   "outputs": [],
   "source": []
  },
  {
   "cell_type": "code",
   "execution_count": null,
   "id": "10ab3a02-3b5f-4e5e-97ac-977c922046b2",
   "metadata": {},
   "outputs": [],
   "source": []
  },
  {
   "cell_type": "code",
   "execution_count": null,
   "id": "61f9fddd-1533-4bf5-80b5-17d7537b2ccb",
   "metadata": {},
   "outputs": [],
   "source": []
  },
  {
   "cell_type": "code",
   "execution_count": null,
   "id": "5862564b-f654-4a50-9133-2ba04473ce0c",
   "metadata": {},
   "outputs": [],
   "source": []
  },
  {
   "cell_type": "code",
   "execution_count": null,
   "id": "5ae93425-be93-4718-ba23-eb7389cbdefc",
   "metadata": {},
   "outputs": [],
   "source": []
  },
  {
   "cell_type": "code",
   "execution_count": null,
   "id": "49a2667d-7d9b-4130-9972-0bb3583aadc2",
   "metadata": {},
   "outputs": [],
   "source": []
  },
  {
   "cell_type": "code",
   "execution_count": null,
   "id": "b12e9f8e-17ca-4db8-9b2f-4bb8446cdade",
   "metadata": {},
   "outputs": [],
   "source": []
  },
  {
   "cell_type": "code",
   "execution_count": null,
   "id": "9ce4d65e-ae59-4909-abd6-c0409c39d088",
   "metadata": {},
   "outputs": [],
   "source": [
    "url = wd.current_url\n",
    "# while True:\n",
    "#     try:\n",
    "#         body = wd.find_element_by_css_selector('body')\n",
    "#     except:\n",
    "#         wd.refresh()\n",
    "#         time.sleep(1)\n",
    "#     body.click()\n",
    "#     time.sleep(0.1)\n",
    "#     if url == wd.current_url:\n",
    "#         break\n",
    "#     else:\n",
    "#         wd.execute_script(\"window.history.go(-1)\")\n"
   ]
  },
  {
   "cell_type": "code",
   "execution_count": null,
   "id": "887b5611-3f61-4a35-a8e9-d35b832c155b",
   "metadata": {},
   "outputs": [],
   "source": []
  },
  {
   "cell_type": "code",
   "execution_count": null,
   "id": "118a4d23-31e5-4995-9c9e-9cd645ee551f",
   "metadata": {},
   "outputs": [],
   "source": []
  },
  {
   "cell_type": "code",
   "execution_count": null,
   "id": "fd850c69-1d92-4a2f-bfa9-e60b11afae4c",
   "metadata": {},
   "outputs": [],
   "source": []
  }
 ],
 "metadata": {
  "kernelspec": {
   "display_name": "Python 3",
   "language": "python",
   "name": "python3"
  },
  "language_info": {
   "codemirror_mode": {
    "name": "ipython",
    "version": 3
   },
   "file_extension": ".py",
   "mimetype": "text/x-python",
   "name": "python",
   "nbconvert_exporter": "python",
   "pygments_lexer": "ipython3",
   "version": "3.8.8"
  }
 },
 "nbformat": 4,
 "nbformat_minor": 5
}
