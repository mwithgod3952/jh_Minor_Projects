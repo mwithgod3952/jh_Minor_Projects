{
 "cells": [
  {
   "cell_type": "code",
   "execution_count": 122,
   "metadata": {},
   "outputs": [],
   "source": [
    "import scipy.stats as scs\n",
    "\n",
    "import pandas as pd\n",
    "import numpy as np\n",
    "from numpy import load\n",
    "import statsmodels.api as sm\n",
    "\n",
    "import matplotlib.pyplot as plt"
   ]
  },
  {
   "cell_type": "code",
   "execution_count": 4,
   "metadata": {
    "scrolled": true
   },
   "outputs": [
    {
     "data": {
      "text/plain": [
       "array([[-0.0580781 ,  0.02145173, -0.00302892, ...,  0.05046365,\n",
       "        -0.10230891, -0.0364088 ],\n",
       "       [ 0.01574724,  0.04242623,  0.01435639, ...,  0.02780013,\n",
       "        -0.05347221,  0.04058759],\n",
       "       [ 0.18264679,  0.02520884,  0.01099809, ..., -0.06097471,\n",
       "         0.09488007,  0.04116843],\n",
       "       ...,\n",
       "       [-0.04739096,  0.02528   ,  0.16170195, ...,  0.04100169,\n",
       "        -0.04298896, -0.06396934],\n",
       "       [ 0.02310581,  0.05310669, -0.09162051, ..., -0.07705836,\n",
       "         0.17711031,  0.05086723],\n",
       "       [-0.00529571, -0.05297235,  0.15779401, ..., -0.06700954,\n",
       "        -0.09390989, -0.0587643 ]])"
      ]
     },
     "execution_count": 4,
     "metadata": {},
     "output_type": "execute_result"
    }
   ],
   "source": [
    "log_returns = load('log_returns.npy')\n",
    "log_returns"
   ]
  },
  {
   "cell_type": "code",
   "execution_count": 24,
   "metadata": {},
   "outputs": [],
   "source": [
    "def normality_test(arr):\n",
    "    print(\"Skew of data set\",round(scs.skew(arr),5))\n",
    "    print(\"Skew test p-value\",round(scs.skewtest(arr)[1],5))\n",
    "    print(\"Kurt fo data set\",round(scs.kurtosis(arr),5))\n",
    "    print(\"Kurt test p-value\",round(scs.kurtosistest(arr)[1],5))\n",
    "    print(\"Norm test p-value\",round(scs.normaltest(arr)[1],5))"
   ]
  },
  {
   "cell_type": "code",
   "execution_count": 25,
   "metadata": {},
   "outputs": [
    {
     "name": "stdout",
     "output_type": "stream",
     "text": [
      "Skew of data set 0.00055\n",
      "Skew test p-value 0.42995\n",
      "Kurt fo data set 0.00085\n",
      "Kurt test p-value 0.54065\n",
      "Norm test p-value 0.60736\n"
     ]
    }
   ],
   "source": [
    "normality_test(log_returns.flatten())"
   ]
  },
  {
   "cell_type": "code",
   "execution_count": null,
   "metadata": {},
   "outputs": [],
   "source": [
    "# Skew >> 0에 가까움 (0.05 미만) >> 샘플 자료의 왜도가 정규분포와 일치\n",
    "# Skew test pvalue >> 0,05 초과 >> 통계적으로 유의\n",
    "\n",
    "# Kurt >> 0에 가까움 (0.05 미만) >> 샘플 자료의 왜도가 정규분포와 일치\n",
    "# Kurt test pvalue >> 0,05 초과 >> 통계적으로 유의\n",
    "\n",
    "# Norm test >> 왜도 첨도 검정을 조합한 정규성 검정 >> 0.05 이상이므로 통계적으로 유의하다."
   ]
  },
  {
   "cell_type": "code",
   "execution_count": 28,
   "metadata": {},
   "outputs": [],
   "source": [
    "paths = pd.read_csv(\"pre_r.csv\")"
   ]
  },
  {
   "cell_type": "code",
   "execution_count": 38,
   "metadata": {},
   "outputs": [
    {
     "data": {
      "text/html": [
       "<div>\n",
       "<style scoped>\n",
       "    .dataframe tbody tr th:only-of-type {\n",
       "        vertical-align: middle;\n",
       "    }\n",
       "\n",
       "    .dataframe tbody tr th {\n",
       "        vertical-align: top;\n",
       "    }\n",
       "\n",
       "    .dataframe thead th {\n",
       "        text-align: right;\n",
       "    }\n",
       "</style>\n",
       "<table border=\"1\" class=\"dataframe\">\n",
       "  <thead>\n",
       "    <tr style=\"text-align: right;\">\n",
       "      <th></th>\n",
       "      <th>0</th>\n",
       "      <th>1</th>\n",
       "      <th>2</th>\n",
       "      <th>3</th>\n",
       "      <th>4</th>\n",
       "      <th>5</th>\n",
       "      <th>6</th>\n",
       "      <th>7</th>\n",
       "      <th>8</th>\n",
       "      <th>9</th>\n",
       "      <th>...</th>\n",
       "      <th>249990</th>\n",
       "      <th>249991</th>\n",
       "      <th>249992</th>\n",
       "      <th>249993</th>\n",
       "      <th>249994</th>\n",
       "      <th>249995</th>\n",
       "      <th>249996</th>\n",
       "      <th>249997</th>\n",
       "      <th>249998</th>\n",
       "      <th>249999</th>\n",
       "    </tr>\n",
       "  </thead>\n",
       "  <tbody>\n",
       "    <tr>\n",
       "      <th>50</th>\n",
       "      <td>39.203688</td>\n",
       "      <td>68.753916</td>\n",
       "      <td>39.37959</td>\n",
       "      <td>30.326767</td>\n",
       "      <td>37.904881</td>\n",
       "      <td>17.371818</td>\n",
       "      <td>22.819308</td>\n",
       "      <td>32.605775</td>\n",
       "      <td>38.044843</td>\n",
       "      <td>45.239453</td>\n",
       "      <td>...</td>\n",
       "      <td>77.767964</td>\n",
       "      <td>56.054704</td>\n",
       "      <td>28.448982</td>\n",
       "      <td>57.903996</td>\n",
       "      <td>14.021759</td>\n",
       "      <td>23.961453</td>\n",
       "      <td>53.245079</td>\n",
       "      <td>36.121509</td>\n",
       "      <td>41.73349</td>\n",
       "      <td>51.68521</td>\n",
       "    </tr>\n",
       "  </tbody>\n",
       "</table>\n",
       "<p>1 rows × 250000 columns</p>\n",
       "</div>"
      ],
      "text/plain": [
       "            0          1         2          3          4          5  \\\n",
       "50  39.203688  68.753916  39.37959  30.326767  37.904881  17.371818   \n",
       "\n",
       "            6          7          8          9  ...     249990     249991  \\\n",
       "50  22.819308  32.605775  38.044843  45.239453  ...  77.767964  56.054704   \n",
       "\n",
       "       249992     249993     249994     249995     249996     249997  \\\n",
       "50  28.448982  57.903996  14.021759  23.961453  53.245079  36.121509   \n",
       "\n",
       "      249998    249999  \n",
       "50  41.73349  51.68521  \n",
       "\n",
       "[1 rows x 250000 columns]"
      ]
     },
     "execution_count": 38,
     "metadata": {},
     "output_type": "execute_result"
    }
   ],
   "source": [
    "paths[-1:]"
   ]
  },
  {
   "cell_type": "code",
   "execution_count": 43,
   "metadata": {
    "scrolled": true
   },
   "outputs": [
    {
     "data": {
      "text/plain": [
       "Text(0.5, 1.0, 'log data')"
      ]
     },
     "execution_count": 43,
     "metadata": {},
     "output_type": "execute_result"
    },
    {
     "data": {
      "image/png": "[encoded data removed]",
      "text/plain": [
       "<Figure size 648x288 with 2 Axes>"
      ]
     },
     "metadata": {
      "needs_background": "light"
     },
     "output_type": "display_data"
    }
   ],
   "source": [
    "f, (ax1, ax2) = plt.subplots(1, 2, figsize=(9,4))\n",
    "ax1.hist(paths[-1:], bins=30)\n",
    "ax1.grid(True)\n",
    "ax1.set_xlabel('index level')\n",
    "ax1.set_ylabel('frequency')\n",
    "ax1.set_title('reqular data')\n",
    "ax2.hist(np.log(paths[-1:]), bins=30)\n",
    "ax2.grid(True)\n",
    "ax2.set_xlabel('log index level')\n",
    "ax2.set_title('log data')"
   ]
  },
  {
   "cell_type": "code",
   "execution_count": null,
   "metadata": {},
   "outputs": [],
   "source": [
    "plt.hist(log_returns.flatten(), bins=70,density=True,label='frequency', color='gray')\n",
    "plt.grid(True)\n",
    "plt.xlabel('log_return')\n",
    "plt.ylabel('frequency')\n",
    "x = np.linspace(plt.axis()[0], plt.axis()[1])\n",
    "plt.plot(x, scs.norm.pdf(x, loc= 0.05 / 50, scale= 0.5 / np.sqrt(50)),\n",
    "        'r', lw=2.0, label='pdf')\n",
    "plt.legend()"
   ]
  },
  {
   "cell_type": "code",
   "execution_count": 121,
   "metadata": {
    "scrolled": true
   },
   "outputs": [
    {
     "data": {
      "text/plain": [
       "<matplotlib.legend.Legend at 0x18315041700>"
      ]
     },
     "execution_count": 121,
     "metadata": {},
     "output_type": "execute_result"
    },
    {
     "data": {
      "image/png": "[encoded data removed]",
      "text/plain": [
       "<Figure size 432x288 with 1 Axes>"
      ]
     },
     "metadata": {
      "needs_background": "light"
     },
     "output_type": "display_data"
    }
   ],
   "source": [
    "log_data = np.log(paths[-1:])\n",
    "plt.hist(log_data, bins=70, density=True, label='observed')\n",
    "plt.grid(True)\n",
    "plt.xlabel('index levels')\n",
    "plt.ylabel('frequency')\n",
    "x = np.linspace(plt.axis()[0], plt.axis()[1])\n",
    "plt.plot(x, scs.norm.pdf(x, log_data.T[50].mean(), log_data.T[50].std()),\n",
    "        'r', lw=2, label='pdf')\n",
    "plt.legend()"
   ]
  },
  {
   "cell_type": "code",
   "execution_count": 124,
   "metadata": {},
   "outputs": [
    {
     "data": {
      "image/png": "[encoded data removed]",
      "text/plain": [
       "<Figure size 432x288 with 1 Axes>"
      ]
     },
     "metadata": {
      "needs_background": "light"
     },
     "output_type": "display_data"
    }
   ],
   "source": [
    "sm.qqplot(log_data.T[50], line='s')\n",
    "plt.grid(True)"
   ]
  }
 ],
 "metadata": {
  "kernelspec": {
   "display_name": "Python 3",
   "language": "python",
   "name": "python3"
  },
  "language_info": {
   "codemirror_mode": {
    "name": "ipython",
    "version": 3
   },
   "file_extension": ".py",
   "mimetype": "text/x-python",
   "name": "python",
   "nbconvert_exporter": "python",
   "pygments_lexer": "ipython3",
   "version": "3.8.3"
  },
  "toc": {
   "base_numbering": 1,
   "nav_menu": {},
   "number_sections": true,
   "sideBar": true,
   "skip_h1_title": false,
   "title_cell": "Table of Contents",
   "title_sidebar": "Contents",
   "toc_cell": false,
   "toc_position": {},
   "toc_section_display": true,
   "toc_window_display": false
  }
 },
 "nbformat": 4,
 "nbformat_minor": 4
}
