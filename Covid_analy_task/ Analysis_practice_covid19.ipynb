{
 "cells": [
  {
   "cell_type": "code",
   "execution_count": 100,
   "metadata": {},
   "outputs": [],
   "source": [
    "import pandas as pd\n",
    "import numpy as np\n",
    "import matplotlib.pyplot as plt\n",
    "plt.rc(\"font\", family=\"Malgun Gothic\")\n",
    "plt.rc(\"axes\", unicode_minus=False)\n",
    "plt.style.use('fivethirtyeight')"
   ]
  },
  {
   "cell_type": "code",
   "execution_count": 68,
   "metadata": {
    "collapsed": true
   },
   "outputs": [
    {
     "data": {
      "text/html": [
       "<div>\n",
       "<style scoped>\n",
       "    .dataframe tbody tr th:only-of-type {\n",
       "        vertical-align: middle;\n",
       "    }\n",
       "\n",
       "    .dataframe tbody tr th {\n",
       "        vertical-align: top;\n",
       "    }\n",
       "\n",
       "    .dataframe thead th {\n",
       "        text-align: right;\n",
       "    }\n",
       "</style>\n",
       "<table border=\"1\" class=\"dataframe\">\n",
       "  <thead>\n",
       "    <tr style=\"text-align: right;\">\n",
       "      <th></th>\n",
       "      <th>지역 + 시</th>\n",
       "      <th>기준일(발병일, 확진일 선택)</th>\n",
       "      <th>무증상/조사중</th>\n",
       "      <th>필터(무증상,조사중 제외)</th>\n",
       "      <th>무증상/조사중 기준일</th>\n",
       "      <th>지역</th>\n",
       "      <th>지역 (group)</th>\n",
       "      <th>확진일자</th>\n",
       "      <th>Number of Records</th>\n",
       "    </tr>\n",
       "  </thead>\n",
       "  <tbody>\n",
       "    <tr>\n",
       "      <th>0</th>\n",
       "      <td>고양시</td>\n",
       "      <td>1/26/2020</td>\n",
       "      <td></td>\n",
       "      <td>True</td>\n",
       "      <td>1/26/2020</td>\n",
       "      <td>고양일산서</td>\n",
       "      <td>고양</td>\n",
       "      <td>1/26/2020</td>\n",
       "      <td>1</td>\n",
       "    </tr>\n",
       "    <tr>\n",
       "      <th>1</th>\n",
       "      <td>평택시</td>\n",
       "      <td>1/27/2020</td>\n",
       "      <td></td>\n",
       "      <td>True</td>\n",
       "      <td>1/27/2020</td>\n",
       "      <td>평택</td>\n",
       "      <td>평택</td>\n",
       "      <td>1/27/2020</td>\n",
       "      <td>1</td>\n",
       "    </tr>\n",
       "    <tr>\n",
       "      <th>2</th>\n",
       "      <td>부천시</td>\n",
       "      <td>2/1/2020</td>\n",
       "      <td></td>\n",
       "      <td>True</td>\n",
       "      <td>2/1/2020</td>\n",
       "      <td>부천</td>\n",
       "      <td>부천</td>\n",
       "      <td>2/1/2020</td>\n",
       "      <td>1</td>\n",
       "    </tr>\n",
       "    <tr>\n",
       "      <th>3</th>\n",
       "      <td>부천시</td>\n",
       "      <td>2/2/2020</td>\n",
       "      <td></td>\n",
       "      <td>True</td>\n",
       "      <td>2/2/2020</td>\n",
       "      <td>부천</td>\n",
       "      <td>부천</td>\n",
       "      <td>2/2/2020</td>\n",
       "      <td>1</td>\n",
       "    </tr>\n",
       "    <tr>\n",
       "      <th>4</th>\n",
       "      <td>수원시</td>\n",
       "      <td>2/5/2020</td>\n",
       "      <td></td>\n",
       "      <td>True</td>\n",
       "      <td>2/5/2020</td>\n",
       "      <td>수원장안</td>\n",
       "      <td>수원</td>\n",
       "      <td>2/5/2020</td>\n",
       "      <td>1</td>\n",
       "    </tr>\n",
       "  </tbody>\n",
       "</table>\n",
       "</div>"
      ],
      "text/plain": [
       "  지역 + 시  기준일(발병일, 확진일 선택) 무증상/조사중  필터(무증상,조사중 제외) 무증상/조사중 기준일     지역  \\\n",
       "0     고양시        1/26/2020                    True   1/26/2020  고양일산서   \n",
       "1     평택시        1/27/2020                    True   1/27/2020     평택   \n",
       "2     부천시         2/1/2020                    True    2/1/2020     부천   \n",
       "3     부천시         2/2/2020                    True    2/2/2020     부천   \n",
       "4     수원시         2/5/2020                    True    2/5/2020   수원장안   \n",
       "\n",
       "  지역 (group)       확진일자  Number of Records  \n",
       "0         고양  1/26/2020                  1  \n",
       "1         평택  1/27/2020                  1  \n",
       "2         부천   2/1/2020                  1  \n",
       "3         부천   2/2/2020                  1  \n",
       "4         수원   2/5/2020                  1  "
      ]
     },
     "execution_count": 68,
     "metadata": {},
     "output_type": "execute_result"
    }
   ],
   "source": [
    "raw_D = pd.read_csv('./data/covid19.csv')\n",
    "raw_D.head()"
   ]
  },
  {
   "cell_type": "code",
   "execution_count": 10,
   "metadata": {
    "collapsed": true
   },
   "outputs": [
    {
     "name": "stdout",
     "output_type": "stream",
     "text": [
      "<class 'pandas.core.frame.DataFrame'>\n",
      "RangeIndex: 20336 entries, 0 to 20335\n",
      "Data columns (total 9 columns):\n",
      " #   Column             Non-Null Count  Dtype \n",
      "---  ------             --------------  ----- \n",
      " 0   지역 + 시             20336 non-null  object\n",
      " 1   기준일(발병일, 확진일 선택)   20336 non-null  object\n",
      " 2   무증상/조사중            20336 non-null  object\n",
      " 3   필터(무증상,조사중 제외)     20336 non-null  bool  \n",
      " 4   무증상/조사중 기준일        20332 non-null  object\n",
      " 5   지역                 20336 non-null  object\n",
      " 6   지역 (group)         20336 non-null  object\n",
      " 7   확진일자               20336 non-null  object\n",
      " 8   Number of Records  20336 non-null  int64 \n",
      "dtypes: bool(1), int64(1), object(7)\n",
      "memory usage: 1.3+ MB\n"
     ]
    }
   ],
   "source": [
    "raw_D.info()"
   ]
  },
  {
   "cell_type": "code",
   "execution_count": 13,
   "metadata": {},
   "outputs": [
    {
     "data": {
      "text/plain": [
       "(20336, 9)"
      ]
     },
     "execution_count": 13,
     "metadata": {},
     "output_type": "execute_result"
    }
   ],
   "source": [
    "raw_D.shape"
   ]
  },
  {
   "cell_type": "code",
   "execution_count": 73,
   "metadata": {
    "collapsed": true
   },
   "outputs": [
    {
     "data": {
      "text/html": [
       "<div>\n",
       "<style scoped>\n",
       "    .dataframe tbody tr th:only-of-type {\n",
       "        vertical-align: middle;\n",
       "    }\n",
       "\n",
       "    .dataframe tbody tr th {\n",
       "        vertical-align: top;\n",
       "    }\n",
       "\n",
       "    .dataframe thead th {\n",
       "        text-align: right;\n",
       "    }\n",
       "</style>\n",
       "<table border=\"1\" class=\"dataframe\">\n",
       "  <thead>\n",
       "    <tr style=\"text-align: right;\">\n",
       "      <th></th>\n",
       "      <th>지역 + 시</th>\n",
       "      <th>기준일(발병일, 확진일 선택)</th>\n",
       "      <th>무증상/조사중</th>\n",
       "      <th>필터(무증상,조사중 제외)</th>\n",
       "      <th>무증상/조사중 기준일</th>\n",
       "      <th>지역</th>\n",
       "      <th>지역 (group)</th>\n",
       "      <th>확진일자</th>\n",
       "      <th>Number of Records</th>\n",
       "      <th>연번</th>\n",
       "    </tr>\n",
       "  </thead>\n",
       "  <tbody>\n",
       "    <tr>\n",
       "      <th>0</th>\n",
       "      <td>고양시</td>\n",
       "      <td>1/26/2020</td>\n",
       "      <td></td>\n",
       "      <td>True</td>\n",
       "      <td>1/26/2020</td>\n",
       "      <td>고양일산서</td>\n",
       "      <td>고양</td>\n",
       "      <td>1/26/2020</td>\n",
       "      <td>1</td>\n",
       "      <td>20335</td>\n",
       "    </tr>\n",
       "    <tr>\n",
       "      <th>1</th>\n",
       "      <td>평택시</td>\n",
       "      <td>1/27/2020</td>\n",
       "      <td></td>\n",
       "      <td>True</td>\n",
       "      <td>1/27/2020</td>\n",
       "      <td>평택</td>\n",
       "      <td>평택</td>\n",
       "      <td>1/27/2020</td>\n",
       "      <td>1</td>\n",
       "      <td>20334</td>\n",
       "    </tr>\n",
       "    <tr>\n",
       "      <th>2</th>\n",
       "      <td>부천시</td>\n",
       "      <td>2/1/2020</td>\n",
       "      <td></td>\n",
       "      <td>True</td>\n",
       "      <td>2/1/2020</td>\n",
       "      <td>부천</td>\n",
       "      <td>부천</td>\n",
       "      <td>2/1/2020</td>\n",
       "      <td>1</td>\n",
       "      <td>20333</td>\n",
       "    </tr>\n",
       "    <tr>\n",
       "      <th>3</th>\n",
       "      <td>부천시</td>\n",
       "      <td>2/2/2020</td>\n",
       "      <td></td>\n",
       "      <td>True</td>\n",
       "      <td>2/2/2020</td>\n",
       "      <td>부천</td>\n",
       "      <td>부천</td>\n",
       "      <td>2/2/2020</td>\n",
       "      <td>1</td>\n",
       "      <td>20332</td>\n",
       "    </tr>\n",
       "    <tr>\n",
       "      <th>4</th>\n",
       "      <td>수원시</td>\n",
       "      <td>2/5/2020</td>\n",
       "      <td></td>\n",
       "      <td>True</td>\n",
       "      <td>2/5/2020</td>\n",
       "      <td>수원장안</td>\n",
       "      <td>수원</td>\n",
       "      <td>2/5/2020</td>\n",
       "      <td>1</td>\n",
       "      <td>20331</td>\n",
       "    </tr>\n",
       "  </tbody>\n",
       "</table>\n",
       "</div>"
      ],
      "text/plain": [
       "  지역 + 시  기준일(발병일, 확진일 선택) 무증상/조사중  필터(무증상,조사중 제외) 무증상/조사중 기준일     지역  \\\n",
       "0     고양시        1/26/2020                    True   1/26/2020  고양일산서   \n",
       "1     평택시        1/27/2020                    True   1/27/2020     평택   \n",
       "2     부천시         2/1/2020                    True    2/1/2020     부천   \n",
       "3     부천시         2/2/2020                    True    2/2/2020     부천   \n",
       "4     수원시         2/5/2020                    True    2/5/2020   수원장안   \n",
       "\n",
       "  지역 (group)       확진일자  Number of Records     연번  \n",
       "0         고양  1/26/2020                  1  20335  \n",
       "1         평택  1/27/2020                  1  20334  \n",
       "2         부천   2/1/2020                  1  20333  \n",
       "3         부천   2/2/2020                  1  20332  \n",
       "4         수원   2/5/2020                  1  20331  "
      ]
     },
     "execution_count": 73,
     "metadata": {},
     "output_type": "execute_result"
    }
   ],
   "source": [
    "raw_D[\"연번\"] = list(reversed(range(0,len(raw_D))))\n",
    "# raw_D.head()\n",
    "raw_D.taijl()"
   ]
  },
  {
   "cell_type": "code",
   "execution_count": 87,
   "metadata": {
    "scrolled": true
   },
   "outputs": [
    {
     "data": {
      "text/html": [
       "<div>\n",
       "<style scoped>\n",
       "    .dataframe tbody tr th:only-of-type {\n",
       "        vertical-align: middle;\n",
       "    }\n",
       "\n",
       "    .dataframe tbody tr th {\n",
       "        vertical-align: top;\n",
       "    }\n",
       "\n",
       "    .dataframe thead th {\n",
       "        text-align: right;\n",
       "    }\n",
       "</style>\n",
       "<table border=\"1\" class=\"dataframe\">\n",
       "  <thead>\n",
       "    <tr style=\"text-align: right;\">\n",
       "      <th></th>\n",
       "      <th>지역 + 시</th>\n",
       "      <th>기준일(발병일, 확진일 선택)</th>\n",
       "      <th>무증상/조사중</th>\n",
       "      <th>필터(무증상,조사중 제외)</th>\n",
       "      <th>무증상/조사중 기준일</th>\n",
       "      <th>지역</th>\n",
       "      <th>지역 (group)</th>\n",
       "      <th>확진일자</th>\n",
       "      <th>Number of Records</th>\n",
       "      <th>연번</th>\n",
       "    </tr>\n",
       "  </thead>\n",
       "  <tbody>\n",
       "    <tr>\n",
       "      <th>20335</th>\n",
       "      <td>성남시</td>\n",
       "      <td>8/27/2020</td>\n",
       "      <td>확인불가</td>\n",
       "      <td>True</td>\n",
       "      <td>8/27/2020</td>\n",
       "      <td>성남분당</td>\n",
       "      <td>성남</td>\n",
       "      <td>8/27/2020</td>\n",
       "      <td>1</td>\n",
       "      <td>0</td>\n",
       "    </tr>\n",
       "    <tr>\n",
       "      <th>20334</th>\n",
       "      <td>양평군</td>\n",
       "      <td>8/27/2020</td>\n",
       "      <td>확인불가</td>\n",
       "      <td>True</td>\n",
       "      <td>8/27/2020</td>\n",
       "      <td>양평</td>\n",
       "      <td>양평</td>\n",
       "      <td>8/27/2020</td>\n",
       "      <td>1</td>\n",
       "      <td>1</td>\n",
       "    </tr>\n",
       "    <tr>\n",
       "      <th>20333</th>\n",
       "      <td>안산시</td>\n",
       "      <td>8/21/2020</td>\n",
       "      <td>확인불가</td>\n",
       "      <td>True</td>\n",
       "      <td>8/21/2020</td>\n",
       "      <td>안산단원</td>\n",
       "      <td>안산</td>\n",
       "      <td>8/21/2020</td>\n",
       "      <td>1</td>\n",
       "      <td>2</td>\n",
       "    </tr>\n",
       "    <tr>\n",
       "      <th>20332</th>\n",
       "      <td>남양주시</td>\n",
       "      <td>8/28/2020</td>\n",
       "      <td>확인불가</td>\n",
       "      <td>True</td>\n",
       "      <td>8/28/2020</td>\n",
       "      <td>남양주풍양</td>\n",
       "      <td>남양주</td>\n",
       "      <td>8/28/2020</td>\n",
       "      <td>1</td>\n",
       "      <td>3</td>\n",
       "    </tr>\n",
       "    <tr>\n",
       "      <th>20331</th>\n",
       "      <td>안산시</td>\n",
       "      <td>1/8/2021</td>\n",
       "      <td>확인불가</td>\n",
       "      <td>True</td>\n",
       "      <td>1/8/2021</td>\n",
       "      <td>안산단원</td>\n",
       "      <td>안산</td>\n",
       "      <td>1/8/2021</td>\n",
       "      <td>1</td>\n",
       "      <td>4</td>\n",
       "    </tr>\n",
       "  </tbody>\n",
       "</table>\n",
       "</div>"
      ],
      "text/plain": [
       "      지역 + 시  기준일(발병일, 확진일 선택) 무증상/조사중  필터(무증상,조사중 제외) 무증상/조사중 기준일     지역  \\\n",
       "20335     성남시        8/27/2020    확인불가            True   8/27/2020   성남분당   \n",
       "20334     양평군        8/27/2020    확인불가            True   8/27/2020     양평   \n",
       "20333     안산시        8/21/2020    확인불가            True   8/21/2020   안산단원   \n",
       "20332    남양주시        8/28/2020    확인불가            True   8/28/2020  남양주풍양   \n",
       "20331     안산시         1/8/2021    확인불가            True    1/8/2021   안산단원   \n",
       "\n",
       "      지역 (group)       확진일자  Number of Records  연번  \n",
       "20335         성남  8/27/2020                  1   0  \n",
       "20334         양평  8/27/2020                  1   1  \n",
       "20333         안산  8/21/2020                  1   2  \n",
       "20332        남양주  8/28/2020                  1   3  \n",
       "20331         안산   1/8/2021                  1   4  "
      ]
     },
     "execution_count": 87,
     "metadata": {},
     "output_type": "execute_result"
    }
   ],
   "source": [
    "# 최근 데이터 순으로 정렬\n",
    "df = raw_D.sort_values(by=\"연번\", ascending=True)\n",
    "df.head()"
   ]
  },
  {
   "cell_type": "markdown",
   "metadata": {},
   "source": [
    "----------------------------------------------------------------------------------------------"
   ]
  },
  {
   "cell_type": "markdown",
   "metadata": {},
   "source": [
    "1)__ 확진일"
   ]
  },
  {
   "cell_type": "code",
   "execution_count": 93,
   "metadata": {
    "scrolled": true
   },
   "outputs": [
    {
     "data": {
      "text/html": [
       "<div>\n",
       "<style scoped>\n",
       "    .dataframe tbody tr th:only-of-type {\n",
       "        vertical-align: middle;\n",
       "    }\n",
       "\n",
       "    .dataframe tbody tr th {\n",
       "        vertical-align: top;\n",
       "    }\n",
       "\n",
       "    .dataframe thead th {\n",
       "        text-align: right;\n",
       "    }\n",
       "</style>\n",
       "<table border=\"1\" class=\"dataframe\">\n",
       "  <thead>\n",
       "    <tr style=\"text-align: right;\">\n",
       "      <th></th>\n",
       "      <th>확진일자</th>\n",
       "      <th>월</th>\n",
       "      <th>주</th>\n",
       "    </tr>\n",
       "  </thead>\n",
       "  <tbody>\n",
       "    <tr>\n",
       "      <th>20335</th>\n",
       "      <td>2020-08-27</td>\n",
       "      <td>8</td>\n",
       "      <td>35</td>\n",
       "    </tr>\n",
       "    <tr>\n",
       "      <th>20334</th>\n",
       "      <td>2020-08-27</td>\n",
       "      <td>8</td>\n",
       "      <td>35</td>\n",
       "    </tr>\n",
       "    <tr>\n",
       "      <th>20333</th>\n",
       "      <td>2020-08-21</td>\n",
       "      <td>8</td>\n",
       "      <td>34</td>\n",
       "    </tr>\n",
       "    <tr>\n",
       "      <th>20332</th>\n",
       "      <td>2020-08-28</td>\n",
       "      <td>8</td>\n",
       "      <td>35</td>\n",
       "    </tr>\n",
       "    <tr>\n",
       "      <th>20331</th>\n",
       "      <td>2021-01-08</td>\n",
       "      <td>1</td>\n",
       "      <td>1</td>\n",
       "    </tr>\n",
       "  </tbody>\n",
       "</table>\n",
       "</div>"
      ],
      "text/plain": [
       "            확진일자  월   주\n",
       "20335 2020-08-27  8  35\n",
       "20334 2020-08-27  8  35\n",
       "20333 2020-08-21  8  34\n",
       "20332 2020-08-28  8  35\n",
       "20331 2021-01-08  1   1"
      ]
     },
     "execution_count": 93,
     "metadata": {},
     "output_type": "execute_result"
    }
   ],
   "source": [
    "df[\"확진일자\"] = pd.to_datetime(df[\"확진일자\"])\n",
    "df[\"월\"] = df[\"확진일자\"].dt.month\n",
    "df[\"주\"] = df[\"확진일자\"].dt.week\n",
    "df[[\"확진일자\",\"월\",\"주\"]].head()"
   ]
  },
  {
   "cell_type": "markdown",
   "metadata": {},
   "source": [
    "1-1)__ 확진 일자별 확진자 현황"
   ]
  },
  {
   "cell_type": "code",
   "execution_count": 109,
   "metadata": {},
   "outputs": [
    {
     "data": {
      "text/plain": [
       "<matplotlib.lines.Line2D at 0x162598de700>"
      ]
     },
     "execution_count": 109,
     "metadata": {},
     "output_type": "execute_result"
    },
    {
     "data": {
      "image/png": "[encoded data removed]",
      "text/plain": [
       "<Figure size 1080x288 with 1 Axes>"
      ]
     },
     "metadata": {},
     "output_type": "display_data"
    }
   ],
   "source": [
    "df[\"확진일자\"].value_counts().plot(figsize=(15,4))\n",
    "plt.axhline(300, color=\"red\", linestyle=\":\")"
   ]
  },
  {
   "cell_type": "code",
   "execution_count": 104,
   "metadata": {
    "scrolled": true
   },
   "outputs": [
    {
     "data": {
      "image/png": "[encoded data removed]",
      "text/plain": [
       "<Figure size 1080x288 with 1 Axes>"
      ]
     },
     "metadata": {},
     "output_type": "display_data"
    }
   ],
   "source": [
    "# LOG SACLE\n",
    "Status = df[\"확진일자\"].value_counts().plot(figsize=(15,4))\n",
    "Status.set_yscale('log')"
   ]
  },
  {
   "cell_type": "code",
   "execution_count": null,
   "metadata": {},
   "outputs": [],
   "source": []
  }
 ],
 "metadata": {
  "kernelspec": {
   "display_name": "Python 3",
   "language": "python",
   "name": "python3"
  },
  "language_info": {
   "codemirror_mode": {
    "name": "ipython",
    "version": 3
   },
   "file_extension": ".py",
   "mimetype": "text/x-python",
   "name": "python",
   "nbconvert_exporter": "python",
   "pygments_lexer": "ipython3",
   "version": "3.8.3"
  },
  "toc": {
   "base_numbering": 1,
   "nav_menu": {},
   "number_sections": true,
   "sideBar": true,
   "skip_h1_title": false,
   "title_cell": "Table of Contents",
   "title_sidebar": "Contents",
   "toc_cell": false,
   "toc_position": {},
   "toc_section_display": true,
   "toc_window_display": false
  }
 },
 "nbformat": 4,
 "nbformat_minor": 4
}
